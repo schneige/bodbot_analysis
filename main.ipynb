{
 "cells": [
  {
   "cell_type": "code",
   "execution_count": 86,
   "metadata": {},
   "outputs": [],
   "source": [
    "import os\n",
    "import numpy as np\n",
    "import pandas as pd\n",
    "import plotly.graph_objs as go\n",
    "from plotly.offline import plot\n",
    "from scipy import stats\n",
    "from scipy.stats import zscore\n"
   ]
  },
  {
   "cell_type": "code",
   "execution_count": 87,
   "metadata": {},
   "outputs": [],
   "source": [
    "# Constants\n",
    "BASE_FOLDER = 'probanten'\n",
    "PARTICIPANTS = ['01', '02', '03', '04', '07', '08', '09', '10', '11']\n",
    "SENSOR_FILES = ['accelerometer_data', 'gyroscope_data', 'magnetometer_data', 'user_accelerometer_data']\n",
    "SPEED_FILE = 'speed_data'\n",
    "STARTING_TIMESTAMPS = {\n",
    "    '01': 1720610204501,\n",
    "    '02': 1720611503602,\n",
    "    '03': 1720612727640,\n",
    "    '04': 1720613776577,\n",
    "    '05': 1720614956563,\n",
    "    '06': 1720617727299,\n",
    "    '07': 1720621234414,\n",
    "    '08': 1720622424927,\n",
    "    '09': 1720623626949,\n",
    "    '10': 1720624816427,\n",
    "    '11': 1720625936732\n",
    "}\n",
    "\n",
    "GROUP_E = [1,0,2,0,2,1]\n",
    "GROUP_B = [1,1,1,1,1,1]\n",
    "GROUP_F = [2,2,2,0,2,2]\n",
    "\n",
    "PROMPT_LABELS = {\n",
    "    '01': GROUP_E,\n",
    "    '02': GROUP_B,\n",
    "    '03': GROUP_F,\n",
    "    '04': GROUP_E,\n",
    "    '05': GROUP_B,\n",
    "    '06': GROUP_F,\n",
    "    '07': GROUP_E,\n",
    "    '08': GROUP_B,\n",
    "    '09': GROUP_F,\n",
    "    '10': GROUP_E,\n",
    "    '11': GROUP_B\n",
    "}\n",
    "\n",
    "\n",
    "allaverages = []\n",
    "positive_averages = []\n",
    "negative_averages = []\n",
    "neutral_averages = []\n"
   ]
  },
  {
   "cell_type": "code",
   "execution_count": 88,
   "metadata": {},
   "outputs": [],
   "source": [
    "def load_sensor_data(participant, sensor_file):\n",
    "    file_path = os.path.join(BASE_FOLDER, participant, sensor_file)\n",
    "    df = pd.read_csv(file_path, header=None, names=['time', 'x', 'y', 'z'])\n",
    "    # Add column to identify the type of sensor (accelorometer, magnetometer, etc.)\n",
    "    # Removes \"_data\" from the string to make it look nicer\n",
    "    df['sensor'] = sensor_file.split('_')[0]\n",
    "    return df\n",
    "\n",
    "def load_all_sensor_data(participant):\n",
    "    dfs = [load_sensor_data(participant, sensor_file) for sensor_file in SENSOR_FILES]\n",
    "    return pd.concat(dfs)\n",
    "\n",
    "def load_speed_data(participant):\n",
    "    file_path = os.path.join(BASE_FOLDER, participant, SPEED_FILE)\n",
    "    df = pd.read_csv(file_path, header=None, names=['time', 'speed'])\n",
    "    df['time'] = pd.to_datetime(df['time'], unit='ms')\n",
    "    # Converting to km/h from m/s\n",
    "    df['speed'] = df['speed'] * 3.6 \n",
    "    return df\n"
   ]
  },
  {
   "cell_type": "code",
   "execution_count": 89,
   "metadata": {},
   "outputs": [],
   "source": [
    "# Clean up speed data\n",
    "def clean_speed_data(df, upper_threshold, lower_threshold):\n",
    "    \n",
    "    df = df[df['speed'] <= upper_threshold]    \n",
    "    df = df[df['speed'] >= lower_threshold]    \n",
    "    return df"
   ]
  },
  {
   "cell_type": "code",
   "execution_count": 90,
   "metadata": {},
   "outputs": [],
   "source": [
    "def plot_sensor_data(df, participant):\n",
    "    fig = go.Figure()\n",
    "    sensors = df['sensor'].unique()\n",
    "    for sensor in sensors:\n",
    "        sensor_data = df[df['sensor'] == sensor]\n",
    "        fig.add_trace(go.Scatter(x=pd.to_datetime(sensor_data['time'], unit='ms'), y=sensor_data['x'], mode='lines', name=f'{sensor}_x'))\n",
    "        fig.add_trace(go.Scatter(x=pd.to_datetime(sensor_data['time'], unit='ms'), y=sensor_data['y'], mode='lines', name=f'{sensor}_y'))\n",
    "        fig.add_trace(go.Scatter(x=pd.to_datetime(sensor_data['time'], unit='ms'), y=sensor_data['z'], mode='lines', name=f'{sensor}_z'))\n",
    "    add_time_markers(df, fig, 'sensor', participant)\n",
    "    fig.update_layout(title=f'Sensor Data for Participant {participant}', xaxis_title='Time', yaxis_title='Sensor Value', xaxis=dict(tickformat='%H:%M'))\n",
    "    fig.show()\n",
    "\n",
    "def plot_speed_data(df, participant):\n",
    "    fig = go.Figure()\n",
    "    fig.add_trace(go.Scatter(x=pd.to_datetime(df['time'], unit='ms'), y=df['speed'], mode='lines', name='Speed'))\n",
    "    add_time_markers(df, fig, 'speed', participant)\n",
    "    fig.update_layout(title=f'Speed Data for Participant {participant}', xaxis_title='Time', yaxis_title='Speed in km/h', xaxis=dict(tickformat='%H:%M'))\n",
    "    fig.show()\n",
    "\n",
    "def plot_average_speeds(averages, participant):\n",
    "    # To explain zip(*variable):\n",
    "    # * operator unpacks lists into individual tupels\n",
    "    # -> it turns [(a,b,c), (d,e,f), ...] into (a,c,b), (d,e,f), ...\n",
    "    # useful because zip takes in tupels\n",
    "    #\n",
    "    # zip groups elements from tupels:\n",
    "    # zip(\n",
    "    # (a,b,c),\n",
    "    # (a,b,c),\n",
    "    # (a,b,c))\n",
    "    #   returns\n",
    "    # [(a,a,a), (b,b,b), (c,c,c)]\n",
    "    markers, avg_before, avg_after = zip(*averages)\n",
    "    fig = go.Figure()\n",
    "    # At each marker we plot the average speed before and after\n",
    "    fig.add_trace(go.Scatter(x=markers, y=avg_before, mode='lines+markers', name='Average Speed Before Marker (km/h)'))\n",
    "    fig.add_trace(go.Scatter(x=markers, y=avg_after, mode='lines+markers', name='Average Speed After Marker (km/h)'))\n",
    "    fig.update_layout(title=f'Average Speed Before and After Markers for Participant {participant}', \n",
    "                      xaxis_title='Time', yaxis_title='Average Speed (km/h)', xaxis=dict(tickformat='%H:%M'))\n",
    "    fig.show()\n",
    "\n",
    "def plot_percentage_changes(percentage_changes, participant):\n",
    "    markers, percent_changes = zip(*percentage_changes)\n",
    "    \n",
    "    fig = go.Figure()\n",
    "    fig.add_trace(go.Scatter(x=markers, y=percent_changes, mode='lines+markers', name='Percentage Change'))\n",
    "    \n",
    "    fig.update_layout(title=f'Percentage Change in Speed After Markers for Participant {participant}', \n",
    "                      xaxis_title='Time', yaxis_title='Percentage Change (%)', xaxis=dict(tickformat='%H:%M'))\n",
    "    fig.show()\n",
    "\n",
    "# Function to create the vertical dashes to indicate the time where the audio prompts where played to the participants\n",
    "def add_time_markers(df, fig, data, participant):\n",
    "    starting_time = pd.to_datetime(STARTING_TIMESTAMPS[participant], unit='ms')\n",
    "    labels = PROMPT_LABELS[participant]\n",
    "    \n",
    "    fig.add_vline(x=starting_time, line=dict(color='red', dash='dash'))\n",
    "    fig.add_annotation(x=starting_time, y=max(df[data]), text='Start', showarrow=True, arrowhead=1, ax=-10, ay=-30, arrowcolor='red')\n",
    "    \n",
    "    for i in range(1, 7):\n",
    "        marker_time = starting_time + pd.Timedelta(minutes=2 * i)\n",
    "        color = 'green' if labels[i-1] == 1 else 'blue' if labels[i-1] == 2 else 'grey'\n",
    "        fig.add_vline(x=marker_time, line=dict(color=color, dash='dash'))\n",
    "        fig.add_annotation(x=marker_time, y=max(df[data]), text=f'+{2 * i}min', showarrow=True, arrowhead=1, ax=-10, ay=-30, arrowcolor=color)\n",
    "    \n",
    "    marker_time = starting_time + pd.Timedelta(minutes=15)\n",
    "    fig.add_vline(x=marker_time, line=dict(color='red', dash='dash'))\n",
    "    fig.add_annotation(x=marker_time, y=max(df[data]), text='End', showarrow=True, arrowhead=1, ax=-10, ay=-30, arrowcolor='blue')\n",
    "\n"
   ]
  },
  {
   "cell_type": "code",
   "execution_count": 91,
   "metadata": {},
   "outputs": [],
   "source": [
    "# Calculate average speed before and after each marker\n",
    "# Starting time is the starting timestamp of each run\n",
    "def calculate_average_speeds(df, starting_time):\n",
    "    averages = []\n",
    "    # Defines the markers at each audio prompt (every two minutes, 6 times)\n",
    "    markers = [starting_time + pd.Timedelta(minutes=2 * i) for i in range(1, 7)]\n",
    "    \n",
    "    for marker in markers:\n",
    "        # Get the timestamp before and after\n",
    "        before_start = marker - pd.Timedelta(minutes=1)\n",
    "        after_end = marker + pd.Timedelta(minutes=1)\n",
    "        \n",
    "        # Calculate the mean value of all speed values before and after the marker\n",
    "        avg_before = df[(df['time'] >= before_start) & (df['time'] < marker)]['speed'].mean()\n",
    "        avg_after = df[(df['time'] >= marker) & (df['time'] < after_end)]['speed'].mean()\n",
    "        \n",
    "        # Appends it to the list to return afterwards\n",
    "        averages.append((marker, avg_before, avg_after))\n",
    "    \n",
    "    return averages\n",
    "\n",
    "# Calculate the ratio of average before and average after\n",
    "# Input is the output of calculate_average_speeds\n",
    "def calculate_percentage_changes(averages):\n",
    "    percentage_changes = []\n",
    "\n",
    "    for marker, avg_before, avg_after in averages:\n",
    "        \n",
    "        # Safety handling division by 0\n",
    "        if avg_before != 0:\n",
    "            # Calc percentage change of average before compared to after\n",
    "            percent_change = ((avg_after - avg_before) / avg_before) * 100\n",
    "        else:\n",
    "            percent_change = 0 \n",
    "        \n",
    "        # Append to list and return afterwards\n",
    "        percentage_changes.append((marker, percent_change))\n",
    "    \n",
    "    return percentage_changes\n",
    "\n",
    "def remove_outliers_zscore(df, threshold=3):\n",
    "    z_scores = zscore(df['speed'])\n",
    "    abs_z_scores = np.abs(z_scores)\n",
    "    filtered_entries = (abs_z_scores < threshold)\n",
    "    return df[filtered_entries]\n",
    "\n",
    "def remove_outliers_iqr(df):\n",
    "    Q1 = df['speed'].quantile(0.25)\n",
    "    Q3 = df['speed'].quantile(0.75)\n",
    "    IQR = Q3 - Q1\n",
    "    lower_bound = Q1 - 1.5 * IQR\n",
    "    upper_bound = Q3 + 1.5 * IQR\n",
    "    return df[(df['speed'] >= lower_bound) & (df['speed'] <= upper_bound)]"
   ]
  },
  {
   "cell_type": "code",
   "execution_count": 92,
   "metadata": {},
   "outputs": [
    {
     "data": {
      "application/vnd.plotly.v1+json": {
       "config": {
        "plotlyServerURL": "https://plot.ly"
       },
       "data": [
        {
         "mode": "lines",
         "name": "Speed",
         "type": "scatter",
         "x": [
          "2024-07-10T11:17:02.994000",
          "2024-07-10T11:17:07.992000",
          "2024-07-10T11:17:12.993000",
          "2024-07-10T11:17:17.990000",
          "2024-07-10T11:17:23.992000",
          "2024-07-10T11:17:28.999000",
          "2024-07-10T11:17:37.989000",
          "2024-07-10T11:17:43.992000",
          "2024-07-10T11:17:52.992000",
          "2024-07-10T11:17:57.989000",
          "2024-07-10T11:18:02.992000",
          "2024-07-10T11:18:08.996000",
          "2024-07-10T11:18:13.994000",
          "2024-07-10T11:18:18.994000",
          "2024-07-10T11:18:23.993000",
          "2024-07-10T11:18:28.993000",
          "2024-07-10T11:18:37.992000",
          "2024-07-10T11:18:42.991000",
          "2024-07-10T11:18:49.992000",
          "2024-07-10T11:18:58.992000",
          "2024-07-10T11:19:03.993000",
          "2024-07-10T11:19:08.991000",
          "2024-07-10T11:19:13.996000",
          "2024-07-10T11:19:18.992000",
          "2024-07-10T11:19:28.995000",
          "2024-07-10T11:19:34.013000",
          "2024-07-10T11:19:38.992000",
          "2024-07-10T11:19:47.998000",
          "2024-07-10T11:19:52.989000",
          "2024-07-10T11:19:58.999000",
          "2024-07-10T11:20:08.992000",
          "2024-07-10T11:20:18.993000",
          "2024-07-10T11:20:23.995000",
          "2024-07-10T11:20:28.991000",
          "2024-07-10T11:20:33.993000",
          "2024-07-10T11:20:38.995000",
          "2024-07-10T11:20:43.993000",
          "2024-07-10T11:20:48.995000",
          "2024-07-10T11:20:58.994000",
          "2024-07-10T11:21:08.991000",
          "2024-07-10T11:21:13.994000",
          "2024-07-10T11:21:18.992000",
          "2024-07-10T11:21:23.995000",
          "2024-07-10T11:21:28.998000",
          "2024-07-10T11:21:38.993000",
          "2024-07-10T11:21:47.990000",
          "2024-07-10T11:21:52.989000",
          "2024-07-10T11:21:57.991000",
          "2024-07-10T11:22:03.994000",
          "2024-07-10T11:22:08.991000",
          "2024-07-10T11:22:13.993000",
          "2024-07-10T11:22:22.991000",
          "2024-07-10T11:22:28.991000",
          "2024-07-10T11:22:33.993000",
          "2024-07-10T11:22:38.992000",
          "2024-07-10T11:22:43.991000",
          "2024-07-10T11:22:48.993000",
          "2024-07-10T11:22:53.992000",
          "2024-07-10T11:23:02.990000",
          "2024-07-10T11:23:08.992000",
          "2024-07-10T11:23:13.991000",
          "2024-07-10T11:23:22.991000",
          "2024-07-10T11:23:29.014000",
          "2024-07-10T11:23:37.991000",
          "2024-07-10T11:23:42.991000",
          "2024-07-10T11:23:48.992000",
          "2024-07-10T11:23:58.991000",
          "2024-07-10T11:24:03.994000",
          "2024-07-10T11:24:12.992000",
          "2024-07-10T11:24:17.991000",
          "2024-07-10T11:24:23.991000",
          "2024-07-10T11:24:28.992000",
          "2024-07-10T11:24:38.993000",
          "2024-07-10T11:24:43.992000",
          "2024-07-10T11:24:48.991000",
          "2024-07-10T11:24:53.993000",
          "2024-07-10T11:24:58.993000",
          "2024-07-10T11:25:08.992000",
          "2024-07-10T11:25:13.993000",
          "2024-07-10T11:25:22.991000",
          "2024-07-10T11:25:28.994000",
          "2024-07-10T11:25:33.992000",
          "2024-07-10T11:25:38.992000",
          "2024-07-10T11:25:43.993000",
          "2024-07-10T11:25:48.996000",
          "2024-07-10T11:25:53.993000",
          "2024-07-10T11:25:58.993000",
          "2024-07-10T11:26:03.992000",
          "2024-07-10T11:26:08.993000",
          "2024-07-10T11:26:13.991000",
          "2024-07-10T11:26:18.992000",
          "2024-07-10T11:26:23.993000",
          "2024-07-10T11:26:28.991000",
          "2024-07-10T11:26:33.991000",
          "2024-07-10T11:26:38.992000",
          "2024-07-10T11:26:43.993000",
          "2024-07-10T11:26:48.992000",
          "2024-07-10T11:26:53.992000",
          "2024-07-10T11:26:58.994000",
          "2024-07-10T11:27:03.992000",
          "2024-07-10T11:27:08.992000",
          "2024-07-10T11:27:13.995000",
          "2024-07-10T11:27:18.993000",
          "2024-07-10T11:27:23.992000",
          "2024-07-10T11:27:28.994000",
          "2024-07-10T11:27:33.991000",
          "2024-07-10T11:27:38.991000",
          "2024-07-10T11:27:43.992000",
          "2024-07-10T11:27:48.998000",
          "2024-07-10T11:27:57.989000",
          "2024-07-10T11:28:03.997000",
          "2024-07-10T11:28:13.989000",
          "2024-07-10T11:28:18.992000",
          "2024-07-10T11:28:27.991000",
          "2024-07-10T11:28:32.999000",
          "2024-07-10T11:28:37.990000",
          "2024-07-10T11:28:42.988000",
          "2024-07-10T11:28:47.994000",
          "2024-07-10T11:28:53.996000",
          "2024-07-10T11:28:58.998000",
          "2024-07-10T11:29:03.994000",
          "2024-07-10T11:29:12.994000",
          "2024-07-10T11:29:17.995000",
          "2024-07-10T11:29:24.990000",
          "2024-07-10T11:29:33.996000",
          "2024-07-10T11:29:42.994000",
          "2024-07-10T11:29:47.992000",
          "2024-07-10T11:29:52.991000",
          "2024-07-10T11:29:58.994000",
          "2024-07-10T11:30:07.993000",
          "2024-07-10T11:30:13.996000",
          "2024-07-10T11:30:22.990000",
          "2024-07-10T11:30:27.992000",
          "2024-07-10T11:30:33.999000",
          "2024-07-10T11:30:42.988000",
          "2024-07-10T11:30:47.996000",
          "2024-07-10T11:30:52.989000",
          "2024-07-10T11:30:57.991000",
          "2024-07-10T11:31:02.991000",
          "2024-07-10T11:31:08.996000",
          "2024-07-10T11:31:13.994000",
          "2024-07-10T11:31:18.992000",
          "2024-07-10T11:31:24.034000",
          "2024-07-10T11:31:29.001000",
          "2024-07-10T11:31:37.993000",
          "2024-07-10T11:31:43.999000"
         ],
         "y": [
          8.820000171661377,
          9.395999622344972,
          9.576000308990478,
          9.540000343322756,
          10.079999828338623,
          10.584000205993652,
          9.97199993133545,
          9.864000034332276,
          9.720000171661377,
          10.115999794006347,
          10.728000068664551,
          10.440000343322756,
          10.835999965667725,
          10.331999588012696,
          10.692000102996825,
          10.692000102996825,
          10.476000308990479,
          10.548000240325928,
          10.476000308990479,
          10.835999965667725,
          10.728000068664551,
          10.87199993133545,
          11.087999725341797,
          10.835999965667725,
          11.159999656677247,
          11.376000308990479,
          11.412000274658203,
          11.30400037765503,
          11.051999759674073,
          11.051999759674073,
          10.87199993133545,
          11.412000274658203,
          11.19599962234497,
          11.051999759674073,
          11.123999691009521,
          11.340000343322755,
          11.556000137329102,
          11.628000068664551,
          11.484000205993652,
          11.159999656677247,
          11.231999588012696,
          11.231999588012696,
          11.087999725341797,
          10.979999828338624,
          11.123999691009521,
          11.159999656677247,
          10.9439998626709,
          10.835999965667725,
          11.159999656677247,
          11.087999725341797,
          11.231999588012696,
          11.448000240325928,
          11.520000171661378,
          11.520000171661378,
          11.376000308990479,
          11.412000274658203,
          12.384000205993653,
          12.528000068664552,
          11.807999897003175,
          12.6,
          12.815999794006348,
          12.707999897003175,
          12.923999691009522,
          12.995999622344971,
          12.564000034332276,
          13.068000411987304,
          12.923999691009522,
          12.887999725341798,
          13.17600030899048,
          13.10400037765503,
          13.10400037765503,
          13.17600030899048,
          12.995999622344971,
          13.031999588012695,
          12.923999691009522,
          13.031999588012695,
          13.10400037765503,
          12.923999691009522,
          12.815999794006348,
          12.995999622344971,
          13.031999588012695,
          12.923999691009522,
          12.707999897003175,
          12.27600030899048,
          12.312000274658203,
          12.348000240325929,
          12.348000240325929,
          12.312000274658203,
          12.240000343322755,
          12.348000240325929,
          12.168000411987306,
          12.312000274658203,
          12.456000137329102,
          12.707999897003175,
          12.67199993133545,
          12.815999794006348,
          12.959999656677246,
          12.923999691009522,
          12.779999828338623,
          12.6,
          12.67199993133545,
          12.67199993133545,
          12.635999965667725,
          12.635999965667725,
          12.6,
          12.6,
          12.6,
          12.384000205993653,
          12.384000205993653,
          12.528000068664552,
          12.240000343322755,
          12.348000240325929,
          12.168000411987306,
          12.095999622344971,
          11.915999794006348,
          11.879999828338624,
          11.951999759674072,
          11.951999759674072,
          12.095999622344971,
          11.8439998626709,
          11.807999897003175,
          11.735999965667725,
          11.592000102996824,
          11.771999931335449,
          11.700000000000001,
          11.520000171661378,
          11.556000137329102,
          11.879999828338624,
          11.879999828338624,
          11.807999897003175,
          11.951999759674072,
          11.807999897003175,
          11.807999897003175,
          11.735999965667725,
          11.915999794006348,
          11.951999759674072,
          11.915999794006348,
          11.700000000000001,
          11.628000068664551,
          11.556000137329102,
          11.628000068664551,
          11.484000205993652,
          11.448000240325928,
          11.051999759674073,
          10.979999828338624,
          11.015999794006348
         ]
        }
       ],
       "layout": {
        "annotations": [
         {
          "arrowcolor": "red",
          "arrowhead": 1,
          "ax": -10,
          "ay": -30,
          "showarrow": true,
          "text": "Start",
          "x": "2024-07-10T11:16:44.501000",
          "y": 13.17600030899048
         },
         {
          "arrowcolor": "green",
          "arrowhead": 1,
          "ax": -10,
          "ay": -30,
          "showarrow": true,
          "text": "+2min",
          "x": "2024-07-10T11:18:44.501000",
          "y": 13.17600030899048
         },
         {
          "arrowcolor": "grey",
          "arrowhead": 1,
          "ax": -10,
          "ay": -30,
          "showarrow": true,
          "text": "+4min",
          "x": "2024-07-10T11:20:44.501000",
          "y": 13.17600030899048
         },
         {
          "arrowcolor": "blue",
          "arrowhead": 1,
          "ax": -10,
          "ay": -30,
          "showarrow": true,
          "text": "+6min",
          "x": "2024-07-10T11:22:44.501000",
          "y": 13.17600030899048
         },
         {
          "arrowcolor": "grey",
          "arrowhead": 1,
          "ax": -10,
          "ay": -30,
          "showarrow": true,
          "text": "+8min",
          "x": "2024-07-10T11:24:44.501000",
          "y": 13.17600030899048
         },
         {
          "arrowcolor": "blue",
          "arrowhead": 1,
          "ax": -10,
          "ay": -30,
          "showarrow": true,
          "text": "+10min",
          "x": "2024-07-10T11:26:44.501000",
          "y": 13.17600030899048
         },
         {
          "arrowcolor": "green",
          "arrowhead": 1,
          "ax": -10,
          "ay": -30,
          "showarrow": true,
          "text": "+12min",
          "x": "2024-07-10T11:28:44.501000",
          "y": 13.17600030899048
         },
         {
          "arrowcolor": "blue",
          "arrowhead": 1,
          "ax": -10,
          "ay": -30,
          "showarrow": true,
          "text": "End",
          "x": "2024-07-10T11:31:44.501000",
          "y": 13.17600030899048
         }
        ],
        "shapes": [
         {
          "line": {
           "color": "red",
           "dash": "dash"
          },
          "type": "line",
          "x0": "2024-07-10T11:16:44.501000",
          "x1": "2024-07-10T11:16:44.501000",
          "xref": "x",
          "y0": 0,
          "y1": 1,
          "yref": "y domain"
         },
         {
          "line": {
           "color": "green",
           "dash": "dash"
          },
          "type": "line",
          "x0": "2024-07-10T11:18:44.501000",
          "x1": "2024-07-10T11:18:44.501000",
          "xref": "x",
          "y0": 0,
          "y1": 1,
          "yref": "y domain"
         },
         {
          "line": {
           "color": "grey",
           "dash": "dash"
          },
          "type": "line",
          "x0": "2024-07-10T11:20:44.501000",
          "x1": "2024-07-10T11:20:44.501000",
          "xref": "x",
          "y0": 0,
          "y1": 1,
          "yref": "y domain"
         },
         {
          "line": {
           "color": "blue",
           "dash": "dash"
          },
          "type": "line",
          "x0": "2024-07-10T11:22:44.501000",
          "x1": "2024-07-10T11:22:44.501000",
          "xref": "x",
          "y0": 0,
          "y1": 1,
          "yref": "y domain"
         },
         {
          "line": {
           "color": "grey",
           "dash": "dash"
          },
          "type": "line",
          "x0": "2024-07-10T11:24:44.501000",
          "x1": "2024-07-10T11:24:44.501000",
          "xref": "x",
          "y0": 0,
          "y1": 1,
          "yref": "y domain"
         },
         {
          "line": {
           "color": "blue",
           "dash": "dash"
          },
          "type": "line",
          "x0": "2024-07-10T11:26:44.501000",
          "x1": "2024-07-10T11:26:44.501000",
          "xref": "x",
          "y0": 0,
          "y1": 1,
          "yref": "y domain"
         },
         {
          "line": {
           "color": "green",
           "dash": "dash"
          },
          "type": "line",
          "x0": "2024-07-10T11:28:44.501000",
          "x1": "2024-07-10T11:28:44.501000",
          "xref": "x",
          "y0": 0,
          "y1": 1,
          "yref": "y domain"
         },
         {
          "line": {
           "color": "red",
           "dash": "dash"
          },
          "type": "line",
          "x0": "2024-07-10T11:31:44.501000",
          "x1": "2024-07-10T11:31:44.501000",
          "xref": "x",
          "y0": 0,
          "y1": 1,
          "yref": "y domain"
         }
        ],
        "template": {
         "data": {
          "bar": [
           {
            "error_x": {
             "color": "#2a3f5f"
            },
            "error_y": {
             "color": "#2a3f5f"
            },
            "marker": {
             "line": {
              "color": "#E5ECF6",
              "width": 0.5
             },
             "pattern": {
              "fillmode": "overlay",
              "size": 10,
              "solidity": 0.2
             }
            },
            "type": "bar"
           }
          ],
          "barpolar": [
           {
            "marker": {
             "line": {
              "color": "#E5ECF6",
              "width": 0.5
             },
             "pattern": {
              "fillmode": "overlay",
              "size": 10,
              "solidity": 0.2
             }
            },
            "type": "barpolar"
           }
          ],
          "carpet": [
           {
            "aaxis": {
             "endlinecolor": "#2a3f5f",
             "gridcolor": "white",
             "linecolor": "white",
             "minorgridcolor": "white",
             "startlinecolor": "#2a3f5f"
            },
            "baxis": {
             "endlinecolor": "#2a3f5f",
             "gridcolor": "white",
             "linecolor": "white",
             "minorgridcolor": "white",
             "startlinecolor": "#2a3f5f"
            },
            "type": "carpet"
           }
          ],
          "choropleth": [
           {
            "colorbar": {
             "outlinewidth": 0,
             "ticks": ""
            },
            "type": "choropleth"
           }
          ],
          "contour": [
           {
            "colorbar": {
             "outlinewidth": 0,
             "ticks": ""
            },
            "colorscale": [
             [
              0,
              "#0d0887"
             ],
             [
              0.1111111111111111,
              "#46039f"
             ],
             [
              0.2222222222222222,
              "#7201a8"
             ],
             [
              0.3333333333333333,
              "#9c179e"
             ],
             [
              0.4444444444444444,
              "#bd3786"
             ],
             [
              0.5555555555555556,
              "#d8576b"
             ],
             [
              0.6666666666666666,
              "#ed7953"
             ],
             [
              0.7777777777777778,
              "#fb9f3a"
             ],
             [
              0.8888888888888888,
              "#fdca26"
             ],
             [
              1,
              "#f0f921"
             ]
            ],
            "type": "contour"
           }
          ],
          "contourcarpet": [
           {
            "colorbar": {
             "outlinewidth": 0,
             "ticks": ""
            },
            "type": "contourcarpet"
           }
          ],
          "heatmap": [
           {
            "colorbar": {
             "outlinewidth": 0,
             "ticks": ""
            },
            "colorscale": [
             [
              0,
              "#0d0887"
             ],
             [
              0.1111111111111111,
              "#46039f"
             ],
             [
              0.2222222222222222,
              "#7201a8"
             ],
             [
              0.3333333333333333,
              "#9c179e"
             ],
             [
              0.4444444444444444,
              "#bd3786"
             ],
             [
              0.5555555555555556,
              "#d8576b"
             ],
             [
              0.6666666666666666,
              "#ed7953"
             ],
             [
              0.7777777777777778,
              "#fb9f3a"
             ],
             [
              0.8888888888888888,
              "#fdca26"
             ],
             [
              1,
              "#f0f921"
             ]
            ],
            "type": "heatmap"
           }
          ],
          "heatmapgl": [
           {
            "colorbar": {
             "outlinewidth": 0,
             "ticks": ""
            },
            "colorscale": [
             [
              0,
              "#0d0887"
             ],
             [
              0.1111111111111111,
              "#46039f"
             ],
             [
              0.2222222222222222,
              "#7201a8"
             ],
             [
              0.3333333333333333,
              "#9c179e"
             ],
             [
              0.4444444444444444,
              "#bd3786"
             ],
             [
              0.5555555555555556,
              "#d8576b"
             ],
             [
              0.6666666666666666,
              "#ed7953"
             ],
             [
              0.7777777777777778,
              "#fb9f3a"
             ],
             [
              0.8888888888888888,
              "#fdca26"
             ],
             [
              1,
              "#f0f921"
             ]
            ],
            "type": "heatmapgl"
           }
          ],
          "histogram": [
           {
            "marker": {
             "pattern": {
              "fillmode": "overlay",
              "size": 10,
              "solidity": 0.2
             }
            },
            "type": "histogram"
           }
          ],
          "histogram2d": [
           {
            "colorbar": {
             "outlinewidth": 0,
             "ticks": ""
            },
            "colorscale": [
             [
              0,
              "#0d0887"
             ],
             [
              0.1111111111111111,
              "#46039f"
             ],
             [
              0.2222222222222222,
              "#7201a8"
             ],
             [
              0.3333333333333333,
              "#9c179e"
             ],
             [
              0.4444444444444444,
              "#bd3786"
             ],
             [
              0.5555555555555556,
              "#d8576b"
             ],
             [
              0.6666666666666666,
              "#ed7953"
             ],
             [
              0.7777777777777778,
              "#fb9f3a"
             ],
             [
              0.8888888888888888,
              "#fdca26"
             ],
             [
              1,
              "#f0f921"
             ]
            ],
            "type": "histogram2d"
           }
          ],
          "histogram2dcontour": [
           {
            "colorbar": {
             "outlinewidth": 0,
             "ticks": ""
            },
            "colorscale": [
             [
              0,
              "#0d0887"
             ],
             [
              0.1111111111111111,
              "#46039f"
             ],
             [
              0.2222222222222222,
              "#7201a8"
             ],
             [
              0.3333333333333333,
              "#9c179e"
             ],
             [
              0.4444444444444444,
              "#bd3786"
             ],
             [
              0.5555555555555556,
              "#d8576b"
             ],
             [
              0.6666666666666666,
              "#ed7953"
             ],
             [
              0.7777777777777778,
              "#fb9f3a"
             ],
             [
              0.8888888888888888,
              "#fdca26"
             ],
             [
              1,
              "#f0f921"
             ]
            ],
            "type": "histogram2dcontour"
           }
          ],
          "mesh3d": [
           {
            "colorbar": {
             "outlinewidth": 0,
             "ticks": ""
            },
            "type": "mesh3d"
           }
          ],
          "parcoords": [
           {
            "line": {
             "colorbar": {
              "outlinewidth": 0,
              "ticks": ""
             }
            },
            "type": "parcoords"
           }
          ],
          "pie": [
           {
            "automargin": true,
            "type": "pie"
           }
          ],
          "scatter": [
           {
            "fillpattern": {
             "fillmode": "overlay",
             "size": 10,
             "solidity": 0.2
            },
            "type": "scatter"
           }
          ],
          "scatter3d": [
           {
            "line": {
             "colorbar": {
              "outlinewidth": 0,
              "ticks": ""
             }
            },
            "marker": {
             "colorbar": {
              "outlinewidth": 0,
              "ticks": ""
             }
            },
            "type": "scatter3d"
           }
          ],
          "scattercarpet": [
           {
            "marker": {
             "colorbar": {
              "outlinewidth": 0,
              "ticks": ""
             }
            },
            "type": "scattercarpet"
           }
          ],
          "scattergeo": [
           {
            "marker": {
             "colorbar": {
              "outlinewidth": 0,
              "ticks": ""
             }
            },
            "type": "scattergeo"
           }
          ],
          "scattergl": [
           {
            "marker": {
             "colorbar": {
              "outlinewidth": 0,
              "ticks": ""
             }
            },
            "type": "scattergl"
           }
          ],
          "scattermapbox": [
           {
            "marker": {
             "colorbar": {
              "outlinewidth": 0,
              "ticks": ""
             }
            },
            "type": "scattermapbox"
           }
          ],
          "scatterpolar": [
           {
            "marker": {
             "colorbar": {
              "outlinewidth": 0,
              "ticks": ""
             }
            },
            "type": "scatterpolar"
           }
          ],
          "scatterpolargl": [
           {
            "marker": {
             "colorbar": {
              "outlinewidth": 0,
              "ticks": ""
             }
            },
            "type": "scatterpolargl"
           }
          ],
          "scatterternary": [
           {
            "marker": {
             "colorbar": {
              "outlinewidth": 0,
              "ticks": ""
             }
            },
            "type": "scatterternary"
           }
          ],
          "surface": [
           {
            "colorbar": {
             "outlinewidth": 0,
             "ticks": ""
            },
            "colorscale": [
             [
              0,
              "#0d0887"
             ],
             [
              0.1111111111111111,
              "#46039f"
             ],
             [
              0.2222222222222222,
              "#7201a8"
             ],
             [
              0.3333333333333333,
              "#9c179e"
             ],
             [
              0.4444444444444444,
              "#bd3786"
             ],
             [
              0.5555555555555556,
              "#d8576b"
             ],
             [
              0.6666666666666666,
              "#ed7953"
             ],
             [
              0.7777777777777778,
              "#fb9f3a"
             ],
             [
              0.8888888888888888,
              "#fdca26"
             ],
             [
              1,
              "#f0f921"
             ]
            ],
            "type": "surface"
           }
          ],
          "table": [
           {
            "cells": {
             "fill": {
              "color": "#EBF0F8"
             },
             "line": {
              "color": "white"
             }
            },
            "header": {
             "fill": {
              "color": "#C8D4E3"
             },
             "line": {
              "color": "white"
             }
            },
            "type": "table"
           }
          ]
         },
         "layout": {
          "annotationdefaults": {
           "arrowcolor": "#2a3f5f",
           "arrowhead": 0,
           "arrowwidth": 1
          },
          "autotypenumbers": "strict",
          "coloraxis": {
           "colorbar": {
            "outlinewidth": 0,
            "ticks": ""
           }
          },
          "colorscale": {
           "diverging": [
            [
             0,
             "#8e0152"
            ],
            [
             0.1,
             "#c51b7d"
            ],
            [
             0.2,
             "#de77ae"
            ],
            [
             0.3,
             "#f1b6da"
            ],
            [
             0.4,
             "#fde0ef"
            ],
            [
             0.5,
             "#f7f7f7"
            ],
            [
             0.6,
             "#e6f5d0"
            ],
            [
             0.7,
             "#b8e186"
            ],
            [
             0.8,
             "#7fbc41"
            ],
            [
             0.9,
             "#4d9221"
            ],
            [
             1,
             "#276419"
            ]
           ],
           "sequential": [
            [
             0,
             "#0d0887"
            ],
            [
             0.1111111111111111,
             "#46039f"
            ],
            [
             0.2222222222222222,
             "#7201a8"
            ],
            [
             0.3333333333333333,
             "#9c179e"
            ],
            [
             0.4444444444444444,
             "#bd3786"
            ],
            [
             0.5555555555555556,
             "#d8576b"
            ],
            [
             0.6666666666666666,
             "#ed7953"
            ],
            [
             0.7777777777777778,
             "#fb9f3a"
            ],
            [
             0.8888888888888888,
             "#fdca26"
            ],
            [
             1,
             "#f0f921"
            ]
           ],
           "sequentialminus": [
            [
             0,
             "#0d0887"
            ],
            [
             0.1111111111111111,
             "#46039f"
            ],
            [
             0.2222222222222222,
             "#7201a8"
            ],
            [
             0.3333333333333333,
             "#9c179e"
            ],
            [
             0.4444444444444444,
             "#bd3786"
            ],
            [
             0.5555555555555556,
             "#d8576b"
            ],
            [
             0.6666666666666666,
             "#ed7953"
            ],
            [
             0.7777777777777778,
             "#fb9f3a"
            ],
            [
             0.8888888888888888,
             "#fdca26"
            ],
            [
             1,
             "#f0f921"
            ]
           ]
          },
          "colorway": [
           "#636efa",
           "#EF553B",
           "#00cc96",
           "#ab63fa",
           "#FFA15A",
           "#19d3f3",
           "#FF6692",
           "#B6E880",
           "#FF97FF",
           "#FECB52"
          ],
          "font": {
           "color": "#2a3f5f"
          },
          "geo": {
           "bgcolor": "white",
           "lakecolor": "white",
           "landcolor": "#E5ECF6",
           "showlakes": true,
           "showland": true,
           "subunitcolor": "white"
          },
          "hoverlabel": {
           "align": "left"
          },
          "hovermode": "closest",
          "mapbox": {
           "style": "light"
          },
          "paper_bgcolor": "white",
          "plot_bgcolor": "#E5ECF6",
          "polar": {
           "angularaxis": {
            "gridcolor": "white",
            "linecolor": "white",
            "ticks": ""
           },
           "bgcolor": "#E5ECF6",
           "radialaxis": {
            "gridcolor": "white",
            "linecolor": "white",
            "ticks": ""
           }
          },
          "scene": {
           "xaxis": {
            "backgroundcolor": "#E5ECF6",
            "gridcolor": "white",
            "gridwidth": 2,
            "linecolor": "white",
            "showbackground": true,
            "ticks": "",
            "zerolinecolor": "white"
           },
           "yaxis": {
            "backgroundcolor": "#E5ECF6",
            "gridcolor": "white",
            "gridwidth": 2,
            "linecolor": "white",
            "showbackground": true,
            "ticks": "",
            "zerolinecolor": "white"
           },
           "zaxis": {
            "backgroundcolor": "#E5ECF6",
            "gridcolor": "white",
            "gridwidth": 2,
            "linecolor": "white",
            "showbackground": true,
            "ticks": "",
            "zerolinecolor": "white"
           }
          },
          "shapedefaults": {
           "line": {
            "color": "#2a3f5f"
           }
          },
          "ternary": {
           "aaxis": {
            "gridcolor": "white",
            "linecolor": "white",
            "ticks": ""
           },
           "baxis": {
            "gridcolor": "white",
            "linecolor": "white",
            "ticks": ""
           },
           "bgcolor": "#E5ECF6",
           "caxis": {
            "gridcolor": "white",
            "linecolor": "white",
            "ticks": ""
           }
          },
          "title": {
           "x": 0.05
          },
          "xaxis": {
           "automargin": true,
           "gridcolor": "white",
           "linecolor": "white",
           "ticks": "",
           "title": {
            "standoff": 15
           },
           "zerolinecolor": "white",
           "zerolinewidth": 2
          },
          "yaxis": {
           "automargin": true,
           "gridcolor": "white",
           "linecolor": "white",
           "ticks": "",
           "title": {
            "standoff": 15
           },
           "zerolinecolor": "white",
           "zerolinewidth": 2
          }
         }
        },
        "title": {
         "text": "Speed Data for Participant 01"
        },
        "xaxis": {
         "tickformat": "%H:%M",
         "title": {
          "text": "Time"
         }
        },
        "yaxis": {
         "title": {
          "text": "Speed in km/h"
         }
        }
       }
      }
     },
     "metadata": {},
     "output_type": "display_data"
    },
    {
     "name": "stdout",
     "output_type": "stream",
     "text": [
      "[(Timestamp('2024-07-10 11:18:44.501000'), np.float64(10.458000068664552), np.float64(10.976000022888183)), (Timestamp('2024-07-10 11:20:44.501000'), np.float64(11.195999965667728), np.float64(11.240999794006347)), (Timestamp('2024-07-10 11:22:44.501000'), np.float64(11.245090874758635), np.float64(12.591999912261963)), (Timestamp('2024-07-10 11:24:44.501000'), np.float64(13.052000045776367), np.float64(12.873599824905394)), (Timestamp('2024-07-10 11:26:44.501000'), np.float64(12.420000171661378), np.float64(12.67199993133545)), (Timestamp('2024-07-10 11:28:44.501000'), np.float64(12.168000030517579), np.float64(11.779999923706054))]\n",
      "6\n",
      "2\n",
      "2\n",
      "2\n"
     ]
    },
    {
     "data": {
      "application/vnd.plotly.v1+json": {
       "config": {
        "plotlyServerURL": "https://plot.ly"
       },
       "data": [
        {
         "mode": "lines",
         "name": "Speed",
         "type": "scatter",
         "x": [
          "2024-07-10T11:38:47.990000",
          "2024-07-10T11:38:52.988000",
          "2024-07-10T11:38:57.992000",
          "2024-07-10T11:39:02.990000",
          "2024-07-10T11:39:12.993000",
          "2024-07-10T11:39:17.989000",
          "2024-07-10T11:39:23.989000",
          "2024-07-10T11:39:32.990000",
          "2024-07-10T11:39:38.988000",
          "2024-07-10T11:39:48.986000",
          "2024-07-10T11:39:58.987000",
          "2024-07-10T11:40:03.989000",
          "2024-07-10T11:40:08.989000",
          "2024-07-10T11:40:17.993000",
          "2024-07-10T11:40:23.987000",
          "2024-07-10T11:40:28.986000",
          "2024-07-10T11:40:33.993000",
          "2024-07-10T11:40:42.990000",
          "2024-07-10T11:40:48.990000",
          "2024-07-10T11:40:53.989000",
          "2024-07-10T11:40:58.988000",
          "2024-07-10T11:41:07.990000",
          "2024-07-10T11:41:13.989000",
          "2024-07-10T11:41:18.987000",
          "2024-07-10T11:41:23.988000",
          "2024-07-10T11:41:28.987000",
          "2024-07-10T11:41:33.990000",
          "2024-07-10T11:41:38.987000",
          "2024-07-10T11:41:43.987000",
          "2024-07-10T11:41:54.986000",
          "2024-07-10T11:42:03.989000",
          "2024-07-10T11:42:08.989000",
          "2024-07-10T11:42:13.988000",
          "2024-07-10T11:42:18.987000",
          "2024-07-10T11:42:23.987000",
          "2024-07-10T11:42:28.990000",
          "2024-07-10T11:42:33.989000",
          "2024-07-10T11:42:38.990000",
          "2024-07-10T11:42:43.988000",
          "2024-07-10T11:42:53.985000",
          "2024-07-10T11:42:59.991000",
          "2024-07-10T11:43:09.989000",
          "2024-07-10T11:43:18.985000",
          "2024-07-10T11:43:28.989000",
          "2024-07-10T11:43:33.991000",
          "2024-07-10T11:43:38.987000",
          "2024-07-10T11:43:48.988000",
          "2024-07-10T11:43:53.992000",
          "2024-07-10T11:43:58.986000",
          "2024-07-10T11:44:03.989000",
          "2024-07-10T11:44:13.987000",
          "2024-07-10T11:44:18.990000",
          "2024-07-10T11:44:23.988000",
          "2024-07-10T11:44:28.985000",
          "2024-07-10T11:44:37.988000",
          "2024-07-10T11:44:43.989000",
          "2024-07-10T11:44:53.987000",
          "2024-07-10T11:45:02.990000",
          "2024-07-10T11:45:07.988000",
          "2024-07-10T11:45:13.989000",
          "2024-07-10T11:45:18.988000",
          "2024-07-10T11:45:23.990000",
          "2024-07-10T11:45:28.991000",
          "2024-07-10T11:45:33.988000",
          "2024-07-10T11:45:38.988000",
          "2024-07-10T11:45:43.987000",
          "2024-07-10T11:45:49.986000",
          "2024-07-10T11:45:58.986000",
          "2024-07-10T11:46:04.988000",
          "2024-07-10T11:46:12.989000",
          "2024-07-10T11:46:18.990000",
          "2024-07-10T11:46:28.987000",
          "2024-07-10T11:46:33.987000",
          "2024-07-10T11:46:38.986000",
          "2024-07-10T11:46:43.987000",
          "2024-07-10T11:46:48.988000",
          "2024-07-10T11:46:57.990000",
          "2024-07-10T11:47:03.988000",
          "2024-07-10T11:47:08.994000",
          "2024-07-10T11:47:13.988000",
          "2024-07-10T11:47:18.988000",
          "2024-07-10T11:47:23.987000",
          "2024-07-10T11:47:28.988000",
          "2024-07-10T11:47:33.985000",
          "2024-07-10T11:47:43.986000",
          "2024-07-10T11:47:48.985000",
          "2024-07-10T11:47:58.991000",
          "2024-07-10T11:48:03.988000",
          "2024-07-10T11:48:08.985000",
          "2024-07-10T11:48:13.986000",
          "2024-07-10T11:48:19.989000",
          "2024-07-10T11:48:29.987000",
          "2024-07-10T11:48:39.987000",
          "2024-07-10T11:48:48.985000",
          "2024-07-10T11:48:53.987000",
          "2024-07-10T11:48:58.989000",
          "2024-07-10T11:49:03.990000",
          "2024-07-10T11:49:08.988000",
          "2024-07-10T11:49:13.986000",
          "2024-07-10T11:49:18.987000",
          "2024-07-10T11:49:23.990000",
          "2024-07-10T11:49:28.988000",
          "2024-07-10T11:49:33.989000",
          "2024-07-10T11:49:38.986000",
          "2024-07-10T11:49:43.987000",
          "2024-07-10T11:49:48.985000",
          "2024-07-10T11:49:59.989000",
          "2024-07-10T11:50:08.986000",
          "2024-07-10T11:50:18.988000",
          "2024-07-10T11:50:27.992000",
          "2024-07-10T11:50:32.989000",
          "2024-07-10T11:50:38.988000",
          "2024-07-10T11:50:43.989000",
          "2024-07-10T11:50:53.986000",
          "2024-07-10T11:50:58.987000",
          "2024-07-10T11:51:03.987000",
          "2024-07-10T11:51:08.991000",
          "2024-07-10T11:51:13.986000",
          "2024-07-10T11:51:19.989000",
          "2024-07-10T11:51:28.986000",
          "2024-07-10T11:51:33.987000",
          "2024-07-10T11:51:43.987000",
          "2024-07-10T11:51:53.988000",
          "2024-07-10T11:51:58.990000",
          "2024-07-10T11:52:03.989000",
          "2024-07-10T11:52:08.989000",
          "2024-07-10T11:52:17.987000",
          "2024-07-10T11:52:23.991000",
          "2024-07-10T11:52:28.993000",
          "2024-07-10T11:52:38.988000",
          "2024-07-10T11:52:43.988000",
          "2024-07-10T11:52:52.989000",
          "2024-07-10T11:52:57.990000",
          "2024-07-10T11:53:03.992000",
          "2024-07-10T11:53:12.994000",
          "2024-07-10T11:53:17.986000",
          "2024-07-10T11:53:23.985000",
          "2024-07-10T11:53:28.988000"
         ],
         "y": [
          8.60400037765503,
          8.784000205993653,
          8.748000240325927,
          8.748000240325927,
          8.495999622344971,
          8.640000343322756,
          8.60400037765503,
          8.17199993133545,
          8.423999691009522,
          8.17199993133545,
          7.992000102996824,
          7.992000102996824,
          7.884000205993653,
          7.812000274658203,
          8.064000034332276,
          8.207999897003175,
          8.495999622344971,
          8.423999691009522,
          8.315999794006348,
          8.207999897003175,
          8.064000034332276,
          7.956000137329101,
          8.028000068664552,
          7.956000137329101,
          7.848000240325928,
          7.776000308990478,
          7.595999622344971,
          7.631999588012696,
          7.451999759674073,
          7.812000274658203,
          7.956000137329101,
          7.812000274658203,
          7.884000205993653,
          8.17199993133545,
          8.135999965667725,
          8.207999897003175,
          8.1,
          8.135999965667725,
          7.956000137329101,
          7.848000240325928,
          8.1,
          8.495999622344971,
          8.640000343322756,
          8.640000343322756,
          8.640000343322756,
          8.568000411987304,
          8.2439998626709,
          8.17199993133545,
          8.1,
          8.17199993133545,
          8.064000034332276,
          8.207999897003175,
          8.207999897003175,
          8.2439998626709,
          8.17199993133545,
          8.064000034332276,
          8.387999725341798,
          8.315999794006348,
          8.315999794006348,
          8.351999759674072,
          8.387999725341798,
          8.2439998626709,
          8.459999656677246,
          8.387999725341798,
          9.395999622344972,
          9.540000343322756,
          9.576000308990478,
          9.720000171661377,
          9.612000274658204,
          9.50400037765503,
          9.50400037765503,
          9.395999622344972,
          9.431999588012696,
          9.468000411987305,
          9.395999622344972,
          9.468000411987305,
          9.359999656677246,
          9.431999588012696,
          9.50400037765503,
          9.287999725341797,
          8.568000411987304,
          9.107999897003173,
          9.215999794006349,
          9.179999828338623,
          9.251999759674073,
          9.287999725341797,
          9.215999794006349,
          9.143999862670901,
          9.143999862670901,
          9.107999897003173,
          9.143999862670901,
          9.468000411987305,
          9.143999862670901,
          8.964000034332276,
          8.892000102996825,
          8.784000205993653,
          8.856000137329103,
          8.892000102996825,
          8.92800006866455,
          8.856000137329103,
          9,
          9,
          8.964000034332276,
          9.035999965667726,
          8.92800006866455,
          8.964000034332276,
          8.892000102996825,
          8.892000102996825,
          9.107999897003173,
          9.035999965667726,
          8.892000102996825,
          8.748000240325927,
          8.748000240325927,
          8.784000205993653,
          8.820000171661377,
          9.035999965667726,
          9.035999965667726,
          8.892000102996825,
          8.892000102996825,
          8.856000137329103,
          8.856000137329103,
          8.820000171661377,
          8.712000274658203,
          8.748000240325927,
          8.640000343322756,
          8.67600030899048,
          8.568000411987304,
          8.712000274658203,
          8.712000274658203,
          8.784000205993653,
          8.748000240325927,
          8.784000205993653,
          9.07199993133545,
          9,
          9.107999897003173,
          9.035999965667726,
          9,
          9
         ]
        }
       ],
       "layout": {
        "annotations": [
         {
          "arrowcolor": "red",
          "arrowhead": 1,
          "ax": -10,
          "ay": -30,
          "showarrow": true,
          "text": "Start",
          "x": "2024-07-10T11:38:23.602000",
          "y": 9.720000171661377
         },
         {
          "arrowcolor": "green",
          "arrowhead": 1,
          "ax": -10,
          "ay": -30,
          "showarrow": true,
          "text": "+2min",
          "x": "2024-07-10T11:40:23.602000",
          "y": 9.720000171661377
         },
         {
          "arrowcolor": "green",
          "arrowhead": 1,
          "ax": -10,
          "ay": -30,
          "showarrow": true,
          "text": "+4min",
          "x": "2024-07-10T11:42:23.602000",
          "y": 9.720000171661377
         },
         {
          "arrowcolor": "green",
          "arrowhead": 1,
          "ax": -10,
          "ay": -30,
          "showarrow": true,
          "text": "+6min",
          "x": "2024-07-10T11:44:23.602000",
          "y": 9.720000171661377
         },
         {
          "arrowcolor": "green",
          "arrowhead": 1,
          "ax": -10,
          "ay": -30,
          "showarrow": true,
          "text": "+8min",
          "x": "2024-07-10T11:46:23.602000",
          "y": 9.720000171661377
         },
         {
          "arrowcolor": "green",
          "arrowhead": 1,
          "ax": -10,
          "ay": -30,
          "showarrow": true,
          "text": "+10min",
          "x": "2024-07-10T11:48:23.602000",
          "y": 9.720000171661377
         },
         {
          "arrowcolor": "green",
          "arrowhead": 1,
          "ax": -10,
          "ay": -30,
          "showarrow": true,
          "text": "+12min",
          "x": "2024-07-10T11:50:23.602000",
          "y": 9.720000171661377
         },
         {
          "arrowcolor": "blue",
          "arrowhead": 1,
          "ax": -10,
          "ay": -30,
          "showarrow": true,
          "text": "End",
          "x": "2024-07-10T11:53:23.602000",
          "y": 9.720000171661377
         }
        ],
        "shapes": [
         {
          "line": {
           "color": "red",
           "dash": "dash"
          },
          "type": "line",
          "x0": "2024-07-10T11:38:23.602000",
          "x1": "2024-07-10T11:38:23.602000",
          "xref": "x",
          "y0": 0,
          "y1": 1,
          "yref": "y domain"
         },
         {
          "line": {
           "color": "green",
           "dash": "dash"
          },
          "type": "line",
          "x0": "2024-07-10T11:40:23.602000",
          "x1": "2024-07-10T11:40:23.602000",
          "xref": "x",
          "y0": 0,
          "y1": 1,
          "yref": "y domain"
         },
         {
          "line": {
           "color": "green",
           "dash": "dash"
          },
          "type": "line",
          "x0": "2024-07-10T11:42:23.602000",
          "x1": "2024-07-10T11:42:23.602000",
          "xref": "x",
          "y0": 0,
          "y1": 1,
          "yref": "y domain"
         },
         {
          "line": {
           "color": "green",
           "dash": "dash"
          },
          "type": "line",
          "x0": "2024-07-10T11:44:23.602000",
          "x1": "2024-07-10T11:44:23.602000",
          "xref": "x",
          "y0": 0,
          "y1": 1,
          "yref": "y domain"
         },
         {
          "line": {
           "color": "green",
           "dash": "dash"
          },
          "type": "line",
          "x0": "2024-07-10T11:46:23.602000",
          "x1": "2024-07-10T11:46:23.602000",
          "xref": "x",
          "y0": 0,
          "y1": 1,
          "yref": "y domain"
         },
         {
          "line": {
           "color": "green",
           "dash": "dash"
          },
          "type": "line",
          "x0": "2024-07-10T11:48:23.602000",
          "x1": "2024-07-10T11:48:23.602000",
          "xref": "x",
          "y0": 0,
          "y1": 1,
          "yref": "y domain"
         },
         {
          "line": {
           "color": "green",
           "dash": "dash"
          },
          "type": "line",
          "x0": "2024-07-10T11:50:23.602000",
          "x1": "2024-07-10T11:50:23.602000",
          "xref": "x",
          "y0": 0,
          "y1": 1,
          "yref": "y domain"
         },
         {
          "line": {
           "color": "red",
           "dash": "dash"
          },
          "type": "line",
          "x0": "2024-07-10T11:53:23.602000",
          "x1": "2024-07-10T11:53:23.602000",
          "xref": "x",
          "y0": 0,
          "y1": 1,
          "yref": "y domain"
         }
        ],
        "template": {
         "data": {
          "bar": [
           {
            "error_x": {
             "color": "#2a3f5f"
            },
            "error_y": {
             "color": "#2a3f5f"
            },
            "marker": {
             "line": {
              "color": "#E5ECF6",
              "width": 0.5
             },
             "pattern": {
              "fillmode": "overlay",
              "size": 10,
              "solidity": 0.2
             }
            },
            "type": "bar"
           }
          ],
          "barpolar": [
           {
            "marker": {
             "line": {
              "color": "#E5ECF6",
              "width": 0.5
             },
             "pattern": {
              "fillmode": "overlay",
              "size": 10,
              "solidity": 0.2
             }
            },
            "type": "barpolar"
           }
          ],
          "carpet": [
           {
            "aaxis": {
             "endlinecolor": "#2a3f5f",
             "gridcolor": "white",
             "linecolor": "white",
             "minorgridcolor": "white",
             "startlinecolor": "#2a3f5f"
            },
            "baxis": {
             "endlinecolor": "#2a3f5f",
             "gridcolor": "white",
             "linecolor": "white",
             "minorgridcolor": "white",
             "startlinecolor": "#2a3f5f"
            },
            "type": "carpet"
           }
          ],
          "choropleth": [
           {
            "colorbar": {
             "outlinewidth": 0,
             "ticks": ""
            },
            "type": "choropleth"
           }
          ],
          "contour": [
           {
            "colorbar": {
             "outlinewidth": 0,
             "ticks": ""
            },
            "colorscale": [
             [
              0,
              "#0d0887"
             ],
             [
              0.1111111111111111,
              "#46039f"
             ],
             [
              0.2222222222222222,
              "#7201a8"
             ],
             [
              0.3333333333333333,
              "#9c179e"
             ],
             [
              0.4444444444444444,
              "#bd3786"
             ],
             [
              0.5555555555555556,
              "#d8576b"
             ],
             [
              0.6666666666666666,
              "#ed7953"
             ],
             [
              0.7777777777777778,
              "#fb9f3a"
             ],
             [
              0.8888888888888888,
              "#fdca26"
             ],
             [
              1,
              "#f0f921"
             ]
            ],
            "type": "contour"
           }
          ],
          "contourcarpet": [
           {
            "colorbar": {
             "outlinewidth": 0,
             "ticks": ""
            },
            "type": "contourcarpet"
           }
          ],
          "heatmap": [
           {
            "colorbar": {
             "outlinewidth": 0,
             "ticks": ""
            },
            "colorscale": [
             [
              0,
              "#0d0887"
             ],
             [
              0.1111111111111111,
              "#46039f"
             ],
             [
              0.2222222222222222,
              "#7201a8"
             ],
             [
              0.3333333333333333,
              "#9c179e"
             ],
             [
              0.4444444444444444,
              "#bd3786"
             ],
             [
              0.5555555555555556,
              "#d8576b"
             ],
             [
              0.6666666666666666,
              "#ed7953"
             ],
             [
              0.7777777777777778,
              "#fb9f3a"
             ],
             [
              0.8888888888888888,
              "#fdca26"
             ],
             [
              1,
              "#f0f921"
             ]
            ],
            "type": "heatmap"
           }
          ],
          "heatmapgl": [
           {
            "colorbar": {
             "outlinewidth": 0,
             "ticks": ""
            },
            "colorscale": [
             [
              0,
              "#0d0887"
             ],
             [
              0.1111111111111111,
              "#46039f"
             ],
             [
              0.2222222222222222,
              "#7201a8"
             ],
             [
              0.3333333333333333,
              "#9c179e"
             ],
             [
              0.4444444444444444,
              "#bd3786"
             ],
             [
              0.5555555555555556,
              "#d8576b"
             ],
             [
              0.6666666666666666,
              "#ed7953"
             ],
             [
              0.7777777777777778,
              "#fb9f3a"
             ],
             [
              0.8888888888888888,
              "#fdca26"
             ],
             [
              1,
              "#f0f921"
             ]
            ],
            "type": "heatmapgl"
           }
          ],
          "histogram": [
           {
            "marker": {
             "pattern": {
              "fillmode": "overlay",
              "size": 10,
              "solidity": 0.2
             }
            },
            "type": "histogram"
           }
          ],
          "histogram2d": [
           {
            "colorbar": {
             "outlinewidth": 0,
             "ticks": ""
            },
            "colorscale": [
             [
              0,
              "#0d0887"
             ],
             [
              0.1111111111111111,
              "#46039f"
             ],
             [
              0.2222222222222222,
              "#7201a8"
             ],
             [
              0.3333333333333333,
              "#9c179e"
             ],
             [
              0.4444444444444444,
              "#bd3786"
             ],
             [
              0.5555555555555556,
              "#d8576b"
             ],
             [
              0.6666666666666666,
              "#ed7953"
             ],
             [
              0.7777777777777778,
              "#fb9f3a"
             ],
             [
              0.8888888888888888,
              "#fdca26"
             ],
             [
              1,
              "#f0f921"
             ]
            ],
            "type": "histogram2d"
           }
          ],
          "histogram2dcontour": [
           {
            "colorbar": {
             "outlinewidth": 0,
             "ticks": ""
            },
            "colorscale": [
             [
              0,
              "#0d0887"
             ],
             [
              0.1111111111111111,
              "#46039f"
             ],
             [
              0.2222222222222222,
              "#7201a8"
             ],
             [
              0.3333333333333333,
              "#9c179e"
             ],
             [
              0.4444444444444444,
              "#bd3786"
             ],
             [
              0.5555555555555556,
              "#d8576b"
             ],
             [
              0.6666666666666666,
              "#ed7953"
             ],
             [
              0.7777777777777778,
              "#fb9f3a"
             ],
             [
              0.8888888888888888,
              "#fdca26"
             ],
             [
              1,
              "#f0f921"
             ]
            ],
            "type": "histogram2dcontour"
           }
          ],
          "mesh3d": [
           {
            "colorbar": {
             "outlinewidth": 0,
             "ticks": ""
            },
            "type": "mesh3d"
           }
          ],
          "parcoords": [
           {
            "line": {
             "colorbar": {
              "outlinewidth": 0,
              "ticks": ""
             }
            },
            "type": "parcoords"
           }
          ],
          "pie": [
           {
            "automargin": true,
            "type": "pie"
           }
          ],
          "scatter": [
           {
            "fillpattern": {
             "fillmode": "overlay",
             "size": 10,
             "solidity": 0.2
            },
            "type": "scatter"
           }
          ],
          "scatter3d": [
           {
            "line": {
             "colorbar": {
              "outlinewidth": 0,
              "ticks": ""
             }
            },
            "marker": {
             "colorbar": {
              "outlinewidth": 0,
              "ticks": ""
             }
            },
            "type": "scatter3d"
           }
          ],
          "scattercarpet": [
           {
            "marker": {
             "colorbar": {
              "outlinewidth": 0,
              "ticks": ""
             }
            },
            "type": "scattercarpet"
           }
          ],
          "scattergeo": [
           {
            "marker": {
             "colorbar": {
              "outlinewidth": 0,
              "ticks": ""
             }
            },
            "type": "scattergeo"
           }
          ],
          "scattergl": [
           {
            "marker": {
             "colorbar": {
              "outlinewidth": 0,
              "ticks": ""
             }
            },
            "type": "scattergl"
           }
          ],
          "scattermapbox": [
           {
            "marker": {
             "colorbar": {
              "outlinewidth": 0,
              "ticks": ""
             }
            },
            "type": "scattermapbox"
           }
          ],
          "scatterpolar": [
           {
            "marker": {
             "colorbar": {
              "outlinewidth": 0,
              "ticks": ""
             }
            },
            "type": "scatterpolar"
           }
          ],
          "scatterpolargl": [
           {
            "marker": {
             "colorbar": {
              "outlinewidth": 0,
              "ticks": ""
             }
            },
            "type": "scatterpolargl"
           }
          ],
          "scatterternary": [
           {
            "marker": {
             "colorbar": {
              "outlinewidth": 0,
              "ticks": ""
             }
            },
            "type": "scatterternary"
           }
          ],
          "surface": [
           {
            "colorbar": {
             "outlinewidth": 0,
             "ticks": ""
            },
            "colorscale": [
             [
              0,
              "#0d0887"
             ],
             [
              0.1111111111111111,
              "#46039f"
             ],
             [
              0.2222222222222222,
              "#7201a8"
             ],
             [
              0.3333333333333333,
              "#9c179e"
             ],
             [
              0.4444444444444444,
              "#bd3786"
             ],
             [
              0.5555555555555556,
              "#d8576b"
             ],
             [
              0.6666666666666666,
              "#ed7953"
             ],
             [
              0.7777777777777778,
              "#fb9f3a"
             ],
             [
              0.8888888888888888,
              "#fdca26"
             ],
             [
              1,
              "#f0f921"
             ]
            ],
            "type": "surface"
           }
          ],
          "table": [
           {
            "cells": {
             "fill": {
              "color": "#EBF0F8"
             },
             "line": {
              "color": "white"
             }
            },
            "header": {
             "fill": {
              "color": "#C8D4E3"
             },
             "line": {
              "color": "white"
             }
            },
            "type": "table"
           }
          ]
         },
         "layout": {
          "annotationdefaults": {
           "arrowcolor": "#2a3f5f",
           "arrowhead": 0,
           "arrowwidth": 1
          },
          "autotypenumbers": "strict",
          "coloraxis": {
           "colorbar": {
            "outlinewidth": 0,
            "ticks": ""
           }
          },
          "colorscale": {
           "diverging": [
            [
             0,
             "#8e0152"
            ],
            [
             0.1,
             "#c51b7d"
            ],
            [
             0.2,
             "#de77ae"
            ],
            [
             0.3,
             "#f1b6da"
            ],
            [
             0.4,
             "#fde0ef"
            ],
            [
             0.5,
             "#f7f7f7"
            ],
            [
             0.6,
             "#e6f5d0"
            ],
            [
             0.7,
             "#b8e186"
            ],
            [
             0.8,
             "#7fbc41"
            ],
            [
             0.9,
             "#4d9221"
            ],
            [
             1,
             "#276419"
            ]
           ],
           "sequential": [
            [
             0,
             "#0d0887"
            ],
            [
             0.1111111111111111,
             "#46039f"
            ],
            [
             0.2222222222222222,
             "#7201a8"
            ],
            [
             0.3333333333333333,
             "#9c179e"
            ],
            [
             0.4444444444444444,
             "#bd3786"
            ],
            [
             0.5555555555555556,
             "#d8576b"
            ],
            [
             0.6666666666666666,
             "#ed7953"
            ],
            [
             0.7777777777777778,
             "#fb9f3a"
            ],
            [
             0.8888888888888888,
             "#fdca26"
            ],
            [
             1,
             "#f0f921"
            ]
           ],
           "sequentialminus": [
            [
             0,
             "#0d0887"
            ],
            [
             0.1111111111111111,
             "#46039f"
            ],
            [
             0.2222222222222222,
             "#7201a8"
            ],
            [
             0.3333333333333333,
             "#9c179e"
            ],
            [
             0.4444444444444444,
             "#bd3786"
            ],
            [
             0.5555555555555556,
             "#d8576b"
            ],
            [
             0.6666666666666666,
             "#ed7953"
            ],
            [
             0.7777777777777778,
             "#fb9f3a"
            ],
            [
             0.8888888888888888,
             "#fdca26"
            ],
            [
             1,
             "#f0f921"
            ]
           ]
          },
          "colorway": [
           "#636efa",
           "#EF553B",
           "#00cc96",
           "#ab63fa",
           "#FFA15A",
           "#19d3f3",
           "#FF6692",
           "#B6E880",
           "#FF97FF",
           "#FECB52"
          ],
          "font": {
           "color": "#2a3f5f"
          },
          "geo": {
           "bgcolor": "white",
           "lakecolor": "white",
           "landcolor": "#E5ECF6",
           "showlakes": true,
           "showland": true,
           "subunitcolor": "white"
          },
          "hoverlabel": {
           "align": "left"
          },
          "hovermode": "closest",
          "mapbox": {
           "style": "light"
          },
          "paper_bgcolor": "white",
          "plot_bgcolor": "#E5ECF6",
          "polar": {
           "angularaxis": {
            "gridcolor": "white",
            "linecolor": "white",
            "ticks": ""
           },
           "bgcolor": "#E5ECF6",
           "radialaxis": {
            "gridcolor": "white",
            "linecolor": "white",
            "ticks": ""
           }
          },
          "scene": {
           "xaxis": {
            "backgroundcolor": "#E5ECF6",
            "gridcolor": "white",
            "gridwidth": 2,
            "linecolor": "white",
            "showbackground": true,
            "ticks": "",
            "zerolinecolor": "white"
           },
           "yaxis": {
            "backgroundcolor": "#E5ECF6",
            "gridcolor": "white",
            "gridwidth": 2,
            "linecolor": "white",
            "showbackground": true,
            "ticks": "",
            "zerolinecolor": "white"
           },
           "zaxis": {
            "backgroundcolor": "#E5ECF6",
            "gridcolor": "white",
            "gridwidth": 2,
            "linecolor": "white",
            "showbackground": true,
            "ticks": "",
            "zerolinecolor": "white"
           }
          },
          "shapedefaults": {
           "line": {
            "color": "#2a3f5f"
           }
          },
          "ternary": {
           "aaxis": {
            "gridcolor": "white",
            "linecolor": "white",
            "ticks": ""
           },
           "baxis": {
            "gridcolor": "white",
            "linecolor": "white",
            "ticks": ""
           },
           "bgcolor": "#E5ECF6",
           "caxis": {
            "gridcolor": "white",
            "linecolor": "white",
            "ticks": ""
           }
          },
          "title": {
           "x": 0.05
          },
          "xaxis": {
           "automargin": true,
           "gridcolor": "white",
           "linecolor": "white",
           "ticks": "",
           "title": {
            "standoff": 15
           },
           "zerolinecolor": "white",
           "zerolinewidth": 2
          },
          "yaxis": {
           "automargin": true,
           "gridcolor": "white",
           "linecolor": "white",
           "ticks": "",
           "title": {
            "standoff": 15
           },
           "zerolinecolor": "white",
           "zerolinewidth": 2
          }
         }
        },
        "title": {
         "text": "Speed Data for Participant 02"
        },
        "xaxis": {
         "tickformat": "%H:%M",
         "title": {
          "text": "Time"
         }
        },
        "yaxis": {
         "title": {
          "text": "Speed in km/h"
         }
        }
       }
      }
     },
     "metadata": {},
     "output_type": "display_data"
    },
    {
     "name": "stdout",
     "output_type": "stream",
     "text": [
      "[(Timestamp('2024-07-10 11:40:23.602000'), np.float64(8.131500077247619), np.float64(8.17199993133545)), (Timestamp('2024-07-10 11:42:23.602000'), np.float64(7.794000034332276), np.float64(8.180000019073486)), (Timestamp('2024-07-10 11:44:23.602000'), np.float64(8.31200008392334), np.float64(8.271999835968018)), (Timestamp('2024-07-10 11:46:23.602000'), np.float64(9.19440007209778), np.float64(9.33119994163513)), (Timestamp('2024-07-10 11:48:23.602000'), np.float64(9.179999828338623), np.float64(8.976000118255616)), (Timestamp('2024-07-10 11:50:23.602000'), np.float64(8.976000022888181), np.float64(8.888400106430055))]\n",
      "6\n",
      "6\n",
      "0\n",
      "0\n"
     ]
    },
    {
     "data": {
      "application/vnd.plotly.v1+json": {
       "config": {
        "plotlyServerURL": "https://plot.ly"
       },
       "data": [
        {
         "mode": "lines",
         "name": "Speed",
         "type": "scatter",
         "x": [
          "2024-07-10T11:59:18.987000",
          "2024-07-10T11:59:23.988000",
          "2024-07-10T11:59:28.988000",
          "2024-07-10T11:59:34.987000",
          "2024-07-10T11:59:39.983000",
          "2024-07-10T11:59:48.987000",
          "2024-07-10T11:59:54.986000",
          "2024-07-10T11:59:59.985000",
          "2024-07-10T12:00:08.988000",
          "2024-07-10T12:00:13.989000",
          "2024-07-10T12:00:19.990000",
          "2024-07-10T12:00:24.985000",
          "2024-07-10T12:00:29.988000",
          "2024-07-10T12:00:34.986000",
          "2024-07-10T12:00:43.990000",
          "2024-07-10T12:00:49.987000",
          "2024-07-10T12:00:59.982000",
          "2024-07-10T12:01:08.984000",
          "2024-07-10T12:01:14.989000",
          "2024-07-10T12:01:23.987000",
          "2024-07-10T12:01:28.985000",
          "2024-07-10T12:01:34.985000",
          "2024-07-10T12:01:44.985000",
          "2024-07-10T12:01:49.985000",
          "2024-07-10T12:01:59.984000",
          "2024-07-10T12:02:04.983000",
          "2024-07-10T12:02:09.988000",
          "2024-07-10T12:02:14.987000",
          "2024-07-10T12:02:19.986000",
          "2024-07-10T12:02:28.988000",
          "2024-07-10T12:02:33.987000",
          "2024-07-10T12:02:38.988000",
          "2024-07-10T12:02:44.985000",
          "2024-07-10T12:02:54.990000",
          "2024-07-10T12:02:59.989000",
          "2024-07-10T12:03:04.986000",
          "2024-07-10T12:03:13.988000",
          "2024-07-10T12:03:23.991000",
          "2024-07-10T12:03:28.991000",
          "2024-07-10T12:03:33.987000",
          "2024-07-10T12:03:38.989000",
          "2024-07-10T12:03:43.993000",
          "2024-07-10T12:03:49.986000",
          "2024-07-10T12:03:58.985000",
          "2024-07-10T12:04:03.985000",
          "2024-07-10T12:04:09.985000",
          "2024-07-10T12:04:14.984000",
          "2024-07-10T12:04:24.983000",
          "2024-07-10T12:04:29.986000",
          "2024-07-10T12:04:34.984000",
          "2024-07-10T12:04:39.984000",
          "2024-07-10T12:04:44.985000",
          "2024-07-10T12:04:49.983000",
          "2024-07-10T12:04:54.984000",
          "2024-07-10T12:04:59.983000",
          "2024-07-10T12:05:04.984000",
          "2024-07-10T12:05:13.986000",
          "2024-07-10T12:05:19.982000",
          "2024-07-10T12:05:24.986000",
          "2024-07-10T12:05:29.984000",
          "2024-07-10T12:05:34.985000",
          "2024-07-10T12:05:39.984000",
          "2024-07-10T12:05:44.985000",
          "2024-07-10T12:05:53.987000",
          "2024-07-10T12:05:58.987000",
          "2024-07-10T12:06:04.982000",
          "2024-07-10T12:06:14.985000",
          "2024-07-10T12:06:19.988000",
          "2024-07-10T12:06:24.985000",
          "2024-07-10T12:06:29.988000",
          "2024-07-10T12:06:34.985000",
          "2024-07-10T12:06:39.984000",
          "2024-07-10T12:06:44.983000",
          "2024-07-10T12:06:49.984000",
          "2024-07-10T12:06:54.986000",
          "2024-07-10T12:06:59.985000",
          "2024-07-10T12:07:04.983000",
          "2024-07-10T12:07:09.982000",
          "2024-07-10T12:07:14.988000",
          "2024-07-10T12:07:19.984000",
          "2024-07-10T12:07:29.983000",
          "2024-07-10T12:07:38.987000",
          "2024-07-10T12:07:43.988000",
          "2024-07-10T12:07:49.982000",
          "2024-07-10T12:07:54.983000",
          "2024-07-10T12:07:59.984000",
          "2024-07-10T12:08:04.982000",
          "2024-07-10T12:08:09.983000",
          "2024-07-10T12:08:14.985000",
          "2024-07-10T12:08:19.983000",
          "2024-07-10T12:08:24.983000",
          "2024-07-10T12:08:34.987000",
          "2024-07-10T12:08:39.984000",
          "2024-07-10T12:08:44.982000",
          "2024-07-10T12:08:49.985000",
          "2024-07-10T12:08:54.985000",
          "2024-07-10T12:08:59.986000",
          "2024-07-10T12:09:04.981000",
          "2024-07-10T12:09:09.981000",
          "2024-07-10T12:09:14.982000",
          "2024-07-10T12:09:20.984000",
          "2024-07-10T12:09:29.983000",
          "2024-07-10T12:09:34.982000",
          "2024-07-10T12:09:44.982000",
          "2024-07-10T12:09:49.981000",
          "2024-07-10T12:09:54.985000",
          "2024-07-10T12:09:59.984000",
          "2024-07-10T12:10:09.982000",
          "2024-07-10T12:10:14.983000",
          "2024-07-10T12:10:19.984000",
          "2024-07-10T12:10:24.985000",
          "2024-07-10T12:10:29.982000",
          "2024-07-10T12:10:34.985000",
          "2024-07-10T12:10:39.985000",
          "2024-07-10T12:10:44.982000",
          "2024-07-10T12:10:54.990000",
          "2024-07-10T12:10:59.987000",
          "2024-07-10T12:11:04.986000",
          "2024-07-10T12:11:14.987000",
          "2024-07-10T12:11:24.983000",
          "2024-07-10T12:11:29.986000",
          "2024-07-10T12:11:34.984000"
         ],
         "y": [
          9.540000343322756,
          9.50400037765503,
          9.612000274658204,
          9.540000343322756,
          10.223999691009523,
          9.792000102996825,
          9.792000102996825,
          9.612000274658204,
          9.323999691009522,
          8.892000102996825,
          9.287999725341797,
          9.431999588012696,
          9.612000274658204,
          9.576000308990478,
          9.684000205993653,
          9.323999691009522,
          9.468000411987305,
          9.468000411987305,
          7.992000102996824,
          10.151999759674073,
          9.50400037765503,
          9.251999759674073,
          8.892000102996825,
          8.964000034332276,
          8.892000102996825,
          8.92800006866455,
          8.892000102996825,
          8.892000102996825,
          8.892000102996825,
          8.712000274658203,
          8.892000102996825,
          9.107999897003173,
          9.107999897003173,
          9.431999588012696,
          9.395999622344972,
          9.612000274658204,
          8.784000205993653,
          9.576000308990478,
          9.576000308990478,
          9.50400037765503,
          9.50400037765503,
          9.576000308990478,
          9.431999588012696,
          9.359999656677246,
          9.287999725341797,
          9.143999862670901,
          9.179999828338623,
          9.287999725341797,
          9.215999794006349,
          9.179999828338623,
          9.107999897003173,
          9.035999965667726,
          9.07199993133545,
          9.107999897003173,
          9.07199993133545,
          9.07199993133545,
          9.107999897003173,
          9,
          9,
          8.892000102996825,
          8.964000034332276,
          9.035999965667726,
          9,
          8.60400037765503,
          8.67600030899048,
          8.640000343322756,
          8.748000240325927,
          8.784000205993653,
          9.540000343322756,
          9.468000411987305,
          9.395999622344972,
          9.251999759674073,
          9.107999897003173,
          9.287999725341797,
          9.323999691009522,
          9.468000411987305,
          9.359999656677246,
          9.395999622344972,
          9.323999691009522,
          9.251999759674073,
          9.07199993133545,
          9.251999759674073,
          9.215999794006349,
          9.251999759674073,
          9.323999691009522,
          9.287999725341797,
          9.431999588012696,
          9.82800006866455,
          9.540000343322756,
          9.612000274658204,
          9.431999588012696,
          9.431999588012696,
          9.431999588012696,
          9.612000274658204,
          9.720000171661377,
          9.864000034332276,
          9.756000137329101,
          9.323999691009522,
          9.395999622344972,
          9.287999725341797,
          9.50400037765503,
          9.468000411987305,
          9.540000343322756,
          9.359999656677246,
          9.468000411987305,
          9.215999794006349,
          9.287999725341797,
          9.323999691009522,
          9.251999759674073,
          9.035999965667726,
          8.964000034332276,
          9.107999897003173,
          9.395999622344972,
          9.468000411987305,
          9.576000308990478,
          9.612000274658204,
          9.540000343322756,
          9.576000308990478,
          9.179999828338623,
          9.215999794006349,
          9.07199993133545,
          8.784000205993653
         ]
        }
       ],
       "layout": {
        "annotations": [
         {
          "arrowcolor": "red",
          "arrowhead": 1,
          "ax": -10,
          "ay": -30,
          "showarrow": true,
          "text": "Start",
          "x": "2024-07-10T11:58:47.640000",
          "y": 10.223999691009523
         },
         {
          "arrowcolor": "blue",
          "arrowhead": 1,
          "ax": -10,
          "ay": -30,
          "showarrow": true,
          "text": "+2min",
          "x": "2024-07-10T12:00:47.640000",
          "y": 10.223999691009523
         },
         {
          "arrowcolor": "blue",
          "arrowhead": 1,
          "ax": -10,
          "ay": -30,
          "showarrow": true,
          "text": "+4min",
          "x": "2024-07-10T12:02:47.640000",
          "y": 10.223999691009523
         },
         {
          "arrowcolor": "blue",
          "arrowhead": 1,
          "ax": -10,
          "ay": -30,
          "showarrow": true,
          "text": "+6min",
          "x": "2024-07-10T12:04:47.640000",
          "y": 10.223999691009523
         },
         {
          "arrowcolor": "grey",
          "arrowhead": 1,
          "ax": -10,
          "ay": -30,
          "showarrow": true,
          "text": "+8min",
          "x": "2024-07-10T12:06:47.640000",
          "y": 10.223999691009523
         },
         {
          "arrowcolor": "blue",
          "arrowhead": 1,
          "ax": -10,
          "ay": -30,
          "showarrow": true,
          "text": "+10min",
          "x": "2024-07-10T12:08:47.640000",
          "y": 10.223999691009523
         },
         {
          "arrowcolor": "blue",
          "arrowhead": 1,
          "ax": -10,
          "ay": -30,
          "showarrow": true,
          "text": "+12min",
          "x": "2024-07-10T12:10:47.640000",
          "y": 10.223999691009523
         },
         {
          "arrowcolor": "blue",
          "arrowhead": 1,
          "ax": -10,
          "ay": -30,
          "showarrow": true,
          "text": "End",
          "x": "2024-07-10T12:13:47.640000",
          "y": 10.223999691009523
         }
        ],
        "shapes": [
         {
          "line": {
           "color": "red",
           "dash": "dash"
          },
          "type": "line",
          "x0": "2024-07-10T11:58:47.640000",
          "x1": "2024-07-10T11:58:47.640000",
          "xref": "x",
          "y0": 0,
          "y1": 1,
          "yref": "y domain"
         },
         {
          "line": {
           "color": "blue",
           "dash": "dash"
          },
          "type": "line",
          "x0": "2024-07-10T12:00:47.640000",
          "x1": "2024-07-10T12:00:47.640000",
          "xref": "x",
          "y0": 0,
          "y1": 1,
          "yref": "y domain"
         },
         {
          "line": {
           "color": "blue",
           "dash": "dash"
          },
          "type": "line",
          "x0": "2024-07-10T12:02:47.640000",
          "x1": "2024-07-10T12:02:47.640000",
          "xref": "x",
          "y0": 0,
          "y1": 1,
          "yref": "y domain"
         },
         {
          "line": {
           "color": "blue",
           "dash": "dash"
          },
          "type": "line",
          "x0": "2024-07-10T12:04:47.640000",
          "x1": "2024-07-10T12:04:47.640000",
          "xref": "x",
          "y0": 0,
          "y1": 1,
          "yref": "y domain"
         },
         {
          "line": {
           "color": "grey",
           "dash": "dash"
          },
          "type": "line",
          "x0": "2024-07-10T12:06:47.640000",
          "x1": "2024-07-10T12:06:47.640000",
          "xref": "x",
          "y0": 0,
          "y1": 1,
          "yref": "y domain"
         },
         {
          "line": {
           "color": "blue",
           "dash": "dash"
          },
          "type": "line",
          "x0": "2024-07-10T12:08:47.640000",
          "x1": "2024-07-10T12:08:47.640000",
          "xref": "x",
          "y0": 0,
          "y1": 1,
          "yref": "y domain"
         },
         {
          "line": {
           "color": "blue",
           "dash": "dash"
          },
          "type": "line",
          "x0": "2024-07-10T12:10:47.640000",
          "x1": "2024-07-10T12:10:47.640000",
          "xref": "x",
          "y0": 0,
          "y1": 1,
          "yref": "y domain"
         },
         {
          "line": {
           "color": "red",
           "dash": "dash"
          },
          "type": "line",
          "x0": "2024-07-10T12:13:47.640000",
          "x1": "2024-07-10T12:13:47.640000",
          "xref": "x",
          "y0": 0,
          "y1": 1,
          "yref": "y domain"
         }
        ],
        "template": {
         "data": {
          "bar": [
           {
            "error_x": {
             "color": "#2a3f5f"
            },
            "error_y": {
             "color": "#2a3f5f"
            },
            "marker": {
             "line": {
              "color": "#E5ECF6",
              "width": 0.5
             },
             "pattern": {
              "fillmode": "overlay",
              "size": 10,
              "solidity": 0.2
             }
            },
            "type": "bar"
           }
          ],
          "barpolar": [
           {
            "marker": {
             "line": {
              "color": "#E5ECF6",
              "width": 0.5
             },
             "pattern": {
              "fillmode": "overlay",
              "size": 10,
              "solidity": 0.2
             }
            },
            "type": "barpolar"
           }
          ],
          "carpet": [
           {
            "aaxis": {
             "endlinecolor": "#2a3f5f",
             "gridcolor": "white",
             "linecolor": "white",
             "minorgridcolor": "white",
             "startlinecolor": "#2a3f5f"
            },
            "baxis": {
             "endlinecolor": "#2a3f5f",
             "gridcolor": "white",
             "linecolor": "white",
             "minorgridcolor": "white",
             "startlinecolor": "#2a3f5f"
            },
            "type": "carpet"
           }
          ],
          "choropleth": [
           {
            "colorbar": {
             "outlinewidth": 0,
             "ticks": ""
            },
            "type": "choropleth"
           }
          ],
          "contour": [
           {
            "colorbar": {
             "outlinewidth": 0,
             "ticks": ""
            },
            "colorscale": [
             [
              0,
              "#0d0887"
             ],
             [
              0.1111111111111111,
              "#46039f"
             ],
             [
              0.2222222222222222,
              "#7201a8"
             ],
             [
              0.3333333333333333,
              "#9c179e"
             ],
             [
              0.4444444444444444,
              "#bd3786"
             ],
             [
              0.5555555555555556,
              "#d8576b"
             ],
             [
              0.6666666666666666,
              "#ed7953"
             ],
             [
              0.7777777777777778,
              "#fb9f3a"
             ],
             [
              0.8888888888888888,
              "#fdca26"
             ],
             [
              1,
              "#f0f921"
             ]
            ],
            "type": "contour"
           }
          ],
          "contourcarpet": [
           {
            "colorbar": {
             "outlinewidth": 0,
             "ticks": ""
            },
            "type": "contourcarpet"
           }
          ],
          "heatmap": [
           {
            "colorbar": {
             "outlinewidth": 0,
             "ticks": ""
            },
            "colorscale": [
             [
              0,
              "#0d0887"
             ],
             [
              0.1111111111111111,
              "#46039f"
             ],
             [
              0.2222222222222222,
              "#7201a8"
             ],
             [
              0.3333333333333333,
              "#9c179e"
             ],
             [
              0.4444444444444444,
              "#bd3786"
             ],
             [
              0.5555555555555556,
              "#d8576b"
             ],
             [
              0.6666666666666666,
              "#ed7953"
             ],
             [
              0.7777777777777778,
              "#fb9f3a"
             ],
             [
              0.8888888888888888,
              "#fdca26"
             ],
             [
              1,
              "#f0f921"
             ]
            ],
            "type": "heatmap"
           }
          ],
          "heatmapgl": [
           {
            "colorbar": {
             "outlinewidth": 0,
             "ticks": ""
            },
            "colorscale": [
             [
              0,
              "#0d0887"
             ],
             [
              0.1111111111111111,
              "#46039f"
             ],
             [
              0.2222222222222222,
              "#7201a8"
             ],
             [
              0.3333333333333333,
              "#9c179e"
             ],
             [
              0.4444444444444444,
              "#bd3786"
             ],
             [
              0.5555555555555556,
              "#d8576b"
             ],
             [
              0.6666666666666666,
              "#ed7953"
             ],
             [
              0.7777777777777778,
              "#fb9f3a"
             ],
             [
              0.8888888888888888,
              "#fdca26"
             ],
             [
              1,
              "#f0f921"
             ]
            ],
            "type": "heatmapgl"
           }
          ],
          "histogram": [
           {
            "marker": {
             "pattern": {
              "fillmode": "overlay",
              "size": 10,
              "solidity": 0.2
             }
            },
            "type": "histogram"
           }
          ],
          "histogram2d": [
           {
            "colorbar": {
             "outlinewidth": 0,
             "ticks": ""
            },
            "colorscale": [
             [
              0,
              "#0d0887"
             ],
             [
              0.1111111111111111,
              "#46039f"
             ],
             [
              0.2222222222222222,
              "#7201a8"
             ],
             [
              0.3333333333333333,
              "#9c179e"
             ],
             [
              0.4444444444444444,
              "#bd3786"
             ],
             [
              0.5555555555555556,
              "#d8576b"
             ],
             [
              0.6666666666666666,
              "#ed7953"
             ],
             [
              0.7777777777777778,
              "#fb9f3a"
             ],
             [
              0.8888888888888888,
              "#fdca26"
             ],
             [
              1,
              "#f0f921"
             ]
            ],
            "type": "histogram2d"
           }
          ],
          "histogram2dcontour": [
           {
            "colorbar": {
             "outlinewidth": 0,
             "ticks": ""
            },
            "colorscale": [
             [
              0,
              "#0d0887"
             ],
             [
              0.1111111111111111,
              "#46039f"
             ],
             [
              0.2222222222222222,
              "#7201a8"
             ],
             [
              0.3333333333333333,
              "#9c179e"
             ],
             [
              0.4444444444444444,
              "#bd3786"
             ],
             [
              0.5555555555555556,
              "#d8576b"
             ],
             [
              0.6666666666666666,
              "#ed7953"
             ],
             [
              0.7777777777777778,
              "#fb9f3a"
             ],
             [
              0.8888888888888888,
              "#fdca26"
             ],
             [
              1,
              "#f0f921"
             ]
            ],
            "type": "histogram2dcontour"
           }
          ],
          "mesh3d": [
           {
            "colorbar": {
             "outlinewidth": 0,
             "ticks": ""
            },
            "type": "mesh3d"
           }
          ],
          "parcoords": [
           {
            "line": {
             "colorbar": {
              "outlinewidth": 0,
              "ticks": ""
             }
            },
            "type": "parcoords"
           }
          ],
          "pie": [
           {
            "automargin": true,
            "type": "pie"
           }
          ],
          "scatter": [
           {
            "fillpattern": {
             "fillmode": "overlay",
             "size": 10,
             "solidity": 0.2
            },
            "type": "scatter"
           }
          ],
          "scatter3d": [
           {
            "line": {
             "colorbar": {
              "outlinewidth": 0,
              "ticks": ""
             }
            },
            "marker": {
             "colorbar": {
              "outlinewidth": 0,
              "ticks": ""
             }
            },
            "type": "scatter3d"
           }
          ],
          "scattercarpet": [
           {
            "marker": {
             "colorbar": {
              "outlinewidth": 0,
              "ticks": ""
             }
            },
            "type": "scattercarpet"
           }
          ],
          "scattergeo": [
           {
            "marker": {
             "colorbar": {
              "outlinewidth": 0,
              "ticks": ""
             }
            },
            "type": "scattergeo"
           }
          ],
          "scattergl": [
           {
            "marker": {
             "colorbar": {
              "outlinewidth": 0,
              "ticks": ""
             }
            },
            "type": "scattergl"
           }
          ],
          "scattermapbox": [
           {
            "marker": {
             "colorbar": {
              "outlinewidth": 0,
              "ticks": ""
             }
            },
            "type": "scattermapbox"
           }
          ],
          "scatterpolar": [
           {
            "marker": {
             "colorbar": {
              "outlinewidth": 0,
              "ticks": ""
             }
            },
            "type": "scatterpolar"
           }
          ],
          "scatterpolargl": [
           {
            "marker": {
             "colorbar": {
              "outlinewidth": 0,
              "ticks": ""
             }
            },
            "type": "scatterpolargl"
           }
          ],
          "scatterternary": [
           {
            "marker": {
             "colorbar": {
              "outlinewidth": 0,
              "ticks": ""
             }
            },
            "type": "scatterternary"
           }
          ],
          "surface": [
           {
            "colorbar": {
             "outlinewidth": 0,
             "ticks": ""
            },
            "colorscale": [
             [
              0,
              "#0d0887"
             ],
             [
              0.1111111111111111,
              "#46039f"
             ],
             [
              0.2222222222222222,
              "#7201a8"
             ],
             [
              0.3333333333333333,
              "#9c179e"
             ],
             [
              0.4444444444444444,
              "#bd3786"
             ],
             [
              0.5555555555555556,
              "#d8576b"
             ],
             [
              0.6666666666666666,
              "#ed7953"
             ],
             [
              0.7777777777777778,
              "#fb9f3a"
             ],
             [
              0.8888888888888888,
              "#fdca26"
             ],
             [
              1,
              "#f0f921"
             ]
            ],
            "type": "surface"
           }
          ],
          "table": [
           {
            "cells": {
             "fill": {
              "color": "#EBF0F8"
             },
             "line": {
              "color": "white"
             }
            },
            "header": {
             "fill": {
              "color": "#C8D4E3"
             },
             "line": {
              "color": "white"
             }
            },
            "type": "table"
           }
          ]
         },
         "layout": {
          "annotationdefaults": {
           "arrowcolor": "#2a3f5f",
           "arrowhead": 0,
           "arrowwidth": 1
          },
          "autotypenumbers": "strict",
          "coloraxis": {
           "colorbar": {
            "outlinewidth": 0,
            "ticks": ""
           }
          },
          "colorscale": {
           "diverging": [
            [
             0,
             "#8e0152"
            ],
            [
             0.1,
             "#c51b7d"
            ],
            [
             0.2,
             "#de77ae"
            ],
            [
             0.3,
             "#f1b6da"
            ],
            [
             0.4,
             "#fde0ef"
            ],
            [
             0.5,
             "#f7f7f7"
            ],
            [
             0.6,
             "#e6f5d0"
            ],
            [
             0.7,
             "#b8e186"
            ],
            [
             0.8,
             "#7fbc41"
            ],
            [
             0.9,
             "#4d9221"
            ],
            [
             1,
             "#276419"
            ]
           ],
           "sequential": [
            [
             0,
             "#0d0887"
            ],
            [
             0.1111111111111111,
             "#46039f"
            ],
            [
             0.2222222222222222,
             "#7201a8"
            ],
            [
             0.3333333333333333,
             "#9c179e"
            ],
            [
             0.4444444444444444,
             "#bd3786"
            ],
            [
             0.5555555555555556,
             "#d8576b"
            ],
            [
             0.6666666666666666,
             "#ed7953"
            ],
            [
             0.7777777777777778,
             "#fb9f3a"
            ],
            [
             0.8888888888888888,
             "#fdca26"
            ],
            [
             1,
             "#f0f921"
            ]
           ],
           "sequentialminus": [
            [
             0,
             "#0d0887"
            ],
            [
             0.1111111111111111,
             "#46039f"
            ],
            [
             0.2222222222222222,
             "#7201a8"
            ],
            [
             0.3333333333333333,
             "#9c179e"
            ],
            [
             0.4444444444444444,
             "#bd3786"
            ],
            [
             0.5555555555555556,
             "#d8576b"
            ],
            [
             0.6666666666666666,
             "#ed7953"
            ],
            [
             0.7777777777777778,
             "#fb9f3a"
            ],
            [
             0.8888888888888888,
             "#fdca26"
            ],
            [
             1,
             "#f0f921"
            ]
           ]
          },
          "colorway": [
           "#636efa",
           "#EF553B",
           "#00cc96",
           "#ab63fa",
           "#FFA15A",
           "#19d3f3",
           "#FF6692",
           "#B6E880",
           "#FF97FF",
           "#FECB52"
          ],
          "font": {
           "color": "#2a3f5f"
          },
          "geo": {
           "bgcolor": "white",
           "lakecolor": "white",
           "landcolor": "#E5ECF6",
           "showlakes": true,
           "showland": true,
           "subunitcolor": "white"
          },
          "hoverlabel": {
           "align": "left"
          },
          "hovermode": "closest",
          "mapbox": {
           "style": "light"
          },
          "paper_bgcolor": "white",
          "plot_bgcolor": "#E5ECF6",
          "polar": {
           "angularaxis": {
            "gridcolor": "white",
            "linecolor": "white",
            "ticks": ""
           },
           "bgcolor": "#E5ECF6",
           "radialaxis": {
            "gridcolor": "white",
            "linecolor": "white",
            "ticks": ""
           }
          },
          "scene": {
           "xaxis": {
            "backgroundcolor": "#E5ECF6",
            "gridcolor": "white",
            "gridwidth": 2,
            "linecolor": "white",
            "showbackground": true,
            "ticks": "",
            "zerolinecolor": "white"
           },
           "yaxis": {
            "backgroundcolor": "#E5ECF6",
            "gridcolor": "white",
            "gridwidth": 2,
            "linecolor": "white",
            "showbackground": true,
            "ticks": "",
            "zerolinecolor": "white"
           },
           "zaxis": {
            "backgroundcolor": "#E5ECF6",
            "gridcolor": "white",
            "gridwidth": 2,
            "linecolor": "white",
            "showbackground": true,
            "ticks": "",
            "zerolinecolor": "white"
           }
          },
          "shapedefaults": {
           "line": {
            "color": "#2a3f5f"
           }
          },
          "ternary": {
           "aaxis": {
            "gridcolor": "white",
            "linecolor": "white",
            "ticks": ""
           },
           "baxis": {
            "gridcolor": "white",
            "linecolor": "white",
            "ticks": ""
           },
           "bgcolor": "#E5ECF6",
           "caxis": {
            "gridcolor": "white",
            "linecolor": "white",
            "ticks": ""
           }
          },
          "title": {
           "x": 0.05
          },
          "xaxis": {
           "automargin": true,
           "gridcolor": "white",
           "linecolor": "white",
           "ticks": "",
           "title": {
            "standoff": 15
           },
           "zerolinecolor": "white",
           "zerolinewidth": 2
          },
          "yaxis": {
           "automargin": true,
           "gridcolor": "white",
           "linecolor": "white",
           "ticks": "",
           "title": {
            "standoff": 15
           },
           "zerolinecolor": "white",
           "zerolinewidth": 2
          }
         }
        },
        "title": {
         "text": "Speed Data for Participant 03"
        },
        "xaxis": {
         "tickformat": "%H:%M",
         "title": {
          "text": "Time"
         }
        },
        "yaxis": {
         "title": {
          "text": "Speed in km/h"
         }
        }
       }
      }
     },
     "metadata": {},
     "output_type": "display_data"
    },
    {
     "name": "stdout",
     "output_type": "stream",
     "text": [
      "[(Timestamp('2024-07-10 12:00:47.640000'), np.float64(9.500400037765504), np.float64(9.256500077247619)), (Timestamp('2024-07-10 12:02:47.640000'), np.float64(8.928000068664549), np.float64(9.440000152587892)), (Timestamp('2024-07-10 12:04:47.640000'), np.float64(9.223199787139892), np.float64(9.0294545173645)), (Timestamp('2024-07-10 12:06:47.640000'), np.float64(9.021600151062012), np.float64(9.29519980430603)), (Timestamp('2024-07-10 12:08:47.640000'), np.float64(9.471272589943627), np.float64(9.522000017166139)), (Timestamp('2024-07-10 12:10:47.640000'), np.float64(9.28145451112227), np.float64(9.282857240949358))]\n",
      "6\n",
      "0\n",
      "5\n",
      "1\n"
     ]
    },
    {
     "data": {
      "application/vnd.plotly.v1+json": {
       "config": {
        "plotlyServerURL": "https://plot.ly"
       },
       "data": [
        {
         "mode": "lines",
         "name": "Speed",
         "type": "scatter",
         "x": [
          "2024-07-10T12:16:06.986000",
          "2024-07-10T12:16:22.985000",
          "2024-07-10T12:16:28.984000",
          "2024-07-10T12:16:36.985000",
          "2024-07-10T12:16:42.987000",
          "2024-07-10T12:16:51.985000",
          "2024-07-10T12:16:56.982000",
          "2024-07-10T12:17:01.983000",
          "2024-07-10T12:17:07.984000",
          "2024-07-10T12:17:16.982000",
          "2024-07-10T12:17:21.982000",
          "2024-07-10T12:17:26.983000",
          "2024-07-10T12:17:31.984000",
          "2024-07-10T12:17:36.984000",
          "2024-07-10T12:17:41.984000",
          "2024-07-10T12:17:46.981000",
          "2024-07-10T12:17:51.983000",
          "2024-07-10T12:17:56.979000",
          "2024-07-10T12:18:01.984000",
          "2024-07-10T12:18:06.984000",
          "2024-07-10T12:18:11.983000",
          "2024-07-10T12:18:16.985000",
          "2024-07-10T12:18:22.985000",
          "2024-07-10T12:18:27.982000",
          "2024-07-10T12:18:33.988000",
          "2024-07-10T12:18:42.982000",
          "2024-07-10T12:18:53.985000",
          "2024-07-10T12:19:03.985000",
          "2024-07-10T12:19:12.983000",
          "2024-07-10T12:19:22.984000",
          "2024-07-10T12:19:31.984000",
          "2024-07-10T12:19:36.984000",
          "2024-07-10T12:19:41.981000",
          "2024-07-10T12:19:46.986000",
          "2024-07-10T12:19:51.982000",
          "2024-07-10T12:19:56.982000",
          "2024-07-10T12:20:02.982000",
          "2024-07-10T12:20:07.984000",
          "2024-07-10T12:20:16.986000",
          "2024-07-10T12:20:21.983000",
          "2024-07-10T12:20:26.982000",
          "2024-07-10T12:20:32.984000",
          "2024-07-10T12:20:42.982000",
          "2024-07-10T12:20:47.980000",
          "2024-07-10T12:20:55.987000",
          "2024-07-10T12:21:00.983000",
          "2024-07-10T12:21:09.979000",
          "2024-07-10T12:21:14.983000",
          "2024-07-10T12:21:19.982000",
          "2024-07-10T12:21:24.980000",
          "2024-07-10T12:21:33.985000",
          "2024-07-10T12:21:43.982000",
          "2024-07-10T12:21:48.983000",
          "2024-07-10T12:21:53.983000",
          "2024-07-10T12:21:58.983000",
          "2024-07-10T12:22:03.984000",
          "2024-07-10T12:22:08.985000",
          "2024-07-10T12:22:13.983000",
          "2024-07-10T12:22:18.985000",
          "2024-07-10T12:22:23.982000",
          "2024-07-10T12:22:28.983000",
          "2024-07-10T12:22:33.982000",
          "2024-07-10T12:22:38.991000",
          "2024-07-10T12:22:43.984000",
          "2024-07-10T12:22:48.985000",
          "2024-07-10T12:22:53.983000",
          "2024-07-10T12:22:58.983000",
          "2024-07-10T12:23:03.984000",
          "2024-07-10T12:23:10.985000",
          "2024-07-10T12:23:20.983000",
          "2024-07-10T12:23:31.983000",
          "2024-07-10T12:23:40.979000",
          "2024-07-10T12:23:45.981000",
          "2024-07-10T12:23:50.981000",
          "2024-07-10T12:24:00.980000",
          "2024-07-10T12:24:05.984000",
          "2024-07-10T12:24:14.983000",
          "2024-07-10T12:24:19.981000",
          "2024-07-10T12:24:24.983000",
          "2024-07-10T12:24:29.984000",
          "2024-07-10T12:24:34.983000",
          "2024-07-10T12:24:39.982000",
          "2024-07-10T12:24:44.985000",
          "2024-07-10T12:24:50.983000",
          "2024-07-10T12:24:55.983000",
          "2024-07-10T12:25:00.981000",
          "2024-07-10T12:25:06.981000",
          "2024-07-10T12:25:14.984000",
          "2024-07-10T12:25:19.982000",
          "2024-07-10T12:25:24.982000",
          "2024-07-10T12:25:30.982000",
          "2024-07-10T12:25:35.984000",
          "2024-07-10T12:25:44.982000",
          "2024-07-10T12:25:49.983000",
          "2024-07-10T12:25:54.981000",
          "2024-07-10T12:25:59.983000",
          "2024-07-10T12:26:04.981000",
          "2024-07-10T12:26:09.987000",
          "2024-07-10T12:26:14.983000",
          "2024-07-10T12:26:20.983000",
          "2024-07-10T12:26:29.984000",
          "2024-07-10T12:26:35.982000",
          "2024-07-10T12:26:44.982000",
          "2024-07-10T12:26:49.983000",
          "2024-07-10T12:26:55.980000",
          "2024-07-10T12:27:00.979000",
          "2024-07-10T12:27:05.980000",
          "2024-07-10T12:27:10.984000",
          "2024-07-10T12:27:20.984000",
          "2024-07-10T12:27:25.984000",
          "2024-07-10T12:27:30.982000",
          "2024-07-10T12:27:35.984000",
          "2024-07-10T12:27:40.980000",
          "2024-07-10T12:27:45.982000",
          "2024-07-10T12:27:50.983000",
          "2024-07-10T12:27:55.982000",
          "2024-07-10T12:28:00.983000",
          "2024-07-10T12:28:05.981000",
          "2024-07-10T12:28:11.982000",
          "2024-07-10T12:28:20.983000",
          "2024-07-10T12:28:29.984000",
          "2024-07-10T12:28:34.984000",
          "2024-07-10T12:28:39.992000",
          "2024-07-10T12:28:45.985000",
          "2024-07-10T12:28:54.983000",
          "2024-07-10T12:29:00.988000",
          "2024-07-10T12:29:10.984000",
          "2024-07-10T12:29:15.989000",
          "2024-07-10T12:29:24.985000",
          "2024-07-10T12:29:29.985000",
          "2024-07-10T12:29:35.984000",
          "2024-07-10T12:29:40.981000"
         ],
         "y": [
          9.323999691009522,
          6.911999845504762,
          7.451999759674073,
          7.70400037765503,
          7.884000205993653,
          7.992000102996824,
          8.028000068664552,
          7.992000102996824,
          8.17199993133545,
          8.135999965667725,
          8.1,
          8.17199993133545,
          8.315999794006348,
          8.315999794006348,
          8.351999759674072,
          8.387999725341798,
          8.315999794006348,
          8.387999725341798,
          8.423999691009522,
          8.351999759674072,
          8.351999759674072,
          8.315999794006348,
          8.387999725341798,
          8.459999656677246,
          8.531999588012695,
          8.531999588012695,
          8.459999656677246,
          8.820000171661377,
          8.568000411987304,
          8.351999759674072,
          8.423999691009522,
          8.495999622344971,
          8.568000411987304,
          8.531999588012695,
          8.495999622344971,
          8.531999588012695,
          8.568000411987304,
          8.351999759674072,
          8.387999725341798,
          8.531999588012695,
          8.459999656677246,
          8.351999759674072,
          8.531999588012695,
          8.459999656677246,
          8.67600030899048,
          8.784000205993653,
          8.92800006866455,
          9,
          9.07199993133545,
          9.07199993133545,
          9.143999862670901,
          9.864000034332276,
          10.007999897003174,
          9.9,
          10.007999897003174,
          10.007999897003174,
          9.9,
          10.007999897003174,
          10.187999725341797,
          10.223999691009523,
          10.187999725341797,
          10.259999656677246,
          10.368000411987305,
          10.29599962234497,
          10.331999588012696,
          10.259999656677246,
          10.223999691009523,
          10.151999759674073,
          10.151999759674073,
          10.223999691009523,
          10.476000308990479,
          10.512000274658204,
          10.29599962234497,
          10.476000308990479,
          10.440000343322756,
          10.404000377655029,
          10.368000411987305,
          10.404000377655029,
          10.404000377655029,
          10.512000274658204,
          10.440000343322756,
          10.476000308990479,
          10.512000274658204,
          10.404000377655029,
          10.440000343322756,
          10.440000343322756,
          10.404000377655029,
          10.259999656677246,
          10.259999656677246,
          10.187999725341797,
          10.331999588012696,
          10.29599962234497,
          10.223999691009523,
          10.368000411987305,
          10.331999588012696,
          10.368000411987305,
          10.404000377655029,
          10.368000411987305,
          10.331999588012696,
          10.440000343322756,
          10.512000274658204,
          10.512000274658204,
          10.368000411987305,
          10.29599962234497,
          10.331999588012696,
          10.259999656677246,
          10.259999656677246,
          10.151999759674073,
          10.29599962234497,
          10.187999725341797,
          10.223999691009523,
          10.187999725341797,
          10.151999759674073,
          10.223999691009523,
          10.223999691009523,
          10.0439998626709,
          9.935999965667724,
          10.079999828338623,
          10.151999759674073,
          10.151999759674073,
          10.187999725341797,
          10.151999759674073,
          10.115999794006347,
          9.9,
          9.9,
          9.935999965667724,
          9.97199993133545,
          10.151999759674073,
          10.331999588012696,
          10.29599962234497,
          10.223999691009523,
          10.29599962234497
         ]
        }
       ],
       "layout": {
        "annotations": [
         {
          "arrowcolor": "red",
          "arrowhead": 1,
          "ax": -10,
          "ay": -30,
          "showarrow": true,
          "text": "Start",
          "x": "2024-07-10T12:16:16.577000",
          "y": 10.512000274658204
         },
         {
          "arrowcolor": "green",
          "arrowhead": 1,
          "ax": -10,
          "ay": -30,
          "showarrow": true,
          "text": "+2min",
          "x": "2024-07-10T12:18:16.577000",
          "y": 10.512000274658204
         },
         {
          "arrowcolor": "grey",
          "arrowhead": 1,
          "ax": -10,
          "ay": -30,
          "showarrow": true,
          "text": "+4min",
          "x": "2024-07-10T12:20:16.577000",
          "y": 10.512000274658204
         },
         {
          "arrowcolor": "blue",
          "arrowhead": 1,
          "ax": -10,
          "ay": -30,
          "showarrow": true,
          "text": "+6min",
          "x": "2024-07-10T12:22:16.577000",
          "y": 10.512000274658204
         },
         {
          "arrowcolor": "grey",
          "arrowhead": 1,
          "ax": -10,
          "ay": -30,
          "showarrow": true,
          "text": "+8min",
          "x": "2024-07-10T12:24:16.577000",
          "y": 10.512000274658204
         },
         {
          "arrowcolor": "blue",
          "arrowhead": 1,
          "ax": -10,
          "ay": -30,
          "showarrow": true,
          "text": "+10min",
          "x": "2024-07-10T12:26:16.577000",
          "y": 10.512000274658204
         },
         {
          "arrowcolor": "green",
          "arrowhead": 1,
          "ax": -10,
          "ay": -30,
          "showarrow": true,
          "text": "+12min",
          "x": "2024-07-10T12:28:16.577000",
          "y": 10.512000274658204
         },
         {
          "arrowcolor": "blue",
          "arrowhead": 1,
          "ax": -10,
          "ay": -30,
          "showarrow": true,
          "text": "End",
          "x": "2024-07-10T12:31:16.577000",
          "y": 10.512000274658204
         }
        ],
        "shapes": [
         {
          "line": {
           "color": "red",
           "dash": "dash"
          },
          "type": "line",
          "x0": "2024-07-10T12:16:16.577000",
          "x1": "2024-07-10T12:16:16.577000",
          "xref": "x",
          "y0": 0,
          "y1": 1,
          "yref": "y domain"
         },
         {
          "line": {
           "color": "green",
           "dash": "dash"
          },
          "type": "line",
          "x0": "2024-07-10T12:18:16.577000",
          "x1": "2024-07-10T12:18:16.577000",
          "xref": "x",
          "y0": 0,
          "y1": 1,
          "yref": "y domain"
         },
         {
          "line": {
           "color": "grey",
           "dash": "dash"
          },
          "type": "line",
          "x0": "2024-07-10T12:20:16.577000",
          "x1": "2024-07-10T12:20:16.577000",
          "xref": "x",
          "y0": 0,
          "y1": 1,
          "yref": "y domain"
         },
         {
          "line": {
           "color": "blue",
           "dash": "dash"
          },
          "type": "line",
          "x0": "2024-07-10T12:22:16.577000",
          "x1": "2024-07-10T12:22:16.577000",
          "xref": "x",
          "y0": 0,
          "y1": 1,
          "yref": "y domain"
         },
         {
          "line": {
           "color": "grey",
           "dash": "dash"
          },
          "type": "line",
          "x0": "2024-07-10T12:24:16.577000",
          "x1": "2024-07-10T12:24:16.577000",
          "xref": "x",
          "y0": 0,
          "y1": 1,
          "yref": "y domain"
         },
         {
          "line": {
           "color": "blue",
           "dash": "dash"
          },
          "type": "line",
          "x0": "2024-07-10T12:26:16.577000",
          "x1": "2024-07-10T12:26:16.577000",
          "xref": "x",
          "y0": 0,
          "y1": 1,
          "yref": "y domain"
         },
         {
          "line": {
           "color": "green",
           "dash": "dash"
          },
          "type": "line",
          "x0": "2024-07-10T12:28:16.577000",
          "x1": "2024-07-10T12:28:16.577000",
          "xref": "x",
          "y0": 0,
          "y1": 1,
          "yref": "y domain"
         },
         {
          "line": {
           "color": "red",
           "dash": "dash"
          },
          "type": "line",
          "x0": "2024-07-10T12:31:16.577000",
          "x1": "2024-07-10T12:31:16.577000",
          "xref": "x",
          "y0": 0,
          "y1": 1,
          "yref": "y domain"
         }
        ],
        "template": {
         "data": {
          "bar": [
           {
            "error_x": {
             "color": "#2a3f5f"
            },
            "error_y": {
             "color": "#2a3f5f"
            },
            "marker": {
             "line": {
              "color": "#E5ECF6",
              "width": 0.5
             },
             "pattern": {
              "fillmode": "overlay",
              "size": 10,
              "solidity": 0.2
             }
            },
            "type": "bar"
           }
          ],
          "barpolar": [
           {
            "marker": {
             "line": {
              "color": "#E5ECF6",
              "width": 0.5
             },
             "pattern": {
              "fillmode": "overlay",
              "size": 10,
              "solidity": 0.2
             }
            },
            "type": "barpolar"
           }
          ],
          "carpet": [
           {
            "aaxis": {
             "endlinecolor": "#2a3f5f",
             "gridcolor": "white",
             "linecolor": "white",
             "minorgridcolor": "white",
             "startlinecolor": "#2a3f5f"
            },
            "baxis": {
             "endlinecolor": "#2a3f5f",
             "gridcolor": "white",
             "linecolor": "white",
             "minorgridcolor": "white",
             "startlinecolor": "#2a3f5f"
            },
            "type": "carpet"
           }
          ],
          "choropleth": [
           {
            "colorbar": {
             "outlinewidth": 0,
             "ticks": ""
            },
            "type": "choropleth"
           }
          ],
          "contour": [
           {
            "colorbar": {
             "outlinewidth": 0,
             "ticks": ""
            },
            "colorscale": [
             [
              0,
              "#0d0887"
             ],
             [
              0.1111111111111111,
              "#46039f"
             ],
             [
              0.2222222222222222,
              "#7201a8"
             ],
             [
              0.3333333333333333,
              "#9c179e"
             ],
             [
              0.4444444444444444,
              "#bd3786"
             ],
             [
              0.5555555555555556,
              "#d8576b"
             ],
             [
              0.6666666666666666,
              "#ed7953"
             ],
             [
              0.7777777777777778,
              "#fb9f3a"
             ],
             [
              0.8888888888888888,
              "#fdca26"
             ],
             [
              1,
              "#f0f921"
             ]
            ],
            "type": "contour"
           }
          ],
          "contourcarpet": [
           {
            "colorbar": {
             "outlinewidth": 0,
             "ticks": ""
            },
            "type": "contourcarpet"
           }
          ],
          "heatmap": [
           {
            "colorbar": {
             "outlinewidth": 0,
             "ticks": ""
            },
            "colorscale": [
             [
              0,
              "#0d0887"
             ],
             [
              0.1111111111111111,
              "#46039f"
             ],
             [
              0.2222222222222222,
              "#7201a8"
             ],
             [
              0.3333333333333333,
              "#9c179e"
             ],
             [
              0.4444444444444444,
              "#bd3786"
             ],
             [
              0.5555555555555556,
              "#d8576b"
             ],
             [
              0.6666666666666666,
              "#ed7953"
             ],
             [
              0.7777777777777778,
              "#fb9f3a"
             ],
             [
              0.8888888888888888,
              "#fdca26"
             ],
             [
              1,
              "#f0f921"
             ]
            ],
            "type": "heatmap"
           }
          ],
          "heatmapgl": [
           {
            "colorbar": {
             "outlinewidth": 0,
             "ticks": ""
            },
            "colorscale": [
             [
              0,
              "#0d0887"
             ],
             [
              0.1111111111111111,
              "#46039f"
             ],
             [
              0.2222222222222222,
              "#7201a8"
             ],
             [
              0.3333333333333333,
              "#9c179e"
             ],
             [
              0.4444444444444444,
              "#bd3786"
             ],
             [
              0.5555555555555556,
              "#d8576b"
             ],
             [
              0.6666666666666666,
              "#ed7953"
             ],
             [
              0.7777777777777778,
              "#fb9f3a"
             ],
             [
              0.8888888888888888,
              "#fdca26"
             ],
             [
              1,
              "#f0f921"
             ]
            ],
            "type": "heatmapgl"
           }
          ],
          "histogram": [
           {
            "marker": {
             "pattern": {
              "fillmode": "overlay",
              "size": 10,
              "solidity": 0.2
             }
            },
            "type": "histogram"
           }
          ],
          "histogram2d": [
           {
            "colorbar": {
             "outlinewidth": 0,
             "ticks": ""
            },
            "colorscale": [
             [
              0,
              "#0d0887"
             ],
             [
              0.1111111111111111,
              "#46039f"
             ],
             [
              0.2222222222222222,
              "#7201a8"
             ],
             [
              0.3333333333333333,
              "#9c179e"
             ],
             [
              0.4444444444444444,
              "#bd3786"
             ],
             [
              0.5555555555555556,
              "#d8576b"
             ],
             [
              0.6666666666666666,
              "#ed7953"
             ],
             [
              0.7777777777777778,
              "#fb9f3a"
             ],
             [
              0.8888888888888888,
              "#fdca26"
             ],
             [
              1,
              "#f0f921"
             ]
            ],
            "type": "histogram2d"
           }
          ],
          "histogram2dcontour": [
           {
            "colorbar": {
             "outlinewidth": 0,
             "ticks": ""
            },
            "colorscale": [
             [
              0,
              "#0d0887"
             ],
             [
              0.1111111111111111,
              "#46039f"
             ],
             [
              0.2222222222222222,
              "#7201a8"
             ],
             [
              0.3333333333333333,
              "#9c179e"
             ],
             [
              0.4444444444444444,
              "#bd3786"
             ],
             [
              0.5555555555555556,
              "#d8576b"
             ],
             [
              0.6666666666666666,
              "#ed7953"
             ],
             [
              0.7777777777777778,
              "#fb9f3a"
             ],
             [
              0.8888888888888888,
              "#fdca26"
             ],
             [
              1,
              "#f0f921"
             ]
            ],
            "type": "histogram2dcontour"
           }
          ],
          "mesh3d": [
           {
            "colorbar": {
             "outlinewidth": 0,
             "ticks": ""
            },
            "type": "mesh3d"
           }
          ],
          "parcoords": [
           {
            "line": {
             "colorbar": {
              "outlinewidth": 0,
              "ticks": ""
             }
            },
            "type": "parcoords"
           }
          ],
          "pie": [
           {
            "automargin": true,
            "type": "pie"
           }
          ],
          "scatter": [
           {
            "fillpattern": {
             "fillmode": "overlay",
             "size": 10,
             "solidity": 0.2
            },
            "type": "scatter"
           }
          ],
          "scatter3d": [
           {
            "line": {
             "colorbar": {
              "outlinewidth": 0,
              "ticks": ""
             }
            },
            "marker": {
             "colorbar": {
              "outlinewidth": 0,
              "ticks": ""
             }
            },
            "type": "scatter3d"
           }
          ],
          "scattercarpet": [
           {
            "marker": {
             "colorbar": {
              "outlinewidth": 0,
              "ticks": ""
             }
            },
            "type": "scattercarpet"
           }
          ],
          "scattergeo": [
           {
            "marker": {
             "colorbar": {
              "outlinewidth": 0,
              "ticks": ""
             }
            },
            "type": "scattergeo"
           }
          ],
          "scattergl": [
           {
            "marker": {
             "colorbar": {
              "outlinewidth": 0,
              "ticks": ""
             }
            },
            "type": "scattergl"
           }
          ],
          "scattermapbox": [
           {
            "marker": {
             "colorbar": {
              "outlinewidth": 0,
              "ticks": ""
             }
            },
            "type": "scattermapbox"
           }
          ],
          "scatterpolar": [
           {
            "marker": {
             "colorbar": {
              "outlinewidth": 0,
              "ticks": ""
             }
            },
            "type": "scatterpolar"
           }
          ],
          "scatterpolargl": [
           {
            "marker": {
             "colorbar": {
              "outlinewidth": 0,
              "ticks": ""
             }
            },
            "type": "scatterpolargl"
           }
          ],
          "scatterternary": [
           {
            "marker": {
             "colorbar": {
              "outlinewidth": 0,
              "ticks": ""
             }
            },
            "type": "scatterternary"
           }
          ],
          "surface": [
           {
            "colorbar": {
             "outlinewidth": 0,
             "ticks": ""
            },
            "colorscale": [
             [
              0,
              "#0d0887"
             ],
             [
              0.1111111111111111,
              "#46039f"
             ],
             [
              0.2222222222222222,
              "#7201a8"
             ],
             [
              0.3333333333333333,
              "#9c179e"
             ],
             [
              0.4444444444444444,
              "#bd3786"
             ],
             [
              0.5555555555555556,
              "#d8576b"
             ],
             [
              0.6666666666666666,
              "#ed7953"
             ],
             [
              0.7777777777777778,
              "#fb9f3a"
             ],
             [
              0.8888888888888888,
              "#fdca26"
             ],
             [
              1,
              "#f0f921"
             ]
            ],
            "type": "surface"
           }
          ],
          "table": [
           {
            "cells": {
             "fill": {
              "color": "#EBF0F8"
             },
             "line": {
              "color": "white"
             }
            },
            "header": {
             "fill": {
              "color": "#C8D4E3"
             },
             "line": {
              "color": "white"
             }
            },
            "type": "table"
           }
          ]
         },
         "layout": {
          "annotationdefaults": {
           "arrowcolor": "#2a3f5f",
           "arrowhead": 0,
           "arrowwidth": 1
          },
          "autotypenumbers": "strict",
          "coloraxis": {
           "colorbar": {
            "outlinewidth": 0,
            "ticks": ""
           }
          },
          "colorscale": {
           "diverging": [
            [
             0,
             "#8e0152"
            ],
            [
             0.1,
             "#c51b7d"
            ],
            [
             0.2,
             "#de77ae"
            ],
            [
             0.3,
             "#f1b6da"
            ],
            [
             0.4,
             "#fde0ef"
            ],
            [
             0.5,
             "#f7f7f7"
            ],
            [
             0.6,
             "#e6f5d0"
            ],
            [
             0.7,
             "#b8e186"
            ],
            [
             0.8,
             "#7fbc41"
            ],
            [
             0.9,
             "#4d9221"
            ],
            [
             1,
             "#276419"
            ]
           ],
           "sequential": [
            [
             0,
             "#0d0887"
            ],
            [
             0.1111111111111111,
             "#46039f"
            ],
            [
             0.2222222222222222,
             "#7201a8"
            ],
            [
             0.3333333333333333,
             "#9c179e"
            ],
            [
             0.4444444444444444,
             "#bd3786"
            ],
            [
             0.5555555555555556,
             "#d8576b"
            ],
            [
             0.6666666666666666,
             "#ed7953"
            ],
            [
             0.7777777777777778,
             "#fb9f3a"
            ],
            [
             0.8888888888888888,
             "#fdca26"
            ],
            [
             1,
             "#f0f921"
            ]
           ],
           "sequentialminus": [
            [
             0,
             "#0d0887"
            ],
            [
             0.1111111111111111,
             "#46039f"
            ],
            [
             0.2222222222222222,
             "#7201a8"
            ],
            [
             0.3333333333333333,
             "#9c179e"
            ],
            [
             0.4444444444444444,
             "#bd3786"
            ],
            [
             0.5555555555555556,
             "#d8576b"
            ],
            [
             0.6666666666666666,
             "#ed7953"
            ],
            [
             0.7777777777777778,
             "#fb9f3a"
            ],
            [
             0.8888888888888888,
             "#fdca26"
            ],
            [
             1,
             "#f0f921"
            ]
           ]
          },
          "colorway": [
           "#636efa",
           "#EF553B",
           "#00cc96",
           "#ab63fa",
           "#FFA15A",
           "#19d3f3",
           "#FF6692",
           "#B6E880",
           "#FF97FF",
           "#FECB52"
          ],
          "font": {
           "color": "#2a3f5f"
          },
          "geo": {
           "bgcolor": "white",
           "lakecolor": "white",
           "landcolor": "#E5ECF6",
           "showlakes": true,
           "showland": true,
           "subunitcolor": "white"
          },
          "hoverlabel": {
           "align": "left"
          },
          "hovermode": "closest",
          "mapbox": {
           "style": "light"
          },
          "paper_bgcolor": "white",
          "plot_bgcolor": "#E5ECF6",
          "polar": {
           "angularaxis": {
            "gridcolor": "white",
            "linecolor": "white",
            "ticks": ""
           },
           "bgcolor": "#E5ECF6",
           "radialaxis": {
            "gridcolor": "white",
            "linecolor": "white",
            "ticks": ""
           }
          },
          "scene": {
           "xaxis": {
            "backgroundcolor": "#E5ECF6",
            "gridcolor": "white",
            "gridwidth": 2,
            "linecolor": "white",
            "showbackground": true,
            "ticks": "",
            "zerolinecolor": "white"
           },
           "yaxis": {
            "backgroundcolor": "#E5ECF6",
            "gridcolor": "white",
            "gridwidth": 2,
            "linecolor": "white",
            "showbackground": true,
            "ticks": "",
            "zerolinecolor": "white"
           },
           "zaxis": {
            "backgroundcolor": "#E5ECF6",
            "gridcolor": "white",
            "gridwidth": 2,
            "linecolor": "white",
            "showbackground": true,
            "ticks": "",
            "zerolinecolor": "white"
           }
          },
          "shapedefaults": {
           "line": {
            "color": "#2a3f5f"
           }
          },
          "ternary": {
           "aaxis": {
            "gridcolor": "white",
            "linecolor": "white",
            "ticks": ""
           },
           "baxis": {
            "gridcolor": "white",
            "linecolor": "white",
            "ticks": ""
           },
           "bgcolor": "#E5ECF6",
           "caxis": {
            "gridcolor": "white",
            "linecolor": "white",
            "ticks": ""
           }
          },
          "title": {
           "x": 0.05
          },
          "xaxis": {
           "automargin": true,
           "gridcolor": "white",
           "linecolor": "white",
           "ticks": "",
           "title": {
            "standoff": 15
           },
           "zerolinecolor": "white",
           "zerolinewidth": 2
          },
          "yaxis": {
           "automargin": true,
           "gridcolor": "white",
           "linecolor": "white",
           "ticks": "",
           "title": {
            "standoff": 15
           },
           "zerolinecolor": "white",
           "zerolinewidth": 2
          }
         }
        },
        "title": {
         "text": "Speed Data for Participant 04"
        },
        "xaxis": {
         "tickformat": "%H:%M",
         "title": {
          "text": "Time"
         }
        },
        "yaxis": {
         "title": {
          "text": "Speed in km/h"
         }
        }
       }
      }
     },
     "metadata": {},
     "output_type": "display_data"
    },
    {
     "name": "stdout",
     "output_type": "stream",
     "text": [
      "[(Timestamp('2024-07-10 12:18:16.577000'), np.float64(8.300999808311463), np.float64(8.50949982404709)), (Timestamp('2024-07-10 12:20:16.577000'), np.float64(8.479999828338624), np.float64(8.611199855804443)), (Timestamp('2024-07-10 12:22:16.577000'), np.float64(9.698399934768677), np.float64(10.240363389795478)), (Timestamp('2024-07-10 12:24:16.577000'), np.float64(10.399500167369844), np.float64(10.426909368688412)), (Timestamp('2024-07-10 12:26:16.577000'), np.float64(10.315636279366233), np.float64(10.347999954223633)), (Timestamp('2024-07-10 12:28:16.577000'), np.float64(10.155272483825685), np.float64(10.051999855041505))]\n",
      "6\n",
      "2\n",
      "2\n",
      "2\n"
     ]
    },
    {
     "data": {
      "application/vnd.plotly.v1+json": {
       "config": {
        "plotlyServerURL": "https://plot.ly"
       },
       "data": [
        {
         "mode": "lines",
         "name": "Speed",
         "type": "scatter",
         "x": [
          "2024-07-10T14:20:45.965000",
          "2024-07-10T14:21:08.966000",
          "2024-07-10T14:21:16.965000",
          "2024-07-10T14:21:22.963000",
          "2024-07-10T14:21:37.966000",
          "2024-07-10T14:21:43.964000",
          "2024-07-10T14:21:51.965000",
          "2024-07-10T14:21:56.964000",
          "2024-07-10T14:22:02.967000",
          "2024-07-10T14:22:15.969000",
          "2024-07-10T14:22:21.967000",
          "2024-07-10T14:22:35.965000",
          "2024-07-10T14:22:41.965000",
          "2024-07-10T14:22:46.968000",
          "2024-07-10T14:22:55.964000",
          "2024-07-10T14:23:01.964000",
          "2024-07-10T14:23:06.963000",
          "2024-07-10T14:23:11.965000",
          "2024-07-10T14:23:16.962000",
          "2024-07-10T14:23:21.968000",
          "2024-07-10T14:23:30.967000",
          "2024-07-10T14:23:39.964000",
          "2024-07-10T14:23:44.968000",
          "2024-07-10T14:23:49.965000",
          "2024-07-10T14:23:55.965000",
          "2024-07-10T14:24:00.965000",
          "2024-07-10T14:24:05.964000",
          "2024-07-10T14:24:10.964000",
          "2024-07-10T14:24:17.967000",
          "2024-07-10T14:24:30.323000",
          "2024-07-10T14:24:36.962000",
          "2024-07-10T14:24:42.963000",
          "2024-07-10T14:24:48.963000",
          "2024-07-10T14:24:59.963000",
          "2024-07-10T14:25:05.967000",
          "2024-07-10T14:25:10.970000",
          "2024-07-10T14:25:22.969000",
          "2024-07-10T14:25:27.963000",
          "2024-07-10T14:25:32.970000",
          "2024-07-10T14:25:44.964000",
          "2024-07-10T14:25:49.963000",
          "2024-07-10T14:25:58.965000",
          "2024-07-10T14:26:03.965000",
          "2024-07-10T14:26:08.963000",
          "2024-07-10T14:26:17.962000",
          "2024-07-10T14:26:23.966000",
          "2024-07-10T14:26:28.967000",
          "2024-07-10T14:26:38.967000",
          "2024-07-10T14:26:43.965000",
          "2024-07-10T14:26:52.964000",
          "2024-07-10T14:26:57.964000",
          "2024-07-10T14:27:20.965000",
          "2024-07-10T14:27:25.964000",
          "2024-07-10T14:27:30.965000",
          "2024-07-10T14:27:39.966000",
          "2024-07-10T14:27:46.968000",
          "2024-07-10T14:27:51.964000",
          "2024-07-10T14:28:00.964000",
          "2024-07-10T14:28:05.962000",
          "2024-07-10T14:28:10.965000",
          "2024-07-10T14:28:15.963000",
          "2024-07-10T14:28:20.966000",
          "2024-07-10T14:28:25.965000",
          "2024-07-10T14:28:34.968000",
          "2024-07-10T14:28:39.964000",
          "2024-07-10T14:28:45.963000",
          "2024-07-10T14:28:50.965000",
          "2024-07-10T14:28:55.965000",
          "2024-07-10T14:29:00.968000",
          "2024-07-10T14:29:06.964000",
          "2024-07-10T14:29:12.965000",
          "2024-07-10T14:29:33.965000",
          "2024-07-10T14:29:39.965000",
          "2024-07-10T14:29:44.966000",
          "2024-07-10T14:29:54.966000",
          "2024-07-10T14:30:03.964000",
          "2024-07-10T14:30:09.963000",
          "2024-07-10T14:30:14.970000",
          "2024-07-10T14:30:19.963000",
          "2024-07-10T14:30:28.965000",
          "2024-07-10T14:30:33.966000",
          "2024-07-10T14:30:43.963000",
          "2024-07-10T14:30:54.964000",
          "2024-07-10T14:31:04.963000",
          "2024-07-10T14:31:14.966000",
          "2024-07-10T14:31:19.962000",
          "2024-07-10T14:31:30.469000",
          "2024-07-10T14:31:34.968000",
          "2024-07-10T14:31:40.965000",
          "2024-07-10T14:31:45.966000",
          "2024-07-10T14:31:54.963000",
          "2024-07-10T14:31:59.960000",
          "2024-07-10T14:32:04.960000",
          "2024-07-10T14:32:09.962000",
          "2024-07-10T14:32:14.964000",
          "2024-07-10T14:32:20.963000",
          "2024-07-10T14:32:28.965000",
          "2024-07-10T14:32:34.967000",
          "2024-07-10T14:32:44.965000",
          "2024-07-10T14:32:49.965000",
          "2024-07-10T14:32:54.967000",
          "2024-07-10T14:32:59.964000",
          "2024-07-10T14:33:04.964000",
          "2024-07-10T14:33:09.962000",
          "2024-07-10T14:33:14.964000",
          "2024-07-10T14:33:30.966000",
          "2024-07-10T14:33:35.969000",
          "2024-07-10T14:33:44.965000",
          "2024-07-10T14:33:50.967000",
          "2024-07-10T14:34:00.964000",
          "2024-07-10T14:34:09.963000",
          "2024-07-10T14:34:14.964000",
          "2024-07-10T14:34:19.968000",
          "2024-07-10T14:34:28.977000",
          "2024-07-10T14:34:33.964000",
          "2024-07-10T14:34:38.971000",
          "2024-07-10T14:34:43.965000",
          "2024-07-10T14:34:49.963000",
          "2024-07-10T14:34:54.965000",
          "2024-07-10T14:34:59.963000",
          "2024-07-10T14:35:04.962000",
          "2024-07-10T14:35:09.964000",
          "2024-07-10T14:35:15.966000",
          "2024-07-10T14:35:30.602000",
          "2024-07-10T14:35:30.967000",
          "2024-07-10T14:35:36.965000",
          "2024-07-10T14:35:45.967000",
          "2024-07-10T14:35:50.969000"
         ],
         "y": [
          10.424593734741212,
          13.111743164062501,
          10.240472316741943,
          8.020380878448487,
          9.359999656677246,
          12.083091545104981,
          10.307898330688477,
          14.139235210418702,
          12.083328437805177,
          10.064013004302979,
          12.535267353057863,
          8.209571456909178,
          10.463688755035403,
          9.864000034332276,
          10.007999897003174,
          10.259999656677246,
          14.129988670349121,
          11.295451641082764,
          9.97199993133545,
          10.933073616027832,
          10.079999828338623,
          10.007999897003174,
          9.97199993133545,
          9.97199993133545,
          11.989907741546629,
          9.82800006866455,
          9.9,
          9.97199993133545,
          10.079999828338623,
          13.768444919586182,
          10.151999759674073,
          12.006926250457765,
          10.007999897003174,
          9.82800006866455,
          9.82800006866455,
          9.97199993133545,
          9.029119777679444,
          13.081749629974366,
          12.133999443054199,
          9.9,
          9.9,
          10.079999828338623,
          10.079999828338623,
          10.0439998626709,
          9.82800006866455,
          9.864000034332276,
          9.864000034332276,
          10.151999759674073,
          10.259999656677246,
          10.259999656677246,
          10.29599962234497,
          10.079999828338623,
          10.187999725341797,
          10.151999759674073,
          10.151999759674073,
          10.187999725341797,
          10.115999794006347,
          10.115999794006347,
          10.079999828338623,
          10.0439998626709,
          9.97199993133545,
          10.0439998626709,
          10.115999794006347,
          10.007999897003174,
          10.476000308990479,
          10.476000308990479,
          10.440000343322756,
          10.512000274658204,
          10.440000343322756,
          10.548000240325928,
          10.692000102996825,
          10.476000308990479,
          10.512000274658204,
          10.476000308990479,
          10.692000102996825,
          10.620000171661378,
          10.404000377655029,
          10.368000411987305,
          10.404000377655029,
          10.907999897003174,
          10.87199993133545,
          10.9439998626709,
          11.087999725341797,
          11.30400037765503,
          11.412000274658203,
          11.448000240325928,
          7.793981838226318,
          11.30400037765503,
          11.376000308990479,
          11.340000343322755,
          11.340000343322755,
          11.520000171661378,
          11.807999897003175,
          11.700000000000001,
          11.556000137329102,
          11.556000137329102,
          11.628000068664551,
          11.8439998626709,
          11.879999828338624,
          11.915999794006348,
          11.987999725341798,
          12.023999691009521,
          11.987999725341798,
          12.131999588012695,
          12.059999656677247,
          11.951999759674072,
          11.951999759674072,
          12.023999691009521,
          12.131999588012695,
          12.131999588012695,
          12.168000411987306,
          12.059999656677247,
          11.879999828338624,
          12.384000205993653,
          12.528000068664552,
          12.420000171661377,
          12.240000343322755,
          12.456000137329102,
          12.384000205993653,
          12.348000240325929,
          12.27600030899048,
          12.312000274658203,
          12.168000411987306,
          8.737770080566404,
          11.735999965667725,
          11.807999897003175,
          11.879999828338624,
          10.548000240325928
         ]
        }
       ],
       "layout": {
        "annotations": [
         {
          "arrowcolor": "red",
          "arrowhead": 1,
          "ax": -10,
          "ay": -30,
          "showarrow": true,
          "text": "Start",
          "x": "2024-07-10T14:20:34.414000",
          "y": 14.139235210418702
         },
         {
          "arrowcolor": "green",
          "arrowhead": 1,
          "ax": -10,
          "ay": -30,
          "showarrow": true,
          "text": "+2min",
          "x": "2024-07-10T14:22:34.414000",
          "y": 14.139235210418702
         },
         {
          "arrowcolor": "grey",
          "arrowhead": 1,
          "ax": -10,
          "ay": -30,
          "showarrow": true,
          "text": "+4min",
          "x": "2024-07-10T14:24:34.414000",
          "y": 14.139235210418702
         },
         {
          "arrowcolor": "blue",
          "arrowhead": 1,
          "ax": -10,
          "ay": -30,
          "showarrow": true,
          "text": "+6min",
          "x": "2024-07-10T14:26:34.414000",
          "y": 14.139235210418702
         },
         {
          "arrowcolor": "grey",
          "arrowhead": 1,
          "ax": -10,
          "ay": -30,
          "showarrow": true,
          "text": "+8min",
          "x": "2024-07-10T14:28:34.414000",
          "y": 14.139235210418702
         },
         {
          "arrowcolor": "blue",
          "arrowhead": 1,
          "ax": -10,
          "ay": -30,
          "showarrow": true,
          "text": "+10min",
          "x": "2024-07-10T14:30:34.414000",
          "y": 14.139235210418702
         },
         {
          "arrowcolor": "green",
          "arrowhead": 1,
          "ax": -10,
          "ay": -30,
          "showarrow": true,
          "text": "+12min",
          "x": "2024-07-10T14:32:34.414000",
          "y": 14.139235210418702
         },
         {
          "arrowcolor": "blue",
          "arrowhead": 1,
          "ax": -10,
          "ay": -30,
          "showarrow": true,
          "text": "End",
          "x": "2024-07-10T14:35:34.414000",
          "y": 14.139235210418702
         }
        ],
        "shapes": [
         {
          "line": {
           "color": "red",
           "dash": "dash"
          },
          "type": "line",
          "x0": "2024-07-10T14:20:34.414000",
          "x1": "2024-07-10T14:20:34.414000",
          "xref": "x",
          "y0": 0,
          "y1": 1,
          "yref": "y domain"
         },
         {
          "line": {
           "color": "green",
           "dash": "dash"
          },
          "type": "line",
          "x0": "2024-07-10T14:22:34.414000",
          "x1": "2024-07-10T14:22:34.414000",
          "xref": "x",
          "y0": 0,
          "y1": 1,
          "yref": "y domain"
         },
         {
          "line": {
           "color": "grey",
           "dash": "dash"
          },
          "type": "line",
          "x0": "2024-07-10T14:24:34.414000",
          "x1": "2024-07-10T14:24:34.414000",
          "xref": "x",
          "y0": 0,
          "y1": 1,
          "yref": "y domain"
         },
         {
          "line": {
           "color": "blue",
           "dash": "dash"
          },
          "type": "line",
          "x0": "2024-07-10T14:26:34.414000",
          "x1": "2024-07-10T14:26:34.414000",
          "xref": "x",
          "y0": 0,
          "y1": 1,
          "yref": "y domain"
         },
         {
          "line": {
           "color": "grey",
           "dash": "dash"
          },
          "type": "line",
          "x0": "2024-07-10T14:28:34.414000",
          "x1": "2024-07-10T14:28:34.414000",
          "xref": "x",
          "y0": 0,
          "y1": 1,
          "yref": "y domain"
         },
         {
          "line": {
           "color": "blue",
           "dash": "dash"
          },
          "type": "line",
          "x0": "2024-07-10T14:30:34.414000",
          "x1": "2024-07-10T14:30:34.414000",
          "xref": "x",
          "y0": 0,
          "y1": 1,
          "yref": "y domain"
         },
         {
          "line": {
           "color": "green",
           "dash": "dash"
          },
          "type": "line",
          "x0": "2024-07-10T14:32:34.414000",
          "x1": "2024-07-10T14:32:34.414000",
          "xref": "x",
          "y0": 0,
          "y1": 1,
          "yref": "y domain"
         },
         {
          "line": {
           "color": "red",
           "dash": "dash"
          },
          "type": "line",
          "x0": "2024-07-10T14:35:34.414000",
          "x1": "2024-07-10T14:35:34.414000",
          "xref": "x",
          "y0": 0,
          "y1": 1,
          "yref": "y domain"
         }
        ],
        "template": {
         "data": {
          "bar": [
           {
            "error_x": {
             "color": "#2a3f5f"
            },
            "error_y": {
             "color": "#2a3f5f"
            },
            "marker": {
             "line": {
              "color": "#E5ECF6",
              "width": 0.5
             },
             "pattern": {
              "fillmode": "overlay",
              "size": 10,
              "solidity": 0.2
             }
            },
            "type": "bar"
           }
          ],
          "barpolar": [
           {
            "marker": {
             "line": {
              "color": "#E5ECF6",
              "width": 0.5
             },
             "pattern": {
              "fillmode": "overlay",
              "size": 10,
              "solidity": 0.2
             }
            },
            "type": "barpolar"
           }
          ],
          "carpet": [
           {
            "aaxis": {
             "endlinecolor": "#2a3f5f",
             "gridcolor": "white",
             "linecolor": "white",
             "minorgridcolor": "white",
             "startlinecolor": "#2a3f5f"
            },
            "baxis": {
             "endlinecolor": "#2a3f5f",
             "gridcolor": "white",
             "linecolor": "white",
             "minorgridcolor": "white",
             "startlinecolor": "#2a3f5f"
            },
            "type": "carpet"
           }
          ],
          "choropleth": [
           {
            "colorbar": {
             "outlinewidth": 0,
             "ticks": ""
            },
            "type": "choropleth"
           }
          ],
          "contour": [
           {
            "colorbar": {
             "outlinewidth": 0,
             "ticks": ""
            },
            "colorscale": [
             [
              0,
              "#0d0887"
             ],
             [
              0.1111111111111111,
              "#46039f"
             ],
             [
              0.2222222222222222,
              "#7201a8"
             ],
             [
              0.3333333333333333,
              "#9c179e"
             ],
             [
              0.4444444444444444,
              "#bd3786"
             ],
             [
              0.5555555555555556,
              "#d8576b"
             ],
             [
              0.6666666666666666,
              "#ed7953"
             ],
             [
              0.7777777777777778,
              "#fb9f3a"
             ],
             [
              0.8888888888888888,
              "#fdca26"
             ],
             [
              1,
              "#f0f921"
             ]
            ],
            "type": "contour"
           }
          ],
          "contourcarpet": [
           {
            "colorbar": {
             "outlinewidth": 0,
             "ticks": ""
            },
            "type": "contourcarpet"
           }
          ],
          "heatmap": [
           {
            "colorbar": {
             "outlinewidth": 0,
             "ticks": ""
            },
            "colorscale": [
             [
              0,
              "#0d0887"
             ],
             [
              0.1111111111111111,
              "#46039f"
             ],
             [
              0.2222222222222222,
              "#7201a8"
             ],
             [
              0.3333333333333333,
              "#9c179e"
             ],
             [
              0.4444444444444444,
              "#bd3786"
             ],
             [
              0.5555555555555556,
              "#d8576b"
             ],
             [
              0.6666666666666666,
              "#ed7953"
             ],
             [
              0.7777777777777778,
              "#fb9f3a"
             ],
             [
              0.8888888888888888,
              "#fdca26"
             ],
             [
              1,
              "#f0f921"
             ]
            ],
            "type": "heatmap"
           }
          ],
          "heatmapgl": [
           {
            "colorbar": {
             "outlinewidth": 0,
             "ticks": ""
            },
            "colorscale": [
             [
              0,
              "#0d0887"
             ],
             [
              0.1111111111111111,
              "#46039f"
             ],
             [
              0.2222222222222222,
              "#7201a8"
             ],
             [
              0.3333333333333333,
              "#9c179e"
             ],
             [
              0.4444444444444444,
              "#bd3786"
             ],
             [
              0.5555555555555556,
              "#d8576b"
             ],
             [
              0.6666666666666666,
              "#ed7953"
             ],
             [
              0.7777777777777778,
              "#fb9f3a"
             ],
             [
              0.8888888888888888,
              "#fdca26"
             ],
             [
              1,
              "#f0f921"
             ]
            ],
            "type": "heatmapgl"
           }
          ],
          "histogram": [
           {
            "marker": {
             "pattern": {
              "fillmode": "overlay",
              "size": 10,
              "solidity": 0.2
             }
            },
            "type": "histogram"
           }
          ],
          "histogram2d": [
           {
            "colorbar": {
             "outlinewidth": 0,
             "ticks": ""
            },
            "colorscale": [
             [
              0,
              "#0d0887"
             ],
             [
              0.1111111111111111,
              "#46039f"
             ],
             [
              0.2222222222222222,
              "#7201a8"
             ],
             [
              0.3333333333333333,
              "#9c179e"
             ],
             [
              0.4444444444444444,
              "#bd3786"
             ],
             [
              0.5555555555555556,
              "#d8576b"
             ],
             [
              0.6666666666666666,
              "#ed7953"
             ],
             [
              0.7777777777777778,
              "#fb9f3a"
             ],
             [
              0.8888888888888888,
              "#fdca26"
             ],
             [
              1,
              "#f0f921"
             ]
            ],
            "type": "histogram2d"
           }
          ],
          "histogram2dcontour": [
           {
            "colorbar": {
             "outlinewidth": 0,
             "ticks": ""
            },
            "colorscale": [
             [
              0,
              "#0d0887"
             ],
             [
              0.1111111111111111,
              "#46039f"
             ],
             [
              0.2222222222222222,
              "#7201a8"
             ],
             [
              0.3333333333333333,
              "#9c179e"
             ],
             [
              0.4444444444444444,
              "#bd3786"
             ],
             [
              0.5555555555555556,
              "#d8576b"
             ],
             [
              0.6666666666666666,
              "#ed7953"
             ],
             [
              0.7777777777777778,
              "#fb9f3a"
             ],
             [
              0.8888888888888888,
              "#fdca26"
             ],
             [
              1,
              "#f0f921"
             ]
            ],
            "type": "histogram2dcontour"
           }
          ],
          "mesh3d": [
           {
            "colorbar": {
             "outlinewidth": 0,
             "ticks": ""
            },
            "type": "mesh3d"
           }
          ],
          "parcoords": [
           {
            "line": {
             "colorbar": {
              "outlinewidth": 0,
              "ticks": ""
             }
            },
            "type": "parcoords"
           }
          ],
          "pie": [
           {
            "automargin": true,
            "type": "pie"
           }
          ],
          "scatter": [
           {
            "fillpattern": {
             "fillmode": "overlay",
             "size": 10,
             "solidity": 0.2
            },
            "type": "scatter"
           }
          ],
          "scatter3d": [
           {
            "line": {
             "colorbar": {
              "outlinewidth": 0,
              "ticks": ""
             }
            },
            "marker": {
             "colorbar": {
              "outlinewidth": 0,
              "ticks": ""
             }
            },
            "type": "scatter3d"
           }
          ],
          "scattercarpet": [
           {
            "marker": {
             "colorbar": {
              "outlinewidth": 0,
              "ticks": ""
             }
            },
            "type": "scattercarpet"
           }
          ],
          "scattergeo": [
           {
            "marker": {
             "colorbar": {
              "outlinewidth": 0,
              "ticks": ""
             }
            },
            "type": "scattergeo"
           }
          ],
          "scattergl": [
           {
            "marker": {
             "colorbar": {
              "outlinewidth": 0,
              "ticks": ""
             }
            },
            "type": "scattergl"
           }
          ],
          "scattermapbox": [
           {
            "marker": {
             "colorbar": {
              "outlinewidth": 0,
              "ticks": ""
             }
            },
            "type": "scattermapbox"
           }
          ],
          "scatterpolar": [
           {
            "marker": {
             "colorbar": {
              "outlinewidth": 0,
              "ticks": ""
             }
            },
            "type": "scatterpolar"
           }
          ],
          "scatterpolargl": [
           {
            "marker": {
             "colorbar": {
              "outlinewidth": 0,
              "ticks": ""
             }
            },
            "type": "scatterpolargl"
           }
          ],
          "scatterternary": [
           {
            "marker": {
             "colorbar": {
              "outlinewidth": 0,
              "ticks": ""
             }
            },
            "type": "scatterternary"
           }
          ],
          "surface": [
           {
            "colorbar": {
             "outlinewidth": 0,
             "ticks": ""
            },
            "colorscale": [
             [
              0,
              "#0d0887"
             ],
             [
              0.1111111111111111,
              "#46039f"
             ],
             [
              0.2222222222222222,
              "#7201a8"
             ],
             [
              0.3333333333333333,
              "#9c179e"
             ],
             [
              0.4444444444444444,
              "#bd3786"
             ],
             [
              0.5555555555555556,
              "#d8576b"
             ],
             [
              0.6666666666666666,
              "#ed7953"
             ],
             [
              0.7777777777777778,
              "#fb9f3a"
             ],
             [
              0.8888888888888888,
              "#fdca26"
             ],
             [
              1,
              "#f0f921"
             ]
            ],
            "type": "surface"
           }
          ],
          "table": [
           {
            "cells": {
             "fill": {
              "color": "#EBF0F8"
             },
             "line": {
              "color": "white"
             }
            },
            "header": {
             "fill": {
              "color": "#C8D4E3"
             },
             "line": {
              "color": "white"
             }
            },
            "type": "table"
           }
          ]
         },
         "layout": {
          "annotationdefaults": {
           "arrowcolor": "#2a3f5f",
           "arrowhead": 0,
           "arrowwidth": 1
          },
          "autotypenumbers": "strict",
          "coloraxis": {
           "colorbar": {
            "outlinewidth": 0,
            "ticks": ""
           }
          },
          "colorscale": {
           "diverging": [
            [
             0,
             "#8e0152"
            ],
            [
             0.1,
             "#c51b7d"
            ],
            [
             0.2,
             "#de77ae"
            ],
            [
             0.3,
             "#f1b6da"
            ],
            [
             0.4,
             "#fde0ef"
            ],
            [
             0.5,
             "#f7f7f7"
            ],
            [
             0.6,
             "#e6f5d0"
            ],
            [
             0.7,
             "#b8e186"
            ],
            [
             0.8,
             "#7fbc41"
            ],
            [
             0.9,
             "#4d9221"
            ],
            [
             1,
             "#276419"
            ]
           ],
           "sequential": [
            [
             0,
             "#0d0887"
            ],
            [
             0.1111111111111111,
             "#46039f"
            ],
            [
             0.2222222222222222,
             "#7201a8"
            ],
            [
             0.3333333333333333,
             "#9c179e"
            ],
            [
             0.4444444444444444,
             "#bd3786"
            ],
            [
             0.5555555555555556,
             "#d8576b"
            ],
            [
             0.6666666666666666,
             "#ed7953"
            ],
            [
             0.7777777777777778,
             "#fb9f3a"
            ],
            [
             0.8888888888888888,
             "#fdca26"
            ],
            [
             1,
             "#f0f921"
            ]
           ],
           "sequentialminus": [
            [
             0,
             "#0d0887"
            ],
            [
             0.1111111111111111,
             "#46039f"
            ],
            [
             0.2222222222222222,
             "#7201a8"
            ],
            [
             0.3333333333333333,
             "#9c179e"
            ],
            [
             0.4444444444444444,
             "#bd3786"
            ],
            [
             0.5555555555555556,
             "#d8576b"
            ],
            [
             0.6666666666666666,
             "#ed7953"
            ],
            [
             0.7777777777777778,
             "#fb9f3a"
            ],
            [
             0.8888888888888888,
             "#fdca26"
            ],
            [
             1,
             "#f0f921"
            ]
           ]
          },
          "colorway": [
           "#636efa",
           "#EF553B",
           "#00cc96",
           "#ab63fa",
           "#FFA15A",
           "#19d3f3",
           "#FF6692",
           "#B6E880",
           "#FF97FF",
           "#FECB52"
          ],
          "font": {
           "color": "#2a3f5f"
          },
          "geo": {
           "bgcolor": "white",
           "lakecolor": "white",
           "landcolor": "#E5ECF6",
           "showlakes": true,
           "showland": true,
           "subunitcolor": "white"
          },
          "hoverlabel": {
           "align": "left"
          },
          "hovermode": "closest",
          "mapbox": {
           "style": "light"
          },
          "paper_bgcolor": "white",
          "plot_bgcolor": "#E5ECF6",
          "polar": {
           "angularaxis": {
            "gridcolor": "white",
            "linecolor": "white",
            "ticks": ""
           },
           "bgcolor": "#E5ECF6",
           "radialaxis": {
            "gridcolor": "white",
            "linecolor": "white",
            "ticks": ""
           }
          },
          "scene": {
           "xaxis": {
            "backgroundcolor": "#E5ECF6",
            "gridcolor": "white",
            "gridwidth": 2,
            "linecolor": "white",
            "showbackground": true,
            "ticks": "",
            "zerolinecolor": "white"
           },
           "yaxis": {
            "backgroundcolor": "#E5ECF6",
            "gridcolor": "white",
            "gridwidth": 2,
            "linecolor": "white",
            "showbackground": true,
            "ticks": "",
            "zerolinecolor": "white"
           },
           "zaxis": {
            "backgroundcolor": "#E5ECF6",
            "gridcolor": "white",
            "gridwidth": 2,
            "linecolor": "white",
            "showbackground": true,
            "ticks": "",
            "zerolinecolor": "white"
           }
          },
          "shapedefaults": {
           "line": {
            "color": "#2a3f5f"
           }
          },
          "ternary": {
           "aaxis": {
            "gridcolor": "white",
            "linecolor": "white",
            "ticks": ""
           },
           "baxis": {
            "gridcolor": "white",
            "linecolor": "white",
            "ticks": ""
           },
           "bgcolor": "#E5ECF6",
           "caxis": {
            "gridcolor": "white",
            "linecolor": "white",
            "ticks": ""
           }
          },
          "title": {
           "x": 0.05
          },
          "xaxis": {
           "automargin": true,
           "gridcolor": "white",
           "linecolor": "white",
           "ticks": "",
           "title": {
            "standoff": 15
           },
           "zerolinecolor": "white",
           "zerolinewidth": 2
          },
          "yaxis": {
           "automargin": true,
           "gridcolor": "white",
           "linecolor": "white",
           "ticks": "",
           "title": {
            "standoff": 15
           },
           "zerolinecolor": "white",
           "zerolinewidth": 2
          }
         }
        },
        "title": {
         "text": "Speed Data for Participant 07"
        },
        "xaxis": {
         "tickformat": "%H:%M",
         "title": {
          "text": "Time"
         }
        },
        "yaxis": {
         "title": {
          "text": "Speed in km/h"
         }
        }
       }
      }
     },
     "metadata": {},
     "output_type": "display_data"
    },
    {
     "name": "stdout",
     "output_type": "stream",
     "text": [
      "[(Timestamp('2024-07-10 14:22:34.414000'), np.float64(11.510404791150775), np.float64(10.521577348709107)), (Timestamp('2024-07-10 14:24:34.414000'), np.float64(10.610039138793944), np.float64(10.671088314056396)), (Timestamp('2024-07-10 14:26:34.414000'), np.float64(9.944999957084658), np.float64(10.19828542981829)), (Timestamp('2024-07-10 14:28:34.414000'), np.float64(10.09199981689453), np.float64(10.452000236511232)), (Timestamp('2024-07-10 14:30:34.414000'), np.float64(10.584000205993654), np.float64(10.664997053146363)), (Timestamp('2024-07-10 14:32:34.414000'), np.float64(11.512800178527833), np.float64(11.975999736785887))]\n",
      "6\n",
      "2\n",
      "2\n",
      "2\n"
     ]
    },
    {
     "data": {
      "application/vnd.plotly.v1+json": {
       "config": {
        "plotlyServerURL": "https://plot.ly"
       },
       "data": [
        {
         "mode": "lines",
         "name": "Speed",
         "type": "scatter",
         "x": [
          "2024-07-10T14:41:03.963000",
          "2024-07-10T14:41:08.960000",
          "2024-07-10T14:41:17.962000",
          "2024-07-10T14:41:22.966000",
          "2024-07-10T14:41:28.962000",
          "2024-07-10T14:41:33.964000",
          "2024-07-10T14:41:38.966000",
          "2024-07-10T14:41:43.963000",
          "2024-07-10T14:41:48.959000",
          "2024-07-10T14:41:53.965000",
          "2024-07-10T14:42:04.959000",
          "2024-07-10T14:42:13.964000",
          "2024-07-10T14:42:25.964000",
          "2024-07-10T14:42:43.964000",
          "2024-07-10T14:42:54.962000",
          "2024-07-10T14:42:59.964000",
          "2024-07-10T14:43:08.965000",
          "2024-07-10T14:43:14.962000",
          "2024-07-10T14:43:23.963000",
          "2024-07-10T14:43:33.960000",
          "2024-07-10T14:43:42.963000",
          "2024-07-10T14:43:47.962000",
          "2024-07-10T14:43:52.963000",
          "2024-07-10T14:43:57.961000",
          "2024-07-10T14:44:02.963000",
          "2024-07-10T14:44:08.960000",
          "2024-07-10T14:44:13.963000",
          "2024-07-10T14:44:18.968000",
          "2024-07-10T14:44:23.965000",
          "2024-07-10T14:44:33.964000",
          "2024-07-10T14:44:38.961000",
          "2024-07-10T14:44:43.962000",
          "2024-07-10T14:44:49.961000",
          "2024-07-10T14:45:12.288000",
          "2024-07-10T14:45:33.963000",
          "2024-07-10T14:45:38.959000",
          "2024-07-10T14:45:48.970000",
          "2024-07-10T14:45:58.962000",
          "2024-07-10T14:46:08.964000",
          "2024-07-10T14:46:14.964000",
          "2024-07-10T14:46:19.963000",
          "2024-07-10T14:46:27.963000",
          "2024-07-10T14:46:32.961000",
          "2024-07-10T14:46:37.964000",
          "2024-07-10T14:46:42.965000",
          "2024-07-10T14:46:48.960000",
          "2024-07-10T14:46:53.964000",
          "2024-07-10T14:46:58.968000",
          "2024-07-10T14:47:03.964000",
          "2024-07-10T14:47:08.966000",
          "2024-07-10T14:47:13.963000",
          "2024-07-10T14:47:18.959000",
          "2024-07-10T14:47:32.413000",
          "2024-07-10T14:47:37.960000",
          "2024-07-10T14:47:52.351000",
          "2024-07-10T14:48:23.961000",
          "2024-07-10T14:48:43.961000",
          "2024-07-10T14:48:58.960000",
          "2024-07-10T14:49:03.962000",
          "2024-07-10T14:49:12.959000",
          "2024-07-10T14:49:21.962000",
          "2024-07-10T14:49:26.964000",
          "2024-07-10T14:49:31.961000",
          "2024-07-10T14:49:36.964000",
          "2024-07-10T14:49:42.961000",
          "2024-07-10T14:49:52.962000",
          "2024-07-10T14:49:57.959000",
          "2024-07-10T14:50:13.961000",
          "2024-07-10T14:50:31.961000",
          "2024-07-10T14:50:46.961000",
          "2024-07-10T14:50:59.960000",
          "2024-07-10T14:51:05.963000",
          "2024-07-10T14:51:10.962000",
          "2024-07-10T14:51:15.962000",
          "2024-07-10T14:51:20.962000",
          "2024-07-10T14:51:25.965000",
          "2024-07-10T14:51:30.965000",
          "2024-07-10T14:51:35.963000",
          "2024-07-10T14:51:40.962000",
          "2024-07-10T14:51:45.959000",
          "2024-07-10T14:51:50.961000",
          "2024-07-10T14:51:56.959000",
          "2024-07-10T14:52:02.959000",
          "2024-07-10T14:52:08.959000",
          "2024-07-10T14:52:13.958000",
          "2024-07-10T14:52:18.961000",
          "2024-07-10T14:52:28.960000",
          "2024-07-10T14:52:33.965000",
          "2024-07-10T14:52:38.962000",
          "2024-07-10T14:52:58.960000",
          "2024-07-10T14:53:05.964000",
          "2024-07-10T14:53:14.962000",
          "2024-07-10T14:53:19.962000",
          "2024-07-10T14:53:24.962000",
          "2024-07-10T14:53:29.960000",
          "2024-07-10T14:53:34.961000",
          "2024-07-10T14:53:39.961000",
          "2024-07-10T14:53:44.961000",
          "2024-07-10T14:53:50.962000",
          "2024-07-10T14:53:55.960000",
          "2024-07-10T14:54:06.967000",
          "2024-07-10T14:54:15.960000",
          "2024-07-10T14:54:21.962000",
          "2024-07-10T14:54:29.962000",
          "2024-07-10T14:54:35.958000",
          "2024-07-10T14:54:40.961000",
          "2024-07-10T14:54:49.962000",
          "2024-07-10T14:54:54.967000",
          "2024-07-10T14:54:59.963000",
          "2024-07-10T14:55:04.963000",
          "2024-07-10T14:55:09.964000",
          "2024-07-10T14:55:14.966000",
          "2024-07-10T14:55:19.961000",
          "2024-07-10T14:55:24.964000",
          "2024-07-10T14:55:39.965000",
          "2024-07-10T14:55:59.965000"
         ],
         "y": [
          8.856000137329103,
          9.648000240325928,
          9.684000205993653,
          9.82800006866455,
          9.576000308990478,
          9.395999622344972,
          9.143999862670901,
          9,
          9.035999965667726,
          9.287999725341797,
          11.162873268127441,
          9.287999725341797,
          8.964000034332276,
          9.035999965667726,
          9.143999862670901,
          9.287999725341797,
          9.107999897003173,
          9.107999897003173,
          9.251999759674073,
          9.97199993133545,
          10.187999725341797,
          10.079999828338623,
          10.079999828338623,
          10.0439998626709,
          10.007999897003174,
          9.935999965667724,
          9.82800006866455,
          9.792000102996825,
          9.792000102996825,
          9.82800006866455,
          9.792000102996825,
          10.007999897003174,
          9.82800006866455,
          12.775282573699952,
          9.612000274658204,
          9.792000102996825,
          9.612000274658204,
          9.612000274658204,
          9.612000274658204,
          9.431999588012696,
          9.431999588012696,
          9.612000274658204,
          9.9,
          9.756000137329101,
          9.82800006866455,
          9.864000034332276,
          9.792000102996825,
          9.756000137329101,
          9.720000171661377,
          9.50400037765503,
          9.576000308990478,
          9.576000308990478,
          6.428953742980958,
          9.576000308990478,
          5.698239755630494,
          9.395999622344972,
          9.287999725341797,
          9.215999794006349,
          9.323999691009522,
          9.179999828338623,
          9.359999656677246,
          9.395999622344972,
          9.323999691009522,
          9.395999622344972,
          9.359999656677246,
          9.431999588012696,
          9.468000411987305,
          9.323999691009522,
          9,
          9.50400037765503,
          9.143999862670901,
          9.251999759674073,
          9.179999828338623,
          8.856000137329103,
          8.892000102996825,
          8.856000137329103,
          8.892000102996825,
          8.92800006866455,
          8.92800006866455,
          9.07199993133545,
          8.92800006866455,
          8.892000102996825,
          9,
          8.712000274658203,
          5.939999914169312,
          5.292000102996826,
          8.964000034332276,
          8.856000137329103,
          8.640000343322756,
          8.856000137329103,
          8.531999588012695,
          5.652000188827515,
          8.568000411987304,
          8.531999588012695,
          8.67600030899048,
          8.67600030899048,
          8.712000274658203,
          8.568000411987304,
          8.387999725341798,
          8.495999622344971,
          8.568000411987304,
          8.423999691009522,
          8.315999794006348,
          8.2439998626709,
          6.4802779197692875,
          8.2439998626709,
          8.135999965667725,
          8.1,
          8.1,
          8.135999965667725,
          8.135999965667725,
          8.17199993133545,
          8.207999897003175,
          5.003999948501587,
          6.984000205993652,
          7.631999588012696
         ]
        }
       ],
       "layout": {
        "annotations": [
         {
          "arrowcolor": "red",
          "arrowhead": 1,
          "ax": -10,
          "ay": -30,
          "showarrow": true,
          "text": "Start",
          "x": "2024-07-10T14:40:24.927000",
          "y": 12.775282573699952
         },
         {
          "arrowcolor": "green",
          "arrowhead": 1,
          "ax": -10,
          "ay": -30,
          "showarrow": true,
          "text": "+2min",
          "x": "2024-07-10T14:42:24.927000",
          "y": 12.775282573699952
         },
         {
          "arrowcolor": "green",
          "arrowhead": 1,
          "ax": -10,
          "ay": -30,
          "showarrow": true,
          "text": "+4min",
          "x": "2024-07-10T14:44:24.927000",
          "y": 12.775282573699952
         },
         {
          "arrowcolor": "green",
          "arrowhead": 1,
          "ax": -10,
          "ay": -30,
          "showarrow": true,
          "text": "+6min",
          "x": "2024-07-10T14:46:24.927000",
          "y": 12.775282573699952
         },
         {
          "arrowcolor": "green",
          "arrowhead": 1,
          "ax": -10,
          "ay": -30,
          "showarrow": true,
          "text": "+8min",
          "x": "2024-07-10T14:48:24.927000",
          "y": 12.775282573699952
         },
         {
          "arrowcolor": "green",
          "arrowhead": 1,
          "ax": -10,
          "ay": -30,
          "showarrow": true,
          "text": "+10min",
          "x": "2024-07-10T14:50:24.927000",
          "y": 12.775282573699952
         },
         {
          "arrowcolor": "green",
          "arrowhead": 1,
          "ax": -10,
          "ay": -30,
          "showarrow": true,
          "text": "+12min",
          "x": "2024-07-10T14:52:24.927000",
          "y": 12.775282573699952
         },
         {
          "arrowcolor": "blue",
          "arrowhead": 1,
          "ax": -10,
          "ay": -30,
          "showarrow": true,
          "text": "End",
          "x": "2024-07-10T14:55:24.927000",
          "y": 12.775282573699952
         }
        ],
        "shapes": [
         {
          "line": {
           "color": "red",
           "dash": "dash"
          },
          "type": "line",
          "x0": "2024-07-10T14:40:24.927000",
          "x1": "2024-07-10T14:40:24.927000",
          "xref": "x",
          "y0": 0,
          "y1": 1,
          "yref": "y domain"
         },
         {
          "line": {
           "color": "green",
           "dash": "dash"
          },
          "type": "line",
          "x0": "2024-07-10T14:42:24.927000",
          "x1": "2024-07-10T14:42:24.927000",
          "xref": "x",
          "y0": 0,
          "y1": 1,
          "yref": "y domain"
         },
         {
          "line": {
           "color": "green",
           "dash": "dash"
          },
          "type": "line",
          "x0": "2024-07-10T14:44:24.927000",
          "x1": "2024-07-10T14:44:24.927000",
          "xref": "x",
          "y0": 0,
          "y1": 1,
          "yref": "y domain"
         },
         {
          "line": {
           "color": "green",
           "dash": "dash"
          },
          "type": "line",
          "x0": "2024-07-10T14:46:24.927000",
          "x1": "2024-07-10T14:46:24.927000",
          "xref": "x",
          "y0": 0,
          "y1": 1,
          "yref": "y domain"
         },
         {
          "line": {
           "color": "green",
           "dash": "dash"
          },
          "type": "line",
          "x0": "2024-07-10T14:48:24.927000",
          "x1": "2024-07-10T14:48:24.927000",
          "xref": "x",
          "y0": 0,
          "y1": 1,
          "yref": "y domain"
         },
         {
          "line": {
           "color": "green",
           "dash": "dash"
          },
          "type": "line",
          "x0": "2024-07-10T14:50:24.927000",
          "x1": "2024-07-10T14:50:24.927000",
          "xref": "x",
          "y0": 0,
          "y1": 1,
          "yref": "y domain"
         },
         {
          "line": {
           "color": "green",
           "dash": "dash"
          },
          "type": "line",
          "x0": "2024-07-10T14:52:24.927000",
          "x1": "2024-07-10T14:52:24.927000",
          "xref": "x",
          "y0": 0,
          "y1": 1,
          "yref": "y domain"
         },
         {
          "line": {
           "color": "red",
           "dash": "dash"
          },
          "type": "line",
          "x0": "2024-07-10T14:55:24.927000",
          "x1": "2024-07-10T14:55:24.927000",
          "xref": "x",
          "y0": 0,
          "y1": 1,
          "yref": "y domain"
         }
        ],
        "template": {
         "data": {
          "bar": [
           {
            "error_x": {
             "color": "#2a3f5f"
            },
            "error_y": {
             "color": "#2a3f5f"
            },
            "marker": {
             "line": {
              "color": "#E5ECF6",
              "width": 0.5
             },
             "pattern": {
              "fillmode": "overlay",
              "size": 10,
              "solidity": 0.2
             }
            },
            "type": "bar"
           }
          ],
          "barpolar": [
           {
            "marker": {
             "line": {
              "color": "#E5ECF6",
              "width": 0.5
             },
             "pattern": {
              "fillmode": "overlay",
              "size": 10,
              "solidity": 0.2
             }
            },
            "type": "barpolar"
           }
          ],
          "carpet": [
           {
            "aaxis": {
             "endlinecolor": "#2a3f5f",
             "gridcolor": "white",
             "linecolor": "white",
             "minorgridcolor": "white",
             "startlinecolor": "#2a3f5f"
            },
            "baxis": {
             "endlinecolor": "#2a3f5f",
             "gridcolor": "white",
             "linecolor": "white",
             "minorgridcolor": "white",
             "startlinecolor": "#2a3f5f"
            },
            "type": "carpet"
           }
          ],
          "choropleth": [
           {
            "colorbar": {
             "outlinewidth": 0,
             "ticks": ""
            },
            "type": "choropleth"
           }
          ],
          "contour": [
           {
            "colorbar": {
             "outlinewidth": 0,
             "ticks": ""
            },
            "colorscale": [
             [
              0,
              "#0d0887"
             ],
             [
              0.1111111111111111,
              "#46039f"
             ],
             [
              0.2222222222222222,
              "#7201a8"
             ],
             [
              0.3333333333333333,
              "#9c179e"
             ],
             [
              0.4444444444444444,
              "#bd3786"
             ],
             [
              0.5555555555555556,
              "#d8576b"
             ],
             [
              0.6666666666666666,
              "#ed7953"
             ],
             [
              0.7777777777777778,
              "#fb9f3a"
             ],
             [
              0.8888888888888888,
              "#fdca26"
             ],
             [
              1,
              "#f0f921"
             ]
            ],
            "type": "contour"
           }
          ],
          "contourcarpet": [
           {
            "colorbar": {
             "outlinewidth": 0,
             "ticks": ""
            },
            "type": "contourcarpet"
           }
          ],
          "heatmap": [
           {
            "colorbar": {
             "outlinewidth": 0,
             "ticks": ""
            },
            "colorscale": [
             [
              0,
              "#0d0887"
             ],
             [
              0.1111111111111111,
              "#46039f"
             ],
             [
              0.2222222222222222,
              "#7201a8"
             ],
             [
              0.3333333333333333,
              "#9c179e"
             ],
             [
              0.4444444444444444,
              "#bd3786"
             ],
             [
              0.5555555555555556,
              "#d8576b"
             ],
             [
              0.6666666666666666,
              "#ed7953"
             ],
             [
              0.7777777777777778,
              "#fb9f3a"
             ],
             [
              0.8888888888888888,
              "#fdca26"
             ],
             [
              1,
              "#f0f921"
             ]
            ],
            "type": "heatmap"
           }
          ],
          "heatmapgl": [
           {
            "colorbar": {
             "outlinewidth": 0,
             "ticks": ""
            },
            "colorscale": [
             [
              0,
              "#0d0887"
             ],
             [
              0.1111111111111111,
              "#46039f"
             ],
             [
              0.2222222222222222,
              "#7201a8"
             ],
             [
              0.3333333333333333,
              "#9c179e"
             ],
             [
              0.4444444444444444,
              "#bd3786"
             ],
             [
              0.5555555555555556,
              "#d8576b"
             ],
             [
              0.6666666666666666,
              "#ed7953"
             ],
             [
              0.7777777777777778,
              "#fb9f3a"
             ],
             [
              0.8888888888888888,
              "#fdca26"
             ],
             [
              1,
              "#f0f921"
             ]
            ],
            "type": "heatmapgl"
           }
          ],
          "histogram": [
           {
            "marker": {
             "pattern": {
              "fillmode": "overlay",
              "size": 10,
              "solidity": 0.2
             }
            },
            "type": "histogram"
           }
          ],
          "histogram2d": [
           {
            "colorbar": {
             "outlinewidth": 0,
             "ticks": ""
            },
            "colorscale": [
             [
              0,
              "#0d0887"
             ],
             [
              0.1111111111111111,
              "#46039f"
             ],
             [
              0.2222222222222222,
              "#7201a8"
             ],
             [
              0.3333333333333333,
              "#9c179e"
             ],
             [
              0.4444444444444444,
              "#bd3786"
             ],
             [
              0.5555555555555556,
              "#d8576b"
             ],
             [
              0.6666666666666666,
              "#ed7953"
             ],
             [
              0.7777777777777778,
              "#fb9f3a"
             ],
             [
              0.8888888888888888,
              "#fdca26"
             ],
             [
              1,
              "#f0f921"
             ]
            ],
            "type": "histogram2d"
           }
          ],
          "histogram2dcontour": [
           {
            "colorbar": {
             "outlinewidth": 0,
             "ticks": ""
            },
            "colorscale": [
             [
              0,
              "#0d0887"
             ],
             [
              0.1111111111111111,
              "#46039f"
             ],
             [
              0.2222222222222222,
              "#7201a8"
             ],
             [
              0.3333333333333333,
              "#9c179e"
             ],
             [
              0.4444444444444444,
              "#bd3786"
             ],
             [
              0.5555555555555556,
              "#d8576b"
             ],
             [
              0.6666666666666666,
              "#ed7953"
             ],
             [
              0.7777777777777778,
              "#fb9f3a"
             ],
             [
              0.8888888888888888,
              "#fdca26"
             ],
             [
              1,
              "#f0f921"
             ]
            ],
            "type": "histogram2dcontour"
           }
          ],
          "mesh3d": [
           {
            "colorbar": {
             "outlinewidth": 0,
             "ticks": ""
            },
            "type": "mesh3d"
           }
          ],
          "parcoords": [
           {
            "line": {
             "colorbar": {
              "outlinewidth": 0,
              "ticks": ""
             }
            },
            "type": "parcoords"
           }
          ],
          "pie": [
           {
            "automargin": true,
            "type": "pie"
           }
          ],
          "scatter": [
           {
            "fillpattern": {
             "fillmode": "overlay",
             "size": 10,
             "solidity": 0.2
            },
            "type": "scatter"
           }
          ],
          "scatter3d": [
           {
            "line": {
             "colorbar": {
              "outlinewidth": 0,
              "ticks": ""
             }
            },
            "marker": {
             "colorbar": {
              "outlinewidth": 0,
              "ticks": ""
             }
            },
            "type": "scatter3d"
           }
          ],
          "scattercarpet": [
           {
            "marker": {
             "colorbar": {
              "outlinewidth": 0,
              "ticks": ""
             }
            },
            "type": "scattercarpet"
           }
          ],
          "scattergeo": [
           {
            "marker": {
             "colorbar": {
              "outlinewidth": 0,
              "ticks": ""
             }
            },
            "type": "scattergeo"
           }
          ],
          "scattergl": [
           {
            "marker": {
             "colorbar": {
              "outlinewidth": 0,
              "ticks": ""
             }
            },
            "type": "scattergl"
           }
          ],
          "scattermapbox": [
           {
            "marker": {
             "colorbar": {
              "outlinewidth": 0,
              "ticks": ""
             }
            },
            "type": "scattermapbox"
           }
          ],
          "scatterpolar": [
           {
            "marker": {
             "colorbar": {
              "outlinewidth": 0,
              "ticks": ""
             }
            },
            "type": "scatterpolar"
           }
          ],
          "scatterpolargl": [
           {
            "marker": {
             "colorbar": {
              "outlinewidth": 0,
              "ticks": ""
             }
            },
            "type": "scatterpolargl"
           }
          ],
          "scatterternary": [
           {
            "marker": {
             "colorbar": {
              "outlinewidth": 0,
              "ticks": ""
             }
            },
            "type": "scatterternary"
           }
          ],
          "surface": [
           {
            "colorbar": {
             "outlinewidth": 0,
             "ticks": ""
            },
            "colorscale": [
             [
              0,
              "#0d0887"
             ],
             [
              0.1111111111111111,
              "#46039f"
             ],
             [
              0.2222222222222222,
              "#7201a8"
             ],
             [
              0.3333333333333333,
              "#9c179e"
             ],
             [
              0.4444444444444444,
              "#bd3786"
             ],
             [
              0.5555555555555556,
              "#d8576b"
             ],
             [
              0.6666666666666666,
              "#ed7953"
             ],
             [
              0.7777777777777778,
              "#fb9f3a"
             ],
             [
              0.8888888888888888,
              "#fdca26"
             ],
             [
              1,
              "#f0f921"
             ]
            ],
            "type": "surface"
           }
          ],
          "table": [
           {
            "cells": {
             "fill": {
              "color": "#EBF0F8"
             },
             "line": {
              "color": "white"
             }
            },
            "header": {
             "fill": {
              "color": "#C8D4E3"
             },
             "line": {
              "color": "white"
             }
            },
            "type": "table"
           }
          ]
         },
         "layout": {
          "annotationdefaults": {
           "arrowcolor": "#2a3f5f",
           "arrowhead": 0,
           "arrowwidth": 1
          },
          "autotypenumbers": "strict",
          "coloraxis": {
           "colorbar": {
            "outlinewidth": 0,
            "ticks": ""
           }
          },
          "colorscale": {
           "diverging": [
            [
             0,
             "#8e0152"
            ],
            [
             0.1,
             "#c51b7d"
            ],
            [
             0.2,
             "#de77ae"
            ],
            [
             0.3,
             "#f1b6da"
            ],
            [
             0.4,
             "#fde0ef"
            ],
            [
             0.5,
             "#f7f7f7"
            ],
            [
             0.6,
             "#e6f5d0"
            ],
            [
             0.7,
             "#b8e186"
            ],
            [
             0.8,
             "#7fbc41"
            ],
            [
             0.9,
             "#4d9221"
            ],
            [
             1,
             "#276419"
            ]
           ],
           "sequential": [
            [
             0,
             "#0d0887"
            ],
            [
             0.1111111111111111,
             "#46039f"
            ],
            [
             0.2222222222222222,
             "#7201a8"
            ],
            [
             0.3333333333333333,
             "#9c179e"
            ],
            [
             0.4444444444444444,
             "#bd3786"
            ],
            [
             0.5555555555555556,
             "#d8576b"
            ],
            [
             0.6666666666666666,
             "#ed7953"
            ],
            [
             0.7777777777777778,
             "#fb9f3a"
            ],
            [
             0.8888888888888888,
             "#fdca26"
            ],
            [
             1,
             "#f0f921"
            ]
           ],
           "sequentialminus": [
            [
             0,
             "#0d0887"
            ],
            [
             0.1111111111111111,
             "#46039f"
            ],
            [
             0.2222222222222222,
             "#7201a8"
            ],
            [
             0.3333333333333333,
             "#9c179e"
            ],
            [
             0.4444444444444444,
             "#bd3786"
            ],
            [
             0.5555555555555556,
             "#d8576b"
            ],
            [
             0.6666666666666666,
             "#ed7953"
            ],
            [
             0.7777777777777778,
             "#fb9f3a"
            ],
            [
             0.8888888888888888,
             "#fdca26"
            ],
            [
             1,
             "#f0f921"
            ]
           ]
          },
          "colorway": [
           "#636efa",
           "#EF553B",
           "#00cc96",
           "#ab63fa",
           "#FFA15A",
           "#19d3f3",
           "#FF6692",
           "#B6E880",
           "#FF97FF",
           "#FECB52"
          ],
          "font": {
           "color": "#2a3f5f"
          },
          "geo": {
           "bgcolor": "white",
           "lakecolor": "white",
           "landcolor": "#E5ECF6",
           "showlakes": true,
           "showland": true,
           "subunitcolor": "white"
          },
          "hoverlabel": {
           "align": "left"
          },
          "hovermode": "closest",
          "mapbox": {
           "style": "light"
          },
          "paper_bgcolor": "white",
          "plot_bgcolor": "#E5ECF6",
          "polar": {
           "angularaxis": {
            "gridcolor": "white",
            "linecolor": "white",
            "ticks": ""
           },
           "bgcolor": "#E5ECF6",
           "radialaxis": {
            "gridcolor": "white",
            "linecolor": "white",
            "ticks": ""
           }
          },
          "scene": {
           "xaxis": {
            "backgroundcolor": "#E5ECF6",
            "gridcolor": "white",
            "gridwidth": 2,
            "linecolor": "white",
            "showbackground": true,
            "ticks": "",
            "zerolinecolor": "white"
           },
           "yaxis": {
            "backgroundcolor": "#E5ECF6",
            "gridcolor": "white",
            "gridwidth": 2,
            "linecolor": "white",
            "showbackground": true,
            "ticks": "",
            "zerolinecolor": "white"
           },
           "zaxis": {
            "backgroundcolor": "#E5ECF6",
            "gridcolor": "white",
            "gridwidth": 2,
            "linecolor": "white",
            "showbackground": true,
            "ticks": "",
            "zerolinecolor": "white"
           }
          },
          "shapedefaults": {
           "line": {
            "color": "#2a3f5f"
           }
          },
          "ternary": {
           "aaxis": {
            "gridcolor": "white",
            "linecolor": "white",
            "ticks": ""
           },
           "baxis": {
            "gridcolor": "white",
            "linecolor": "white",
            "ticks": ""
           },
           "bgcolor": "#E5ECF6",
           "caxis": {
            "gridcolor": "white",
            "linecolor": "white",
            "ticks": ""
           }
          },
          "title": {
           "x": 0.05
          },
          "xaxis": {
           "automargin": true,
           "gridcolor": "white",
           "linecolor": "white",
           "ticks": "",
           "title": {
            "standoff": 15
           },
           "zerolinecolor": "white",
           "zerolinewidth": 2
          },
          "yaxis": {
           "automargin": true,
           "gridcolor": "white",
           "linecolor": "white",
           "ticks": "",
           "title": {
            "standoff": 15
           },
           "zerolinecolor": "white",
           "zerolinewidth": 2
          }
         }
        },
        "title": {
         "text": "Speed Data for Participant 08"
        },
        "xaxis": {
         "tickformat": "%H:%M",
         "title": {
          "text": "Time"
         }
        },
        "yaxis": {
         "title": {
          "text": "Speed in km/h"
         }
        }
       }
      }
     },
     "metadata": {},
     "output_type": "display_data"
    },
    {
     "name": "stdout",
     "output_type": "stream",
     "text": [
      "[(Timestamp('2024-07-10 14:42:24.927000'), np.float64(9.48635905981064), np.float64(9.12857130595616)), (Timestamp('2024-07-10 14:44:24.927000'), np.float64(9.97199993133545), np.float64(10.446256542205811)), (Timestamp('2024-07-10 14:46:24.927000'), np.float64(9.586285768236433), np.float64(9.716727447509767)), (Timestamp('2024-07-10 14:48:24.927000'), np.float64(7.774798357486725), np.float64(9.273599739074708)), (Timestamp('2024-07-10 14:50:24.927000'), np.float64(9.385714040483748), np.float64(9.118285724094937)), (Timestamp('2024-07-10 14:52:24.927000'), np.float64(8.31272734295238), np.float64(8.295428691591535))]\n",
      "6\n",
      "6\n",
      "0\n",
      "0\n"
     ]
    },
    {
     "data": {
      "application/vnd.plotly.v1+json": {
       "config": {
        "plotlyServerURL": "https://plot.ly"
       },
       "data": [
        {
         "mode": "lines",
         "name": "Speed",
         "type": "scatter",
         "x": [
          "2024-07-10T15:00:57.958000",
          "2024-07-10T15:01:06.960000",
          "2024-07-10T15:01:11.961000",
          "2024-07-10T15:01:17.959000",
          "2024-07-10T15:01:23.959000",
          "2024-07-10T15:01:32.959000",
          "2024-07-10T15:01:37.959000",
          "2024-07-10T15:01:42.958000",
          "2024-07-10T15:01:47.959000",
          "2024-07-10T15:01:57.960000",
          "2024-07-10T15:02:02.958000",
          "2024-07-10T15:02:12.960000",
          "2024-07-10T15:02:17.961000",
          "2024-07-10T15:02:22.960000",
          "2024-07-10T15:02:27.960000",
          "2024-07-10T15:02:32.959000",
          "2024-07-10T15:02:38.958000",
          "2024-07-10T15:02:50.959000",
          "2024-07-10T15:02:56.964000",
          "2024-07-10T15:03:04.959000",
          "2024-07-10T15:03:10.959000",
          "2024-07-10T15:03:15.960000",
          "2024-07-10T15:03:20.959000",
          "2024-07-10T15:03:29.961000",
          "2024-07-10T15:03:34.959000",
          "2024-07-10T15:03:39.959000",
          "2024-07-10T15:03:44.959000",
          "2024-07-10T15:03:49.960000",
          "2024-07-10T15:03:54.960000",
          "2024-07-10T15:03:59.959000",
          "2024-07-10T15:04:04.958000",
          "2024-07-10T15:04:09.959000",
          "2024-07-10T15:04:14.961000",
          "2024-07-10T15:04:19.960000",
          "2024-07-10T15:04:24.961000",
          "2024-07-10T15:04:29.961000",
          "2024-07-10T15:04:34.959000",
          "2024-07-10T15:04:39.960000",
          "2024-07-10T15:04:44.959000",
          "2024-07-10T15:04:49.960000",
          "2024-07-10T15:04:54.961000",
          "2024-07-10T15:04:59.959000",
          "2024-07-10T15:05:04.963000",
          "2024-07-10T15:05:09.958000",
          "2024-07-10T15:05:14.960000",
          "2024-07-10T15:05:19.960000",
          "2024-07-10T15:05:25.959000",
          "2024-07-10T15:05:35.957000",
          "2024-07-10T15:05:40.960000",
          "2024-07-10T15:05:50.959000",
          "2024-07-10T15:05:56.958000",
          "2024-07-10T15:06:02.959000",
          "2024-07-10T15:06:07.960000",
          "2024-07-10T15:06:15.961000",
          "2024-07-10T15:06:20.959000",
          "2024-07-10T15:06:26.959000",
          "2024-07-10T15:06:31.963000",
          "2024-07-10T15:06:36.955000",
          "2024-07-10T15:06:45.959000",
          "2024-07-10T15:06:50.960000",
          "2024-07-10T15:06:55.961000",
          "2024-07-10T15:07:00.959000",
          "2024-07-10T15:07:05.959000",
          "2024-07-10T15:07:10.960000",
          "2024-07-10T15:07:15.960000",
          "2024-07-10T15:07:20.959000",
          "2024-07-10T15:07:25.959000",
          "2024-07-10T15:07:30.959000",
          "2024-07-10T15:07:36.958000",
          "2024-07-10T15:07:41.959000",
          "2024-07-10T15:07:46.958000",
          "2024-07-10T15:07:55.960000",
          "2024-07-10T15:08:00.960000",
          "2024-07-10T15:08:05.960000",
          "2024-07-10T15:08:10.960000",
          "2024-07-10T15:08:15.961000",
          "2024-07-10T15:08:20.957000",
          "2024-07-10T15:08:25.959000",
          "2024-07-10T15:08:31.958000",
          "2024-07-10T15:08:40.959000",
          "2024-07-10T15:08:46.958000",
          "2024-07-10T15:08:51.959000",
          "2024-07-10T15:08:56.958000",
          "2024-07-10T15:09:01.959000",
          "2024-07-10T15:09:19.961000",
          "2024-07-10T15:09:25.958000",
          "2024-07-10T15:09:30.959000",
          "2024-07-10T15:09:35.959000",
          "2024-07-10T15:09:40.959000",
          "2024-07-10T15:09:49.957000",
          "2024-07-10T15:09:59.958000",
          "2024-07-10T15:10:08.964000",
          "2024-07-10T15:10:13.957000",
          "2024-07-10T15:10:18.960000",
          "2024-07-10T15:10:23.961000",
          "2024-07-10T15:10:28.958000",
          "2024-07-10T15:10:33.958000",
          "2024-07-10T15:10:38.960000",
          "2024-07-10T15:10:43.962000",
          "2024-07-10T15:10:48.960000",
          "2024-07-10T15:10:53.959000",
          "2024-07-10T15:10:58.958000",
          "2024-07-10T15:11:04.958000",
          "2024-07-10T15:11:13.959000",
          "2024-07-10T15:11:18.958000",
          "2024-07-10T15:11:23.961000",
          "2024-07-10T15:11:28.958000",
          "2024-07-10T15:11:33.959000",
          "2024-07-10T15:11:38.960000",
          "2024-07-10T15:11:43.962000",
          "2024-07-10T15:11:48.958000",
          "2024-07-10T15:11:53.963000",
          "2024-07-10T15:11:58.961000",
          "2024-07-10T15:12:03.961000",
          "2024-07-10T15:12:08.958000",
          "2024-07-10T15:12:13.961000",
          "2024-07-10T15:12:18.963000",
          "2024-07-10T15:12:23.962000",
          "2024-07-10T15:12:28.962000",
          "2024-07-10T15:12:34.963000",
          "2024-07-10T15:12:44.956000",
          "2024-07-10T15:12:49.958000",
          "2024-07-10T15:12:54.959000",
          "2024-07-10T15:13:03.962000",
          "2024-07-10T15:13:08.959000",
          "2024-07-10T15:13:14.959000",
          "2024-07-10T15:13:24.959000",
          "2024-07-10T15:13:29.959000",
          "2024-07-10T15:13:38.963000",
          "2024-07-10T15:13:43.961000",
          "2024-07-10T15:13:48.960000",
          "2024-07-10T15:13:54.959000",
          "2024-07-10T15:14:03.961000",
          "2024-07-10T15:14:08.960000",
          "2024-07-10T15:14:13.962000",
          "2024-07-10T15:14:18.959000",
          "2024-07-10T15:14:24.959000",
          "2024-07-10T15:14:33.959000",
          "2024-07-10T15:14:38.961000",
          "2024-07-10T15:14:43.961000",
          "2024-07-10T15:14:48.961000",
          "2024-07-10T15:14:53.959000",
          "2024-07-10T15:14:58.961000",
          "2024-07-10T15:15:03.963000",
          "2024-07-10T15:15:08.960000",
          "2024-07-10T15:15:13.962000",
          "2024-07-10T15:15:18.962000",
          "2024-07-10T15:15:23.961000",
          "2024-07-10T15:15:28.960000"
         ],
         "y": [
          8.568000411987304,
          8.568000411987304,
          9,
          9.50400037765503,
          9.648000240325928,
          10.079999828338623,
          9.468000411987305,
          9.251999759674073,
          9.287999725341797,
          9.035999965667726,
          8.964000034332276,
          8.92800006866455,
          8.784000205993653,
          8.568000411987304,
          8.568000411987304,
          8.495999622344971,
          8.351999759674072,
          8.459999656677246,
          8.351999759674072,
          8.459999656677246,
          8.531999588012695,
          8.387999725341798,
          8.387999725341798,
          8.2439998626709,
          8.207999897003175,
          8.2439998626709,
          8.351999759674072,
          9,
          9.107999897003173,
          8.92800006866455,
          8.892000102996825,
          8.820000171661377,
          8.568000411987304,
          8.60400037765503,
          8.495999622344971,
          8.495999622344971,
          8.495999622344971,
          8.568000411987304,
          8.640000343322756,
          8.495999622344971,
          8.423999691009522,
          8.531999588012695,
          8.531999588012695,
          8.459999656677246,
          8.459999656677246,
          8.423999691009522,
          8.351999759674072,
          8.495999622344971,
          8.423999691009522,
          8.387999725341798,
          8.568000411987304,
          8.495999622344971,
          8.531999588012695,
          8.279999828338623,
          8.279999828338623,
          8.315999794006348,
          8.279999828338623,
          8.423999691009522,
          8.387999725341798,
          8.351999759674072,
          8.2439998626709,
          8.2439998626709,
          8.279999828338623,
          8.351999759674072,
          8.315999794006348,
          7.5239996910095215,
          8.207999897003175,
          8.1,
          8.17199993133545,
          8.17199993133545,
          8.2439998626709,
          8.315999794006348,
          8.17199993133545,
          8.17199993133545,
          8.028000068664552,
          7.956000137329101,
          8.028000068664552,
          7.884000205993653,
          7.812000274658203,
          7.956000137329101,
          8.028000068664552,
          7.848000240325928,
          7.848000240325928,
          7.740000343322755,
          7.668000411987305,
          7.595999622344971,
          7.559999656677246,
          7.415999794006348,
          7.451999759674073,
          7.559999656677246,
          7.631999588012696,
          7.631999588012696,
          7.379999828338623,
          7.3439998626709,
          7.27199993133545,
          7.307999897003174,
          7.27199993133545,
          7.27199993133545,
          7.164000034332275,
          7.128000068664551,
          7.2,
          7.2,
          7.235999965667725,
          7.3439998626709,
          7.27199993133545,
          7.27199993133545,
          7.235999965667725,
          7.235999965667725,
          7.235999965667725,
          7.235999965667725,
          7.27199993133545,
          7.235999965667725,
          7.27199993133545,
          7.164000034332275,
          7.164000034332275,
          7.128000068664551,
          7.092000102996826,
          7.27199993133545,
          7.27199993133545,
          7.235999965667725,
          7.235999965667725,
          7.27199993133545,
          7.235999965667725,
          7.2,
          7.235999965667725,
          7.27199993133545,
          7.451999759674073,
          7.487999725341797,
          7.379999828338623,
          7.379999828338623,
          7.415999794006348,
          7.307999897003174,
          7.3439998626709,
          7.415999794006348,
          7.3439998626709,
          7.27199993133545,
          7.379999828338623,
          7.415999794006348,
          7.487999725341797,
          7.487999725341797,
          7.5239996910095215,
          7.559999656677246,
          7.5239996910095215,
          7.415999794006348,
          7.415999794006348,
          7.379999828338623,
          7.451999759674073,
          7.379999828338623,
          7.415999794006348
         ]
        }
       ],
       "layout": {
        "annotations": [
         {
          "arrowcolor": "red",
          "arrowhead": 1,
          "ax": -10,
          "ay": -30,
          "showarrow": true,
          "text": "Start",
          "x": "2024-07-10T15:00:26.949000",
          "y": 10.079999828338623
         },
         {
          "arrowcolor": "blue",
          "arrowhead": 1,
          "ax": -10,
          "ay": -30,
          "showarrow": true,
          "text": "+2min",
          "x": "2024-07-10T15:02:26.949000",
          "y": 10.079999828338623
         },
         {
          "arrowcolor": "blue",
          "arrowhead": 1,
          "ax": -10,
          "ay": -30,
          "showarrow": true,
          "text": "+4min",
          "x": "2024-07-10T15:04:26.949000",
          "y": 10.079999828338623
         },
         {
          "arrowcolor": "blue",
          "arrowhead": 1,
          "ax": -10,
          "ay": -30,
          "showarrow": true,
          "text": "+6min",
          "x": "2024-07-10T15:06:26.949000",
          "y": 10.079999828338623
         },
         {
          "arrowcolor": "grey",
          "arrowhead": 1,
          "ax": -10,
          "ay": -30,
          "showarrow": true,
          "text": "+8min",
          "x": "2024-07-10T15:08:26.949000",
          "y": 10.079999828338623
         },
         {
          "arrowcolor": "blue",
          "arrowhead": 1,
          "ax": -10,
          "ay": -30,
          "showarrow": true,
          "text": "+10min",
          "x": "2024-07-10T15:10:26.949000",
          "y": 10.079999828338623
         },
         {
          "arrowcolor": "blue",
          "arrowhead": 1,
          "ax": -10,
          "ay": -30,
          "showarrow": true,
          "text": "+12min",
          "x": "2024-07-10T15:12:26.949000",
          "y": 10.079999828338623
         },
         {
          "arrowcolor": "blue",
          "arrowhead": 1,
          "ax": -10,
          "ay": -30,
          "showarrow": true,
          "text": "End",
          "x": "2024-07-10T15:15:26.949000",
          "y": 10.079999828338623
         }
        ],
        "shapes": [
         {
          "line": {
           "color": "red",
           "dash": "dash"
          },
          "type": "line",
          "x0": "2024-07-10T15:00:26.949000",
          "x1": "2024-07-10T15:00:26.949000",
          "xref": "x",
          "y0": 0,
          "y1": 1,
          "yref": "y domain"
         },
         {
          "line": {
           "color": "blue",
           "dash": "dash"
          },
          "type": "line",
          "x0": "2024-07-10T15:02:26.949000",
          "x1": "2024-07-10T15:02:26.949000",
          "xref": "x",
          "y0": 0,
          "y1": 1,
          "yref": "y domain"
         },
         {
          "line": {
           "color": "blue",
           "dash": "dash"
          },
          "type": "line",
          "x0": "2024-07-10T15:04:26.949000",
          "x1": "2024-07-10T15:04:26.949000",
          "xref": "x",
          "y0": 0,
          "y1": 1,
          "yref": "y domain"
         },
         {
          "line": {
           "color": "blue",
           "dash": "dash"
          },
          "type": "line",
          "x0": "2024-07-10T15:06:26.949000",
          "x1": "2024-07-10T15:06:26.949000",
          "xref": "x",
          "y0": 0,
          "y1": 1,
          "yref": "y domain"
         },
         {
          "line": {
           "color": "grey",
           "dash": "dash"
          },
          "type": "line",
          "x0": "2024-07-10T15:08:26.949000",
          "x1": "2024-07-10T15:08:26.949000",
          "xref": "x",
          "y0": 0,
          "y1": 1,
          "yref": "y domain"
         },
         {
          "line": {
           "color": "blue",
           "dash": "dash"
          },
          "type": "line",
          "x0": "2024-07-10T15:10:26.949000",
          "x1": "2024-07-10T15:10:26.949000",
          "xref": "x",
          "y0": 0,
          "y1": 1,
          "yref": "y domain"
         },
         {
          "line": {
           "color": "blue",
           "dash": "dash"
          },
          "type": "line",
          "x0": "2024-07-10T15:12:26.949000",
          "x1": "2024-07-10T15:12:26.949000",
          "xref": "x",
          "y0": 0,
          "y1": 1,
          "yref": "y domain"
         },
         {
          "line": {
           "color": "red",
           "dash": "dash"
          },
          "type": "line",
          "x0": "2024-07-10T15:15:26.949000",
          "x1": "2024-07-10T15:15:26.949000",
          "xref": "x",
          "y0": 0,
          "y1": 1,
          "yref": "y domain"
         }
        ],
        "template": {
         "data": {
          "bar": [
           {
            "error_x": {
             "color": "#2a3f5f"
            },
            "error_y": {
             "color": "#2a3f5f"
            },
            "marker": {
             "line": {
              "color": "#E5ECF6",
              "width": 0.5
             },
             "pattern": {
              "fillmode": "overlay",
              "size": 10,
              "solidity": 0.2
             }
            },
            "type": "bar"
           }
          ],
          "barpolar": [
           {
            "marker": {
             "line": {
              "color": "#E5ECF6",
              "width": 0.5
             },
             "pattern": {
              "fillmode": "overlay",
              "size": 10,
              "solidity": 0.2
             }
            },
            "type": "barpolar"
           }
          ],
          "carpet": [
           {
            "aaxis": {
             "endlinecolor": "#2a3f5f",
             "gridcolor": "white",
             "linecolor": "white",
             "minorgridcolor": "white",
             "startlinecolor": "#2a3f5f"
            },
            "baxis": {
             "endlinecolor": "#2a3f5f",
             "gridcolor": "white",
             "linecolor": "white",
             "minorgridcolor": "white",
             "startlinecolor": "#2a3f5f"
            },
            "type": "carpet"
           }
          ],
          "choropleth": [
           {
            "colorbar": {
             "outlinewidth": 0,
             "ticks": ""
            },
            "type": "choropleth"
           }
          ],
          "contour": [
           {
            "colorbar": {
             "outlinewidth": 0,
             "ticks": ""
            },
            "colorscale": [
             [
              0,
              "#0d0887"
             ],
             [
              0.1111111111111111,
              "#46039f"
             ],
             [
              0.2222222222222222,
              "#7201a8"
             ],
             [
              0.3333333333333333,
              "#9c179e"
             ],
             [
              0.4444444444444444,
              "#bd3786"
             ],
             [
              0.5555555555555556,
              "#d8576b"
             ],
             [
              0.6666666666666666,
              "#ed7953"
             ],
             [
              0.7777777777777778,
              "#fb9f3a"
             ],
             [
              0.8888888888888888,
              "#fdca26"
             ],
             [
              1,
              "#f0f921"
             ]
            ],
            "type": "contour"
           }
          ],
          "contourcarpet": [
           {
            "colorbar": {
             "outlinewidth": 0,
             "ticks": ""
            },
            "type": "contourcarpet"
           }
          ],
          "heatmap": [
           {
            "colorbar": {
             "outlinewidth": 0,
             "ticks": ""
            },
            "colorscale": [
             [
              0,
              "#0d0887"
             ],
             [
              0.1111111111111111,
              "#46039f"
             ],
             [
              0.2222222222222222,
              "#7201a8"
             ],
             [
              0.3333333333333333,
              "#9c179e"
             ],
             [
              0.4444444444444444,
              "#bd3786"
             ],
             [
              0.5555555555555556,
              "#d8576b"
             ],
             [
              0.6666666666666666,
              "#ed7953"
             ],
             [
              0.7777777777777778,
              "#fb9f3a"
             ],
             [
              0.8888888888888888,
              "#fdca26"
             ],
             [
              1,
              "#f0f921"
             ]
            ],
            "type": "heatmap"
           }
          ],
          "heatmapgl": [
           {
            "colorbar": {
             "outlinewidth": 0,
             "ticks": ""
            },
            "colorscale": [
             [
              0,
              "#0d0887"
             ],
             [
              0.1111111111111111,
              "#46039f"
             ],
             [
              0.2222222222222222,
              "#7201a8"
             ],
             [
              0.3333333333333333,
              "#9c179e"
             ],
             [
              0.4444444444444444,
              "#bd3786"
             ],
             [
              0.5555555555555556,
              "#d8576b"
             ],
             [
              0.6666666666666666,
              "#ed7953"
             ],
             [
              0.7777777777777778,
              "#fb9f3a"
             ],
             [
              0.8888888888888888,
              "#fdca26"
             ],
             [
              1,
              "#f0f921"
             ]
            ],
            "type": "heatmapgl"
           }
          ],
          "histogram": [
           {
            "marker": {
             "pattern": {
              "fillmode": "overlay",
              "size": 10,
              "solidity": 0.2
             }
            },
            "type": "histogram"
           }
          ],
          "histogram2d": [
           {
            "colorbar": {
             "outlinewidth": 0,
             "ticks": ""
            },
            "colorscale": [
             [
              0,
              "#0d0887"
             ],
             [
              0.1111111111111111,
              "#46039f"
             ],
             [
              0.2222222222222222,
              "#7201a8"
             ],
             [
              0.3333333333333333,
              "#9c179e"
             ],
             [
              0.4444444444444444,
              "#bd3786"
             ],
             [
              0.5555555555555556,
              "#d8576b"
             ],
             [
              0.6666666666666666,
              "#ed7953"
             ],
             [
              0.7777777777777778,
              "#fb9f3a"
             ],
             [
              0.8888888888888888,
              "#fdca26"
             ],
             [
              1,
              "#f0f921"
             ]
            ],
            "type": "histogram2d"
           }
          ],
          "histogram2dcontour": [
           {
            "colorbar": {
             "outlinewidth": 0,
             "ticks": ""
            },
            "colorscale": [
             [
              0,
              "#0d0887"
             ],
             [
              0.1111111111111111,
              "#46039f"
             ],
             [
              0.2222222222222222,
              "#7201a8"
             ],
             [
              0.3333333333333333,
              "#9c179e"
             ],
             [
              0.4444444444444444,
              "#bd3786"
             ],
             [
              0.5555555555555556,
              "#d8576b"
             ],
             [
              0.6666666666666666,
              "#ed7953"
             ],
             [
              0.7777777777777778,
              "#fb9f3a"
             ],
             [
              0.8888888888888888,
              "#fdca26"
             ],
             [
              1,
              "#f0f921"
             ]
            ],
            "type": "histogram2dcontour"
           }
          ],
          "mesh3d": [
           {
            "colorbar": {
             "outlinewidth": 0,
             "ticks": ""
            },
            "type": "mesh3d"
           }
          ],
          "parcoords": [
           {
            "line": {
             "colorbar": {
              "outlinewidth": 0,
              "ticks": ""
             }
            },
            "type": "parcoords"
           }
          ],
          "pie": [
           {
            "automargin": true,
            "type": "pie"
           }
          ],
          "scatter": [
           {
            "fillpattern": {
             "fillmode": "overlay",
             "size": 10,
             "solidity": 0.2
            },
            "type": "scatter"
           }
          ],
          "scatter3d": [
           {
            "line": {
             "colorbar": {
              "outlinewidth": 0,
              "ticks": ""
             }
            },
            "marker": {
             "colorbar": {
              "outlinewidth": 0,
              "ticks": ""
             }
            },
            "type": "scatter3d"
           }
          ],
          "scattercarpet": [
           {
            "marker": {
             "colorbar": {
              "outlinewidth": 0,
              "ticks": ""
             }
            },
            "type": "scattercarpet"
           }
          ],
          "scattergeo": [
           {
            "marker": {
             "colorbar": {
              "outlinewidth": 0,
              "ticks": ""
             }
            },
            "type": "scattergeo"
           }
          ],
          "scattergl": [
           {
            "marker": {
             "colorbar": {
              "outlinewidth": 0,
              "ticks": ""
             }
            },
            "type": "scattergl"
           }
          ],
          "scattermapbox": [
           {
            "marker": {
             "colorbar": {
              "outlinewidth": 0,
              "ticks": ""
             }
            },
            "type": "scattermapbox"
           }
          ],
          "scatterpolar": [
           {
            "marker": {
             "colorbar": {
              "outlinewidth": 0,
              "ticks": ""
             }
            },
            "type": "scatterpolar"
           }
          ],
          "scatterpolargl": [
           {
            "marker": {
             "colorbar": {
              "outlinewidth": 0,
              "ticks": ""
             }
            },
            "type": "scatterpolargl"
           }
          ],
          "scatterternary": [
           {
            "marker": {
             "colorbar": {
              "outlinewidth": 0,
              "ticks": ""
             }
            },
            "type": "scatterternary"
           }
          ],
          "surface": [
           {
            "colorbar": {
             "outlinewidth": 0,
             "ticks": ""
            },
            "colorscale": [
             [
              0,
              "#0d0887"
             ],
             [
              0.1111111111111111,
              "#46039f"
             ],
             [
              0.2222222222222222,
              "#7201a8"
             ],
             [
              0.3333333333333333,
              "#9c179e"
             ],
             [
              0.4444444444444444,
              "#bd3786"
             ],
             [
              0.5555555555555556,
              "#d8576b"
             ],
             [
              0.6666666666666666,
              "#ed7953"
             ],
             [
              0.7777777777777778,
              "#fb9f3a"
             ],
             [
              0.8888888888888888,
              "#fdca26"
             ],
             [
              1,
              "#f0f921"
             ]
            ],
            "type": "surface"
           }
          ],
          "table": [
           {
            "cells": {
             "fill": {
              "color": "#EBF0F8"
             },
             "line": {
              "color": "white"
             }
            },
            "header": {
             "fill": {
              "color": "#C8D4E3"
             },
             "line": {
              "color": "white"
             }
            },
            "type": "table"
           }
          ]
         },
         "layout": {
          "annotationdefaults": {
           "arrowcolor": "#2a3f5f",
           "arrowhead": 0,
           "arrowwidth": 1
          },
          "autotypenumbers": "strict",
          "coloraxis": {
           "colorbar": {
            "outlinewidth": 0,
            "ticks": ""
           }
          },
          "colorscale": {
           "diverging": [
            [
             0,
             "#8e0152"
            ],
            [
             0.1,
             "#c51b7d"
            ],
            [
             0.2,
             "#de77ae"
            ],
            [
             0.3,
             "#f1b6da"
            ],
            [
             0.4,
             "#fde0ef"
            ],
            [
             0.5,
             "#f7f7f7"
            ],
            [
             0.6,
             "#e6f5d0"
            ],
            [
             0.7,
             "#b8e186"
            ],
            [
             0.8,
             "#7fbc41"
            ],
            [
             0.9,
             "#4d9221"
            ],
            [
             1,
             "#276419"
            ]
           ],
           "sequential": [
            [
             0,
             "#0d0887"
            ],
            [
             0.1111111111111111,
             "#46039f"
            ],
            [
             0.2222222222222222,
             "#7201a8"
            ],
            [
             0.3333333333333333,
             "#9c179e"
            ],
            [
             0.4444444444444444,
             "#bd3786"
            ],
            [
             0.5555555555555556,
             "#d8576b"
            ],
            [
             0.6666666666666666,
             "#ed7953"
            ],
            [
             0.7777777777777778,
             "#fb9f3a"
            ],
            [
             0.8888888888888888,
             "#fdca26"
            ],
            [
             1,
             "#f0f921"
            ]
           ],
           "sequentialminus": [
            [
             0,
             "#0d0887"
            ],
            [
             0.1111111111111111,
             "#46039f"
            ],
            [
             0.2222222222222222,
             "#7201a8"
            ],
            [
             0.3333333333333333,
             "#9c179e"
            ],
            [
             0.4444444444444444,
             "#bd3786"
            ],
            [
             0.5555555555555556,
             "#d8576b"
            ],
            [
             0.6666666666666666,
             "#ed7953"
            ],
            [
             0.7777777777777778,
             "#fb9f3a"
            ],
            [
             0.8888888888888888,
             "#fdca26"
            ],
            [
             1,
             "#f0f921"
            ]
           ]
          },
          "colorway": [
           "#636efa",
           "#EF553B",
           "#00cc96",
           "#ab63fa",
           "#FFA15A",
           "#19d3f3",
           "#FF6692",
           "#B6E880",
           "#FF97FF",
           "#FECB52"
          ],
          "font": {
           "color": "#2a3f5f"
          },
          "geo": {
           "bgcolor": "white",
           "lakecolor": "white",
           "landcolor": "#E5ECF6",
           "showlakes": true,
           "showland": true,
           "subunitcolor": "white"
          },
          "hoverlabel": {
           "align": "left"
          },
          "hovermode": "closest",
          "mapbox": {
           "style": "light"
          },
          "paper_bgcolor": "white",
          "plot_bgcolor": "#E5ECF6",
          "polar": {
           "angularaxis": {
            "gridcolor": "white",
            "linecolor": "white",
            "ticks": ""
           },
           "bgcolor": "#E5ECF6",
           "radialaxis": {
            "gridcolor": "white",
            "linecolor": "white",
            "ticks": ""
           }
          },
          "scene": {
           "xaxis": {
            "backgroundcolor": "#E5ECF6",
            "gridcolor": "white",
            "gridwidth": 2,
            "linecolor": "white",
            "showbackground": true,
            "ticks": "",
            "zerolinecolor": "white"
           },
           "yaxis": {
            "backgroundcolor": "#E5ECF6",
            "gridcolor": "white",
            "gridwidth": 2,
            "linecolor": "white",
            "showbackground": true,
            "ticks": "",
            "zerolinecolor": "white"
           },
           "zaxis": {
            "backgroundcolor": "#E5ECF6",
            "gridcolor": "white",
            "gridwidth": 2,
            "linecolor": "white",
            "showbackground": true,
            "ticks": "",
            "zerolinecolor": "white"
           }
          },
          "shapedefaults": {
           "line": {
            "color": "#2a3f5f"
           }
          },
          "ternary": {
           "aaxis": {
            "gridcolor": "white",
            "linecolor": "white",
            "ticks": ""
           },
           "baxis": {
            "gridcolor": "white",
            "linecolor": "white",
            "ticks": ""
           },
           "bgcolor": "#E5ECF6",
           "caxis": {
            "gridcolor": "white",
            "linecolor": "white",
            "ticks": ""
           }
          },
          "title": {
           "x": 0.05
          },
          "xaxis": {
           "automargin": true,
           "gridcolor": "white",
           "linecolor": "white",
           "ticks": "",
           "title": {
            "standoff": 15
           },
           "zerolinecolor": "white",
           "zerolinewidth": 2
          },
          "yaxis": {
           "automargin": true,
           "gridcolor": "white",
           "linecolor": "white",
           "ticks": "",
           "title": {
            "standoff": 15
           },
           "zerolinecolor": "white",
           "zerolinewidth": 2
          }
         }
        },
        "title": {
         "text": "Speed Data for Participant 09"
        },
        "xaxis": {
         "tickformat": "%H:%M",
         "title": {
          "text": "Time"
         }
        },
        "yaxis": {
         "title": {
          "text": "Speed in km/h"
         }
        }
       }
      }
     },
     "metadata": {},
     "output_type": "display_data"
    },
    {
     "name": "stdout",
     "output_type": "stream",
     "text": [
      "[(Timestamp('2024-07-10 15:02:26.949000'), np.float64(9.152000045776367), np.float64(8.443999767303469)), (Timestamp('2024-07-10 15:04:26.949000'), np.float64(8.622000002861022), np.float64(8.489999771118164)), (Timestamp('2024-07-10 15:06:26.949000'), np.float64(8.432999789714813), np.float64(8.243999791145326)), (Timestamp('2024-07-10 15:08:26.949000'), np.float64(8.113090896606446), np.float64(7.812000167369844)), (Timestamp('2024-07-10 15:10:26.949000'), np.float64(7.4719997406005865), np.float64(7.242545413970947)), (Timestamp('2024-07-10 15:12:26.949000'), np.float64(7.211999988555907), np.float64(7.267999935150147))]\n",
      "6\n",
      "0\n",
      "5\n",
      "1\n"
     ]
    },
    {
     "data": {
      "application/vnd.plotly.v1+json": {
       "config": {
        "plotlyServerURL": "https://plot.ly"
       },
       "data": [
        {
         "mode": "lines",
         "name": "Speed",
         "type": "scatter",
         "x": [
          "2024-07-10T15:20:58.977000",
          "2024-07-10T15:22:08.959000",
          "2024-07-10T15:22:25.958000",
          "2024-07-10T15:22:31.957000",
          "2024-07-10T15:22:36.957000",
          "2024-07-10T15:22:41.959000",
          "2024-07-10T15:22:46.958000",
          "2024-07-10T15:22:52.958000",
          "2024-07-10T15:22:58.956000",
          "2024-07-10T15:23:04.956000",
          "2024-07-10T15:23:17.957000",
          "2024-07-10T15:23:22.957000",
          "2024-07-10T15:23:27.956000",
          "2024-07-10T15:23:36.958000",
          "2024-07-10T15:23:42.956000",
          "2024-07-10T15:23:51.955000",
          "2024-07-10T15:23:57.955000",
          "2024-07-10T15:24:18.956000",
          "2024-07-10T15:24:27.956000",
          "2024-07-10T15:24:37.957000",
          "2024-07-10T15:24:42.956000",
          "2024-07-10T15:24:47.958000",
          "2024-07-10T15:24:52.956000",
          "2024-07-10T15:24:57.956000",
          "2024-07-10T15:25:02.959000",
          "2024-07-10T15:25:07.954000",
          "2024-07-10T15:25:17.957000",
          "2024-07-10T15:25:23.959000",
          "2024-07-10T15:25:28.953000",
          "2024-07-10T15:25:34.957000",
          "2024-07-10T15:25:39.956000",
          "2024-07-10T15:25:44.957000",
          "2024-07-10T15:25:49.977000",
          "2024-07-10T15:25:54.955000",
          "2024-07-10T15:26:04.957000",
          "2024-07-10T15:26:09.959000",
          "2024-07-10T15:26:17.959000",
          "2024-07-10T15:26:22.960000",
          "2024-07-10T15:26:27.962000",
          "2024-07-10T15:26:32.961000",
          "2024-07-10T15:26:37.959000",
          "2024-07-10T15:26:42.962000",
          "2024-07-10T15:26:48.957000",
          "2024-07-10T15:26:57.958000",
          "2024-07-10T15:27:02.958000",
          "2024-07-10T15:27:07.955000",
          "2024-07-10T15:27:13.955000",
          "2024-07-10T15:27:18.954000",
          "2024-07-10T15:27:25.959000",
          "2024-07-10T15:27:37.958000",
          "2024-07-10T15:27:42.959000",
          "2024-07-10T15:27:51.956000",
          "2024-07-10T15:27:56.955000",
          "2024-07-10T15:28:02.956000",
          "2024-07-10T15:28:13.959000",
          "2024-07-10T15:28:18.957000",
          "2024-07-10T15:28:23.957000",
          "2024-07-10T15:28:28.955000",
          "2024-07-10T15:28:37.955000",
          "2024-07-10T15:28:43.955000",
          "2024-07-10T15:28:51.960000",
          "2024-07-10T15:28:57.961000",
          "2024-07-10T15:29:07.955000",
          "2024-07-10T15:29:17.955000",
          "2024-07-10T15:29:22.957000",
          "2024-07-10T15:29:27.958000",
          "2024-07-10T15:29:32.956000",
          "2024-07-10T15:29:37.955000",
          "2024-07-10T15:29:43.955000",
          "2024-07-10T15:29:52.956000",
          "2024-07-10T15:29:57.958000",
          "2024-07-10T15:30:03.956000",
          "2024-07-10T15:30:11.958000",
          "2024-07-10T15:30:17.956000",
          "2024-07-10T15:30:26.954000",
          "2024-07-10T15:30:31.955000",
          "2024-07-10T15:30:37.955000",
          "2024-07-10T15:30:46.953000",
          "2024-07-10T15:30:51.956000",
          "2024-07-10T15:30:56.954000",
          "2024-07-10T15:31:01.956000",
          "2024-07-10T15:31:06.956000",
          "2024-07-10T15:31:11.959000",
          "2024-07-10T15:31:20.958000",
          "2024-07-10T15:31:26.954000",
          "2024-07-10T15:31:35.956000",
          "2024-07-10T15:31:40.958000",
          "2024-07-10T15:31:45.956000",
          "2024-07-10T15:31:50.957000",
          "2024-07-10T15:31:55.955000",
          "2024-07-10T15:32:00.956000",
          "2024-07-10T15:32:05.956000",
          "2024-07-10T15:32:11.956000",
          "2024-07-10T15:32:21.959000",
          "2024-07-10T15:32:26.957000",
          "2024-07-10T15:32:42.957000",
          "2024-07-10T15:32:48.958000",
          "2024-07-10T15:32:53.960000",
          "2024-07-10T15:33:08.954000",
          "2024-07-10T15:33:13.961000",
          "2024-07-10T15:33:22.960000",
          "2024-07-10T15:33:27.956000",
          "2024-07-10T15:33:32.959000",
          "2024-07-10T15:33:37.955000",
          "2024-07-10T15:33:43.960000",
          "2024-07-10T15:33:52.956000",
          "2024-07-10T15:34:01.959000",
          "2024-07-10T15:34:06.958000",
          "2024-07-10T15:34:11.957000",
          "2024-07-10T15:34:16.956000",
          "2024-07-10T15:34:21.959000",
          "2024-07-10T15:34:27.957000",
          "2024-07-10T15:34:32.961000",
          "2024-07-10T15:34:42.959000",
          "2024-07-10T15:34:47.955000",
          "2024-07-10T15:34:52.959000",
          "2024-07-10T15:34:57.958000",
          "2024-07-10T15:35:02.956000",
          "2024-07-10T15:35:07.957000",
          "2024-07-10T15:35:14.959000",
          "2024-07-10T15:35:19.955000",
          "2024-07-10T15:35:28.957000",
          "2024-07-10T15:35:33.957000",
          "2024-07-10T15:35:38.956000"
         ],
         "y": [
          12.168000411987306,
          8.92800006866455,
          8.712000274658203,
          8.640000343322756,
          8.67600030899048,
          8.60400037765503,
          8.568000411987304,
          9.215999794006349,
          9.323999691009522,
          9.395999622344972,
          9.323999691009522,
          9.179999828338623,
          9.287999725341797,
          9.359999656677246,
          8.958096599578857,
          9.287999725341797,
          9.359999656677246,
          9.035999965667726,
          9.143999862670901,
          9.179999828338623,
          9.251999759674073,
          9.395999622344972,
          9.287999725341797,
          9.359999656677246,
          9.395999622344972,
          9.431999588012696,
          9.359999656677246,
          9.468000411987305,
          9.540000343322756,
          9.540000343322756,
          9.540000343322756,
          9.756000137329101,
          9.864000034332276,
          9.792000102996825,
          9.82800006866455,
          9.792000102996825,
          9.684000205993653,
          9.720000171661377,
          9.720000171661377,
          9.50400037765503,
          9.50400037765503,
          9.468000411987305,
          9.468000411987305,
          9.359999656677246,
          9.431999588012696,
          9.540000343322756,
          9.576000308990478,
          9.684000205993653,
          9.684000205993653,
          9.612000274658204,
          9.720000171661377,
          9.684000205993653,
          9.82800006866455,
          9.792000102996825,
          9.82800006866455,
          9.756000137329101,
          9.9,
          10.115999794006347,
          10.079999828338623,
          10.007999897003174,
          10.007999897003174,
          10.0439998626709,
          10.079999828338623,
          10.115999794006347,
          10.007999897003174,
          10.151999759674073,
          10.079999828338623,
          10.0439998626709,
          10.187999725341797,
          10.331999588012696,
          10.259999656677246,
          10.151999759674073,
          10.007999897003174,
          10.115999794006347,
          10.259999656677246,
          10.223999691009523,
          10.223999691009523,
          10.440000343322756,
          10.29599962234497,
          10.331999588012696,
          10.331999588012696,
          10.29599962234497,
          10.29599962234497,
          10.331999588012696,
          10.187999725341797,
          10.223999691009523,
          10.29599962234497,
          10.29599962234497,
          10.331999588012696,
          10.404000377655029,
          10.223999691009523,
          10.404000377655029,
          10.29599962234497,
          10.404000377655029,
          10.404000377655029,
          10.29599962234497,
          9.935999965667724,
          9.935999965667724,
          10.007999897003174,
          10.007999897003174,
          10.187999725341797,
          10.187999725341797,
          10.187999725341797,
          10.115999794006347,
          10.151999759674073,
          10.223999691009523,
          10.007999897003174,
          9.935999965667724,
          9.82800006866455,
          9.792000102996825,
          9.864000034332276,
          9.935999965667724,
          9.97199993133545,
          9.82800006866455,
          9.612000274658204,
          9.50400037765503,
          9.648000240325928,
          9.792000102996825,
          9.864000034332276,
          9.792000102996825,
          9.792000102996825,
          9.935999965667724,
          9.935999965667724,
          9.576000308990478
         ]
        }
       ],
       "layout": {
        "annotations": [
         {
          "arrowcolor": "red",
          "arrowhead": 1,
          "ax": -10,
          "ay": -30,
          "showarrow": true,
          "text": "Start",
          "x": "2024-07-10T15:20:16.427000",
          "y": 12.168000411987306
         },
         {
          "arrowcolor": "green",
          "arrowhead": 1,
          "ax": -10,
          "ay": -30,
          "showarrow": true,
          "text": "+2min",
          "x": "2024-07-10T15:22:16.427000",
          "y": 12.168000411987306
         },
         {
          "arrowcolor": "grey",
          "arrowhead": 1,
          "ax": -10,
          "ay": -30,
          "showarrow": true,
          "text": "+4min",
          "x": "2024-07-10T15:24:16.427000",
          "y": 12.168000411987306
         },
         {
          "arrowcolor": "blue",
          "arrowhead": 1,
          "ax": -10,
          "ay": -30,
          "showarrow": true,
          "text": "+6min",
          "x": "2024-07-10T15:26:16.427000",
          "y": 12.168000411987306
         },
         {
          "arrowcolor": "grey",
          "arrowhead": 1,
          "ax": -10,
          "ay": -30,
          "showarrow": true,
          "text": "+8min",
          "x": "2024-07-10T15:28:16.427000",
          "y": 12.168000411987306
         },
         {
          "arrowcolor": "blue",
          "arrowhead": 1,
          "ax": -10,
          "ay": -30,
          "showarrow": true,
          "text": "+10min",
          "x": "2024-07-10T15:30:16.427000",
          "y": 12.168000411987306
         },
         {
          "arrowcolor": "green",
          "arrowhead": 1,
          "ax": -10,
          "ay": -30,
          "showarrow": true,
          "text": "+12min",
          "x": "2024-07-10T15:32:16.427000",
          "y": 12.168000411987306
         },
         {
          "arrowcolor": "blue",
          "arrowhead": 1,
          "ax": -10,
          "ay": -30,
          "showarrow": true,
          "text": "End",
          "x": "2024-07-10T15:35:16.427000",
          "y": 12.168000411987306
         }
        ],
        "shapes": [
         {
          "line": {
           "color": "red",
           "dash": "dash"
          },
          "type": "line",
          "x0": "2024-07-10T15:20:16.427000",
          "x1": "2024-07-10T15:20:16.427000",
          "xref": "x",
          "y0": 0,
          "y1": 1,
          "yref": "y domain"
         },
         {
          "line": {
           "color": "green",
           "dash": "dash"
          },
          "type": "line",
          "x0": "2024-07-10T15:22:16.427000",
          "x1": "2024-07-10T15:22:16.427000",
          "xref": "x",
          "y0": 0,
          "y1": 1,
          "yref": "y domain"
         },
         {
          "line": {
           "color": "grey",
           "dash": "dash"
          },
          "type": "line",
          "x0": "2024-07-10T15:24:16.427000",
          "x1": "2024-07-10T15:24:16.427000",
          "xref": "x",
          "y0": 0,
          "y1": 1,
          "yref": "y domain"
         },
         {
          "line": {
           "color": "blue",
           "dash": "dash"
          },
          "type": "line",
          "x0": "2024-07-10T15:26:16.427000",
          "x1": "2024-07-10T15:26:16.427000",
          "xref": "x",
          "y0": 0,
          "y1": 1,
          "yref": "y domain"
         },
         {
          "line": {
           "color": "grey",
           "dash": "dash"
          },
          "type": "line",
          "x0": "2024-07-10T15:28:16.427000",
          "x1": "2024-07-10T15:28:16.427000",
          "xref": "x",
          "y0": 0,
          "y1": 1,
          "yref": "y domain"
         },
         {
          "line": {
           "color": "blue",
           "dash": "dash"
          },
          "type": "line",
          "x0": "2024-07-10T15:30:16.427000",
          "x1": "2024-07-10T15:30:16.427000",
          "xref": "x",
          "y0": 0,
          "y1": 1,
          "yref": "y domain"
         },
         {
          "line": {
           "color": "green",
           "dash": "dash"
          },
          "type": "line",
          "x0": "2024-07-10T15:32:16.427000",
          "x1": "2024-07-10T15:32:16.427000",
          "xref": "x",
          "y0": 0,
          "y1": 1,
          "yref": "y domain"
         },
         {
          "line": {
           "color": "red",
           "dash": "dash"
          },
          "type": "line",
          "x0": "2024-07-10T15:35:16.427000",
          "x1": "2024-07-10T15:35:16.427000",
          "xref": "x",
          "y0": 0,
          "y1": 1,
          "yref": "y domain"
         }
        ],
        "template": {
         "data": {
          "bar": [
           {
            "error_x": {
             "color": "#2a3f5f"
            },
            "error_y": {
             "color": "#2a3f5f"
            },
            "marker": {
             "line": {
              "color": "#E5ECF6",
              "width": 0.5
             },
             "pattern": {
              "fillmode": "overlay",
              "size": 10,
              "solidity": 0.2
             }
            },
            "type": "bar"
           }
          ],
          "barpolar": [
           {
            "marker": {
             "line": {
              "color": "#E5ECF6",
              "width": 0.5
             },
             "pattern": {
              "fillmode": "overlay",
              "size": 10,
              "solidity": 0.2
             }
            },
            "type": "barpolar"
           }
          ],
          "carpet": [
           {
            "aaxis": {
             "endlinecolor": "#2a3f5f",
             "gridcolor": "white",
             "linecolor": "white",
             "minorgridcolor": "white",
             "startlinecolor": "#2a3f5f"
            },
            "baxis": {
             "endlinecolor": "#2a3f5f",
             "gridcolor": "white",
             "linecolor": "white",
             "minorgridcolor": "white",
             "startlinecolor": "#2a3f5f"
            },
            "type": "carpet"
           }
          ],
          "choropleth": [
           {
            "colorbar": {
             "outlinewidth": 0,
             "ticks": ""
            },
            "type": "choropleth"
           }
          ],
          "contour": [
           {
            "colorbar": {
             "outlinewidth": 0,
             "ticks": ""
            },
            "colorscale": [
             [
              0,
              "#0d0887"
             ],
             [
              0.1111111111111111,
              "#46039f"
             ],
             [
              0.2222222222222222,
              "#7201a8"
             ],
             [
              0.3333333333333333,
              "#9c179e"
             ],
             [
              0.4444444444444444,
              "#bd3786"
             ],
             [
              0.5555555555555556,
              "#d8576b"
             ],
             [
              0.6666666666666666,
              "#ed7953"
             ],
             [
              0.7777777777777778,
              "#fb9f3a"
             ],
             [
              0.8888888888888888,
              "#fdca26"
             ],
             [
              1,
              "#f0f921"
             ]
            ],
            "type": "contour"
           }
          ],
          "contourcarpet": [
           {
            "colorbar": {
             "outlinewidth": 0,
             "ticks": ""
            },
            "type": "contourcarpet"
           }
          ],
          "heatmap": [
           {
            "colorbar": {
             "outlinewidth": 0,
             "ticks": ""
            },
            "colorscale": [
             [
              0,
              "#0d0887"
             ],
             [
              0.1111111111111111,
              "#46039f"
             ],
             [
              0.2222222222222222,
              "#7201a8"
             ],
             [
              0.3333333333333333,
              "#9c179e"
             ],
             [
              0.4444444444444444,
              "#bd3786"
             ],
             [
              0.5555555555555556,
              "#d8576b"
             ],
             [
              0.6666666666666666,
              "#ed7953"
             ],
             [
              0.7777777777777778,
              "#fb9f3a"
             ],
             [
              0.8888888888888888,
              "#fdca26"
             ],
             [
              1,
              "#f0f921"
             ]
            ],
            "type": "heatmap"
           }
          ],
          "heatmapgl": [
           {
            "colorbar": {
             "outlinewidth": 0,
             "ticks": ""
            },
            "colorscale": [
             [
              0,
              "#0d0887"
             ],
             [
              0.1111111111111111,
              "#46039f"
             ],
             [
              0.2222222222222222,
              "#7201a8"
             ],
             [
              0.3333333333333333,
              "#9c179e"
             ],
             [
              0.4444444444444444,
              "#bd3786"
             ],
             [
              0.5555555555555556,
              "#d8576b"
             ],
             [
              0.6666666666666666,
              "#ed7953"
             ],
             [
              0.7777777777777778,
              "#fb9f3a"
             ],
             [
              0.8888888888888888,
              "#fdca26"
             ],
             [
              1,
              "#f0f921"
             ]
            ],
            "type": "heatmapgl"
           }
          ],
          "histogram": [
           {
            "marker": {
             "pattern": {
              "fillmode": "overlay",
              "size": 10,
              "solidity": 0.2
             }
            },
            "type": "histogram"
           }
          ],
          "histogram2d": [
           {
            "colorbar": {
             "outlinewidth": 0,
             "ticks": ""
            },
            "colorscale": [
             [
              0,
              "#0d0887"
             ],
             [
              0.1111111111111111,
              "#46039f"
             ],
             [
              0.2222222222222222,
              "#7201a8"
             ],
             [
              0.3333333333333333,
              "#9c179e"
             ],
             [
              0.4444444444444444,
              "#bd3786"
             ],
             [
              0.5555555555555556,
              "#d8576b"
             ],
             [
              0.6666666666666666,
              "#ed7953"
             ],
             [
              0.7777777777777778,
              "#fb9f3a"
             ],
             [
              0.8888888888888888,
              "#fdca26"
             ],
             [
              1,
              "#f0f921"
             ]
            ],
            "type": "histogram2d"
           }
          ],
          "histogram2dcontour": [
           {
            "colorbar": {
             "outlinewidth": 0,
             "ticks": ""
            },
            "colorscale": [
             [
              0,
              "#0d0887"
             ],
             [
              0.1111111111111111,
              "#46039f"
             ],
             [
              0.2222222222222222,
              "#7201a8"
             ],
             [
              0.3333333333333333,
              "#9c179e"
             ],
             [
              0.4444444444444444,
              "#bd3786"
             ],
             [
              0.5555555555555556,
              "#d8576b"
             ],
             [
              0.6666666666666666,
              "#ed7953"
             ],
             [
              0.7777777777777778,
              "#fb9f3a"
             ],
             [
              0.8888888888888888,
              "#fdca26"
             ],
             [
              1,
              "#f0f921"
             ]
            ],
            "type": "histogram2dcontour"
           }
          ],
          "mesh3d": [
           {
            "colorbar": {
             "outlinewidth": 0,
             "ticks": ""
            },
            "type": "mesh3d"
           }
          ],
          "parcoords": [
           {
            "line": {
             "colorbar": {
              "outlinewidth": 0,
              "ticks": ""
             }
            },
            "type": "parcoords"
           }
          ],
          "pie": [
           {
            "automargin": true,
            "type": "pie"
           }
          ],
          "scatter": [
           {
            "fillpattern": {
             "fillmode": "overlay",
             "size": 10,
             "solidity": 0.2
            },
            "type": "scatter"
           }
          ],
          "scatter3d": [
           {
            "line": {
             "colorbar": {
              "outlinewidth": 0,
              "ticks": ""
             }
            },
            "marker": {
             "colorbar": {
              "outlinewidth": 0,
              "ticks": ""
             }
            },
            "type": "scatter3d"
           }
          ],
          "scattercarpet": [
           {
            "marker": {
             "colorbar": {
              "outlinewidth": 0,
              "ticks": ""
             }
            },
            "type": "scattercarpet"
           }
          ],
          "scattergeo": [
           {
            "marker": {
             "colorbar": {
              "outlinewidth": 0,
              "ticks": ""
             }
            },
            "type": "scattergeo"
           }
          ],
          "scattergl": [
           {
            "marker": {
             "colorbar": {
              "outlinewidth": 0,
              "ticks": ""
             }
            },
            "type": "scattergl"
           }
          ],
          "scattermapbox": [
           {
            "marker": {
             "colorbar": {
              "outlinewidth": 0,
              "ticks": ""
             }
            },
            "type": "scattermapbox"
           }
          ],
          "scatterpolar": [
           {
            "marker": {
             "colorbar": {
              "outlinewidth": 0,
              "ticks": ""
             }
            },
            "type": "scatterpolar"
           }
          ],
          "scatterpolargl": [
           {
            "marker": {
             "colorbar": {
              "outlinewidth": 0,
              "ticks": ""
             }
            },
            "type": "scatterpolargl"
           }
          ],
          "scatterternary": [
           {
            "marker": {
             "colorbar": {
              "outlinewidth": 0,
              "ticks": ""
             }
            },
            "type": "scatterternary"
           }
          ],
          "surface": [
           {
            "colorbar": {
             "outlinewidth": 0,
             "ticks": ""
            },
            "colorscale": [
             [
              0,
              "#0d0887"
             ],
             [
              0.1111111111111111,
              "#46039f"
             ],
             [
              0.2222222222222222,
              "#7201a8"
             ],
             [
              0.3333333333333333,
              "#9c179e"
             ],
             [
              0.4444444444444444,
              "#bd3786"
             ],
             [
              0.5555555555555556,
              "#d8576b"
             ],
             [
              0.6666666666666666,
              "#ed7953"
             ],
             [
              0.7777777777777778,
              "#fb9f3a"
             ],
             [
              0.8888888888888888,
              "#fdca26"
             ],
             [
              1,
              "#f0f921"
             ]
            ],
            "type": "surface"
           }
          ],
          "table": [
           {
            "cells": {
             "fill": {
              "color": "#EBF0F8"
             },
             "line": {
              "color": "white"
             }
            },
            "header": {
             "fill": {
              "color": "#C8D4E3"
             },
             "line": {
              "color": "white"
             }
            },
            "type": "table"
           }
          ]
         },
         "layout": {
          "annotationdefaults": {
           "arrowcolor": "#2a3f5f",
           "arrowhead": 0,
           "arrowwidth": 1
          },
          "autotypenumbers": "strict",
          "coloraxis": {
           "colorbar": {
            "outlinewidth": 0,
            "ticks": ""
           }
          },
          "colorscale": {
           "diverging": [
            [
             0,
             "#8e0152"
            ],
            [
             0.1,
             "#c51b7d"
            ],
            [
             0.2,
             "#de77ae"
            ],
            [
             0.3,
             "#f1b6da"
            ],
            [
             0.4,
             "#fde0ef"
            ],
            [
             0.5,
             "#f7f7f7"
            ],
            [
             0.6,
             "#e6f5d0"
            ],
            [
             0.7,
             "#b8e186"
            ],
            [
             0.8,
             "#7fbc41"
            ],
            [
             0.9,
             "#4d9221"
            ],
            [
             1,
             "#276419"
            ]
           ],
           "sequential": [
            [
             0,
             "#0d0887"
            ],
            [
             0.1111111111111111,
             "#46039f"
            ],
            [
             0.2222222222222222,
             "#7201a8"
            ],
            [
             0.3333333333333333,
             "#9c179e"
            ],
            [
             0.4444444444444444,
             "#bd3786"
            ],
            [
             0.5555555555555556,
             "#d8576b"
            ],
            [
             0.6666666666666666,
             "#ed7953"
            ],
            [
             0.7777777777777778,
             "#fb9f3a"
            ],
            [
             0.8888888888888888,
             "#fdca26"
            ],
            [
             1,
             "#f0f921"
            ]
           ],
           "sequentialminus": [
            [
             0,
             "#0d0887"
            ],
            [
             0.1111111111111111,
             "#46039f"
            ],
            [
             0.2222222222222222,
             "#7201a8"
            ],
            [
             0.3333333333333333,
             "#9c179e"
            ],
            [
             0.4444444444444444,
             "#bd3786"
            ],
            [
             0.5555555555555556,
             "#d8576b"
            ],
            [
             0.6666666666666666,
             "#ed7953"
            ],
            [
             0.7777777777777778,
             "#fb9f3a"
            ],
            [
             0.8888888888888888,
             "#fdca26"
            ],
            [
             1,
             "#f0f921"
            ]
           ]
          },
          "colorway": [
           "#636efa",
           "#EF553B",
           "#00cc96",
           "#ab63fa",
           "#FFA15A",
           "#19d3f3",
           "#FF6692",
           "#B6E880",
           "#FF97FF",
           "#FECB52"
          ],
          "font": {
           "color": "#2a3f5f"
          },
          "geo": {
           "bgcolor": "white",
           "lakecolor": "white",
           "landcolor": "#E5ECF6",
           "showlakes": true,
           "showland": true,
           "subunitcolor": "white"
          },
          "hoverlabel": {
           "align": "left"
          },
          "hovermode": "closest",
          "mapbox": {
           "style": "light"
          },
          "paper_bgcolor": "white",
          "plot_bgcolor": "#E5ECF6",
          "polar": {
           "angularaxis": {
            "gridcolor": "white",
            "linecolor": "white",
            "ticks": ""
           },
           "bgcolor": "#E5ECF6",
           "radialaxis": {
            "gridcolor": "white",
            "linecolor": "white",
            "ticks": ""
           }
          },
          "scene": {
           "xaxis": {
            "backgroundcolor": "#E5ECF6",
            "gridcolor": "white",
            "gridwidth": 2,
            "linecolor": "white",
            "showbackground": true,
            "ticks": "",
            "zerolinecolor": "white"
           },
           "yaxis": {
            "backgroundcolor": "#E5ECF6",
            "gridcolor": "white",
            "gridwidth": 2,
            "linecolor": "white",
            "showbackground": true,
            "ticks": "",
            "zerolinecolor": "white"
           },
           "zaxis": {
            "backgroundcolor": "#E5ECF6",
            "gridcolor": "white",
            "gridwidth": 2,
            "linecolor": "white",
            "showbackground": true,
            "ticks": "",
            "zerolinecolor": "white"
           }
          },
          "shapedefaults": {
           "line": {
            "color": "#2a3f5f"
           }
          },
          "ternary": {
           "aaxis": {
            "gridcolor": "white",
            "linecolor": "white",
            "ticks": ""
           },
           "baxis": {
            "gridcolor": "white",
            "linecolor": "white",
            "ticks": ""
           },
           "bgcolor": "#E5ECF6",
           "caxis": {
            "gridcolor": "white",
            "linecolor": "white",
            "ticks": ""
           }
          },
          "title": {
           "x": 0.05
          },
          "xaxis": {
           "automargin": true,
           "gridcolor": "white",
           "linecolor": "white",
           "ticks": "",
           "title": {
            "standoff": 15
           },
           "zerolinecolor": "white",
           "zerolinewidth": 2
          },
          "yaxis": {
           "automargin": true,
           "gridcolor": "white",
           "linecolor": "white",
           "ticks": "",
           "title": {
            "standoff": 15
           },
           "zerolinecolor": "white",
           "zerolinewidth": 2
          }
         }
        },
        "title": {
         "text": "Speed Data for Participant 10"
        },
        "xaxis": {
         "tickformat": "%H:%M",
         "title": {
          "text": "Time"
         }
        },
        "yaxis": {
         "title": {
          "text": "Speed in km/h"
         }
        }
       }
      }
     },
     "metadata": {},
     "output_type": "display_data"
    },
    {
     "name": "stdout",
     "output_type": "stream",
     "text": [
      "[(Timestamp('2024-07-10 15:22:16.427000'), np.float64(8.92800006866455), np.float64(8.892000102996827)), (Timestamp('2024-07-10 15:24:16.427000'), np.float64(9.251156411852154), np.float64(9.27599973678589)), (Timestamp('2024-07-10 15:26:16.427000'), np.float64(9.64800015449524), np.float64(9.543272911418569)), (Timestamp('2024-07-10 15:28:16.427000'), np.float64(9.72900016307831), np.float64(9.998999905586242)), (Timestamp('2024-07-10 15:30:16.427000'), np.float64(10.133999776840211), np.float64(10.281599721908568)), (Timestamp('2024-07-10 15:32:16.427000'), np.float64(10.29959979057312), np.float64(10.141714300428118))]\n",
      "6\n",
      "2\n",
      "2\n",
      "2\n"
     ]
    },
    {
     "data": {
      "application/vnd.plotly.v1+json": {
       "config": {
        "plotlyServerURL": "https://plot.ly"
       },
       "data": [
        {
         "mode": "lines",
         "name": "Speed",
         "type": "scatter",
         "x": [
          "2024-07-10T15:39:20.955000",
          "2024-07-10T15:39:26.956000",
          "2024-07-10T15:39:32.954000",
          "2024-07-10T15:39:37.955000",
          "2024-07-10T15:39:46.953000",
          "2024-07-10T15:39:51.954000",
          "2024-07-10T15:39:56.951000",
          "2024-07-10T15:40:01.955000",
          "2024-07-10T15:40:06.953000",
          "2024-07-10T15:40:11.959000",
          "2024-07-10T15:40:16.953000",
          "2024-07-10T15:40:21.954000",
          "2024-07-10T15:40:28.954000",
          "2024-07-10T15:40:39.955000",
          "2024-07-10T15:40:45.953000",
          "2024-07-10T15:40:59.809000",
          "2024-07-10T15:41:05.953000",
          "2024-07-10T15:41:13.955000",
          "2024-07-10T15:41:19.952000",
          "2024-07-10T15:41:25.956000",
          "2024-07-10T15:41:30.960000",
          "2024-07-10T15:41:39.955000",
          "2024-07-10T15:41:44.954000",
          "2024-07-10T15:41:50.957000",
          "2024-07-10T15:41:59.956000",
          "2024-07-10T15:42:09.956000",
          "2024-07-10T15:42:14.955000",
          "2024-07-10T15:42:19.953000",
          "2024-07-10T15:42:24.954000",
          "2024-07-10T15:42:29.953000",
          "2024-07-10T15:42:46.952000",
          "2024-07-10T15:43:06.951000",
          "2024-07-10T15:43:21.951000",
          "2024-07-10T15:43:26.951000",
          "2024-07-10T15:43:31.952000",
          "2024-07-10T15:43:41.953000",
          "2024-07-10T15:43:49.954000",
          "2024-07-10T15:43:55.954000",
          "2024-07-10T15:44:00.957000",
          "2024-07-10T15:44:05.951000",
          "2024-07-10T15:44:15.953000",
          "2024-07-10T15:44:25.955000",
          "2024-07-10T15:44:30.953000",
          "2024-07-10T15:44:35.951000",
          "2024-07-10T15:44:40.955000",
          "2024-07-10T15:44:45.951000",
          "2024-07-10T15:44:51.953000",
          "2024-07-10T15:44:57.952000",
          "2024-07-10T15:45:03.952000",
          "2024-07-10T15:45:18.954000",
          "2024-07-10T15:45:30.954000",
          "2024-07-10T15:45:38.955000",
          "2024-07-10T15:45:43.954000",
          "2024-07-10T15:45:48.953000",
          "2024-07-10T15:45:53.954000",
          "2024-07-10T15:45:58.953000",
          "2024-07-10T15:46:03.953000",
          "2024-07-10T15:46:08.959000",
          "2024-07-10T15:46:13.954000",
          "2024-07-10T15:46:18.954000",
          "2024-07-10T15:46:23.954000",
          "2024-07-10T15:46:29.952000",
          "2024-07-10T15:46:38.955000",
          "2024-07-10T15:46:43.959000",
          "2024-07-10T15:46:48.954000",
          "2024-07-10T15:46:54.952000",
          "2024-07-10T15:47:03.953000",
          "2024-07-10T15:47:09.952000",
          "2024-07-10T15:47:14.953000",
          "2024-07-10T15:47:29.953000",
          "2024-07-10T15:47:48.952000",
          "2024-07-10T15:47:53.952000",
          "2024-07-10T15:48:03.952000",
          "2024-07-10T15:48:08.950000",
          "2024-07-10T15:48:15.955000",
          "2024-07-10T15:48:24.952000",
          "2024-07-10T15:48:30.953000",
          "2024-07-10T15:48:40.956000",
          "2024-07-10T15:48:49.951000",
          "2024-07-10T15:48:55.952000",
          "2024-07-10T15:49:00.954000",
          "2024-07-10T15:49:10.953000",
          "2024-07-10T15:49:18.955000",
          "2024-07-10T15:49:34.951000",
          "2024-07-10T15:49:43.952000",
          "2024-07-10T15:49:48.951000",
          "2024-07-10T15:49:53.953000",
          "2024-07-10T15:49:58.952000",
          "2024-07-10T15:50:03.953000",
          "2024-07-10T15:50:10.953000",
          "2024-07-10T15:50:16.957000",
          "2024-07-10T15:50:21.954000",
          "2024-07-10T15:50:31.955000",
          "2024-07-10T15:50:46.954000",
          "2024-07-10T15:50:52.954000",
          "2024-07-10T15:51:08.954000",
          "2024-07-10T15:51:13.956000",
          "2024-07-10T15:51:18.954000",
          "2024-07-10T15:51:34.959000",
          "2024-07-10T15:51:44.954000",
          "2024-07-10T15:51:53.954000",
          "2024-07-10T15:51:58.960000",
          "2024-07-10T15:52:03.952000",
          "2024-07-10T15:52:08.952000",
          "2024-07-10T15:52:13.953000",
          "2024-07-10T15:52:18.956000",
          "2024-07-10T15:52:38.955000",
          "2024-07-10T15:53:00.954000",
          "2024-07-10T15:53:09.953000",
          "2024-07-10T15:53:14.959000",
          "2024-07-10T15:53:19.953000",
          "2024-07-10T15:53:24.951000",
          "2024-07-10T15:53:33.952000",
          "2024-07-10T15:53:38.954000",
          "2024-07-10T15:53:43.965000",
          "2024-07-10T15:53:48.957000",
          "2024-07-10T15:53:53.956000",
          "2024-07-10T15:53:58.953000",
          "2024-07-10T15:54:03.957000",
          "2024-07-10T15:54:08.958000",
          "2024-07-10T15:54:25.954000",
          "2024-07-10T15:54:30.956000",
          "2024-07-10T15:54:40.954000",
          "2024-07-10T15:54:45.951000"
         ],
         "y": [
          13.140000343322756,
          8.856000137329103,
          9.215999794006349,
          9.612000274658204,
          9.251999759674073,
          9.035999965667726,
          8.856000137329103,
          8.964000034332276,
          9.50400037765503,
          9.720000171661377,
          9.756000137329101,
          10.656000137329102,
          10.87199993133545,
          11.123999691009521,
          10.241187286376954,
          13.964827251434327,
          10.87199993133545,
          10.87199993133545,
          10.835999965667725,
          10.87199993133545,
          10.835999965667725,
          10.819015789031983,
          11.123999691009521,
          11.340000343322755,
          11.448000240325928,
          11.628000068664551,
          11.268000411987305,
          11.19599962234497,
          11.268000411987305,
          11.448000240325928,
          10.835999965667725,
          10.9439998626709,
          11.051999759674073,
          10.9439998626709,
          10.907999897003174,
          11.015999794006348,
          10.476000308990479,
          10.8,
          10.8,
          10.907999897003174,
          10.979999828338624,
          11.087999725341797,
          11.087999725341797,
          11.159999656677247,
          11.30400037765503,
          11.231999588012696,
          11.087999725341797,
          11.123999691009521,
          11.412000274658203,
          10.9439998626709,
          10.907999897003174,
          10.368000411987305,
          10.728000068664551,
          10.979999828338624,
          10.907999897003174,
          11.015999794006348,
          10.835999965667725,
          10.835999965667725,
          10.764000034332275,
          10.764000034332275,
          10.87199993133545,
          11.268000411987305,
          11.30400037765503,
          11.448000240325928,
          11.268000411987305,
          11.340000343322755,
          11.231999588012696,
          11.484000205993652,
          11.412000274658203,
          10.907999897003174,
          10.692000102996825,
          10.656000137329102,
          10.87199993133545,
          10.8,
          10.979999828338624,
          10.87199993133545,
          10.907999897003174,
          11.231999588012696,
          11.30400037765503,
          11.30400037765503,
          11.159999656677247,
          11.592000102996824,
          11.592000102996824,
          10.979999828338624,
          11.231999588012696,
          11.340000343322755,
          11.30400037765503,
          11.015999794006348,
          10.979999828338624,
          11.015999794006348,
          10.9439998626709,
          11.015999794006348,
          11.448000240325928,
          11.30400037765503,
          11.376000308990479,
          11.448000240325928,
          11.448000240325928,
          11.556000137329102,
          11.448000240325928,
          11.412000274658203,
          11.664000034332275,
          11.664000034332275,
          11.628000068664551,
          11.628000068664551,
          11.520000171661378,
          11.340000343322755,
          11.412000274658203,
          10.907999897003174,
          10.835999965667725,
          10.764000034332275,
          10.8,
          10.728000068664551,
          10.8,
          10.87199993133545,
          11.324491596221922,
          11.087999725341797,
          11.087999725341797,
          11.231999588012696,
          10.584000205993652,
          7.235999965667725,
          8.784000205993653,
          10.8,
          11.664000034332275,
          11.015999794006348
         ]
        }
       ],
       "layout": {
        "annotations": [
         {
          "arrowcolor": "red",
          "arrowhead": 1,
          "ax": -10,
          "ay": -30,
          "showarrow": true,
          "text": "Start",
          "x": "2024-07-10T15:38:56.732000",
          "y": 13.964827251434327
         },
         {
          "arrowcolor": "green",
          "arrowhead": 1,
          "ax": -10,
          "ay": -30,
          "showarrow": true,
          "text": "+2min",
          "x": "2024-07-10T15:40:56.732000",
          "y": 13.964827251434327
         },
         {
          "arrowcolor": "green",
          "arrowhead": 1,
          "ax": -10,
          "ay": -30,
          "showarrow": true,
          "text": "+4min",
          "x": "2024-07-10T15:42:56.732000",
          "y": 13.964827251434327
         },
         {
          "arrowcolor": "green",
          "arrowhead": 1,
          "ax": -10,
          "ay": -30,
          "showarrow": true,
          "text": "+6min",
          "x": "2024-07-10T15:44:56.732000",
          "y": 13.964827251434327
         },
         {
          "arrowcolor": "green",
          "arrowhead": 1,
          "ax": -10,
          "ay": -30,
          "showarrow": true,
          "text": "+8min",
          "x": "2024-07-10T15:46:56.732000",
          "y": 13.964827251434327
         },
         {
          "arrowcolor": "green",
          "arrowhead": 1,
          "ax": -10,
          "ay": -30,
          "showarrow": true,
          "text": "+10min",
          "x": "2024-07-10T15:48:56.732000",
          "y": 13.964827251434327
         },
         {
          "arrowcolor": "green",
          "arrowhead": 1,
          "ax": -10,
          "ay": -30,
          "showarrow": true,
          "text": "+12min",
          "x": "2024-07-10T15:50:56.732000",
          "y": 13.964827251434327
         },
         {
          "arrowcolor": "blue",
          "arrowhead": 1,
          "ax": -10,
          "ay": -30,
          "showarrow": true,
          "text": "End",
          "x": "2024-07-10T15:53:56.732000",
          "y": 13.964827251434327
         }
        ],
        "shapes": [
         {
          "line": {
           "color": "red",
           "dash": "dash"
          },
          "type": "line",
          "x0": "2024-07-10T15:38:56.732000",
          "x1": "2024-07-10T15:38:56.732000",
          "xref": "x",
          "y0": 0,
          "y1": 1,
          "yref": "y domain"
         },
         {
          "line": {
           "color": "green",
           "dash": "dash"
          },
          "type": "line",
          "x0": "2024-07-10T15:40:56.732000",
          "x1": "2024-07-10T15:40:56.732000",
          "xref": "x",
          "y0": 0,
          "y1": 1,
          "yref": "y domain"
         },
         {
          "line": {
           "color": "green",
           "dash": "dash"
          },
          "type": "line",
          "x0": "2024-07-10T15:42:56.732000",
          "x1": "2024-07-10T15:42:56.732000",
          "xref": "x",
          "y0": 0,
          "y1": 1,
          "yref": "y domain"
         },
         {
          "line": {
           "color": "green",
           "dash": "dash"
          },
          "type": "line",
          "x0": "2024-07-10T15:44:56.732000",
          "x1": "2024-07-10T15:44:56.732000",
          "xref": "x",
          "y0": 0,
          "y1": 1,
          "yref": "y domain"
         },
         {
          "line": {
           "color": "green",
           "dash": "dash"
          },
          "type": "line",
          "x0": "2024-07-10T15:46:56.732000",
          "x1": "2024-07-10T15:46:56.732000",
          "xref": "x",
          "y0": 0,
          "y1": 1,
          "yref": "y domain"
         },
         {
          "line": {
           "color": "green",
           "dash": "dash"
          },
          "type": "line",
          "x0": "2024-07-10T15:48:56.732000",
          "x1": "2024-07-10T15:48:56.732000",
          "xref": "x",
          "y0": 0,
          "y1": 1,
          "yref": "y domain"
         },
         {
          "line": {
           "color": "green",
           "dash": "dash"
          },
          "type": "line",
          "x0": "2024-07-10T15:50:56.732000",
          "x1": "2024-07-10T15:50:56.732000",
          "xref": "x",
          "y0": 0,
          "y1": 1,
          "yref": "y domain"
         },
         {
          "line": {
           "color": "red",
           "dash": "dash"
          },
          "type": "line",
          "x0": "2024-07-10T15:53:56.732000",
          "x1": "2024-07-10T15:53:56.732000",
          "xref": "x",
          "y0": 0,
          "y1": 1,
          "yref": "y domain"
         }
        ],
        "template": {
         "data": {
          "bar": [
           {
            "error_x": {
             "color": "#2a3f5f"
            },
            "error_y": {
             "color": "#2a3f5f"
            },
            "marker": {
             "line": {
              "color": "#E5ECF6",
              "width": 0.5
             },
             "pattern": {
              "fillmode": "overlay",
              "size": 10,
              "solidity": 0.2
             }
            },
            "type": "bar"
           }
          ],
          "barpolar": [
           {
            "marker": {
             "line": {
              "color": "#E5ECF6",
              "width": 0.5
             },
             "pattern": {
              "fillmode": "overlay",
              "size": 10,
              "solidity": 0.2
             }
            },
            "type": "barpolar"
           }
          ],
          "carpet": [
           {
            "aaxis": {
             "endlinecolor": "#2a3f5f",
             "gridcolor": "white",
             "linecolor": "white",
             "minorgridcolor": "white",
             "startlinecolor": "#2a3f5f"
            },
            "baxis": {
             "endlinecolor": "#2a3f5f",
             "gridcolor": "white",
             "linecolor": "white",
             "minorgridcolor": "white",
             "startlinecolor": "#2a3f5f"
            },
            "type": "carpet"
           }
          ],
          "choropleth": [
           {
            "colorbar": {
             "outlinewidth": 0,
             "ticks": ""
            },
            "type": "choropleth"
           }
          ],
          "contour": [
           {
            "colorbar": {
             "outlinewidth": 0,
             "ticks": ""
            },
            "colorscale": [
             [
              0,
              "#0d0887"
             ],
             [
              0.1111111111111111,
              "#46039f"
             ],
             [
              0.2222222222222222,
              "#7201a8"
             ],
             [
              0.3333333333333333,
              "#9c179e"
             ],
             [
              0.4444444444444444,
              "#bd3786"
             ],
             [
              0.5555555555555556,
              "#d8576b"
             ],
             [
              0.6666666666666666,
              "#ed7953"
             ],
             [
              0.7777777777777778,
              "#fb9f3a"
             ],
             [
              0.8888888888888888,
              "#fdca26"
             ],
             [
              1,
              "#f0f921"
             ]
            ],
            "type": "contour"
           }
          ],
          "contourcarpet": [
           {
            "colorbar": {
             "outlinewidth": 0,
             "ticks": ""
            },
            "type": "contourcarpet"
           }
          ],
          "heatmap": [
           {
            "colorbar": {
             "outlinewidth": 0,
             "ticks": ""
            },
            "colorscale": [
             [
              0,
              "#0d0887"
             ],
             [
              0.1111111111111111,
              "#46039f"
             ],
             [
              0.2222222222222222,
              "#7201a8"
             ],
             [
              0.3333333333333333,
              "#9c179e"
             ],
             [
              0.4444444444444444,
              "#bd3786"
             ],
             [
              0.5555555555555556,
              "#d8576b"
             ],
             [
              0.6666666666666666,
              "#ed7953"
             ],
             [
              0.7777777777777778,
              "#fb9f3a"
             ],
             [
              0.8888888888888888,
              "#fdca26"
             ],
             [
              1,
              "#f0f921"
             ]
            ],
            "type": "heatmap"
           }
          ],
          "heatmapgl": [
           {
            "colorbar": {
             "outlinewidth": 0,
             "ticks": ""
            },
            "colorscale": [
             [
              0,
              "#0d0887"
             ],
             [
              0.1111111111111111,
              "#46039f"
             ],
             [
              0.2222222222222222,
              "#7201a8"
             ],
             [
              0.3333333333333333,
              "#9c179e"
             ],
             [
              0.4444444444444444,
              "#bd3786"
             ],
             [
              0.5555555555555556,
              "#d8576b"
             ],
             [
              0.6666666666666666,
              "#ed7953"
             ],
             [
              0.7777777777777778,
              "#fb9f3a"
             ],
             [
              0.8888888888888888,
              "#fdca26"
             ],
             [
              1,
              "#f0f921"
             ]
            ],
            "type": "heatmapgl"
           }
          ],
          "histogram": [
           {
            "marker": {
             "pattern": {
              "fillmode": "overlay",
              "size": 10,
              "solidity": 0.2
             }
            },
            "type": "histogram"
           }
          ],
          "histogram2d": [
           {
            "colorbar": {
             "outlinewidth": 0,
             "ticks": ""
            },
            "colorscale": [
             [
              0,
              "#0d0887"
             ],
             [
              0.1111111111111111,
              "#46039f"
             ],
             [
              0.2222222222222222,
              "#7201a8"
             ],
             [
              0.3333333333333333,
              "#9c179e"
             ],
             [
              0.4444444444444444,
              "#bd3786"
             ],
             [
              0.5555555555555556,
              "#d8576b"
             ],
             [
              0.6666666666666666,
              "#ed7953"
             ],
             [
              0.7777777777777778,
              "#fb9f3a"
             ],
             [
              0.8888888888888888,
              "#fdca26"
             ],
             [
              1,
              "#f0f921"
             ]
            ],
            "type": "histogram2d"
           }
          ],
          "histogram2dcontour": [
           {
            "colorbar": {
             "outlinewidth": 0,
             "ticks": ""
            },
            "colorscale": [
             [
              0,
              "#0d0887"
             ],
             [
              0.1111111111111111,
              "#46039f"
             ],
             [
              0.2222222222222222,
              "#7201a8"
             ],
             [
              0.3333333333333333,
              "#9c179e"
             ],
             [
              0.4444444444444444,
              "#bd3786"
             ],
             [
              0.5555555555555556,
              "#d8576b"
             ],
             [
              0.6666666666666666,
              "#ed7953"
             ],
             [
              0.7777777777777778,
              "#fb9f3a"
             ],
             [
              0.8888888888888888,
              "#fdca26"
             ],
             [
              1,
              "#f0f921"
             ]
            ],
            "type": "histogram2dcontour"
           }
          ],
          "mesh3d": [
           {
            "colorbar": {
             "outlinewidth": 0,
             "ticks": ""
            },
            "type": "mesh3d"
           }
          ],
          "parcoords": [
           {
            "line": {
             "colorbar": {
              "outlinewidth": 0,
              "ticks": ""
             }
            },
            "type": "parcoords"
           }
          ],
          "pie": [
           {
            "automargin": true,
            "type": "pie"
           }
          ],
          "scatter": [
           {
            "fillpattern": {
             "fillmode": "overlay",
             "size": 10,
             "solidity": 0.2
            },
            "type": "scatter"
           }
          ],
          "scatter3d": [
           {
            "line": {
             "colorbar": {
              "outlinewidth": 0,
              "ticks": ""
             }
            },
            "marker": {
             "colorbar": {
              "outlinewidth": 0,
              "ticks": ""
             }
            },
            "type": "scatter3d"
           }
          ],
          "scattercarpet": [
           {
            "marker": {
             "colorbar": {
              "outlinewidth": 0,
              "ticks": ""
             }
            },
            "type": "scattercarpet"
           }
          ],
          "scattergeo": [
           {
            "marker": {
             "colorbar": {
              "outlinewidth": 0,
              "ticks": ""
             }
            },
            "type": "scattergeo"
           }
          ],
          "scattergl": [
           {
            "marker": {
             "colorbar": {
              "outlinewidth": 0,
              "ticks": ""
             }
            },
            "type": "scattergl"
           }
          ],
          "scattermapbox": [
           {
            "marker": {
             "colorbar": {
              "outlinewidth": 0,
              "ticks": ""
             }
            },
            "type": "scattermapbox"
           }
          ],
          "scatterpolar": [
           {
            "marker": {
             "colorbar": {
              "outlinewidth": 0,
              "ticks": ""
             }
            },
            "type": "scatterpolar"
           }
          ],
          "scatterpolargl": [
           {
            "marker": {
             "colorbar": {
              "outlinewidth": 0,
              "ticks": ""
             }
            },
            "type": "scatterpolargl"
           }
          ],
          "scatterternary": [
           {
            "marker": {
             "colorbar": {
              "outlinewidth": 0,
              "ticks": ""
             }
            },
            "type": "scatterternary"
           }
          ],
          "surface": [
           {
            "colorbar": {
             "outlinewidth": 0,
             "ticks": ""
            },
            "colorscale": [
             [
              0,
              "#0d0887"
             ],
             [
              0.1111111111111111,
              "#46039f"
             ],
             [
              0.2222222222222222,
              "#7201a8"
             ],
             [
              0.3333333333333333,
              "#9c179e"
             ],
             [
              0.4444444444444444,
              "#bd3786"
             ],
             [
              0.5555555555555556,
              "#d8576b"
             ],
             [
              0.6666666666666666,
              "#ed7953"
             ],
             [
              0.7777777777777778,
              "#fb9f3a"
             ],
             [
              0.8888888888888888,
              "#fdca26"
             ],
             [
              1,
              "#f0f921"
             ]
            ],
            "type": "surface"
           }
          ],
          "table": [
           {
            "cells": {
             "fill": {
              "color": "#EBF0F8"
             },
             "line": {
              "color": "white"
             }
            },
            "header": {
             "fill": {
              "color": "#C8D4E3"
             },
             "line": {
              "color": "white"
             }
            },
            "type": "table"
           }
          ]
         },
         "layout": {
          "annotationdefaults": {
           "arrowcolor": "#2a3f5f",
           "arrowhead": 0,
           "arrowwidth": 1
          },
          "autotypenumbers": "strict",
          "coloraxis": {
           "colorbar": {
            "outlinewidth": 0,
            "ticks": ""
           }
          },
          "colorscale": {
           "diverging": [
            [
             0,
             "#8e0152"
            ],
            [
             0.1,
             "#c51b7d"
            ],
            [
             0.2,
             "#de77ae"
            ],
            [
             0.3,
             "#f1b6da"
            ],
            [
             0.4,
             "#fde0ef"
            ],
            [
             0.5,
             "#f7f7f7"
            ],
            [
             0.6,
             "#e6f5d0"
            ],
            [
             0.7,
             "#b8e186"
            ],
            [
             0.8,
             "#7fbc41"
            ],
            [
             0.9,
             "#4d9221"
            ],
            [
             1,
             "#276419"
            ]
           ],
           "sequential": [
            [
             0,
             "#0d0887"
            ],
            [
             0.1111111111111111,
             "#46039f"
            ],
            [
             0.2222222222222222,
             "#7201a8"
            ],
            [
             0.3333333333333333,
             "#9c179e"
            ],
            [
             0.4444444444444444,
             "#bd3786"
            ],
            [
             0.5555555555555556,
             "#d8576b"
            ],
            [
             0.6666666666666666,
             "#ed7953"
            ],
            [
             0.7777777777777778,
             "#fb9f3a"
            ],
            [
             0.8888888888888888,
             "#fdca26"
            ],
            [
             1,
             "#f0f921"
            ]
           ],
           "sequentialminus": [
            [
             0,
             "#0d0887"
            ],
            [
             0.1111111111111111,
             "#46039f"
            ],
            [
             0.2222222222222222,
             "#7201a8"
            ],
            [
             0.3333333333333333,
             "#9c179e"
            ],
            [
             0.4444444444444444,
             "#bd3786"
            ],
            [
             0.5555555555555556,
             "#d8576b"
            ],
            [
             0.6666666666666666,
             "#ed7953"
            ],
            [
             0.7777777777777778,
             "#fb9f3a"
            ],
            [
             0.8888888888888888,
             "#fdca26"
            ],
            [
             1,
             "#f0f921"
            ]
           ]
          },
          "colorway": [
           "#636efa",
           "#EF553B",
           "#00cc96",
           "#ab63fa",
           "#FFA15A",
           "#19d3f3",
           "#FF6692",
           "#B6E880",
           "#FF97FF",
           "#FECB52"
          ],
          "font": {
           "color": "#2a3f5f"
          },
          "geo": {
           "bgcolor": "white",
           "lakecolor": "white",
           "landcolor": "#E5ECF6",
           "showlakes": true,
           "showland": true,
           "subunitcolor": "white"
          },
          "hoverlabel": {
           "align": "left"
          },
          "hovermode": "closest",
          "mapbox": {
           "style": "light"
          },
          "paper_bgcolor": "white",
          "plot_bgcolor": "#E5ECF6",
          "polar": {
           "angularaxis": {
            "gridcolor": "white",
            "linecolor": "white",
            "ticks": ""
           },
           "bgcolor": "#E5ECF6",
           "radialaxis": {
            "gridcolor": "white",
            "linecolor": "white",
            "ticks": ""
           }
          },
          "scene": {
           "xaxis": {
            "backgroundcolor": "#E5ECF6",
            "gridcolor": "white",
            "gridwidth": 2,
            "linecolor": "white",
            "showbackground": true,
            "ticks": "",
            "zerolinecolor": "white"
           },
           "yaxis": {
            "backgroundcolor": "#E5ECF6",
            "gridcolor": "white",
            "gridwidth": 2,
            "linecolor": "white",
            "showbackground": true,
            "ticks": "",
            "zerolinecolor": "white"
           },
           "zaxis": {
            "backgroundcolor": "#E5ECF6",
            "gridcolor": "white",
            "gridwidth": 2,
            "linecolor": "white",
            "showbackground": true,
            "ticks": "",
            "zerolinecolor": "white"
           }
          },
          "shapedefaults": {
           "line": {
            "color": "#2a3f5f"
           }
          },
          "ternary": {
           "aaxis": {
            "gridcolor": "white",
            "linecolor": "white",
            "ticks": ""
           },
           "baxis": {
            "gridcolor": "white",
            "linecolor": "white",
            "ticks": ""
           },
           "bgcolor": "#E5ECF6",
           "caxis": {
            "gridcolor": "white",
            "linecolor": "white",
            "ticks": ""
           }
          },
          "title": {
           "x": 0.05
          },
          "xaxis": {
           "automargin": true,
           "gridcolor": "white",
           "linecolor": "white",
           "ticks": "",
           "title": {
            "standoff": 15
           },
           "zerolinecolor": "white",
           "zerolinewidth": 2
          },
          "yaxis": {
           "automargin": true,
           "gridcolor": "white",
           "linecolor": "white",
           "ticks": "",
           "title": {
            "standoff": 15
           },
           "zerolinecolor": "white",
           "zerolinewidth": 2
          }
         }
        },
        "title": {
         "text": "Speed Data for Participant 11"
        },
        "xaxis": {
         "tickformat": "%H:%M",
         "title": {
          "text": "Time"
         }
        },
        "yaxis": {
         "title": {
          "text": "Speed in km/h"
         }
        }
       }
      }
     },
     "metadata": {},
     "output_type": "display_data"
    },
    {
     "name": "stdout",
     "output_type": "stream",
     "text": [
      "[(Timestamp('2024-07-10 15:40:56.732000'), np.float64(9.96590976715088), np.float64(11.28176031112671)), (Timestamp('2024-07-10 15:42:56.732000'), np.float64(11.298857280186244), np.float64(10.877142783573698)), (Timestamp('2024-07-10 15:44:56.732000'), np.float64(11.07199983596802), np.float64(10.921499991416932)), (Timestamp('2024-07-10 15:46:56.732000'), np.float64(11.06509104642001), np.float64(11.064000034332276)), (Timestamp('2024-07-10 15:48:56.732000'), np.float64(11.03399999141693), np.float64(11.314285714285715)), (Timestamp('2024-07-10 15:50:56.732000'), np.float64(11.137500000000001), np.float64(11.496000194549561))]\n",
      "6\n",
      "6\n",
      "0\n",
      "0\n",
      "9\n"
     ]
    }
   ],
   "source": [
    "\n",
    "for participant in PARTICIPANTS:\n",
    "    # Sensor data\n",
    "    sensor_df = load_all_sensor_data(participant)\n",
    "    # plot_sensor_data(sensor_df, participant)\n",
    "    \n",
    "    # Speed data\n",
    "    speed_df = load_speed_data(participant)\n",
    "    cleaned_speed_df = clean_speed_data(speed_df, 20, 5)\n",
    "    # Usage\n",
    "    cleaned_speed_df = remove_outliers_zscore(cleaned_speed_df)\n",
    "    plot_speed_data(cleaned_speed_df, participant)\n",
    "\n",
    "    # Average speeds\n",
    "    starting_time = pd.to_datetime(STARTING_TIMESTAMPS[participant], unit='ms')\n",
    "    averages = calculate_average_speeds(cleaned_speed_df, starting_time)\n",
    "\n",
    "    labels = PROMPT_LABELS[participant]\n",
    "    \n",
    "    pos_avgs = [avg for avg, label in zip(averages, labels) if label == 1]\n",
    "    neg_avgs = [avg for avg, label in zip(averages, labels) if label == 2]\n",
    "    neu_avgs = [avg for avg, label in zip(averages, labels) if label == 0]\n",
    "    \n",
    "    positive_averages.append(pos_avgs)\n",
    "    negative_averages.append(neg_avgs)\n",
    "    neutral_averages.append(neu_avgs)\n",
    "\n",
    "    print(averages)\n",
    "    print(len(averages))\n",
    "    print(len(pos_avgs))\n",
    "    print(len(neg_avgs))\n",
    "    print(len(neu_avgs))\n",
    "    allaverages.append(averages)\n",
    "    # plot_average_speeds(averages, participant)\n",
    "    \n",
    "    # Percentage changes\n",
    "    percentage_changes = calculate_percentage_changes(averages)\n",
    "    # plot_percentage_changes(percentage_changes, participant)\n",
    "print(len(allaverages))"
   ]
  },
  {
   "cell_type": "markdown",
   "metadata": {},
   "source": [
    "# All averages (H2)"
   ]
  },
  {
   "cell_type": "code",
   "execution_count": 93,
   "metadata": {},
   "outputs": [
    {
     "name": "stdout",
     "output_type": "stream",
     "text": [
      "9\n",
      "54\n",
      "54\n",
      "T-statistic: -1.497681732595544, P-value: 0.1401484268767837\n"
     ]
    }
   ],
   "source": [
    "print(len(allaverages))\n",
    "\n",
    "# Extracting the speeds\n",
    "before_prompt = [entry[1] for entry in allaverages]\n",
    "after_prompt = [entry[2] for entry in allaverages]\n",
    "\n",
    "# Initialize lists to hold combined before and after speeds\n",
    "before_speeds = []\n",
    "after_speeds = []\n",
    "\n",
    "# Extract speeds for each participant\n",
    "for participant_data in allaverages:\n",
    "    before_speeds.extend([entry[1] for entry in participant_data])\n",
    "    after_speeds.extend([entry[2] for entry in participant_data if not np.isnan(entry[2])])\n",
    "\n",
    "print(len(before_speeds))\n",
    "print(len(after_speeds))\n",
    "\n",
    "# Perform paired t-test\n",
    "t_stat, p_val = stats.ttest_rel( before_speeds,after_speeds )\n",
    "\n",
    "print(f'T-statistic: {t_stat}, P-value: {p_val}')"
   ]
  },
  {
   "cell_type": "markdown",
   "metadata": {},
   "source": [
    "H3 and H4"
   ]
  },
  {
   "cell_type": "code",
   "execution_count": 94,
   "metadata": {},
   "outputs": [
    {
     "name": "stdout",
     "output_type": "stream",
     "text": [
      "Positive Prompts - T-statistic: -0.9975041289116799, P-value: 0.32807748672776627\n",
      "Negative Prompts - T-statistic: -0.8102905301735073, P-value: 0.4289709389490681\n"
     ]
    }
   ],
   "source": [
    "# Extracting the speeds for positive prompts\n",
    "positive_before_prompt = [entry[1] for participant_data in positive_averages for entry in participant_data]\n",
    "positive_after_prompt = [entry[2] for participant_data in positive_averages for entry in participant_data if not np.isnan(entry[2])]\n",
    "\n",
    "# Extracting the speeds for negative prompts\n",
    "negative_before_prompt = [entry[1] for participant_data in negative_averages for entry in participant_data]\n",
    "negative_after_prompt = [entry[2] for participant_data in negative_averages for entry in participant_data if not np.isnan(entry[2])]\n",
    "\n",
    "# Ensure that both before and after lists are of the same length\n",
    "positive_before_prompt = positive_before_prompt[:len(positive_after_prompt)]\n",
    "negative_before_prompt = negative_before_prompt[:len(negative_after_prompt)]\n",
    "\n",
    "# Perform paired t-test for positive prompts\n",
    "positive_t_stat, positive_p_val = stats.ttest_rel(positive_before_prompt, positive_after_prompt)\n",
    "\n",
    "# Perform paired t-test for negative prompts\n",
    "negative_t_stat, negative_p_val = stats.ttest_rel(negative_before_prompt, negative_after_prompt)\n",
    "\n",
    "print(f'Positive Prompts - T-statistic: {positive_t_stat}, P-value: {positive_p_val}')\n",
    "print(f'Negative Prompts - T-statistic: {negative_t_stat}, P-value: {negative_p_val}')"
   ]
  },
  {
   "cell_type": "code",
   "execution_count": 95,
   "metadata": {},
   "outputs": [
    {
     "name": "stdout",
     "output_type": "stream",
     "text": [
      "Shapiro-Wilk Test Before: ShapiroResult(statistic=np.float64(0.9866770745314851), pvalue=np.float64(0.8081801493818837))\n",
      "Shapiro-Wilk Test After: ShapiroResult(statistic=np.float64(0.9809060415863967), pvalue=np.float64(0.5399187532672738))\n",
      "Kolmogorov-Smirnov Test Before: KstestResult(statistic=np.float64(0.06653991091072264), pvalue=np.float64(0.957658839648079), statistic_location=np.float64(11.03399999141693), statistic_sign=np.int8(-1))\n",
      "Kolmogorov-Smirnov Test After: KstestResult(statistic=np.float64(0.09216680057119986), pvalue=np.float64(0.7138277960086961), statistic_location=np.float64(9.33119994163513), statistic_sign=np.int8(1))\n"
     ]
    },
    {
     "data": {
      "image/png": "[encoded data removed]",
      "text/plain": [
       "<Figure size 1400x700 with 2 Axes>"
      ]
     },
     "metadata": {},
     "output_type": "display_data"
    }
   ],
   "source": [
    "# Shapiro-Wilk Test for normality\n",
    "shapiro_before = stats.shapiro(before_speeds)\n",
    "shapiro_after = stats.shapiro(after_speeds)\n",
    "\n",
    "print(f'Shapiro-Wilk Test Before: {shapiro_before}')\n",
    "print(f'Shapiro-Wilk Test After: {shapiro_after}')\n",
    "\n",
    "# Kolmogorov-Smirnov Test for normality\n",
    "ks_before = stats.kstest(before_speeds, 'norm', args=(np.mean(before_speeds), np.std(before_speeds)))\n",
    "ks_after = stats.kstest(after_speeds, 'norm', args=(np.mean(after_speeds), np.std(after_speeds)))\n",
    "\n",
    "print(f'Kolmogorov-Smirnov Test Before: {ks_before}')\n",
    "print(f'Kolmogorov-Smirnov Test After: {ks_after}')\n",
    "\n",
    "# Q-Q Plots\n",
    "plt.figure(figsize=(14, 7))\n",
    "\n",
    "plt.subplot(1, 2, 1)\n",
    "stats.probplot(before_speeds, dist=\"norm\", plot=plt)\n",
    "plt.title(\"Q-Q Plot of Before Speeds\")\n",
    "\n",
    "plt.subplot(1, 2, 2)\n",
    "stats.probplot(after_speeds, dist=\"norm\", plot=plt)\n",
    "plt.title(\"Q-Q Plot of After Speeds\")\n",
    "\n",
    "plt.tight_layout()\n",
    "plt.show()\n"
   ]
  },
  {
   "cell_type": "markdown",
   "metadata": {},
   "source": [
    "## Smaller graphs for paper"
   ]
  },
  {
   "cell_type": "code",
   "execution_count": 96,
   "metadata": {},
   "outputs": [
    {
     "data": {
      "application/vnd.plotly.v1+json": {
       "config": {
        "plotlyServerURL": "https://plot.ly"
       },
       "data": [
        {
         "mode": "lines",
         "name": "Participant 01",
         "type": "scatter",
         "x": [
          "2024-07-10T11:16:57.990000",
          "2024-07-10T11:17:02.994000",
          "2024-07-10T11:17:07.992000",
          "2024-07-10T11:17:12.993000",
          "2024-07-10T11:17:17.990000",
          "2024-07-10T11:17:23.992000",
          "2024-07-10T11:17:28.999000",
          "2024-07-10T11:17:37.989000",
          "2024-07-10T11:17:43.992000",
          "2024-07-10T11:17:52.992000",
          "2024-07-10T11:17:57.989000",
          "2024-07-10T11:18:02.992000",
          "2024-07-10T11:18:08.996000",
          "2024-07-10T11:18:13.994000",
          "2024-07-10T11:18:18.994000",
          "2024-07-10T11:18:23.993000",
          "2024-07-10T11:18:28.993000",
          "2024-07-10T11:18:37.992000",
          "2024-07-10T11:18:42.991000",
          "2024-07-10T11:18:49.992000",
          "2024-07-10T11:18:58.992000",
          "2024-07-10T11:19:03.993000",
          "2024-07-10T11:19:08.991000",
          "2024-07-10T11:19:13.996000",
          "2024-07-10T11:19:18.992000",
          "2024-07-10T11:19:28.995000",
          "2024-07-10T11:19:34.013000",
          "2024-07-10T11:19:38.992000",
          "2024-07-10T11:19:47.998000",
          "2024-07-10T11:19:52.989000",
          "2024-07-10T11:19:58.999000",
          "2024-07-10T11:20:08.992000",
          "2024-07-10T11:20:18.993000",
          "2024-07-10T11:20:23.995000",
          "2024-07-10T11:20:28.991000",
          "2024-07-10T11:20:33.993000",
          "2024-07-10T11:20:38.995000",
          "2024-07-10T11:20:43.993000",
          "2024-07-10T11:20:48.995000",
          "2024-07-10T11:20:58.994000",
          "2024-07-10T11:21:08.991000",
          "2024-07-10T11:21:13.994000",
          "2024-07-10T11:21:18.992000",
          "2024-07-10T11:21:23.995000",
          "2024-07-10T11:21:28.998000",
          "2024-07-10T11:21:38.993000",
          "2024-07-10T11:21:47.990000",
          "2024-07-10T11:21:52.989000",
          "2024-07-10T11:21:57.991000",
          "2024-07-10T11:22:03.994000",
          "2024-07-10T11:22:08.991000",
          "2024-07-10T11:22:13.993000",
          "2024-07-10T11:22:22.991000",
          "2024-07-10T11:22:28.991000",
          "2024-07-10T11:22:33.993000",
          "2024-07-10T11:22:38.992000",
          "2024-07-10T11:22:43.991000",
          "2024-07-10T11:22:48.993000",
          "2024-07-10T11:22:53.992000",
          "2024-07-10T11:23:02.990000",
          "2024-07-10T11:23:08.992000",
          "2024-07-10T11:23:13.991000",
          "2024-07-10T11:23:22.991000",
          "2024-07-10T11:23:29.014000",
          "2024-07-10T11:23:37.991000",
          "2024-07-10T11:23:42.991000",
          "2024-07-10T11:23:48.992000",
          "2024-07-10T11:23:58.991000",
          "2024-07-10T11:24:03.994000",
          "2024-07-10T11:24:12.992000",
          "2024-07-10T11:24:17.991000",
          "2024-07-10T11:24:23.991000",
          "2024-07-10T11:24:28.992000",
          "2024-07-10T11:24:38.993000",
          "2024-07-10T11:24:43.992000",
          "2024-07-10T11:24:48.991000",
          "2024-07-10T11:24:53.993000",
          "2024-07-10T11:24:58.993000",
          "2024-07-10T11:25:08.992000",
          "2024-07-10T11:25:13.993000",
          "2024-07-10T11:25:22.991000",
          "2024-07-10T11:25:28.994000",
          "2024-07-10T11:25:33.992000",
          "2024-07-10T11:25:38.992000",
          "2024-07-10T11:25:43.993000",
          "2024-07-10T11:25:48.996000",
          "2024-07-10T11:25:53.993000",
          "2024-07-10T11:25:58.993000",
          "2024-07-10T11:26:03.992000",
          "2024-07-10T11:26:08.993000",
          "2024-07-10T11:26:13.991000",
          "2024-07-10T11:26:18.992000",
          "2024-07-10T11:26:23.993000",
          "2024-07-10T11:26:28.991000",
          "2024-07-10T11:26:33.991000",
          "2024-07-10T11:26:38.992000",
          "2024-07-10T11:26:43.993000",
          "2024-07-10T11:26:48.992000",
          "2024-07-10T11:26:53.992000",
          "2024-07-10T11:26:58.994000",
          "2024-07-10T11:27:03.992000",
          "2024-07-10T11:27:08.992000",
          "2024-07-10T11:27:13.995000",
          "2024-07-10T11:27:18.993000",
          "2024-07-10T11:27:23.992000",
          "2024-07-10T11:27:28.994000",
          "2024-07-10T11:27:33.991000",
          "2024-07-10T11:27:38.991000",
          "2024-07-10T11:27:43.992000",
          "2024-07-10T11:27:48.998000",
          "2024-07-10T11:27:57.989000",
          "2024-07-10T11:28:03.997000",
          "2024-07-10T11:28:13.989000",
          "2024-07-10T11:28:18.992000",
          "2024-07-10T11:28:27.991000",
          "2024-07-10T11:28:32.999000",
          "2024-07-10T11:28:37.990000",
          "2024-07-10T11:28:42.988000",
          "2024-07-10T11:28:47.994000",
          "2024-07-10T11:28:53.996000",
          "2024-07-10T11:28:58.998000",
          "2024-07-10T11:29:03.994000",
          "2024-07-10T11:29:12.994000",
          "2024-07-10T11:29:17.995000",
          "2024-07-10T11:29:24.990000",
          "2024-07-10T11:29:33.996000",
          "2024-07-10T11:29:42.994000",
          "2024-07-10T11:29:47.992000",
          "2024-07-10T11:29:52.991000",
          "2024-07-10T11:29:58.994000",
          "2024-07-10T11:30:07.993000",
          "2024-07-10T11:30:13.996000",
          "2024-07-10T11:30:22.990000",
          "2024-07-10T11:30:27.992000",
          "2024-07-10T11:30:33.999000",
          "2024-07-10T11:30:42.988000",
          "2024-07-10T11:30:47.996000",
          "2024-07-10T11:30:52.989000",
          "2024-07-10T11:30:57.991000",
          "2024-07-10T11:31:02.991000",
          "2024-07-10T11:31:08.996000",
          "2024-07-10T11:31:13.994000",
          "2024-07-10T11:31:18.992000",
          "2024-07-10T11:31:24.034000",
          "2024-07-10T11:31:29.001000",
          "2024-07-10T11:31:37.993000",
          "2024-07-10T11:31:43.999000",
          "2024-07-10T11:31:52.991000"
         ],
         "y": [
          7.776000308990478,
          8.820000171661377,
          9.395999622344972,
          9.576000308990478,
          9.540000343322756,
          10.079999828338623,
          10.584000205993652,
          9.97199993133545,
          9.864000034332276,
          9.720000171661377,
          10.115999794006347,
          10.728000068664551,
          10.440000343322756,
          10.835999965667725,
          10.331999588012696,
          10.692000102996825,
          10.692000102996825,
          10.476000308990479,
          10.548000240325928,
          10.476000308990479,
          10.835999965667725,
          10.728000068664551,
          10.87199993133545,
          11.087999725341797,
          10.835999965667725,
          11.159999656677247,
          11.376000308990479,
          11.412000274658203,
          11.30400037765503,
          11.051999759674073,
          11.051999759674073,
          10.87199993133545,
          11.412000274658203,
          11.19599962234497,
          11.051999759674073,
          11.123999691009521,
          11.340000343322755,
          11.556000137329102,
          11.628000068664551,
          11.484000205993652,
          11.159999656677247,
          11.231999588012696,
          11.231999588012696,
          11.087999725341797,
          10.979999828338624,
          11.123999691009521,
          11.159999656677247,
          10.9439998626709,
          10.835999965667725,
          11.159999656677247,
          11.087999725341797,
          11.231999588012696,
          11.448000240325928,
          11.520000171661378,
          11.520000171661378,
          11.376000308990479,
          11.412000274658203,
          12.384000205993653,
          12.528000068664552,
          11.807999897003175,
          12.6,
          12.815999794006348,
          12.707999897003175,
          12.923999691009522,
          12.995999622344971,
          12.564000034332276,
          13.068000411987304,
          12.923999691009522,
          12.887999725341798,
          13.17600030899048,
          13.10400037765503,
          13.10400037765503,
          13.17600030899048,
          12.995999622344971,
          13.031999588012695,
          12.923999691009522,
          13.031999588012695,
          13.10400037765503,
          12.923999691009522,
          12.815999794006348,
          12.995999622344971,
          13.031999588012695,
          12.923999691009522,
          12.707999897003175,
          12.27600030899048,
          12.312000274658203,
          12.348000240325929,
          12.348000240325929,
          12.312000274658203,
          12.240000343322755,
          12.348000240325929,
          12.168000411987306,
          12.312000274658203,
          12.456000137329102,
          12.707999897003175,
          12.67199993133545,
          12.815999794006348,
          12.959999656677246,
          12.923999691009522,
          12.779999828338623,
          12.6,
          12.67199993133545,
          12.67199993133545,
          12.635999965667725,
          12.635999965667725,
          12.6,
          12.6,
          12.6,
          12.384000205993653,
          12.384000205993653,
          12.528000068664552,
          12.240000343322755,
          12.348000240325929,
          12.168000411987306,
          12.095999622344971,
          11.915999794006348,
          11.879999828338624,
          11.951999759674072,
          11.951999759674072,
          12.095999622344971,
          11.8439998626709,
          11.807999897003175,
          11.735999965667725,
          11.592000102996824,
          11.771999931335449,
          11.700000000000001,
          11.520000171661378,
          11.556000137329102,
          11.879999828338624,
          11.879999828338624,
          11.807999897003175,
          11.951999759674072,
          11.807999897003175,
          11.807999897003175,
          11.735999965667725,
          11.915999794006348,
          11.951999759674072,
          11.915999794006348,
          11.700000000000001,
          11.628000068664551,
          11.556000137329102,
          11.628000068664551,
          11.484000205993652,
          11.448000240325928,
          11.051999759674073,
          10.979999828338624,
          11.015999794006348,
          7.487999725341797
         ]
        }
       ],
       "layout": {
        "height": 300,
        "margin": {
         "b": 30,
         "l": 30,
         "r": 30,
         "t": 30
        },
        "shapes": [
         {
          "line": {
           "color": "red",
           "dash": "dash"
          },
          "type": "line",
          "x0": "2024-07-10T11:16:44.501000",
          "x1": "2024-07-10T11:16:44.501000",
          "xref": "x",
          "y0": 0,
          "y1": 1,
          "yref": "y domain"
         },
         {
          "line": {
           "color": "blue",
           "dash": "dash"
          },
          "type": "line",
          "x0": "2024-07-10T11:18:44.501000",
          "x1": "2024-07-10T11:18:44.501000",
          "xref": "x",
          "y0": 0,
          "y1": 1,
          "yref": "y domain"
         },
         {
          "line": {
           "color": "blue",
           "dash": "dash"
          },
          "type": "line",
          "x0": "2024-07-10T11:20:44.501000",
          "x1": "2024-07-10T11:20:44.501000",
          "xref": "x",
          "y0": 0,
          "y1": 1,
          "yref": "y domain"
         },
         {
          "line": {
           "color": "blue",
           "dash": "dash"
          },
          "type": "line",
          "x0": "2024-07-10T11:22:44.501000",
          "x1": "2024-07-10T11:22:44.501000",
          "xref": "x",
          "y0": 0,
          "y1": 1,
          "yref": "y domain"
         },
         {
          "line": {
           "color": "blue",
           "dash": "dash"
          },
          "type": "line",
          "x0": "2024-07-10T11:24:44.501000",
          "x1": "2024-07-10T11:24:44.501000",
          "xref": "x",
          "y0": 0,
          "y1": 1,
          "yref": "y domain"
         },
         {
          "line": {
           "color": "blue",
           "dash": "dash"
          },
          "type": "line",
          "x0": "2024-07-10T11:26:44.501000",
          "x1": "2024-07-10T11:26:44.501000",
          "xref": "x",
          "y0": 0,
          "y1": 1,
          "yref": "y domain"
         },
         {
          "line": {
           "color": "blue",
           "dash": "dash"
          },
          "type": "line",
          "x0": "2024-07-10T11:28:44.501000",
          "x1": "2024-07-10T11:28:44.501000",
          "xref": "x",
          "y0": 0,
          "y1": 1,
          "yref": "y domain"
         },
         {
          "line": {
           "color": "red",
           "dash": "dash"
          },
          "type": "line",
          "x0": "2024-07-10T11:31:44.501000",
          "x1": "2024-07-10T11:31:44.501000",
          "xref": "x",
          "y0": 0,
          "y1": 1,
          "yref": "y domain"
         }
        ],
        "template": {
         "data": {
          "bar": [
           {
            "error_x": {
             "color": "#2a3f5f"
            },
            "error_y": {
             "color": "#2a3f5f"
            },
            "marker": {
             "line": {
              "color": "#E5ECF6",
              "width": 0.5
             },
             "pattern": {
              "fillmode": "overlay",
              "size": 10,
              "solidity": 0.2
             }
            },
            "type": "bar"
           }
          ],
          "barpolar": [
           {
            "marker": {
             "line": {
              "color": "#E5ECF6",
              "width": 0.5
             },
             "pattern": {
              "fillmode": "overlay",
              "size": 10,
              "solidity": 0.2
             }
            },
            "type": "barpolar"
           }
          ],
          "carpet": [
           {
            "aaxis": {
             "endlinecolor": "#2a3f5f",
             "gridcolor": "white",
             "linecolor": "white",
             "minorgridcolor": "white",
             "startlinecolor": "#2a3f5f"
            },
            "baxis": {
             "endlinecolor": "#2a3f5f",
             "gridcolor": "white",
             "linecolor": "white",
             "minorgridcolor": "white",
             "startlinecolor": "#2a3f5f"
            },
            "type": "carpet"
           }
          ],
          "choropleth": [
           {
            "colorbar": {
             "outlinewidth": 0,
             "ticks": ""
            },
            "type": "choropleth"
           }
          ],
          "contour": [
           {
            "colorbar": {
             "outlinewidth": 0,
             "ticks": ""
            },
            "colorscale": [
             [
              0,
              "#0d0887"
             ],
             [
              0.1111111111111111,
              "#46039f"
             ],
             [
              0.2222222222222222,
              "#7201a8"
             ],
             [
              0.3333333333333333,
              "#9c179e"
             ],
             [
              0.4444444444444444,
              "#bd3786"
             ],
             [
              0.5555555555555556,
              "#d8576b"
             ],
             [
              0.6666666666666666,
              "#ed7953"
             ],
             [
              0.7777777777777778,
              "#fb9f3a"
             ],
             [
              0.8888888888888888,
              "#fdca26"
             ],
             [
              1,
              "#f0f921"
             ]
            ],
            "type": "contour"
           }
          ],
          "contourcarpet": [
           {
            "colorbar": {
             "outlinewidth": 0,
             "ticks": ""
            },
            "type": "contourcarpet"
           }
          ],
          "heatmap": [
           {
            "colorbar": {
             "outlinewidth": 0,
             "ticks": ""
            },
            "colorscale": [
             [
              0,
              "#0d0887"
             ],
             [
              0.1111111111111111,
              "#46039f"
             ],
             [
              0.2222222222222222,
              "#7201a8"
             ],
             [
              0.3333333333333333,
              "#9c179e"
             ],
             [
              0.4444444444444444,
              "#bd3786"
             ],
             [
              0.5555555555555556,
              "#d8576b"
             ],
             [
              0.6666666666666666,
              "#ed7953"
             ],
             [
              0.7777777777777778,
              "#fb9f3a"
             ],
             [
              0.8888888888888888,
              "#fdca26"
             ],
             [
              1,
              "#f0f921"
             ]
            ],
            "type": "heatmap"
           }
          ],
          "heatmapgl": [
           {
            "colorbar": {
             "outlinewidth": 0,
             "ticks": ""
            },
            "colorscale": [
             [
              0,
              "#0d0887"
             ],
             [
              0.1111111111111111,
              "#46039f"
             ],
             [
              0.2222222222222222,
              "#7201a8"
             ],
             [
              0.3333333333333333,
              "#9c179e"
             ],
             [
              0.4444444444444444,
              "#bd3786"
             ],
             [
              0.5555555555555556,
              "#d8576b"
             ],
             [
              0.6666666666666666,
              "#ed7953"
             ],
             [
              0.7777777777777778,
              "#fb9f3a"
             ],
             [
              0.8888888888888888,
              "#fdca26"
             ],
             [
              1,
              "#f0f921"
             ]
            ],
            "type": "heatmapgl"
           }
          ],
          "histogram": [
           {
            "marker": {
             "pattern": {
              "fillmode": "overlay",
              "size": 10,
              "solidity": 0.2
             }
            },
            "type": "histogram"
           }
          ],
          "histogram2d": [
           {
            "colorbar": {
             "outlinewidth": 0,
             "ticks": ""
            },
            "colorscale": [
             [
              0,
              "#0d0887"
             ],
             [
              0.1111111111111111,
              "#46039f"
             ],
             [
              0.2222222222222222,
              "#7201a8"
             ],
             [
              0.3333333333333333,
              "#9c179e"
             ],
             [
              0.4444444444444444,
              "#bd3786"
             ],
             [
              0.5555555555555556,
              "#d8576b"
             ],
             [
              0.6666666666666666,
              "#ed7953"
             ],
             [
              0.7777777777777778,
              "#fb9f3a"
             ],
             [
              0.8888888888888888,
              "#fdca26"
             ],
             [
              1,
              "#f0f921"
             ]
            ],
            "type": "histogram2d"
           }
          ],
          "histogram2dcontour": [
           {
            "colorbar": {
             "outlinewidth": 0,
             "ticks": ""
            },
            "colorscale": [
             [
              0,
              "#0d0887"
             ],
             [
              0.1111111111111111,
              "#46039f"
             ],
             [
              0.2222222222222222,
              "#7201a8"
             ],
             [
              0.3333333333333333,
              "#9c179e"
             ],
             [
              0.4444444444444444,
              "#bd3786"
             ],
             [
              0.5555555555555556,
              "#d8576b"
             ],
             [
              0.6666666666666666,
              "#ed7953"
             ],
             [
              0.7777777777777778,
              "#fb9f3a"
             ],
             [
              0.8888888888888888,
              "#fdca26"
             ],
             [
              1,
              "#f0f921"
             ]
            ],
            "type": "histogram2dcontour"
           }
          ],
          "mesh3d": [
           {
            "colorbar": {
             "outlinewidth": 0,
             "ticks": ""
            },
            "type": "mesh3d"
           }
          ],
          "parcoords": [
           {
            "line": {
             "colorbar": {
              "outlinewidth": 0,
              "ticks": ""
             }
            },
            "type": "parcoords"
           }
          ],
          "pie": [
           {
            "automargin": true,
            "type": "pie"
           }
          ],
          "scatter": [
           {
            "fillpattern": {
             "fillmode": "overlay",
             "size": 10,
             "solidity": 0.2
            },
            "type": "scatter"
           }
          ],
          "scatter3d": [
           {
            "line": {
             "colorbar": {
              "outlinewidth": 0,
              "ticks": ""
             }
            },
            "marker": {
             "colorbar": {
              "outlinewidth": 0,
              "ticks": ""
             }
            },
            "type": "scatter3d"
           }
          ],
          "scattercarpet": [
           {
            "marker": {
             "colorbar": {
              "outlinewidth": 0,
              "ticks": ""
             }
            },
            "type": "scattercarpet"
           }
          ],
          "scattergeo": [
           {
            "marker": {
             "colorbar": {
              "outlinewidth": 0,
              "ticks": ""
             }
            },
            "type": "scattergeo"
           }
          ],
          "scattergl": [
           {
            "marker": {
             "colorbar": {
              "outlinewidth": 0,
              "ticks": ""
             }
            },
            "type": "scattergl"
           }
          ],
          "scattermapbox": [
           {
            "marker": {
             "colorbar": {
              "outlinewidth": 0,
              "ticks": ""
             }
            },
            "type": "scattermapbox"
           }
          ],
          "scatterpolar": [
           {
            "marker": {
             "colorbar": {
              "outlinewidth": 0,
              "ticks": ""
             }
            },
            "type": "scatterpolar"
           }
          ],
          "scatterpolargl": [
           {
            "marker": {
             "colorbar": {
              "outlinewidth": 0,
              "ticks": ""
             }
            },
            "type": "scatterpolargl"
           }
          ],
          "scatterternary": [
           {
            "marker": {
             "colorbar": {
              "outlinewidth": 0,
              "ticks": ""
             }
            },
            "type": "scatterternary"
           }
          ],
          "surface": [
           {
            "colorbar": {
             "outlinewidth": 0,
             "ticks": ""
            },
            "colorscale": [
             [
              0,
              "#0d0887"
             ],
             [
              0.1111111111111111,
              "#46039f"
             ],
             [
              0.2222222222222222,
              "#7201a8"
             ],
             [
              0.3333333333333333,
              "#9c179e"
             ],
             [
              0.4444444444444444,
              "#bd3786"
             ],
             [
              0.5555555555555556,
              "#d8576b"
             ],
             [
              0.6666666666666666,
              "#ed7953"
             ],
             [
              0.7777777777777778,
              "#fb9f3a"
             ],
             [
              0.8888888888888888,
              "#fdca26"
             ],
             [
              1,
              "#f0f921"
             ]
            ],
            "type": "surface"
           }
          ],
          "table": [
           {
            "cells": {
             "fill": {
              "color": "#EBF0F8"
             },
             "line": {
              "color": "white"
             }
            },
            "header": {
             "fill": {
              "color": "#C8D4E3"
             },
             "line": {
              "color": "white"
             }
            },
            "type": "table"
           }
          ]
         },
         "layout": {
          "annotationdefaults": {
           "arrowcolor": "#2a3f5f",
           "arrowhead": 0,
           "arrowwidth": 1
          },
          "autotypenumbers": "strict",
          "coloraxis": {
           "colorbar": {
            "outlinewidth": 0,
            "ticks": ""
           }
          },
          "colorscale": {
           "diverging": [
            [
             0,
             "#8e0152"
            ],
            [
             0.1,
             "#c51b7d"
            ],
            [
             0.2,
             "#de77ae"
            ],
            [
             0.3,
             "#f1b6da"
            ],
            [
             0.4,
             "#fde0ef"
            ],
            [
             0.5,
             "#f7f7f7"
            ],
            [
             0.6,
             "#e6f5d0"
            ],
            [
             0.7,
             "#b8e186"
            ],
            [
             0.8,
             "#7fbc41"
            ],
            [
             0.9,
             "#4d9221"
            ],
            [
             1,
             "#276419"
            ]
           ],
           "sequential": [
            [
             0,
             "#0d0887"
            ],
            [
             0.1111111111111111,
             "#46039f"
            ],
            [
             0.2222222222222222,
             "#7201a8"
            ],
            [
             0.3333333333333333,
             "#9c179e"
            ],
            [
             0.4444444444444444,
             "#bd3786"
            ],
            [
             0.5555555555555556,
             "#d8576b"
            ],
            [
             0.6666666666666666,
             "#ed7953"
            ],
            [
             0.7777777777777778,
             "#fb9f3a"
            ],
            [
             0.8888888888888888,
             "#fdca26"
            ],
            [
             1,
             "#f0f921"
            ]
           ],
           "sequentialminus": [
            [
             0,
             "#0d0887"
            ],
            [
             0.1111111111111111,
             "#46039f"
            ],
            [
             0.2222222222222222,
             "#7201a8"
            ],
            [
             0.3333333333333333,
             "#9c179e"
            ],
            [
             0.4444444444444444,
             "#bd3786"
            ],
            [
             0.5555555555555556,
             "#d8576b"
            ],
            [
             0.6666666666666666,
             "#ed7953"
            ],
            [
             0.7777777777777778,
             "#fb9f3a"
            ],
            [
             0.8888888888888888,
             "#fdca26"
            ],
            [
             1,
             "#f0f921"
            ]
           ]
          },
          "colorway": [
           "#636efa",
           "#EF553B",
           "#00cc96",
           "#ab63fa",
           "#FFA15A",
           "#19d3f3",
           "#FF6692",
           "#B6E880",
           "#FF97FF",
           "#FECB52"
          ],
          "font": {
           "color": "#2a3f5f"
          },
          "geo": {
           "bgcolor": "white",
           "lakecolor": "white",
           "landcolor": "#E5ECF6",
           "showlakes": true,
           "showland": true,
           "subunitcolor": "white"
          },
          "hoverlabel": {
           "align": "left"
          },
          "hovermode": "closest",
          "mapbox": {
           "style": "light"
          },
          "paper_bgcolor": "white",
          "plot_bgcolor": "#E5ECF6",
          "polar": {
           "angularaxis": {
            "gridcolor": "white",
            "linecolor": "white",
            "ticks": ""
           },
           "bgcolor": "#E5ECF6",
           "radialaxis": {
            "gridcolor": "white",
            "linecolor": "white",
            "ticks": ""
           }
          },
          "scene": {
           "xaxis": {
            "backgroundcolor": "#E5ECF6",
            "gridcolor": "white",
            "gridwidth": 2,
            "linecolor": "white",
            "showbackground": true,
            "ticks": "",
            "zerolinecolor": "white"
           },
           "yaxis": {
            "backgroundcolor": "#E5ECF6",
            "gridcolor": "white",
            "gridwidth": 2,
            "linecolor": "white",
            "showbackground": true,
            "ticks": "",
            "zerolinecolor": "white"
           },
           "zaxis": {
            "backgroundcolor": "#E5ECF6",
            "gridcolor": "white",
            "gridwidth": 2,
            "linecolor": "white",
            "showbackground": true,
            "ticks": "",
            "zerolinecolor": "white"
           }
          },
          "shapedefaults": {
           "line": {
            "color": "#2a3f5f"
           }
          },
          "ternary": {
           "aaxis": {
            "gridcolor": "white",
            "linecolor": "white",
            "ticks": ""
           },
           "baxis": {
            "gridcolor": "white",
            "linecolor": "white",
            "ticks": ""
           },
           "bgcolor": "#E5ECF6",
           "caxis": {
            "gridcolor": "white",
            "linecolor": "white",
            "ticks": ""
           }
          },
          "title": {
           "x": 0.05
          },
          "xaxis": {
           "automargin": true,
           "gridcolor": "white",
           "linecolor": "white",
           "ticks": "",
           "title": {
            "standoff": 15
           },
           "zerolinecolor": "white",
           "zerolinewidth": 2
          },
          "yaxis": {
           "automargin": true,
           "gridcolor": "white",
           "linecolor": "white",
           "ticks": "",
           "title": {
            "standoff": 15
           },
           "zerolinecolor": "white",
           "zerolinewidth": 2
          }
         }
        },
        "title": {
         "font": {
          "size": 12
         },
         "text": "Speed Data for Participant 01"
        },
        "width": 450,
        "xaxis": {
         "tickformat": "%H:%M",
         "title": {
          "font": {
           "size": 10
          },
          "text": "Time"
         }
        },
        "yaxis": {
         "title": {
          "font": {
           "size": 10
          },
          "text": "Speed in km/h"
         }
        }
       }
      }
     },
     "metadata": {},
     "output_type": "display_data"
    },
    {
     "data": {
      "application/vnd.plotly.v1+json": {
       "config": {
        "plotlyServerURL": "https://plot.ly"
       },
       "data": [
        {
         "mode": "lines",
         "name": "Participant 02",
         "type": "scatter",
         "x": [
          "2024-07-10T11:38:37.987000",
          "2024-07-10T11:38:47.990000",
          "2024-07-10T11:38:52.988000",
          "2024-07-10T11:38:57.992000",
          "2024-07-10T11:39:02.990000",
          "2024-07-10T11:39:12.993000",
          "2024-07-10T11:39:17.989000",
          "2024-07-10T11:39:23.989000",
          "2024-07-10T11:39:32.990000",
          "2024-07-10T11:39:38.988000",
          "2024-07-10T11:39:48.986000",
          "2024-07-10T11:39:58.987000",
          "2024-07-10T11:40:03.989000",
          "2024-07-10T11:40:08.989000",
          "2024-07-10T11:40:17.993000",
          "2024-07-10T11:40:23.987000",
          "2024-07-10T11:40:28.986000",
          "2024-07-10T11:40:33.993000",
          "2024-07-10T11:40:42.990000",
          "2024-07-10T11:40:48.990000",
          "2024-07-10T11:40:53.989000",
          "2024-07-10T11:40:58.988000",
          "2024-07-10T11:41:07.990000",
          "2024-07-10T11:41:13.989000",
          "2024-07-10T11:41:18.987000",
          "2024-07-10T11:41:23.988000",
          "2024-07-10T11:41:28.987000",
          "2024-07-10T11:41:33.990000",
          "2024-07-10T11:41:38.987000",
          "2024-07-10T11:41:43.987000",
          "2024-07-10T11:41:54.986000",
          "2024-07-10T11:42:03.989000",
          "2024-07-10T11:42:08.989000",
          "2024-07-10T11:42:13.988000",
          "2024-07-10T11:42:18.987000",
          "2024-07-10T11:42:23.987000",
          "2024-07-10T11:42:28.990000",
          "2024-07-10T11:42:33.989000",
          "2024-07-10T11:42:38.990000",
          "2024-07-10T11:42:43.988000",
          "2024-07-10T11:42:53.985000",
          "2024-07-10T11:42:59.991000",
          "2024-07-10T11:43:09.989000",
          "2024-07-10T11:43:18.985000",
          "2024-07-10T11:43:28.989000",
          "2024-07-10T11:43:33.991000",
          "2024-07-10T11:43:38.987000",
          "2024-07-10T11:43:48.988000",
          "2024-07-10T11:43:53.992000",
          "2024-07-10T11:43:58.986000",
          "2024-07-10T11:44:03.989000",
          "2024-07-10T11:44:13.987000",
          "2024-07-10T11:44:18.990000",
          "2024-07-10T11:44:23.988000",
          "2024-07-10T11:44:28.985000",
          "2024-07-10T11:44:37.988000",
          "2024-07-10T11:44:43.989000",
          "2024-07-10T11:44:53.987000",
          "2024-07-10T11:45:02.990000",
          "2024-07-10T11:45:07.988000",
          "2024-07-10T11:45:13.989000",
          "2024-07-10T11:45:18.988000",
          "2024-07-10T11:45:23.990000",
          "2024-07-10T11:45:28.991000",
          "2024-07-10T11:45:33.988000",
          "2024-07-10T11:45:38.988000",
          "2024-07-10T11:45:43.987000",
          "2024-07-10T11:45:49.986000",
          "2024-07-10T11:45:58.986000",
          "2024-07-10T11:46:04.988000",
          "2024-07-10T11:46:12.989000",
          "2024-07-10T11:46:18.990000",
          "2024-07-10T11:46:28.987000",
          "2024-07-10T11:46:33.987000",
          "2024-07-10T11:46:38.986000",
          "2024-07-10T11:46:43.987000",
          "2024-07-10T11:46:48.988000",
          "2024-07-10T11:46:57.990000",
          "2024-07-10T11:47:03.988000",
          "2024-07-10T11:47:08.994000",
          "2024-07-10T11:47:13.988000",
          "2024-07-10T11:47:18.988000",
          "2024-07-10T11:47:23.987000",
          "2024-07-10T11:47:28.988000",
          "2024-07-10T11:47:33.985000",
          "2024-07-10T11:47:43.986000",
          "2024-07-10T11:47:48.985000",
          "2024-07-10T11:47:58.991000",
          "2024-07-10T11:48:03.988000",
          "2024-07-10T11:48:08.985000",
          "2024-07-10T11:48:13.986000",
          "2024-07-10T11:48:19.989000",
          "2024-07-10T11:48:29.987000",
          "2024-07-10T11:48:39.987000",
          "2024-07-10T11:48:48.985000",
          "2024-07-10T11:48:53.987000",
          "2024-07-10T11:48:58.989000",
          "2024-07-10T11:49:03.990000",
          "2024-07-10T11:49:08.988000",
          "2024-07-10T11:49:13.986000",
          "2024-07-10T11:49:18.987000",
          "2024-07-10T11:49:23.990000",
          "2024-07-10T11:49:28.988000",
          "2024-07-10T11:49:33.989000",
          "2024-07-10T11:49:38.986000",
          "2024-07-10T11:49:43.987000",
          "2024-07-10T11:49:48.985000",
          "2024-07-10T11:49:59.989000",
          "2024-07-10T11:50:08.986000",
          "2024-07-10T11:50:18.988000",
          "2024-07-10T11:50:27.992000",
          "2024-07-10T11:50:32.989000",
          "2024-07-10T11:50:38.988000",
          "2024-07-10T11:50:43.989000",
          "2024-07-10T11:50:53.986000",
          "2024-07-10T11:50:58.987000",
          "2024-07-10T11:51:03.987000",
          "2024-07-10T11:51:08.991000",
          "2024-07-10T11:51:13.986000",
          "2024-07-10T11:51:19.989000",
          "2024-07-10T11:51:28.986000",
          "2024-07-10T11:51:33.987000",
          "2024-07-10T11:51:43.987000",
          "2024-07-10T11:51:53.988000",
          "2024-07-10T11:51:58.990000",
          "2024-07-10T11:52:03.989000",
          "2024-07-10T11:52:08.989000",
          "2024-07-10T11:52:17.987000",
          "2024-07-10T11:52:23.991000",
          "2024-07-10T11:52:28.993000",
          "2024-07-10T11:52:38.988000",
          "2024-07-10T11:52:43.988000",
          "2024-07-10T11:52:52.989000",
          "2024-07-10T11:52:57.990000",
          "2024-07-10T11:53:03.992000",
          "2024-07-10T11:53:12.994000",
          "2024-07-10T11:53:17.986000",
          "2024-07-10T11:53:23.985000",
          "2024-07-10T11:53:28.988000",
          "2024-07-10T11:53:34.992000"
         ],
         "y": [
          12.564000034332276,
          8.60400037765503,
          8.784000205993653,
          8.748000240325927,
          8.748000240325927,
          8.495999622344971,
          8.640000343322756,
          8.60400037765503,
          8.17199993133545,
          8.423999691009522,
          8.17199993133545,
          7.992000102996824,
          7.992000102996824,
          7.884000205993653,
          7.812000274658203,
          8.064000034332276,
          8.207999897003175,
          8.495999622344971,
          8.423999691009522,
          8.315999794006348,
          8.207999897003175,
          8.064000034332276,
          7.956000137329101,
          8.028000068664552,
          7.956000137329101,
          7.848000240325928,
          7.776000308990478,
          7.595999622344971,
          7.631999588012696,
          7.451999759674073,
          7.812000274658203,
          7.956000137329101,
          7.812000274658203,
          7.884000205993653,
          8.17199993133545,
          8.135999965667725,
          8.207999897003175,
          8.1,
          8.135999965667725,
          7.956000137329101,
          7.848000240325928,
          8.1,
          8.495999622344971,
          8.640000343322756,
          8.640000343322756,
          8.640000343322756,
          8.568000411987304,
          8.2439998626709,
          8.17199993133545,
          8.1,
          8.17199993133545,
          8.064000034332276,
          8.207999897003175,
          8.207999897003175,
          8.2439998626709,
          8.17199993133545,
          8.064000034332276,
          8.387999725341798,
          8.315999794006348,
          8.315999794006348,
          8.351999759674072,
          8.387999725341798,
          8.2439998626709,
          8.459999656677246,
          8.387999725341798,
          9.395999622344972,
          9.540000343322756,
          9.576000308990478,
          9.720000171661377,
          9.612000274658204,
          9.50400037765503,
          9.50400037765503,
          9.395999622344972,
          9.431999588012696,
          9.468000411987305,
          9.395999622344972,
          9.468000411987305,
          9.359999656677246,
          9.431999588012696,
          9.50400037765503,
          9.287999725341797,
          8.568000411987304,
          9.107999897003173,
          9.215999794006349,
          9.179999828338623,
          9.251999759674073,
          9.287999725341797,
          9.215999794006349,
          9.143999862670901,
          9.143999862670901,
          9.107999897003173,
          9.143999862670901,
          9.468000411987305,
          9.143999862670901,
          8.964000034332276,
          8.892000102996825,
          8.784000205993653,
          8.856000137329103,
          8.892000102996825,
          8.92800006866455,
          8.856000137329103,
          9,
          9,
          8.964000034332276,
          9.035999965667726,
          8.92800006866455,
          8.964000034332276,
          8.892000102996825,
          8.892000102996825,
          9.107999897003173,
          9.035999965667726,
          8.892000102996825,
          8.748000240325927,
          8.748000240325927,
          8.784000205993653,
          8.820000171661377,
          9.035999965667726,
          9.035999965667726,
          8.892000102996825,
          8.892000102996825,
          8.856000137329103,
          8.856000137329103,
          8.820000171661377,
          8.712000274658203,
          8.748000240325927,
          8.640000343322756,
          8.67600030899048,
          8.568000411987304,
          8.712000274658203,
          8.712000274658203,
          8.784000205993653,
          8.748000240325927,
          8.784000205993653,
          9.07199993133545,
          9,
          9.107999897003173,
          9.035999965667726,
          9,
          9,
          5.8679999828338625
         ]
        }
       ],
       "layout": {
        "height": 300,
        "margin": {
         "b": 30,
         "l": 30,
         "r": 30,
         "t": 30
        },
        "shapes": [
         {
          "line": {
           "color": "red",
           "dash": "dash"
          },
          "type": "line",
          "x0": "2024-07-10T11:38:23.602000",
          "x1": "2024-07-10T11:38:23.602000",
          "xref": "x",
          "y0": 0,
          "y1": 1,
          "yref": "y domain"
         },
         {
          "line": {
           "color": "blue",
           "dash": "dash"
          },
          "type": "line",
          "x0": "2024-07-10T11:40:23.602000",
          "x1": "2024-07-10T11:40:23.602000",
          "xref": "x",
          "y0": 0,
          "y1": 1,
          "yref": "y domain"
         },
         {
          "line": {
           "color": "blue",
           "dash": "dash"
          },
          "type": "line",
          "x0": "2024-07-10T11:42:23.602000",
          "x1": "2024-07-10T11:42:23.602000",
          "xref": "x",
          "y0": 0,
          "y1": 1,
          "yref": "y domain"
         },
         {
          "line": {
           "color": "blue",
           "dash": "dash"
          },
          "type": "line",
          "x0": "2024-07-10T11:44:23.602000",
          "x1": "2024-07-10T11:44:23.602000",
          "xref": "x",
          "y0": 0,
          "y1": 1,
          "yref": "y domain"
         },
         {
          "line": {
           "color": "blue",
           "dash": "dash"
          },
          "type": "line",
          "x0": "2024-07-10T11:46:23.602000",
          "x1": "2024-07-10T11:46:23.602000",
          "xref": "x",
          "y0": 0,
          "y1": 1,
          "yref": "y domain"
         },
         {
          "line": {
           "color": "blue",
           "dash": "dash"
          },
          "type": "line",
          "x0": "2024-07-10T11:48:23.602000",
          "x1": "2024-07-10T11:48:23.602000",
          "xref": "x",
          "y0": 0,
          "y1": 1,
          "yref": "y domain"
         },
         {
          "line": {
           "color": "blue",
           "dash": "dash"
          },
          "type": "line",
          "x0": "2024-07-10T11:50:23.602000",
          "x1": "2024-07-10T11:50:23.602000",
          "xref": "x",
          "y0": 0,
          "y1": 1,
          "yref": "y domain"
         },
         {
          "line": {
           "color": "red",
           "dash": "dash"
          },
          "type": "line",
          "x0": "2024-07-10T11:53:23.602000",
          "x1": "2024-07-10T11:53:23.602000",
          "xref": "x",
          "y0": 0,
          "y1": 1,
          "yref": "y domain"
         }
        ],
        "template": {
         "data": {
          "bar": [
           {
            "error_x": {
             "color": "#2a3f5f"
            },
            "error_y": {
             "color": "#2a3f5f"
            },
            "marker": {
             "line": {
              "color": "#E5ECF6",
              "width": 0.5
             },
             "pattern": {
              "fillmode": "overlay",
              "size": 10,
              "solidity": 0.2
             }
            },
            "type": "bar"
           }
          ],
          "barpolar": [
           {
            "marker": {
             "line": {
              "color": "#E5ECF6",
              "width": 0.5
             },
             "pattern": {
              "fillmode": "overlay",
              "size": 10,
              "solidity": 0.2
             }
            },
            "type": "barpolar"
           }
          ],
          "carpet": [
           {
            "aaxis": {
             "endlinecolor": "#2a3f5f",
             "gridcolor": "white",
             "linecolor": "white",
             "minorgridcolor": "white",
             "startlinecolor": "#2a3f5f"
            },
            "baxis": {
             "endlinecolor": "#2a3f5f",
             "gridcolor": "white",
             "linecolor": "white",
             "minorgridcolor": "white",
             "startlinecolor": "#2a3f5f"
            },
            "type": "carpet"
           }
          ],
          "choropleth": [
           {
            "colorbar": {
             "outlinewidth": 0,
             "ticks": ""
            },
            "type": "choropleth"
           }
          ],
          "contour": [
           {
            "colorbar": {
             "outlinewidth": 0,
             "ticks": ""
            },
            "colorscale": [
             [
              0,
              "#0d0887"
             ],
             [
              0.1111111111111111,
              "#46039f"
             ],
             [
              0.2222222222222222,
              "#7201a8"
             ],
             [
              0.3333333333333333,
              "#9c179e"
             ],
             [
              0.4444444444444444,
              "#bd3786"
             ],
             [
              0.5555555555555556,
              "#d8576b"
             ],
             [
              0.6666666666666666,
              "#ed7953"
             ],
             [
              0.7777777777777778,
              "#fb9f3a"
             ],
             [
              0.8888888888888888,
              "#fdca26"
             ],
             [
              1,
              "#f0f921"
             ]
            ],
            "type": "contour"
           }
          ],
          "contourcarpet": [
           {
            "colorbar": {
             "outlinewidth": 0,
             "ticks": ""
            },
            "type": "contourcarpet"
           }
          ],
          "heatmap": [
           {
            "colorbar": {
             "outlinewidth": 0,
             "ticks": ""
            },
            "colorscale": [
             [
              0,
              "#0d0887"
             ],
             [
              0.1111111111111111,
              "#46039f"
             ],
             [
              0.2222222222222222,
              "#7201a8"
             ],
             [
              0.3333333333333333,
              "#9c179e"
             ],
             [
              0.4444444444444444,
              "#bd3786"
             ],
             [
              0.5555555555555556,
              "#d8576b"
             ],
             [
              0.6666666666666666,
              "#ed7953"
             ],
             [
              0.7777777777777778,
              "#fb9f3a"
             ],
             [
              0.8888888888888888,
              "#fdca26"
             ],
             [
              1,
              "#f0f921"
             ]
            ],
            "type": "heatmap"
           }
          ],
          "heatmapgl": [
           {
            "colorbar": {
             "outlinewidth": 0,
             "ticks": ""
            },
            "colorscale": [
             [
              0,
              "#0d0887"
             ],
             [
              0.1111111111111111,
              "#46039f"
             ],
             [
              0.2222222222222222,
              "#7201a8"
             ],
             [
              0.3333333333333333,
              "#9c179e"
             ],
             [
              0.4444444444444444,
              "#bd3786"
             ],
             [
              0.5555555555555556,
              "#d8576b"
             ],
             [
              0.6666666666666666,
              "#ed7953"
             ],
             [
              0.7777777777777778,
              "#fb9f3a"
             ],
             [
              0.8888888888888888,
              "#fdca26"
             ],
             [
              1,
              "#f0f921"
             ]
            ],
            "type": "heatmapgl"
           }
          ],
          "histogram": [
           {
            "marker": {
             "pattern": {
              "fillmode": "overlay",
              "size": 10,
              "solidity": 0.2
             }
            },
            "type": "histogram"
           }
          ],
          "histogram2d": [
           {
            "colorbar": {
             "outlinewidth": 0,
             "ticks": ""
            },
            "colorscale": [
             [
              0,
              "#0d0887"
             ],
             [
              0.1111111111111111,
              "#46039f"
             ],
             [
              0.2222222222222222,
              "#7201a8"
             ],
             [
              0.3333333333333333,
              "#9c179e"
             ],
             [
              0.4444444444444444,
              "#bd3786"
             ],
             [
              0.5555555555555556,
              "#d8576b"
             ],
             [
              0.6666666666666666,
              "#ed7953"
             ],
             [
              0.7777777777777778,
              "#fb9f3a"
             ],
             [
              0.8888888888888888,
              "#fdca26"
             ],
             [
              1,
              "#f0f921"
             ]
            ],
            "type": "histogram2d"
           }
          ],
          "histogram2dcontour": [
           {
            "colorbar": {
             "outlinewidth": 0,
             "ticks": ""
            },
            "colorscale": [
             [
              0,
              "#0d0887"
             ],
             [
              0.1111111111111111,
              "#46039f"
             ],
             [
              0.2222222222222222,
              "#7201a8"
             ],
             [
              0.3333333333333333,
              "#9c179e"
             ],
             [
              0.4444444444444444,
              "#bd3786"
             ],
             [
              0.5555555555555556,
              "#d8576b"
             ],
             [
              0.6666666666666666,
              "#ed7953"
             ],
             [
              0.7777777777777778,
              "#fb9f3a"
             ],
             [
              0.8888888888888888,
              "#fdca26"
             ],
             [
              1,
              "#f0f921"
             ]
            ],
            "type": "histogram2dcontour"
           }
          ],
          "mesh3d": [
           {
            "colorbar": {
             "outlinewidth": 0,
             "ticks": ""
            },
            "type": "mesh3d"
           }
          ],
          "parcoords": [
           {
            "line": {
             "colorbar": {
              "outlinewidth": 0,
              "ticks": ""
             }
            },
            "type": "parcoords"
           }
          ],
          "pie": [
           {
            "automargin": true,
            "type": "pie"
           }
          ],
          "scatter": [
           {
            "fillpattern": {
             "fillmode": "overlay",
             "size": 10,
             "solidity": 0.2
            },
            "type": "scatter"
           }
          ],
          "scatter3d": [
           {
            "line": {
             "colorbar": {
              "outlinewidth": 0,
              "ticks": ""
             }
            },
            "marker": {
             "colorbar": {
              "outlinewidth": 0,
              "ticks": ""
             }
            },
            "type": "scatter3d"
           }
          ],
          "scattercarpet": [
           {
            "marker": {
             "colorbar": {
              "outlinewidth": 0,
              "ticks": ""
             }
            },
            "type": "scattercarpet"
           }
          ],
          "scattergeo": [
           {
            "marker": {
             "colorbar": {
              "outlinewidth": 0,
              "ticks": ""
             }
            },
            "type": "scattergeo"
           }
          ],
          "scattergl": [
           {
            "marker": {
             "colorbar": {
              "outlinewidth": 0,
              "ticks": ""
             }
            },
            "type": "scattergl"
           }
          ],
          "scattermapbox": [
           {
            "marker": {
             "colorbar": {
              "outlinewidth": 0,
              "ticks": ""
             }
            },
            "type": "scattermapbox"
           }
          ],
          "scatterpolar": [
           {
            "marker": {
             "colorbar": {
              "outlinewidth": 0,
              "ticks": ""
             }
            },
            "type": "scatterpolar"
           }
          ],
          "scatterpolargl": [
           {
            "marker": {
             "colorbar": {
              "outlinewidth": 0,
              "ticks": ""
             }
            },
            "type": "scatterpolargl"
           }
          ],
          "scatterternary": [
           {
            "marker": {
             "colorbar": {
              "outlinewidth": 0,
              "ticks": ""
             }
            },
            "type": "scatterternary"
           }
          ],
          "surface": [
           {
            "colorbar": {
             "outlinewidth": 0,
             "ticks": ""
            },
            "colorscale": [
             [
              0,
              "#0d0887"
             ],
             [
              0.1111111111111111,
              "#46039f"
             ],
             [
              0.2222222222222222,
              "#7201a8"
             ],
             [
              0.3333333333333333,
              "#9c179e"
             ],
             [
              0.4444444444444444,
              "#bd3786"
             ],
             [
              0.5555555555555556,
              "#d8576b"
             ],
             [
              0.6666666666666666,
              "#ed7953"
             ],
             [
              0.7777777777777778,
              "#fb9f3a"
             ],
             [
              0.8888888888888888,
              "#fdca26"
             ],
             [
              1,
              "#f0f921"
             ]
            ],
            "type": "surface"
           }
          ],
          "table": [
           {
            "cells": {
             "fill": {
              "color": "#EBF0F8"
             },
             "line": {
              "color": "white"
             }
            },
            "header": {
             "fill": {
              "color": "#C8D4E3"
             },
             "line": {
              "color": "white"
             }
            },
            "type": "table"
           }
          ]
         },
         "layout": {
          "annotationdefaults": {
           "arrowcolor": "#2a3f5f",
           "arrowhead": 0,
           "arrowwidth": 1
          },
          "autotypenumbers": "strict",
          "coloraxis": {
           "colorbar": {
            "outlinewidth": 0,
            "ticks": ""
           }
          },
          "colorscale": {
           "diverging": [
            [
             0,
             "#8e0152"
            ],
            [
             0.1,
             "#c51b7d"
            ],
            [
             0.2,
             "#de77ae"
            ],
            [
             0.3,
             "#f1b6da"
            ],
            [
             0.4,
             "#fde0ef"
            ],
            [
             0.5,
             "#f7f7f7"
            ],
            [
             0.6,
             "#e6f5d0"
            ],
            [
             0.7,
             "#b8e186"
            ],
            [
             0.8,
             "#7fbc41"
            ],
            [
             0.9,
             "#4d9221"
            ],
            [
             1,
             "#276419"
            ]
           ],
           "sequential": [
            [
             0,
             "#0d0887"
            ],
            [
             0.1111111111111111,
             "#46039f"
            ],
            [
             0.2222222222222222,
             "#7201a8"
            ],
            [
             0.3333333333333333,
             "#9c179e"
            ],
            [
             0.4444444444444444,
             "#bd3786"
            ],
            [
             0.5555555555555556,
             "#d8576b"
            ],
            [
             0.6666666666666666,
             "#ed7953"
            ],
            [
             0.7777777777777778,
             "#fb9f3a"
            ],
            [
             0.8888888888888888,
             "#fdca26"
            ],
            [
             1,
             "#f0f921"
            ]
           ],
           "sequentialminus": [
            [
             0,
             "#0d0887"
            ],
            [
             0.1111111111111111,
             "#46039f"
            ],
            [
             0.2222222222222222,
             "#7201a8"
            ],
            [
             0.3333333333333333,
             "#9c179e"
            ],
            [
             0.4444444444444444,
             "#bd3786"
            ],
            [
             0.5555555555555556,
             "#d8576b"
            ],
            [
             0.6666666666666666,
             "#ed7953"
            ],
            [
             0.7777777777777778,
             "#fb9f3a"
            ],
            [
             0.8888888888888888,
             "#fdca26"
            ],
            [
             1,
             "#f0f921"
            ]
           ]
          },
          "colorway": [
           "#636efa",
           "#EF553B",
           "#00cc96",
           "#ab63fa",
           "#FFA15A",
           "#19d3f3",
           "#FF6692",
           "#B6E880",
           "#FF97FF",
           "#FECB52"
          ],
          "font": {
           "color": "#2a3f5f"
          },
          "geo": {
           "bgcolor": "white",
           "lakecolor": "white",
           "landcolor": "#E5ECF6",
           "showlakes": true,
           "showland": true,
           "subunitcolor": "white"
          },
          "hoverlabel": {
           "align": "left"
          },
          "hovermode": "closest",
          "mapbox": {
           "style": "light"
          },
          "paper_bgcolor": "white",
          "plot_bgcolor": "#E5ECF6",
          "polar": {
           "angularaxis": {
            "gridcolor": "white",
            "linecolor": "white",
            "ticks": ""
           },
           "bgcolor": "#E5ECF6",
           "radialaxis": {
            "gridcolor": "white",
            "linecolor": "white",
            "ticks": ""
           }
          },
          "scene": {
           "xaxis": {
            "backgroundcolor": "#E5ECF6",
            "gridcolor": "white",
            "gridwidth": 2,
            "linecolor": "white",
            "showbackground": true,
            "ticks": "",
            "zerolinecolor": "white"
           },
           "yaxis": {
            "backgroundcolor": "#E5ECF6",
            "gridcolor": "white",
            "gridwidth": 2,
            "linecolor": "white",
            "showbackground": true,
            "ticks": "",
            "zerolinecolor": "white"
           },
           "zaxis": {
            "backgroundcolor": "#E5ECF6",
            "gridcolor": "white",
            "gridwidth": 2,
            "linecolor": "white",
            "showbackground": true,
            "ticks": "",
            "zerolinecolor": "white"
           }
          },
          "shapedefaults": {
           "line": {
            "color": "#2a3f5f"
           }
          },
          "ternary": {
           "aaxis": {
            "gridcolor": "white",
            "linecolor": "white",
            "ticks": ""
           },
           "baxis": {
            "gridcolor": "white",
            "linecolor": "white",
            "ticks": ""
           },
           "bgcolor": "#E5ECF6",
           "caxis": {
            "gridcolor": "white",
            "linecolor": "white",
            "ticks": ""
           }
          },
          "title": {
           "x": 0.05
          },
          "xaxis": {
           "automargin": true,
           "gridcolor": "white",
           "linecolor": "white",
           "ticks": "",
           "title": {
            "standoff": 15
           },
           "zerolinecolor": "white",
           "zerolinewidth": 2
          },
          "yaxis": {
           "automargin": true,
           "gridcolor": "white",
           "linecolor": "white",
           "ticks": "",
           "title": {
            "standoff": 15
           },
           "zerolinecolor": "white",
           "zerolinewidth": 2
          }
         }
        },
        "title": {
         "font": {
          "size": 12
         },
         "text": "Speed Data for Participant 02"
        },
        "width": 450,
        "xaxis": {
         "tickformat": "%H:%M",
         "title": {
          "font": {
           "size": 10
          },
          "text": "Time"
         }
        },
        "yaxis": {
         "title": {
          "font": {
           "size": 10
          },
          "text": "Speed in km/h"
         }
        }
       }
      }
     },
     "metadata": {},
     "output_type": "display_data"
    },
    {
     "data": {
      "application/vnd.plotly.v1+json": {
       "config": {
        "plotlyServerURL": "https://plot.ly"
       },
       "data": [
        {
         "mode": "lines",
         "name": "Participant 03",
         "type": "scatter",
         "x": [
          "2024-07-10T11:59:08.985000",
          "2024-07-10T11:59:18.987000",
          "2024-07-10T11:59:23.988000",
          "2024-07-10T11:59:28.988000",
          "2024-07-10T11:59:34.987000",
          "2024-07-10T11:59:39.983000",
          "2024-07-10T11:59:48.987000",
          "2024-07-10T11:59:54.986000",
          "2024-07-10T11:59:59.985000",
          "2024-07-10T12:00:08.988000",
          "2024-07-10T12:00:13.989000",
          "2024-07-10T12:00:19.990000",
          "2024-07-10T12:00:24.985000",
          "2024-07-10T12:00:29.988000",
          "2024-07-10T12:00:34.986000",
          "2024-07-10T12:00:43.990000",
          "2024-07-10T12:00:49.987000",
          "2024-07-10T12:00:59.982000",
          "2024-07-10T12:01:08.984000",
          "2024-07-10T12:01:14.989000",
          "2024-07-10T12:01:23.987000",
          "2024-07-10T12:01:28.985000",
          "2024-07-10T12:01:34.985000",
          "2024-07-10T12:01:44.985000",
          "2024-07-10T12:01:49.985000",
          "2024-07-10T12:01:59.984000",
          "2024-07-10T12:02:04.983000",
          "2024-07-10T12:02:09.988000",
          "2024-07-10T12:02:14.987000",
          "2024-07-10T12:02:19.986000",
          "2024-07-10T12:02:28.988000",
          "2024-07-10T12:02:33.987000",
          "2024-07-10T12:02:38.988000",
          "2024-07-10T12:02:44.985000",
          "2024-07-10T12:02:54.990000",
          "2024-07-10T12:02:59.989000",
          "2024-07-10T12:03:04.986000",
          "2024-07-10T12:03:13.988000",
          "2024-07-10T12:03:18.985000",
          "2024-07-10T12:03:23.991000",
          "2024-07-10T12:03:28.991000",
          "2024-07-10T12:03:33.987000",
          "2024-07-10T12:03:38.989000",
          "2024-07-10T12:03:43.993000",
          "2024-07-10T12:03:49.986000",
          "2024-07-10T12:03:58.985000",
          "2024-07-10T12:04:03.985000",
          "2024-07-10T12:04:09.985000",
          "2024-07-10T12:04:14.984000",
          "2024-07-10T12:04:24.983000",
          "2024-07-10T12:04:29.986000",
          "2024-07-10T12:04:34.984000",
          "2024-07-10T12:04:39.984000",
          "2024-07-10T12:04:44.985000",
          "2024-07-10T12:04:49.983000",
          "2024-07-10T12:04:54.984000",
          "2024-07-10T12:04:59.983000",
          "2024-07-10T12:05:04.984000",
          "2024-07-10T12:05:13.986000",
          "2024-07-10T12:05:19.982000",
          "2024-07-10T12:05:24.986000",
          "2024-07-10T12:05:29.984000",
          "2024-07-10T12:05:34.985000",
          "2024-07-10T12:05:39.984000",
          "2024-07-10T12:05:44.985000",
          "2024-07-10T12:05:53.987000",
          "2024-07-10T12:05:58.987000",
          "2024-07-10T12:06:04.982000",
          "2024-07-10T12:06:14.985000",
          "2024-07-10T12:06:19.988000",
          "2024-07-10T12:06:24.985000",
          "2024-07-10T12:06:29.988000",
          "2024-07-10T12:06:34.985000",
          "2024-07-10T12:06:39.984000",
          "2024-07-10T12:06:44.983000",
          "2024-07-10T12:06:49.984000",
          "2024-07-10T12:06:54.986000",
          "2024-07-10T12:06:59.985000",
          "2024-07-10T12:07:04.983000",
          "2024-07-10T12:07:09.982000",
          "2024-07-10T12:07:14.988000",
          "2024-07-10T12:07:19.984000",
          "2024-07-10T12:07:29.983000",
          "2024-07-10T12:07:38.987000",
          "2024-07-10T12:07:43.988000",
          "2024-07-10T12:07:49.982000",
          "2024-07-10T12:07:54.983000",
          "2024-07-10T12:07:59.984000",
          "2024-07-10T12:08:04.982000",
          "2024-07-10T12:08:09.983000",
          "2024-07-10T12:08:14.985000",
          "2024-07-10T12:08:19.983000",
          "2024-07-10T12:08:24.983000",
          "2024-07-10T12:08:34.987000",
          "2024-07-10T12:08:39.984000",
          "2024-07-10T12:08:44.982000",
          "2024-07-10T12:08:49.985000",
          "2024-07-10T12:08:54.985000",
          "2024-07-10T12:08:59.986000",
          "2024-07-10T12:09:04.981000",
          "2024-07-10T12:09:09.981000",
          "2024-07-10T12:09:14.982000",
          "2024-07-10T12:09:20.984000",
          "2024-07-10T12:09:29.983000",
          "2024-07-10T12:09:34.982000",
          "2024-07-10T12:09:44.982000",
          "2024-07-10T12:09:49.981000",
          "2024-07-10T12:09:54.985000",
          "2024-07-10T12:09:59.984000",
          "2024-07-10T12:10:09.982000",
          "2024-07-10T12:10:14.983000",
          "2024-07-10T12:10:19.984000",
          "2024-07-10T12:10:24.985000",
          "2024-07-10T12:10:29.982000",
          "2024-07-10T12:10:34.985000",
          "2024-07-10T12:10:39.985000",
          "2024-07-10T12:10:44.982000",
          "2024-07-10T12:10:54.990000",
          "2024-07-10T12:10:59.987000",
          "2024-07-10T12:11:04.986000",
          "2024-07-10T12:11:14.987000",
          "2024-07-10T12:11:24.983000",
          "2024-07-10T12:11:29.986000",
          "2024-07-10T12:11:34.984000",
          "2024-07-10T12:11:48.983000"
         ],
         "y": [
          12.312000274658203,
          9.540000343322756,
          9.50400037765503,
          9.612000274658204,
          9.540000343322756,
          10.223999691009523,
          9.792000102996825,
          9.792000102996825,
          9.612000274658204,
          9.323999691009522,
          8.892000102996825,
          9.287999725341797,
          9.431999588012696,
          9.612000274658204,
          9.576000308990478,
          9.684000205993653,
          9.323999691009522,
          9.468000411987305,
          9.468000411987305,
          7.992000102996824,
          10.151999759674073,
          9.50400037765503,
          9.251999759674073,
          8.892000102996825,
          8.964000034332276,
          8.892000102996825,
          8.92800006866455,
          8.892000102996825,
          8.892000102996825,
          8.892000102996825,
          8.712000274658203,
          8.892000102996825,
          9.107999897003173,
          9.107999897003173,
          9.431999588012696,
          9.395999622344972,
          9.612000274658204,
          8.784000205993653,
          7.415999794006348,
          9.576000308990478,
          9.576000308990478,
          9.50400037765503,
          9.50400037765503,
          9.576000308990478,
          9.431999588012696,
          9.359999656677246,
          9.287999725341797,
          9.143999862670901,
          9.179999828338623,
          9.287999725341797,
          9.215999794006349,
          9.179999828338623,
          9.107999897003173,
          9.035999965667726,
          9.07199993133545,
          9.107999897003173,
          9.07199993133545,
          9.07199993133545,
          9.107999897003173,
          9,
          9,
          8.892000102996825,
          8.964000034332276,
          9.035999965667726,
          9,
          8.60400037765503,
          8.67600030899048,
          8.640000343322756,
          8.748000240325927,
          8.784000205993653,
          9.540000343322756,
          9.468000411987305,
          9.395999622344972,
          9.251999759674073,
          9.107999897003173,
          9.287999725341797,
          9.323999691009522,
          9.468000411987305,
          9.359999656677246,
          9.395999622344972,
          9.323999691009522,
          9.251999759674073,
          9.07199993133545,
          9.251999759674073,
          9.215999794006349,
          9.251999759674073,
          9.323999691009522,
          9.287999725341797,
          9.431999588012696,
          9.82800006866455,
          9.540000343322756,
          9.612000274658204,
          9.431999588012696,
          9.431999588012696,
          9.431999588012696,
          9.612000274658204,
          9.720000171661377,
          9.864000034332276,
          9.756000137329101,
          9.323999691009522,
          9.395999622344972,
          9.287999725341797,
          9.50400037765503,
          9.468000411987305,
          9.540000343322756,
          9.359999656677246,
          9.468000411987305,
          9.215999794006349,
          9.287999725341797,
          9.323999691009522,
          9.251999759674073,
          9.035999965667726,
          8.964000034332276,
          9.107999897003173,
          9.395999622344972,
          9.468000411987305,
          9.576000308990478,
          9.612000274658204,
          9.540000343322756,
          9.576000308990478,
          9.179999828338623,
          9.215999794006349,
          9.07199993133545,
          8.784000205993653,
          13.320000171661377
         ]
        }
       ],
       "layout": {
        "height": 300,
        "margin": {
         "b": 30,
         "l": 30,
         "r": 30,
         "t": 30
        },
        "shapes": [
         {
          "line": {
           "color": "red",
           "dash": "dash"
          },
          "type": "line",
          "x0": "2024-07-10T11:58:47.640000",
          "x1": "2024-07-10T11:58:47.640000",
          "xref": "x",
          "y0": 0,
          "y1": 1,
          "yref": "y domain"
         },
         {
          "line": {
           "color": "blue",
           "dash": "dash"
          },
          "type": "line",
          "x0": "2024-07-10T12:00:47.640000",
          "x1": "2024-07-10T12:00:47.640000",
          "xref": "x",
          "y0": 0,
          "y1": 1,
          "yref": "y domain"
         },
         {
          "line": {
           "color": "blue",
           "dash": "dash"
          },
          "type": "line",
          "x0": "2024-07-10T12:02:47.640000",
          "x1": "2024-07-10T12:02:47.640000",
          "xref": "x",
          "y0": 0,
          "y1": 1,
          "yref": "y domain"
         },
         {
          "line": {
           "color": "blue",
           "dash": "dash"
          },
          "type": "line",
          "x0": "2024-07-10T12:04:47.640000",
          "x1": "2024-07-10T12:04:47.640000",
          "xref": "x",
          "y0": 0,
          "y1": 1,
          "yref": "y domain"
         },
         {
          "line": {
           "color": "blue",
           "dash": "dash"
          },
          "type": "line",
          "x0": "2024-07-10T12:06:47.640000",
          "x1": "2024-07-10T12:06:47.640000",
          "xref": "x",
          "y0": 0,
          "y1": 1,
          "yref": "y domain"
         },
         {
          "line": {
           "color": "blue",
           "dash": "dash"
          },
          "type": "line",
          "x0": "2024-07-10T12:08:47.640000",
          "x1": "2024-07-10T12:08:47.640000",
          "xref": "x",
          "y0": 0,
          "y1": 1,
          "yref": "y domain"
         },
         {
          "line": {
           "color": "blue",
           "dash": "dash"
          },
          "type": "line",
          "x0": "2024-07-10T12:10:47.640000",
          "x1": "2024-07-10T12:10:47.640000",
          "xref": "x",
          "y0": 0,
          "y1": 1,
          "yref": "y domain"
         },
         {
          "line": {
           "color": "red",
           "dash": "dash"
          },
          "type": "line",
          "x0": "2024-07-10T12:13:47.640000",
          "x1": "2024-07-10T12:13:47.640000",
          "xref": "x",
          "y0": 0,
          "y1": 1,
          "yref": "y domain"
         }
        ],
        "template": {
         "data": {
          "bar": [
           {
            "error_x": {
             "color": "#2a3f5f"
            },
            "error_y": {
             "color": "#2a3f5f"
            },
            "marker": {
             "line": {
              "color": "#E5ECF6",
              "width": 0.5
             },
             "pattern": {
              "fillmode": "overlay",
              "size": 10,
              "solidity": 0.2
             }
            },
            "type": "bar"
           }
          ],
          "barpolar": [
           {
            "marker": {
             "line": {
              "color": "#E5ECF6",
              "width": 0.5
             },
             "pattern": {
              "fillmode": "overlay",
              "size": 10,
              "solidity": 0.2
             }
            },
            "type": "barpolar"
           }
          ],
          "carpet": [
           {
            "aaxis": {
             "endlinecolor": "#2a3f5f",
             "gridcolor": "white",
             "linecolor": "white",
             "minorgridcolor": "white",
             "startlinecolor": "#2a3f5f"
            },
            "baxis": {
             "endlinecolor": "#2a3f5f",
             "gridcolor": "white",
             "linecolor": "white",
             "minorgridcolor": "white",
             "startlinecolor": "#2a3f5f"
            },
            "type": "carpet"
           }
          ],
          "choropleth": [
           {
            "colorbar": {
             "outlinewidth": 0,
             "ticks": ""
            },
            "type": "choropleth"
           }
          ],
          "contour": [
           {
            "colorbar": {
             "outlinewidth": 0,
             "ticks": ""
            },
            "colorscale": [
             [
              0,
              "#0d0887"
             ],
             [
              0.1111111111111111,
              "#46039f"
             ],
             [
              0.2222222222222222,
              "#7201a8"
             ],
             [
              0.3333333333333333,
              "#9c179e"
             ],
             [
              0.4444444444444444,
              "#bd3786"
             ],
             [
              0.5555555555555556,
              "#d8576b"
             ],
             [
              0.6666666666666666,
              "#ed7953"
             ],
             [
              0.7777777777777778,
              "#fb9f3a"
             ],
             [
              0.8888888888888888,
              "#fdca26"
             ],
             [
              1,
              "#f0f921"
             ]
            ],
            "type": "contour"
           }
          ],
          "contourcarpet": [
           {
            "colorbar": {
             "outlinewidth": 0,
             "ticks": ""
            },
            "type": "contourcarpet"
           }
          ],
          "heatmap": [
           {
            "colorbar": {
             "outlinewidth": 0,
             "ticks": ""
            },
            "colorscale": [
             [
              0,
              "#0d0887"
             ],
             [
              0.1111111111111111,
              "#46039f"
             ],
             [
              0.2222222222222222,
              "#7201a8"
             ],
             [
              0.3333333333333333,
              "#9c179e"
             ],
             [
              0.4444444444444444,
              "#bd3786"
             ],
             [
              0.5555555555555556,
              "#d8576b"
             ],
             [
              0.6666666666666666,
              "#ed7953"
             ],
             [
              0.7777777777777778,
              "#fb9f3a"
             ],
             [
              0.8888888888888888,
              "#fdca26"
             ],
             [
              1,
              "#f0f921"
             ]
            ],
            "type": "heatmap"
           }
          ],
          "heatmapgl": [
           {
            "colorbar": {
             "outlinewidth": 0,
             "ticks": ""
            },
            "colorscale": [
             [
              0,
              "#0d0887"
             ],
             [
              0.1111111111111111,
              "#46039f"
             ],
             [
              0.2222222222222222,
              "#7201a8"
             ],
             [
              0.3333333333333333,
              "#9c179e"
             ],
             [
              0.4444444444444444,
              "#bd3786"
             ],
             [
              0.5555555555555556,
              "#d8576b"
             ],
             [
              0.6666666666666666,
              "#ed7953"
             ],
             [
              0.7777777777777778,
              "#fb9f3a"
             ],
             [
              0.8888888888888888,
              "#fdca26"
             ],
             [
              1,
              "#f0f921"
             ]
            ],
            "type": "heatmapgl"
           }
          ],
          "histogram": [
           {
            "marker": {
             "pattern": {
              "fillmode": "overlay",
              "size": 10,
              "solidity": 0.2
             }
            },
            "type": "histogram"
           }
          ],
          "histogram2d": [
           {
            "colorbar": {
             "outlinewidth": 0,
             "ticks": ""
            },
            "colorscale": [
             [
              0,
              "#0d0887"
             ],
             [
              0.1111111111111111,
              "#46039f"
             ],
             [
              0.2222222222222222,
              "#7201a8"
             ],
             [
              0.3333333333333333,
              "#9c179e"
             ],
             [
              0.4444444444444444,
              "#bd3786"
             ],
             [
              0.5555555555555556,
              "#d8576b"
             ],
             [
              0.6666666666666666,
              "#ed7953"
             ],
             [
              0.7777777777777778,
              "#fb9f3a"
             ],
             [
              0.8888888888888888,
              "#fdca26"
             ],
             [
              1,
              "#f0f921"
             ]
            ],
            "type": "histogram2d"
           }
          ],
          "histogram2dcontour": [
           {
            "colorbar": {
             "outlinewidth": 0,
             "ticks": ""
            },
            "colorscale": [
             [
              0,
              "#0d0887"
             ],
             [
              0.1111111111111111,
              "#46039f"
             ],
             [
              0.2222222222222222,
              "#7201a8"
             ],
             [
              0.3333333333333333,
              "#9c179e"
             ],
             [
              0.4444444444444444,
              "#bd3786"
             ],
             [
              0.5555555555555556,
              "#d8576b"
             ],
             [
              0.6666666666666666,
              "#ed7953"
             ],
             [
              0.7777777777777778,
              "#fb9f3a"
             ],
             [
              0.8888888888888888,
              "#fdca26"
             ],
             [
              1,
              "#f0f921"
             ]
            ],
            "type": "histogram2dcontour"
           }
          ],
          "mesh3d": [
           {
            "colorbar": {
             "outlinewidth": 0,
             "ticks": ""
            },
            "type": "mesh3d"
           }
          ],
          "parcoords": [
           {
            "line": {
             "colorbar": {
              "outlinewidth": 0,
              "ticks": ""
             }
            },
            "type": "parcoords"
           }
          ],
          "pie": [
           {
            "automargin": true,
            "type": "pie"
           }
          ],
          "scatter": [
           {
            "fillpattern": {
             "fillmode": "overlay",
             "size": 10,
             "solidity": 0.2
            },
            "type": "scatter"
           }
          ],
          "scatter3d": [
           {
            "line": {
             "colorbar": {
              "outlinewidth": 0,
              "ticks": ""
             }
            },
            "marker": {
             "colorbar": {
              "outlinewidth": 0,
              "ticks": ""
             }
            },
            "type": "scatter3d"
           }
          ],
          "scattercarpet": [
           {
            "marker": {
             "colorbar": {
              "outlinewidth": 0,
              "ticks": ""
             }
            },
            "type": "scattercarpet"
           }
          ],
          "scattergeo": [
           {
            "marker": {
             "colorbar": {
              "outlinewidth": 0,
              "ticks": ""
             }
            },
            "type": "scattergeo"
           }
          ],
          "scattergl": [
           {
            "marker": {
             "colorbar": {
              "outlinewidth": 0,
              "ticks": ""
             }
            },
            "type": "scattergl"
           }
          ],
          "scattermapbox": [
           {
            "marker": {
             "colorbar": {
              "outlinewidth": 0,
              "ticks": ""
             }
            },
            "type": "scattermapbox"
           }
          ],
          "scatterpolar": [
           {
            "marker": {
             "colorbar": {
              "outlinewidth": 0,
              "ticks": ""
             }
            },
            "type": "scatterpolar"
           }
          ],
          "scatterpolargl": [
           {
            "marker": {
             "colorbar": {
              "outlinewidth": 0,
              "ticks": ""
             }
            },
            "type": "scatterpolargl"
           }
          ],
          "scatterternary": [
           {
            "marker": {
             "colorbar": {
              "outlinewidth": 0,
              "ticks": ""
             }
            },
            "type": "scatterternary"
           }
          ],
          "surface": [
           {
            "colorbar": {
             "outlinewidth": 0,
             "ticks": ""
            },
            "colorscale": [
             [
              0,
              "#0d0887"
             ],
             [
              0.1111111111111111,
              "#46039f"
             ],
             [
              0.2222222222222222,
              "#7201a8"
             ],
             [
              0.3333333333333333,
              "#9c179e"
             ],
             [
              0.4444444444444444,
              "#bd3786"
             ],
             [
              0.5555555555555556,
              "#d8576b"
             ],
             [
              0.6666666666666666,
              "#ed7953"
             ],
             [
              0.7777777777777778,
              "#fb9f3a"
             ],
             [
              0.8888888888888888,
              "#fdca26"
             ],
             [
              1,
              "#f0f921"
             ]
            ],
            "type": "surface"
           }
          ],
          "table": [
           {
            "cells": {
             "fill": {
              "color": "#EBF0F8"
             },
             "line": {
              "color": "white"
             }
            },
            "header": {
             "fill": {
              "color": "#C8D4E3"
             },
             "line": {
              "color": "white"
             }
            },
            "type": "table"
           }
          ]
         },
         "layout": {
          "annotationdefaults": {
           "arrowcolor": "#2a3f5f",
           "arrowhead": 0,
           "arrowwidth": 1
          },
          "autotypenumbers": "strict",
          "coloraxis": {
           "colorbar": {
            "outlinewidth": 0,
            "ticks": ""
           }
          },
          "colorscale": {
           "diverging": [
            [
             0,
             "#8e0152"
            ],
            [
             0.1,
             "#c51b7d"
            ],
            [
             0.2,
             "#de77ae"
            ],
            [
             0.3,
             "#f1b6da"
            ],
            [
             0.4,
             "#fde0ef"
            ],
            [
             0.5,
             "#f7f7f7"
            ],
            [
             0.6,
             "#e6f5d0"
            ],
            [
             0.7,
             "#b8e186"
            ],
            [
             0.8,
             "#7fbc41"
            ],
            [
             0.9,
             "#4d9221"
            ],
            [
             1,
             "#276419"
            ]
           ],
           "sequential": [
            [
             0,
             "#0d0887"
            ],
            [
             0.1111111111111111,
             "#46039f"
            ],
            [
             0.2222222222222222,
             "#7201a8"
            ],
            [
             0.3333333333333333,
             "#9c179e"
            ],
            [
             0.4444444444444444,
             "#bd3786"
            ],
            [
             0.5555555555555556,
             "#d8576b"
            ],
            [
             0.6666666666666666,
             "#ed7953"
            ],
            [
             0.7777777777777778,
             "#fb9f3a"
            ],
            [
             0.8888888888888888,
             "#fdca26"
            ],
            [
             1,
             "#f0f921"
            ]
           ],
           "sequentialminus": [
            [
             0,
             "#0d0887"
            ],
            [
             0.1111111111111111,
             "#46039f"
            ],
            [
             0.2222222222222222,
             "#7201a8"
            ],
            [
             0.3333333333333333,
             "#9c179e"
            ],
            [
             0.4444444444444444,
             "#bd3786"
            ],
            [
             0.5555555555555556,
             "#d8576b"
            ],
            [
             0.6666666666666666,
             "#ed7953"
            ],
            [
             0.7777777777777778,
             "#fb9f3a"
            ],
            [
             0.8888888888888888,
             "#fdca26"
            ],
            [
             1,
             "#f0f921"
            ]
           ]
          },
          "colorway": [
           "#636efa",
           "#EF553B",
           "#00cc96",
           "#ab63fa",
           "#FFA15A",
           "#19d3f3",
           "#FF6692",
           "#B6E880",
           "#FF97FF",
           "#FECB52"
          ],
          "font": {
           "color": "#2a3f5f"
          },
          "geo": {
           "bgcolor": "white",
           "lakecolor": "white",
           "landcolor": "#E5ECF6",
           "showlakes": true,
           "showland": true,
           "subunitcolor": "white"
          },
          "hoverlabel": {
           "align": "left"
          },
          "hovermode": "closest",
          "mapbox": {
           "style": "light"
          },
          "paper_bgcolor": "white",
          "plot_bgcolor": "#E5ECF6",
          "polar": {
           "angularaxis": {
            "gridcolor": "white",
            "linecolor": "white",
            "ticks": ""
           },
           "bgcolor": "#E5ECF6",
           "radialaxis": {
            "gridcolor": "white",
            "linecolor": "white",
            "ticks": ""
           }
          },
          "scene": {
           "xaxis": {
            "backgroundcolor": "#E5ECF6",
            "gridcolor": "white",
            "gridwidth": 2,
            "linecolor": "white",
            "showbackground": true,
            "ticks": "",
            "zerolinecolor": "white"
           },
           "yaxis": {
            "backgroundcolor": "#E5ECF6",
            "gridcolor": "white",
            "gridwidth": 2,
            "linecolor": "white",
            "showbackground": true,
            "ticks": "",
            "zerolinecolor": "white"
           },
           "zaxis": {
            "backgroundcolor": "#E5ECF6",
            "gridcolor": "white",
            "gridwidth": 2,
            "linecolor": "white",
            "showbackground": true,
            "ticks": "",
            "zerolinecolor": "white"
           }
          },
          "shapedefaults": {
           "line": {
            "color": "#2a3f5f"
           }
          },
          "ternary": {
           "aaxis": {
            "gridcolor": "white",
            "linecolor": "white",
            "ticks": ""
           },
           "baxis": {
            "gridcolor": "white",
            "linecolor": "white",
            "ticks": ""
           },
           "bgcolor": "#E5ECF6",
           "caxis": {
            "gridcolor": "white",
            "linecolor": "white",
            "ticks": ""
           }
          },
          "title": {
           "x": 0.05
          },
          "xaxis": {
           "automargin": true,
           "gridcolor": "white",
           "linecolor": "white",
           "ticks": "",
           "title": {
            "standoff": 15
           },
           "zerolinecolor": "white",
           "zerolinewidth": 2
          },
          "yaxis": {
           "automargin": true,
           "gridcolor": "white",
           "linecolor": "white",
           "ticks": "",
           "title": {
            "standoff": 15
           },
           "zerolinecolor": "white",
           "zerolinewidth": 2
          }
         }
        },
        "title": {
         "font": {
          "size": 12
         },
         "text": "Speed Data for Participant 03"
        },
        "width": 450,
        "xaxis": {
         "tickformat": "%H:%M",
         "title": {
          "font": {
           "size": 10
          },
          "text": "Time"
         }
        },
        "yaxis": {
         "title": {
          "font": {
           "size": 10
          },
          "text": "Speed in km/h"
         }
        }
       }
      }
     },
     "metadata": {},
     "output_type": "display_data"
    },
    {
     "data": {
      "application/vnd.plotly.v1+json": {
       "config": {
        "plotlyServerURL": "https://plot.ly"
       },
       "data": [
        {
         "mode": "lines",
         "name": "Participant 04",
         "type": "scatter",
         "x": [
          "2024-07-10T12:16:01.983000",
          "2024-07-10T12:16:06.986000",
          "2024-07-10T12:16:22.985000",
          "2024-07-10T12:16:28.984000",
          "2024-07-10T12:16:36.985000",
          "2024-07-10T12:16:42.987000",
          "2024-07-10T12:16:51.985000",
          "2024-07-10T12:16:56.982000",
          "2024-07-10T12:17:01.983000",
          "2024-07-10T12:17:07.984000",
          "2024-07-10T12:17:16.982000",
          "2024-07-10T12:17:21.982000",
          "2024-07-10T12:17:26.983000",
          "2024-07-10T12:17:31.984000",
          "2024-07-10T12:17:36.984000",
          "2024-07-10T12:17:41.984000",
          "2024-07-10T12:17:46.981000",
          "2024-07-10T12:17:51.983000",
          "2024-07-10T12:17:56.979000",
          "2024-07-10T12:18:01.984000",
          "2024-07-10T12:18:06.984000",
          "2024-07-10T12:18:11.983000",
          "2024-07-10T12:18:16.985000",
          "2024-07-10T12:18:22.985000",
          "2024-07-10T12:18:27.982000",
          "2024-07-10T12:18:33.988000",
          "2024-07-10T12:18:42.982000",
          "2024-07-10T12:18:53.985000",
          "2024-07-10T12:19:03.985000",
          "2024-07-10T12:19:12.983000",
          "2024-07-10T12:19:22.984000",
          "2024-07-10T12:19:31.984000",
          "2024-07-10T12:19:36.984000",
          "2024-07-10T12:19:41.981000",
          "2024-07-10T12:19:46.986000",
          "2024-07-10T12:19:51.982000",
          "2024-07-10T12:19:56.982000",
          "2024-07-10T12:20:02.982000",
          "2024-07-10T12:20:07.984000",
          "2024-07-10T12:20:16.986000",
          "2024-07-10T12:20:21.983000",
          "2024-07-10T12:20:26.982000",
          "2024-07-10T12:20:32.984000",
          "2024-07-10T12:20:42.982000",
          "2024-07-10T12:20:47.980000",
          "2024-07-10T12:20:55.987000",
          "2024-07-10T12:21:00.983000",
          "2024-07-10T12:21:09.979000",
          "2024-07-10T12:21:14.983000",
          "2024-07-10T12:21:19.982000",
          "2024-07-10T12:21:24.980000",
          "2024-07-10T12:21:33.985000",
          "2024-07-10T12:21:43.982000",
          "2024-07-10T12:21:48.983000",
          "2024-07-10T12:21:53.983000",
          "2024-07-10T12:21:58.983000",
          "2024-07-10T12:22:03.984000",
          "2024-07-10T12:22:08.985000",
          "2024-07-10T12:22:13.983000",
          "2024-07-10T12:22:18.985000",
          "2024-07-10T12:22:23.982000",
          "2024-07-10T12:22:28.983000",
          "2024-07-10T12:22:33.982000",
          "2024-07-10T12:22:38.991000",
          "2024-07-10T12:22:43.984000",
          "2024-07-10T12:22:48.985000",
          "2024-07-10T12:22:53.983000",
          "2024-07-10T12:22:58.983000",
          "2024-07-10T12:23:03.984000",
          "2024-07-10T12:23:10.985000",
          "2024-07-10T12:23:20.983000",
          "2024-07-10T12:23:31.983000",
          "2024-07-10T12:23:40.979000",
          "2024-07-10T12:23:45.981000",
          "2024-07-10T12:23:50.981000",
          "2024-07-10T12:24:00.980000",
          "2024-07-10T12:24:05.984000",
          "2024-07-10T12:24:14.983000",
          "2024-07-10T12:24:19.981000",
          "2024-07-10T12:24:24.983000",
          "2024-07-10T12:24:29.984000",
          "2024-07-10T12:24:34.983000",
          "2024-07-10T12:24:39.982000",
          "2024-07-10T12:24:44.985000",
          "2024-07-10T12:24:50.983000",
          "2024-07-10T12:24:55.983000",
          "2024-07-10T12:25:00.981000",
          "2024-07-10T12:25:06.981000",
          "2024-07-10T12:25:14.984000",
          "2024-07-10T12:25:19.982000",
          "2024-07-10T12:25:24.982000",
          "2024-07-10T12:25:30.982000",
          "2024-07-10T12:25:35.984000",
          "2024-07-10T12:25:44.982000",
          "2024-07-10T12:25:49.983000",
          "2024-07-10T12:25:54.981000",
          "2024-07-10T12:25:59.983000",
          "2024-07-10T12:26:04.981000",
          "2024-07-10T12:26:09.987000",
          "2024-07-10T12:26:14.983000",
          "2024-07-10T12:26:20.983000",
          "2024-07-10T12:26:29.984000",
          "2024-07-10T12:26:35.982000",
          "2024-07-10T12:26:44.982000",
          "2024-07-10T12:26:49.983000",
          "2024-07-10T12:26:55.980000",
          "2024-07-10T12:27:00.979000",
          "2024-07-10T12:27:05.980000",
          "2024-07-10T12:27:10.984000",
          "2024-07-10T12:27:20.984000",
          "2024-07-10T12:27:25.984000",
          "2024-07-10T12:27:30.982000",
          "2024-07-10T12:27:35.984000",
          "2024-07-10T12:27:40.980000",
          "2024-07-10T12:27:45.982000",
          "2024-07-10T12:27:50.983000",
          "2024-07-10T12:27:55.982000",
          "2024-07-10T12:28:00.983000",
          "2024-07-10T12:28:05.981000",
          "2024-07-10T12:28:11.982000",
          "2024-07-10T12:28:20.983000",
          "2024-07-10T12:28:29.984000",
          "2024-07-10T12:28:34.984000",
          "2024-07-10T12:28:39.992000",
          "2024-07-10T12:28:45.985000",
          "2024-07-10T12:28:54.983000",
          "2024-07-10T12:29:00.988000",
          "2024-07-10T12:29:10.984000",
          "2024-07-10T12:29:15.989000",
          "2024-07-10T12:29:24.985000",
          "2024-07-10T12:29:29.985000",
          "2024-07-10T12:29:35.984000",
          "2024-07-10T12:29:40.981000",
          "2024-07-10T12:31:20.911000",
          "2024-07-10T12:32:00.895000"
         ],
         "y": [
          5.0759998798370365,
          9.323999691009522,
          6.911999845504762,
          7.451999759674073,
          7.70400037765503,
          7.884000205993653,
          7.992000102996824,
          8.028000068664552,
          7.992000102996824,
          8.17199993133545,
          8.135999965667725,
          8.1,
          8.17199993133545,
          8.315999794006348,
          8.315999794006348,
          8.351999759674072,
          8.387999725341798,
          8.315999794006348,
          8.387999725341798,
          8.423999691009522,
          8.351999759674072,
          8.351999759674072,
          8.315999794006348,
          8.387999725341798,
          8.459999656677246,
          8.531999588012695,
          8.531999588012695,
          8.459999656677246,
          8.820000171661377,
          8.568000411987304,
          8.351999759674072,
          8.423999691009522,
          8.495999622344971,
          8.568000411987304,
          8.531999588012695,
          8.495999622344971,
          8.531999588012695,
          8.568000411987304,
          8.351999759674072,
          8.387999725341798,
          8.531999588012695,
          8.459999656677246,
          8.351999759674072,
          8.531999588012695,
          8.459999656677246,
          8.67600030899048,
          8.784000205993653,
          8.92800006866455,
          9,
          9.07199993133545,
          9.07199993133545,
          9.143999862670901,
          9.864000034332276,
          10.007999897003174,
          9.9,
          10.007999897003174,
          10.007999897003174,
          9.9,
          10.007999897003174,
          10.187999725341797,
          10.223999691009523,
          10.187999725341797,
          10.259999656677246,
          10.368000411987305,
          10.29599962234497,
          10.331999588012696,
          10.259999656677246,
          10.223999691009523,
          10.151999759674073,
          10.151999759674073,
          10.223999691009523,
          10.476000308990479,
          10.512000274658204,
          10.29599962234497,
          10.476000308990479,
          10.440000343322756,
          10.404000377655029,
          10.368000411987305,
          10.404000377655029,
          10.404000377655029,
          10.512000274658204,
          10.440000343322756,
          10.476000308990479,
          10.512000274658204,
          10.404000377655029,
          10.440000343322756,
          10.440000343322756,
          10.404000377655029,
          10.259999656677246,
          10.259999656677246,
          10.187999725341797,
          10.331999588012696,
          10.29599962234497,
          10.223999691009523,
          10.368000411987305,
          10.331999588012696,
          10.368000411987305,
          10.404000377655029,
          10.368000411987305,
          10.331999588012696,
          10.440000343322756,
          10.512000274658204,
          10.512000274658204,
          10.368000411987305,
          10.29599962234497,
          10.331999588012696,
          10.259999656677246,
          10.259999656677246,
          10.151999759674073,
          10.29599962234497,
          10.187999725341797,
          10.223999691009523,
          10.187999725341797,
          10.151999759674073,
          10.223999691009523,
          10.223999691009523,
          10.0439998626709,
          9.935999965667724,
          10.079999828338623,
          10.151999759674073,
          10.151999759674073,
          10.187999725341797,
          10.151999759674073,
          10.115999794006347,
          9.9,
          9.9,
          9.935999965667724,
          9.97199993133545,
          10.151999759674073,
          10.331999588012696,
          10.29599962234497,
          10.223999691009523,
          10.29599962234497,
          18.110108757019045,
          13.478482246398926
         ]
        }
       ],
       "layout": {
        "height": 300,
        "margin": {
         "b": 30,
         "l": 30,
         "r": 30,
         "t": 30
        },
        "shapes": [
         {
          "line": {
           "color": "red",
           "dash": "dash"
          },
          "type": "line",
          "x0": "2024-07-10T12:16:16.577000",
          "x1": "2024-07-10T12:16:16.577000",
          "xref": "x",
          "y0": 0,
          "y1": 1,
          "yref": "y domain"
         },
         {
          "line": {
           "color": "blue",
           "dash": "dash"
          },
          "type": "line",
          "x0": "2024-07-10T12:18:16.577000",
          "x1": "2024-07-10T12:18:16.577000",
          "xref": "x",
          "y0": 0,
          "y1": 1,
          "yref": "y domain"
         },
         {
          "line": {
           "color": "blue",
           "dash": "dash"
          },
          "type": "line",
          "x0": "2024-07-10T12:20:16.577000",
          "x1": "2024-07-10T12:20:16.577000",
          "xref": "x",
          "y0": 0,
          "y1": 1,
          "yref": "y domain"
         },
         {
          "line": {
           "color": "blue",
           "dash": "dash"
          },
          "type": "line",
          "x0": "2024-07-10T12:22:16.577000",
          "x1": "2024-07-10T12:22:16.577000",
          "xref": "x",
          "y0": 0,
          "y1": 1,
          "yref": "y domain"
         },
         {
          "line": {
           "color": "blue",
           "dash": "dash"
          },
          "type": "line",
          "x0": "2024-07-10T12:24:16.577000",
          "x1": "2024-07-10T12:24:16.577000",
          "xref": "x",
          "y0": 0,
          "y1": 1,
          "yref": "y domain"
         },
         {
          "line": {
           "color": "blue",
           "dash": "dash"
          },
          "type": "line",
          "x0": "2024-07-10T12:26:16.577000",
          "x1": "2024-07-10T12:26:16.577000",
          "xref": "x",
          "y0": 0,
          "y1": 1,
          "yref": "y domain"
         },
         {
          "line": {
           "color": "blue",
           "dash": "dash"
          },
          "type": "line",
          "x0": "2024-07-10T12:28:16.577000",
          "x1": "2024-07-10T12:28:16.577000",
          "xref": "x",
          "y0": 0,
          "y1": 1,
          "yref": "y domain"
         },
         {
          "line": {
           "color": "red",
           "dash": "dash"
          },
          "type": "line",
          "x0": "2024-07-10T12:31:16.577000",
          "x1": "2024-07-10T12:31:16.577000",
          "xref": "x",
          "y0": 0,
          "y1": 1,
          "yref": "y domain"
         }
        ],
        "template": {
         "data": {
          "bar": [
           {
            "error_x": {
             "color": "#2a3f5f"
            },
            "error_y": {
             "color": "#2a3f5f"
            },
            "marker": {
             "line": {
              "color": "#E5ECF6",
              "width": 0.5
             },
             "pattern": {
              "fillmode": "overlay",
              "size": 10,
              "solidity": 0.2
             }
            },
            "type": "bar"
           }
          ],
          "barpolar": [
           {
            "marker": {
             "line": {
              "color": "#E5ECF6",
              "width": 0.5
             },
             "pattern": {
              "fillmode": "overlay",
              "size": 10,
              "solidity": 0.2
             }
            },
            "type": "barpolar"
           }
          ],
          "carpet": [
           {
            "aaxis": {
             "endlinecolor": "#2a3f5f",
             "gridcolor": "white",
             "linecolor": "white",
             "minorgridcolor": "white",
             "startlinecolor": "#2a3f5f"
            },
            "baxis": {
             "endlinecolor": "#2a3f5f",
             "gridcolor": "white",
             "linecolor": "white",
             "minorgridcolor": "white",
             "startlinecolor": "#2a3f5f"
            },
            "type": "carpet"
           }
          ],
          "choropleth": [
           {
            "colorbar": {
             "outlinewidth": 0,
             "ticks": ""
            },
            "type": "choropleth"
           }
          ],
          "contour": [
           {
            "colorbar": {
             "outlinewidth": 0,
             "ticks": ""
            },
            "colorscale": [
             [
              0,
              "#0d0887"
             ],
             [
              0.1111111111111111,
              "#46039f"
             ],
             [
              0.2222222222222222,
              "#7201a8"
             ],
             [
              0.3333333333333333,
              "#9c179e"
             ],
             [
              0.4444444444444444,
              "#bd3786"
             ],
             [
              0.5555555555555556,
              "#d8576b"
             ],
             [
              0.6666666666666666,
              "#ed7953"
             ],
             [
              0.7777777777777778,
              "#fb9f3a"
             ],
             [
              0.8888888888888888,
              "#fdca26"
             ],
             [
              1,
              "#f0f921"
             ]
            ],
            "type": "contour"
           }
          ],
          "contourcarpet": [
           {
            "colorbar": {
             "outlinewidth": 0,
             "ticks": ""
            },
            "type": "contourcarpet"
           }
          ],
          "heatmap": [
           {
            "colorbar": {
             "outlinewidth": 0,
             "ticks": ""
            },
            "colorscale": [
             [
              0,
              "#0d0887"
             ],
             [
              0.1111111111111111,
              "#46039f"
             ],
             [
              0.2222222222222222,
              "#7201a8"
             ],
             [
              0.3333333333333333,
              "#9c179e"
             ],
             [
              0.4444444444444444,
              "#bd3786"
             ],
             [
              0.5555555555555556,
              "#d8576b"
             ],
             [
              0.6666666666666666,
              "#ed7953"
             ],
             [
              0.7777777777777778,
              "#fb9f3a"
             ],
             [
              0.8888888888888888,
              "#fdca26"
             ],
             [
              1,
              "#f0f921"
             ]
            ],
            "type": "heatmap"
           }
          ],
          "heatmapgl": [
           {
            "colorbar": {
             "outlinewidth": 0,
             "ticks": ""
            },
            "colorscale": [
             [
              0,
              "#0d0887"
             ],
             [
              0.1111111111111111,
              "#46039f"
             ],
             [
              0.2222222222222222,
              "#7201a8"
             ],
             [
              0.3333333333333333,
              "#9c179e"
             ],
             [
              0.4444444444444444,
              "#bd3786"
             ],
             [
              0.5555555555555556,
              "#d8576b"
             ],
             [
              0.6666666666666666,
              "#ed7953"
             ],
             [
              0.7777777777777778,
              "#fb9f3a"
             ],
             [
              0.8888888888888888,
              "#fdca26"
             ],
             [
              1,
              "#f0f921"
             ]
            ],
            "type": "heatmapgl"
           }
          ],
          "histogram": [
           {
            "marker": {
             "pattern": {
              "fillmode": "overlay",
              "size": 10,
              "solidity": 0.2
             }
            },
            "type": "histogram"
           }
          ],
          "histogram2d": [
           {
            "colorbar": {
             "outlinewidth": 0,
             "ticks": ""
            },
            "colorscale": [
             [
              0,
              "#0d0887"
             ],
             [
              0.1111111111111111,
              "#46039f"
             ],
             [
              0.2222222222222222,
              "#7201a8"
             ],
             [
              0.3333333333333333,
              "#9c179e"
             ],
             [
              0.4444444444444444,
              "#bd3786"
             ],
             [
              0.5555555555555556,
              "#d8576b"
             ],
             [
              0.6666666666666666,
              "#ed7953"
             ],
             [
              0.7777777777777778,
              "#fb9f3a"
             ],
             [
              0.8888888888888888,
              "#fdca26"
             ],
             [
              1,
              "#f0f921"
             ]
            ],
            "type": "histogram2d"
           }
          ],
          "histogram2dcontour": [
           {
            "colorbar": {
             "outlinewidth": 0,
             "ticks": ""
            },
            "colorscale": [
             [
              0,
              "#0d0887"
             ],
             [
              0.1111111111111111,
              "#46039f"
             ],
             [
              0.2222222222222222,
              "#7201a8"
             ],
             [
              0.3333333333333333,
              "#9c179e"
             ],
             [
              0.4444444444444444,
              "#bd3786"
             ],
             [
              0.5555555555555556,
              "#d8576b"
             ],
             [
              0.6666666666666666,
              "#ed7953"
             ],
             [
              0.7777777777777778,
              "#fb9f3a"
             ],
             [
              0.8888888888888888,
              "#fdca26"
             ],
             [
              1,
              "#f0f921"
             ]
            ],
            "type": "histogram2dcontour"
           }
          ],
          "mesh3d": [
           {
            "colorbar": {
             "outlinewidth": 0,
             "ticks": ""
            },
            "type": "mesh3d"
           }
          ],
          "parcoords": [
           {
            "line": {
             "colorbar": {
              "outlinewidth": 0,
              "ticks": ""
             }
            },
            "type": "parcoords"
           }
          ],
          "pie": [
           {
            "automargin": true,
            "type": "pie"
           }
          ],
          "scatter": [
           {
            "fillpattern": {
             "fillmode": "overlay",
             "size": 10,
             "solidity": 0.2
            },
            "type": "scatter"
           }
          ],
          "scatter3d": [
           {
            "line": {
             "colorbar": {
              "outlinewidth": 0,
              "ticks": ""
             }
            },
            "marker": {
             "colorbar": {
              "outlinewidth": 0,
              "ticks": ""
             }
            },
            "type": "scatter3d"
           }
          ],
          "scattercarpet": [
           {
            "marker": {
             "colorbar": {
              "outlinewidth": 0,
              "ticks": ""
             }
            },
            "type": "scattercarpet"
           }
          ],
          "scattergeo": [
           {
            "marker": {
             "colorbar": {
              "outlinewidth": 0,
              "ticks": ""
             }
            },
            "type": "scattergeo"
           }
          ],
          "scattergl": [
           {
            "marker": {
             "colorbar": {
              "outlinewidth": 0,
              "ticks": ""
             }
            },
            "type": "scattergl"
           }
          ],
          "scattermapbox": [
           {
            "marker": {
             "colorbar": {
              "outlinewidth": 0,
              "ticks": ""
             }
            },
            "type": "scattermapbox"
           }
          ],
          "scatterpolar": [
           {
            "marker": {
             "colorbar": {
              "outlinewidth": 0,
              "ticks": ""
             }
            },
            "type": "scatterpolar"
           }
          ],
          "scatterpolargl": [
           {
            "marker": {
             "colorbar": {
              "outlinewidth": 0,
              "ticks": ""
             }
            },
            "type": "scatterpolargl"
           }
          ],
          "scatterternary": [
           {
            "marker": {
             "colorbar": {
              "outlinewidth": 0,
              "ticks": ""
             }
            },
            "type": "scatterternary"
           }
          ],
          "surface": [
           {
            "colorbar": {
             "outlinewidth": 0,
             "ticks": ""
            },
            "colorscale": [
             [
              0,
              "#0d0887"
             ],
             [
              0.1111111111111111,
              "#46039f"
             ],
             [
              0.2222222222222222,
              "#7201a8"
             ],
             [
              0.3333333333333333,
              "#9c179e"
             ],
             [
              0.4444444444444444,
              "#bd3786"
             ],
             [
              0.5555555555555556,
              "#d8576b"
             ],
             [
              0.6666666666666666,
              "#ed7953"
             ],
             [
              0.7777777777777778,
              "#fb9f3a"
             ],
             [
              0.8888888888888888,
              "#fdca26"
             ],
             [
              1,
              "#f0f921"
             ]
            ],
            "type": "surface"
           }
          ],
          "table": [
           {
            "cells": {
             "fill": {
              "color": "#EBF0F8"
             },
             "line": {
              "color": "white"
             }
            },
            "header": {
             "fill": {
              "color": "#C8D4E3"
             },
             "line": {
              "color": "white"
             }
            },
            "type": "table"
           }
          ]
         },
         "layout": {
          "annotationdefaults": {
           "arrowcolor": "#2a3f5f",
           "arrowhead": 0,
           "arrowwidth": 1
          },
          "autotypenumbers": "strict",
          "coloraxis": {
           "colorbar": {
            "outlinewidth": 0,
            "ticks": ""
           }
          },
          "colorscale": {
           "diverging": [
            [
             0,
             "#8e0152"
            ],
            [
             0.1,
             "#c51b7d"
            ],
            [
             0.2,
             "#de77ae"
            ],
            [
             0.3,
             "#f1b6da"
            ],
            [
             0.4,
             "#fde0ef"
            ],
            [
             0.5,
             "#f7f7f7"
            ],
            [
             0.6,
             "#e6f5d0"
            ],
            [
             0.7,
             "#b8e186"
            ],
            [
             0.8,
             "#7fbc41"
            ],
            [
             0.9,
             "#4d9221"
            ],
            [
             1,
             "#276419"
            ]
           ],
           "sequential": [
            [
             0,
             "#0d0887"
            ],
            [
             0.1111111111111111,
             "#46039f"
            ],
            [
             0.2222222222222222,
             "#7201a8"
            ],
            [
             0.3333333333333333,
             "#9c179e"
            ],
            [
             0.4444444444444444,
             "#bd3786"
            ],
            [
             0.5555555555555556,
             "#d8576b"
            ],
            [
             0.6666666666666666,
             "#ed7953"
            ],
            [
             0.7777777777777778,
             "#fb9f3a"
            ],
            [
             0.8888888888888888,
             "#fdca26"
            ],
            [
             1,
             "#f0f921"
            ]
           ],
           "sequentialminus": [
            [
             0,
             "#0d0887"
            ],
            [
             0.1111111111111111,
             "#46039f"
            ],
            [
             0.2222222222222222,
             "#7201a8"
            ],
            [
             0.3333333333333333,
             "#9c179e"
            ],
            [
             0.4444444444444444,
             "#bd3786"
            ],
            [
             0.5555555555555556,
             "#d8576b"
            ],
            [
             0.6666666666666666,
             "#ed7953"
            ],
            [
             0.7777777777777778,
             "#fb9f3a"
            ],
            [
             0.8888888888888888,
             "#fdca26"
            ],
            [
             1,
             "#f0f921"
            ]
           ]
          },
          "colorway": [
           "#636efa",
           "#EF553B",
           "#00cc96",
           "#ab63fa",
           "#FFA15A",
           "#19d3f3",
           "#FF6692",
           "#B6E880",
           "#FF97FF",
           "#FECB52"
          ],
          "font": {
           "color": "#2a3f5f"
          },
          "geo": {
           "bgcolor": "white",
           "lakecolor": "white",
           "landcolor": "#E5ECF6",
           "showlakes": true,
           "showland": true,
           "subunitcolor": "white"
          },
          "hoverlabel": {
           "align": "left"
          },
          "hovermode": "closest",
          "mapbox": {
           "style": "light"
          },
          "paper_bgcolor": "white",
          "plot_bgcolor": "#E5ECF6",
          "polar": {
           "angularaxis": {
            "gridcolor": "white",
            "linecolor": "white",
            "ticks": ""
           },
           "bgcolor": "#E5ECF6",
           "radialaxis": {
            "gridcolor": "white",
            "linecolor": "white",
            "ticks": ""
           }
          },
          "scene": {
           "xaxis": {
            "backgroundcolor": "#E5ECF6",
            "gridcolor": "white",
            "gridwidth": 2,
            "linecolor": "white",
            "showbackground": true,
            "ticks": "",
            "zerolinecolor": "white"
           },
           "yaxis": {
            "backgroundcolor": "#E5ECF6",
            "gridcolor": "white",
            "gridwidth": 2,
            "linecolor": "white",
            "showbackground": true,
            "ticks": "",
            "zerolinecolor": "white"
           },
           "zaxis": {
            "backgroundcolor": "#E5ECF6",
            "gridcolor": "white",
            "gridwidth": 2,
            "linecolor": "white",
            "showbackground": true,
            "ticks": "",
            "zerolinecolor": "white"
           }
          },
          "shapedefaults": {
           "line": {
            "color": "#2a3f5f"
           }
          },
          "ternary": {
           "aaxis": {
            "gridcolor": "white",
            "linecolor": "white",
            "ticks": ""
           },
           "baxis": {
            "gridcolor": "white",
            "linecolor": "white",
            "ticks": ""
           },
           "bgcolor": "#E5ECF6",
           "caxis": {
            "gridcolor": "white",
            "linecolor": "white",
            "ticks": ""
           }
          },
          "title": {
           "x": 0.05
          },
          "xaxis": {
           "automargin": true,
           "gridcolor": "white",
           "linecolor": "white",
           "ticks": "",
           "title": {
            "standoff": 15
           },
           "zerolinecolor": "white",
           "zerolinewidth": 2
          },
          "yaxis": {
           "automargin": true,
           "gridcolor": "white",
           "linecolor": "white",
           "ticks": "",
           "title": {
            "standoff": 15
           },
           "zerolinecolor": "white",
           "zerolinewidth": 2
          }
         }
        },
        "title": {
         "font": {
          "size": 12
         },
         "text": "Speed Data for Participant 04"
        },
        "width": 450,
        "xaxis": {
         "tickformat": "%H:%M",
         "title": {
          "font": {
           "size": 10
          },
          "text": "Time"
         }
        },
        "yaxis": {
         "title": {
          "font": {
           "size": 10
          },
          "text": "Speed in km/h"
         }
        }
       }
      }
     },
     "metadata": {},
     "output_type": "display_data"
    },
    {
     "data": {
      "application/vnd.plotly.v1+json": {
       "config": {
        "plotlyServerURL": "https://plot.ly"
       },
       "data": [
        {
         "mode": "lines",
         "name": "Participant 07",
         "type": "scatter",
         "x": [
          "2024-07-10T14:20:45.965000",
          "2024-07-10T14:21:00.171000",
          "2024-07-10T14:21:08.966000",
          "2024-07-10T14:21:16.965000",
          "2024-07-10T14:21:22.963000",
          "2024-07-10T14:21:37.966000",
          "2024-07-10T14:21:43.964000",
          "2024-07-10T14:21:51.965000",
          "2024-07-10T14:21:56.964000",
          "2024-07-10T14:22:02.967000",
          "2024-07-10T14:22:15.969000",
          "2024-07-10T14:22:21.967000",
          "2024-07-10T14:22:35.965000",
          "2024-07-10T14:22:41.965000",
          "2024-07-10T14:22:46.968000",
          "2024-07-10T14:22:55.964000",
          "2024-07-10T14:23:01.964000",
          "2024-07-10T14:23:06.963000",
          "2024-07-10T14:23:11.965000",
          "2024-07-10T14:23:16.962000",
          "2024-07-10T14:23:21.968000",
          "2024-07-10T14:23:30.967000",
          "2024-07-10T14:23:39.964000",
          "2024-07-10T14:23:44.968000",
          "2024-07-10T14:23:49.965000",
          "2024-07-10T14:23:55.965000",
          "2024-07-10T14:24:00.965000",
          "2024-07-10T14:24:05.964000",
          "2024-07-10T14:24:10.964000",
          "2024-07-10T14:24:17.967000",
          "2024-07-10T14:24:30.323000",
          "2024-07-10T14:24:36.962000",
          "2024-07-10T14:24:42.963000",
          "2024-07-10T14:24:48.963000",
          "2024-07-10T14:24:59.963000",
          "2024-07-10T14:25:05.967000",
          "2024-07-10T14:25:10.970000",
          "2024-07-10T14:25:22.969000",
          "2024-07-10T14:25:27.963000",
          "2024-07-10T14:25:32.970000",
          "2024-07-10T14:25:38.966000",
          "2024-07-10T14:25:44.964000",
          "2024-07-10T14:25:49.963000",
          "2024-07-10T14:25:58.965000",
          "2024-07-10T14:26:03.965000",
          "2024-07-10T14:26:08.963000",
          "2024-07-10T14:26:17.962000",
          "2024-07-10T14:26:23.966000",
          "2024-07-10T14:26:28.967000",
          "2024-07-10T14:26:38.967000",
          "2024-07-10T14:26:43.965000",
          "2024-07-10T14:26:52.964000",
          "2024-07-10T14:26:57.964000",
          "2024-07-10T14:27:20.965000",
          "2024-07-10T14:27:25.964000",
          "2024-07-10T14:27:30.965000",
          "2024-07-10T14:27:39.966000",
          "2024-07-10T14:27:46.968000",
          "2024-07-10T14:27:51.964000",
          "2024-07-10T14:28:00.964000",
          "2024-07-10T14:28:05.962000",
          "2024-07-10T14:28:10.965000",
          "2024-07-10T14:28:15.963000",
          "2024-07-10T14:28:20.966000",
          "2024-07-10T14:28:25.965000",
          "2024-07-10T14:28:34.968000",
          "2024-07-10T14:28:39.964000",
          "2024-07-10T14:28:45.963000",
          "2024-07-10T14:28:50.965000",
          "2024-07-10T14:28:55.965000",
          "2024-07-10T14:29:00.968000",
          "2024-07-10T14:29:06.964000",
          "2024-07-10T14:29:12.965000",
          "2024-07-10T14:29:33.965000",
          "2024-07-10T14:29:39.965000",
          "2024-07-10T14:29:44.966000",
          "2024-07-10T14:29:54.966000",
          "2024-07-10T14:30:03.964000",
          "2024-07-10T14:30:09.963000",
          "2024-07-10T14:30:14.970000",
          "2024-07-10T14:30:19.963000",
          "2024-07-10T14:30:28.965000",
          "2024-07-10T14:30:33.966000",
          "2024-07-10T14:30:43.963000",
          "2024-07-10T14:30:54.964000",
          "2024-07-10T14:31:04.963000",
          "2024-07-10T14:31:14.966000",
          "2024-07-10T14:31:19.962000",
          "2024-07-10T14:31:30.469000",
          "2024-07-10T14:31:34.968000",
          "2024-07-10T14:31:40.965000",
          "2024-07-10T14:31:45.966000",
          "2024-07-10T14:31:54.963000",
          "2024-07-10T14:31:59.960000",
          "2024-07-10T14:32:04.960000",
          "2024-07-10T14:32:09.962000",
          "2024-07-10T14:32:14.964000",
          "2024-07-10T14:32:20.963000",
          "2024-07-10T14:32:28.965000",
          "2024-07-10T14:32:34.967000",
          "2024-07-10T14:32:44.965000",
          "2024-07-10T14:32:49.965000",
          "2024-07-10T14:32:54.967000",
          "2024-07-10T14:32:59.964000",
          "2024-07-10T14:33:04.964000",
          "2024-07-10T14:33:09.962000",
          "2024-07-10T14:33:14.964000",
          "2024-07-10T14:33:30.966000",
          "2024-07-10T14:33:35.969000",
          "2024-07-10T14:33:44.965000",
          "2024-07-10T14:33:50.967000",
          "2024-07-10T14:34:00.964000",
          "2024-07-10T14:34:09.963000",
          "2024-07-10T14:34:14.964000",
          "2024-07-10T14:34:19.968000",
          "2024-07-10T14:34:28.977000",
          "2024-07-10T14:34:33.964000",
          "2024-07-10T14:34:38.971000",
          "2024-07-10T14:34:43.965000",
          "2024-07-10T14:34:49.963000",
          "2024-07-10T14:34:54.965000",
          "2024-07-10T14:34:59.963000",
          "2024-07-10T14:35:04.962000",
          "2024-07-10T14:35:09.964000",
          "2024-07-10T14:35:15.966000",
          "2024-07-10T14:35:30.602000",
          "2024-07-10T14:35:30.967000",
          "2024-07-10T14:35:36.965000",
          "2024-07-10T14:35:45.967000",
          "2024-07-10T14:35:50.969000"
         ],
         "y": [
          10.424593734741212,
          5.40522108078003,
          13.111743164062501,
          10.240472316741943,
          8.020380878448487,
          9.359999656677246,
          12.083091545104981,
          10.307898330688477,
          14.139235210418702,
          12.083328437805177,
          10.064013004302979,
          12.535267353057863,
          8.209571456909178,
          10.463688755035403,
          9.864000034332276,
          10.007999897003174,
          10.259999656677246,
          14.129988670349121,
          11.295451641082764,
          9.97199993133545,
          10.933073616027832,
          10.079999828338623,
          10.007999897003174,
          9.97199993133545,
          9.97199993133545,
          11.989907741546629,
          9.82800006866455,
          9.9,
          9.97199993133545,
          10.079999828338623,
          13.768444919586182,
          10.151999759674073,
          12.006926250457765,
          10.007999897003174,
          9.82800006866455,
          9.82800006866455,
          9.97199993133545,
          9.029119777679444,
          13.081749629974366,
          12.133999443054199,
          18.974605751037597,
          9.9,
          9.9,
          10.079999828338623,
          10.079999828338623,
          10.0439998626709,
          9.82800006866455,
          9.864000034332276,
          9.864000034332276,
          10.151999759674073,
          10.259999656677246,
          10.259999656677246,
          10.29599962234497,
          10.079999828338623,
          10.187999725341797,
          10.151999759674073,
          10.151999759674073,
          10.187999725341797,
          10.115999794006347,
          10.115999794006347,
          10.079999828338623,
          10.0439998626709,
          9.97199993133545,
          10.0439998626709,
          10.115999794006347,
          10.007999897003174,
          10.476000308990479,
          10.476000308990479,
          10.440000343322756,
          10.512000274658204,
          10.440000343322756,
          10.548000240325928,
          10.692000102996825,
          10.476000308990479,
          10.512000274658204,
          10.476000308990479,
          10.692000102996825,
          10.620000171661378,
          10.404000377655029,
          10.368000411987305,
          10.404000377655029,
          10.907999897003174,
          10.87199993133545,
          10.9439998626709,
          11.087999725341797,
          11.30400037765503,
          11.412000274658203,
          11.448000240325928,
          7.793981838226318,
          11.30400037765503,
          11.376000308990479,
          11.340000343322755,
          11.340000343322755,
          11.520000171661378,
          11.807999897003175,
          11.700000000000001,
          11.556000137329102,
          11.556000137329102,
          11.628000068664551,
          11.8439998626709,
          11.879999828338624,
          11.915999794006348,
          11.987999725341798,
          12.023999691009521,
          11.987999725341798,
          12.131999588012695,
          12.059999656677247,
          11.951999759674072,
          11.951999759674072,
          12.023999691009521,
          12.131999588012695,
          12.131999588012695,
          12.168000411987306,
          12.059999656677247,
          11.879999828338624,
          12.384000205993653,
          12.528000068664552,
          12.420000171661377,
          12.240000343322755,
          12.456000137329102,
          12.384000205993653,
          12.348000240325929,
          12.27600030899048,
          12.312000274658203,
          12.168000411987306,
          8.737770080566404,
          11.735999965667725,
          11.807999897003175,
          11.879999828338624,
          10.548000240325928
         ]
        }
       ],
       "layout": {
        "height": 300,
        "margin": {
         "b": 30,
         "l": 30,
         "r": 30,
         "t": 30
        },
        "shapes": [
         {
          "line": {
           "color": "red",
           "dash": "dash"
          },
          "type": "line",
          "x0": "2024-07-10T14:20:34.414000",
          "x1": "2024-07-10T14:20:34.414000",
          "xref": "x",
          "y0": 0,
          "y1": 1,
          "yref": "y domain"
         },
         {
          "line": {
           "color": "blue",
           "dash": "dash"
          },
          "type": "line",
          "x0": "2024-07-10T14:22:34.414000",
          "x1": "2024-07-10T14:22:34.414000",
          "xref": "x",
          "y0": 0,
          "y1": 1,
          "yref": "y domain"
         },
         {
          "line": {
           "color": "blue",
           "dash": "dash"
          },
          "type": "line",
          "x0": "2024-07-10T14:24:34.414000",
          "x1": "2024-07-10T14:24:34.414000",
          "xref": "x",
          "y0": 0,
          "y1": 1,
          "yref": "y domain"
         },
         {
          "line": {
           "color": "blue",
           "dash": "dash"
          },
          "type": "line",
          "x0": "2024-07-10T14:26:34.414000",
          "x1": "2024-07-10T14:26:34.414000",
          "xref": "x",
          "y0": 0,
          "y1": 1,
          "yref": "y domain"
         },
         {
          "line": {
           "color": "blue",
           "dash": "dash"
          },
          "type": "line",
          "x0": "2024-07-10T14:28:34.414000",
          "x1": "2024-07-10T14:28:34.414000",
          "xref": "x",
          "y0": 0,
          "y1": 1,
          "yref": "y domain"
         },
         {
          "line": {
           "color": "blue",
           "dash": "dash"
          },
          "type": "line",
          "x0": "2024-07-10T14:30:34.414000",
          "x1": "2024-07-10T14:30:34.414000",
          "xref": "x",
          "y0": 0,
          "y1": 1,
          "yref": "y domain"
         },
         {
          "line": {
           "color": "blue",
           "dash": "dash"
          },
          "type": "line",
          "x0": "2024-07-10T14:32:34.414000",
          "x1": "2024-07-10T14:32:34.414000",
          "xref": "x",
          "y0": 0,
          "y1": 1,
          "yref": "y domain"
         },
         {
          "line": {
           "color": "red",
           "dash": "dash"
          },
          "type": "line",
          "x0": "2024-07-10T14:35:34.414000",
          "x1": "2024-07-10T14:35:34.414000",
          "xref": "x",
          "y0": 0,
          "y1": 1,
          "yref": "y domain"
         }
        ],
        "template": {
         "data": {
          "bar": [
           {
            "error_x": {
             "color": "#2a3f5f"
            },
            "error_y": {
             "color": "#2a3f5f"
            },
            "marker": {
             "line": {
              "color": "#E5ECF6",
              "width": 0.5
             },
             "pattern": {
              "fillmode": "overlay",
              "size": 10,
              "solidity": 0.2
             }
            },
            "type": "bar"
           }
          ],
          "barpolar": [
           {
            "marker": {
             "line": {
              "color": "#E5ECF6",
              "width": 0.5
             },
             "pattern": {
              "fillmode": "overlay",
              "size": 10,
              "solidity": 0.2
             }
            },
            "type": "barpolar"
           }
          ],
          "carpet": [
           {
            "aaxis": {
             "endlinecolor": "#2a3f5f",
             "gridcolor": "white",
             "linecolor": "white",
             "minorgridcolor": "white",
             "startlinecolor": "#2a3f5f"
            },
            "baxis": {
             "endlinecolor": "#2a3f5f",
             "gridcolor": "white",
             "linecolor": "white",
             "minorgridcolor": "white",
             "startlinecolor": "#2a3f5f"
            },
            "type": "carpet"
           }
          ],
          "choropleth": [
           {
            "colorbar": {
             "outlinewidth": 0,
             "ticks": ""
            },
            "type": "choropleth"
           }
          ],
          "contour": [
           {
            "colorbar": {
             "outlinewidth": 0,
             "ticks": ""
            },
            "colorscale": [
             [
              0,
              "#0d0887"
             ],
             [
              0.1111111111111111,
              "#46039f"
             ],
             [
              0.2222222222222222,
              "#7201a8"
             ],
             [
              0.3333333333333333,
              "#9c179e"
             ],
             [
              0.4444444444444444,
              "#bd3786"
             ],
             [
              0.5555555555555556,
              "#d8576b"
             ],
             [
              0.6666666666666666,
              "#ed7953"
             ],
             [
              0.7777777777777778,
              "#fb9f3a"
             ],
             [
              0.8888888888888888,
              "#fdca26"
             ],
             [
              1,
              "#f0f921"
             ]
            ],
            "type": "contour"
           }
          ],
          "contourcarpet": [
           {
            "colorbar": {
             "outlinewidth": 0,
             "ticks": ""
            },
            "type": "contourcarpet"
           }
          ],
          "heatmap": [
           {
            "colorbar": {
             "outlinewidth": 0,
             "ticks": ""
            },
            "colorscale": [
             [
              0,
              "#0d0887"
             ],
             [
              0.1111111111111111,
              "#46039f"
             ],
             [
              0.2222222222222222,
              "#7201a8"
             ],
             [
              0.3333333333333333,
              "#9c179e"
             ],
             [
              0.4444444444444444,
              "#bd3786"
             ],
             [
              0.5555555555555556,
              "#d8576b"
             ],
             [
              0.6666666666666666,
              "#ed7953"
             ],
             [
              0.7777777777777778,
              "#fb9f3a"
             ],
             [
              0.8888888888888888,
              "#fdca26"
             ],
             [
              1,
              "#f0f921"
             ]
            ],
            "type": "heatmap"
           }
          ],
          "heatmapgl": [
           {
            "colorbar": {
             "outlinewidth": 0,
             "ticks": ""
            },
            "colorscale": [
             [
              0,
              "#0d0887"
             ],
             [
              0.1111111111111111,
              "#46039f"
             ],
             [
              0.2222222222222222,
              "#7201a8"
             ],
             [
              0.3333333333333333,
              "#9c179e"
             ],
             [
              0.4444444444444444,
              "#bd3786"
             ],
             [
              0.5555555555555556,
              "#d8576b"
             ],
             [
              0.6666666666666666,
              "#ed7953"
             ],
             [
              0.7777777777777778,
              "#fb9f3a"
             ],
             [
              0.8888888888888888,
              "#fdca26"
             ],
             [
              1,
              "#f0f921"
             ]
            ],
            "type": "heatmapgl"
           }
          ],
          "histogram": [
           {
            "marker": {
             "pattern": {
              "fillmode": "overlay",
              "size": 10,
              "solidity": 0.2
             }
            },
            "type": "histogram"
           }
          ],
          "histogram2d": [
           {
            "colorbar": {
             "outlinewidth": 0,
             "ticks": ""
            },
            "colorscale": [
             [
              0,
              "#0d0887"
             ],
             [
              0.1111111111111111,
              "#46039f"
             ],
             [
              0.2222222222222222,
              "#7201a8"
             ],
             [
              0.3333333333333333,
              "#9c179e"
             ],
             [
              0.4444444444444444,
              "#bd3786"
             ],
             [
              0.5555555555555556,
              "#d8576b"
             ],
             [
              0.6666666666666666,
              "#ed7953"
             ],
             [
              0.7777777777777778,
              "#fb9f3a"
             ],
             [
              0.8888888888888888,
              "#fdca26"
             ],
             [
              1,
              "#f0f921"
             ]
            ],
            "type": "histogram2d"
           }
          ],
          "histogram2dcontour": [
           {
            "colorbar": {
             "outlinewidth": 0,
             "ticks": ""
            },
            "colorscale": [
             [
              0,
              "#0d0887"
             ],
             [
              0.1111111111111111,
              "#46039f"
             ],
             [
              0.2222222222222222,
              "#7201a8"
             ],
             [
              0.3333333333333333,
              "#9c179e"
             ],
             [
              0.4444444444444444,
              "#bd3786"
             ],
             [
              0.5555555555555556,
              "#d8576b"
             ],
             [
              0.6666666666666666,
              "#ed7953"
             ],
             [
              0.7777777777777778,
              "#fb9f3a"
             ],
             [
              0.8888888888888888,
              "#fdca26"
             ],
             [
              1,
              "#f0f921"
             ]
            ],
            "type": "histogram2dcontour"
           }
          ],
          "mesh3d": [
           {
            "colorbar": {
             "outlinewidth": 0,
             "ticks": ""
            },
            "type": "mesh3d"
           }
          ],
          "parcoords": [
           {
            "line": {
             "colorbar": {
              "outlinewidth": 0,
              "ticks": ""
             }
            },
            "type": "parcoords"
           }
          ],
          "pie": [
           {
            "automargin": true,
            "type": "pie"
           }
          ],
          "scatter": [
           {
            "fillpattern": {
             "fillmode": "overlay",
             "size": 10,
             "solidity": 0.2
            },
            "type": "scatter"
           }
          ],
          "scatter3d": [
           {
            "line": {
             "colorbar": {
              "outlinewidth": 0,
              "ticks": ""
             }
            },
            "marker": {
             "colorbar": {
              "outlinewidth": 0,
              "ticks": ""
             }
            },
            "type": "scatter3d"
           }
          ],
          "scattercarpet": [
           {
            "marker": {
             "colorbar": {
              "outlinewidth": 0,
              "ticks": ""
             }
            },
            "type": "scattercarpet"
           }
          ],
          "scattergeo": [
           {
            "marker": {
             "colorbar": {
              "outlinewidth": 0,
              "ticks": ""
             }
            },
            "type": "scattergeo"
           }
          ],
          "scattergl": [
           {
            "marker": {
             "colorbar": {
              "outlinewidth": 0,
              "ticks": ""
             }
            },
            "type": "scattergl"
           }
          ],
          "scattermapbox": [
           {
            "marker": {
             "colorbar": {
              "outlinewidth": 0,
              "ticks": ""
             }
            },
            "type": "scattermapbox"
           }
          ],
          "scatterpolar": [
           {
            "marker": {
             "colorbar": {
              "outlinewidth": 0,
              "ticks": ""
             }
            },
            "type": "scatterpolar"
           }
          ],
          "scatterpolargl": [
           {
            "marker": {
             "colorbar": {
              "outlinewidth": 0,
              "ticks": ""
             }
            },
            "type": "scatterpolargl"
           }
          ],
          "scatterternary": [
           {
            "marker": {
             "colorbar": {
              "outlinewidth": 0,
              "ticks": ""
             }
            },
            "type": "scatterternary"
           }
          ],
          "surface": [
           {
            "colorbar": {
             "outlinewidth": 0,
             "ticks": ""
            },
            "colorscale": [
             [
              0,
              "#0d0887"
             ],
             [
              0.1111111111111111,
              "#46039f"
             ],
             [
              0.2222222222222222,
              "#7201a8"
             ],
             [
              0.3333333333333333,
              "#9c179e"
             ],
             [
              0.4444444444444444,
              "#bd3786"
             ],
             [
              0.5555555555555556,
              "#d8576b"
             ],
             [
              0.6666666666666666,
              "#ed7953"
             ],
             [
              0.7777777777777778,
              "#fb9f3a"
             ],
             [
              0.8888888888888888,
              "#fdca26"
             ],
             [
              1,
              "#f0f921"
             ]
            ],
            "type": "surface"
           }
          ],
          "table": [
           {
            "cells": {
             "fill": {
              "color": "#EBF0F8"
             },
             "line": {
              "color": "white"
             }
            },
            "header": {
             "fill": {
              "color": "#C8D4E3"
             },
             "line": {
              "color": "white"
             }
            },
            "type": "table"
           }
          ]
         },
         "layout": {
          "annotationdefaults": {
           "arrowcolor": "#2a3f5f",
           "arrowhead": 0,
           "arrowwidth": 1
          },
          "autotypenumbers": "strict",
          "coloraxis": {
           "colorbar": {
            "outlinewidth": 0,
            "ticks": ""
           }
          },
          "colorscale": {
           "diverging": [
            [
             0,
             "#8e0152"
            ],
            [
             0.1,
             "#c51b7d"
            ],
            [
             0.2,
             "#de77ae"
            ],
            [
             0.3,
             "#f1b6da"
            ],
            [
             0.4,
             "#fde0ef"
            ],
            [
             0.5,
             "#f7f7f7"
            ],
            [
             0.6,
             "#e6f5d0"
            ],
            [
             0.7,
             "#b8e186"
            ],
            [
             0.8,
             "#7fbc41"
            ],
            [
             0.9,
             "#4d9221"
            ],
            [
             1,
             "#276419"
            ]
           ],
           "sequential": [
            [
             0,
             "#0d0887"
            ],
            [
             0.1111111111111111,
             "#46039f"
            ],
            [
             0.2222222222222222,
             "#7201a8"
            ],
            [
             0.3333333333333333,
             "#9c179e"
            ],
            [
             0.4444444444444444,
             "#bd3786"
            ],
            [
             0.5555555555555556,
             "#d8576b"
            ],
            [
             0.6666666666666666,
             "#ed7953"
            ],
            [
             0.7777777777777778,
             "#fb9f3a"
            ],
            [
             0.8888888888888888,
             "#fdca26"
            ],
            [
             1,
             "#f0f921"
            ]
           ],
           "sequentialminus": [
            [
             0,
             "#0d0887"
            ],
            [
             0.1111111111111111,
             "#46039f"
            ],
            [
             0.2222222222222222,
             "#7201a8"
            ],
            [
             0.3333333333333333,
             "#9c179e"
            ],
            [
             0.4444444444444444,
             "#bd3786"
            ],
            [
             0.5555555555555556,
             "#d8576b"
            ],
            [
             0.6666666666666666,
             "#ed7953"
            ],
            [
             0.7777777777777778,
             "#fb9f3a"
            ],
            [
             0.8888888888888888,
             "#fdca26"
            ],
            [
             1,
             "#f0f921"
            ]
           ]
          },
          "colorway": [
           "#636efa",
           "#EF553B",
           "#00cc96",
           "#ab63fa",
           "#FFA15A",
           "#19d3f3",
           "#FF6692",
           "#B6E880",
           "#FF97FF",
           "#FECB52"
          ],
          "font": {
           "color": "#2a3f5f"
          },
          "geo": {
           "bgcolor": "white",
           "lakecolor": "white",
           "landcolor": "#E5ECF6",
           "showlakes": true,
           "showland": true,
           "subunitcolor": "white"
          },
          "hoverlabel": {
           "align": "left"
          },
          "hovermode": "closest",
          "mapbox": {
           "style": "light"
          },
          "paper_bgcolor": "white",
          "plot_bgcolor": "#E5ECF6",
          "polar": {
           "angularaxis": {
            "gridcolor": "white",
            "linecolor": "white",
            "ticks": ""
           },
           "bgcolor": "#E5ECF6",
           "radialaxis": {
            "gridcolor": "white",
            "linecolor": "white",
            "ticks": ""
           }
          },
          "scene": {
           "xaxis": {
            "backgroundcolor": "#E5ECF6",
            "gridcolor": "white",
            "gridwidth": 2,
            "linecolor": "white",
            "showbackground": true,
            "ticks": "",
            "zerolinecolor": "white"
           },
           "yaxis": {
            "backgroundcolor": "#E5ECF6",
            "gridcolor": "white",
            "gridwidth": 2,
            "linecolor": "white",
            "showbackground": true,
            "ticks": "",
            "zerolinecolor": "white"
           },
           "zaxis": {
            "backgroundcolor": "#E5ECF6",
            "gridcolor": "white",
            "gridwidth": 2,
            "linecolor": "white",
            "showbackground": true,
            "ticks": "",
            "zerolinecolor": "white"
           }
          },
          "shapedefaults": {
           "line": {
            "color": "#2a3f5f"
           }
          },
          "ternary": {
           "aaxis": {
            "gridcolor": "white",
            "linecolor": "white",
            "ticks": ""
           },
           "baxis": {
            "gridcolor": "white",
            "linecolor": "white",
            "ticks": ""
           },
           "bgcolor": "#E5ECF6",
           "caxis": {
            "gridcolor": "white",
            "linecolor": "white",
            "ticks": ""
           }
          },
          "title": {
           "x": 0.05
          },
          "xaxis": {
           "automargin": true,
           "gridcolor": "white",
           "linecolor": "white",
           "ticks": "",
           "title": {
            "standoff": 15
           },
           "zerolinecolor": "white",
           "zerolinewidth": 2
          },
          "yaxis": {
           "automargin": true,
           "gridcolor": "white",
           "linecolor": "white",
           "ticks": "",
           "title": {
            "standoff": 15
           },
           "zerolinecolor": "white",
           "zerolinewidth": 2
          }
         }
        },
        "title": {
         "font": {
          "size": 12
         },
         "text": "Speed Data for Participant 07"
        },
        "width": 450,
        "xaxis": {
         "tickformat": "%H:%M",
         "title": {
          "font": {
           "size": 10
          },
          "text": "Time"
         }
        },
        "yaxis": {
         "title": {
          "font": {
           "size": 10
          },
          "text": "Speed in km/h"
         }
        }
       }
      }
     },
     "metadata": {},
     "output_type": "display_data"
    },
    {
     "data": {
      "application/vnd.plotly.v1+json": {
       "config": {
        "plotlyServerURL": "https://plot.ly"
       },
       "data": [
        {
         "mode": "lines",
         "name": "Participant 08",
         "type": "scatter",
         "x": [
          "2024-07-10T14:40:54.961000",
          "2024-07-10T14:41:03.963000",
          "2024-07-10T14:41:08.960000",
          "2024-07-10T14:41:17.962000",
          "2024-07-10T14:41:22.966000",
          "2024-07-10T14:41:28.962000",
          "2024-07-10T14:41:33.964000",
          "2024-07-10T14:41:38.966000",
          "2024-07-10T14:41:43.963000",
          "2024-07-10T14:41:48.959000",
          "2024-07-10T14:41:53.965000",
          "2024-07-10T14:42:04.959000",
          "2024-07-10T14:42:13.964000",
          "2024-07-10T14:42:25.964000",
          "2024-07-10T14:42:43.964000",
          "2024-07-10T14:42:54.962000",
          "2024-07-10T14:42:59.964000",
          "2024-07-10T14:43:08.965000",
          "2024-07-10T14:43:14.962000",
          "2024-07-10T14:43:23.963000",
          "2024-07-10T14:43:33.960000",
          "2024-07-10T14:43:42.963000",
          "2024-07-10T14:43:47.962000",
          "2024-07-10T14:43:52.963000",
          "2024-07-10T14:43:57.961000",
          "2024-07-10T14:44:02.963000",
          "2024-07-10T14:44:08.960000",
          "2024-07-10T14:44:13.963000",
          "2024-07-10T14:44:18.968000",
          "2024-07-10T14:44:23.965000",
          "2024-07-10T14:44:33.964000",
          "2024-07-10T14:44:38.961000",
          "2024-07-10T14:44:43.962000",
          "2024-07-10T14:44:49.961000",
          "2024-07-10T14:45:02.290000",
          "2024-07-10T14:45:12.288000",
          "2024-07-10T14:45:27.961000",
          "2024-07-10T14:45:33.963000",
          "2024-07-10T14:45:38.959000",
          "2024-07-10T14:45:48.970000",
          "2024-07-10T14:45:58.962000",
          "2024-07-10T14:46:08.964000",
          "2024-07-10T14:46:14.964000",
          "2024-07-10T14:46:19.963000",
          "2024-07-10T14:46:27.963000",
          "2024-07-10T14:46:32.961000",
          "2024-07-10T14:46:37.964000",
          "2024-07-10T14:46:42.965000",
          "2024-07-10T14:46:48.960000",
          "2024-07-10T14:46:53.964000",
          "2024-07-10T14:46:58.968000",
          "2024-07-10T14:47:03.964000",
          "2024-07-10T14:47:08.966000",
          "2024-07-10T14:47:13.963000",
          "2024-07-10T14:47:18.959000",
          "2024-07-10T14:47:32.413000",
          "2024-07-10T14:47:37.960000",
          "2024-07-10T14:47:52.351000",
          "2024-07-10T14:48:23.961000",
          "2024-07-10T14:48:43.961000",
          "2024-07-10T14:48:58.960000",
          "2024-07-10T14:49:03.962000",
          "2024-07-10T14:49:12.959000",
          "2024-07-10T14:49:21.962000",
          "2024-07-10T14:49:26.964000",
          "2024-07-10T14:49:31.961000",
          "2024-07-10T14:49:36.964000",
          "2024-07-10T14:49:42.961000",
          "2024-07-10T14:49:52.962000",
          "2024-07-10T14:49:57.959000",
          "2024-07-10T14:50:13.961000",
          "2024-07-10T14:50:31.961000",
          "2024-07-10T14:50:46.961000",
          "2024-07-10T14:50:59.960000",
          "2024-07-10T14:51:05.963000",
          "2024-07-10T14:51:10.962000",
          "2024-07-10T14:51:15.962000",
          "2024-07-10T14:51:20.962000",
          "2024-07-10T14:51:25.965000",
          "2024-07-10T14:51:30.965000",
          "2024-07-10T14:51:35.963000",
          "2024-07-10T14:51:40.962000",
          "2024-07-10T14:51:45.959000",
          "2024-07-10T14:51:50.961000",
          "2024-07-10T14:51:56.959000",
          "2024-07-10T14:52:02.959000",
          "2024-07-10T14:52:08.959000",
          "2024-07-10T14:52:13.958000",
          "2024-07-10T14:52:18.961000",
          "2024-07-10T14:52:28.960000",
          "2024-07-10T14:52:33.965000",
          "2024-07-10T14:52:38.962000",
          "2024-07-10T14:52:58.960000",
          "2024-07-10T14:53:05.964000",
          "2024-07-10T14:53:14.962000",
          "2024-07-10T14:53:19.962000",
          "2024-07-10T14:53:24.962000",
          "2024-07-10T14:53:29.960000",
          "2024-07-10T14:53:34.961000",
          "2024-07-10T14:53:39.961000",
          "2024-07-10T14:53:44.961000",
          "2024-07-10T14:53:50.962000",
          "2024-07-10T14:53:55.960000",
          "2024-07-10T14:54:06.967000",
          "2024-07-10T14:54:15.960000",
          "2024-07-10T14:54:21.962000",
          "2024-07-10T14:54:29.962000",
          "2024-07-10T14:54:35.958000",
          "2024-07-10T14:54:40.961000",
          "2024-07-10T14:54:49.962000",
          "2024-07-10T14:54:54.967000",
          "2024-07-10T14:54:59.963000",
          "2024-07-10T14:55:04.963000",
          "2024-07-10T14:55:09.964000",
          "2024-07-10T14:55:14.966000",
          "2024-07-10T14:55:19.961000",
          "2024-07-10T14:55:24.964000",
          "2024-07-10T14:55:39.965000",
          "2024-07-10T14:55:59.965000"
         ],
         "y": [
          17.387999725341796,
          8.856000137329103,
          9.648000240325928,
          9.684000205993653,
          9.82800006866455,
          9.576000308990478,
          9.395999622344972,
          9.143999862670901,
          9,
          9.035999965667726,
          9.287999725341797,
          11.162873268127441,
          9.287999725341797,
          8.964000034332276,
          9.035999965667726,
          9.143999862670901,
          9.287999725341797,
          9.107999897003173,
          9.107999897003173,
          9.251999759674073,
          9.97199993133545,
          10.187999725341797,
          10.079999828338623,
          10.079999828338623,
          10.0439998626709,
          10.007999897003174,
          9.935999965667724,
          9.82800006866455,
          9.792000102996825,
          9.792000102996825,
          9.82800006866455,
          9.792000102996825,
          10.007999897003174,
          9.82800006866455,
          15.516813468933107,
          12.775282573699952,
          14.573262977600098,
          9.612000274658204,
          9.792000102996825,
          9.612000274658204,
          9.612000274658204,
          9.612000274658204,
          9.431999588012696,
          9.431999588012696,
          9.612000274658204,
          9.9,
          9.756000137329101,
          9.82800006866455,
          9.864000034332276,
          9.792000102996825,
          9.756000137329101,
          9.720000171661377,
          9.50400037765503,
          9.576000308990478,
          9.576000308990478,
          6.428953742980958,
          9.576000308990478,
          5.698239755630494,
          9.395999622344972,
          9.287999725341797,
          9.215999794006349,
          9.323999691009522,
          9.179999828338623,
          9.359999656677246,
          9.395999622344972,
          9.323999691009522,
          9.395999622344972,
          9.359999656677246,
          9.431999588012696,
          9.468000411987305,
          9.323999691009522,
          9,
          9.50400037765503,
          9.143999862670901,
          9.251999759674073,
          9.179999828338623,
          8.856000137329103,
          8.892000102996825,
          8.856000137329103,
          8.892000102996825,
          8.92800006866455,
          8.92800006866455,
          9.07199993133545,
          8.92800006866455,
          8.892000102996825,
          9,
          8.712000274658203,
          5.939999914169312,
          5.292000102996826,
          8.964000034332276,
          8.856000137329103,
          8.640000343322756,
          8.856000137329103,
          8.531999588012695,
          5.652000188827515,
          8.568000411987304,
          8.531999588012695,
          8.67600030899048,
          8.67600030899048,
          8.712000274658203,
          8.568000411987304,
          8.387999725341798,
          8.495999622344971,
          8.568000411987304,
          8.423999691009522,
          8.315999794006348,
          8.2439998626709,
          6.4802779197692875,
          8.2439998626709,
          8.135999965667725,
          8.1,
          8.1,
          8.135999965667725,
          8.135999965667725,
          8.17199993133545,
          8.207999897003175,
          5.003999948501587,
          6.984000205993652,
          7.631999588012696
         ]
        }
       ],
       "layout": {
        "height": 300,
        "margin": {
         "b": 30,
         "l": 30,
         "r": 30,
         "t": 30
        },
        "shapes": [
         {
          "line": {
           "color": "red",
           "dash": "dash"
          },
          "type": "line",
          "x0": "2024-07-10T14:40:24.927000",
          "x1": "2024-07-10T14:40:24.927000",
          "xref": "x",
          "y0": 0,
          "y1": 1,
          "yref": "y domain"
         },
         {
          "line": {
           "color": "blue",
           "dash": "dash"
          },
          "type": "line",
          "x0": "2024-07-10T14:42:24.927000",
          "x1": "2024-07-10T14:42:24.927000",
          "xref": "x",
          "y0": 0,
          "y1": 1,
          "yref": "y domain"
         },
         {
          "line": {
           "color": "blue",
           "dash": "dash"
          },
          "type": "line",
          "x0": "2024-07-10T14:44:24.927000",
          "x1": "2024-07-10T14:44:24.927000",
          "xref": "x",
          "y0": 0,
          "y1": 1,
          "yref": "y domain"
         },
         {
          "line": {
           "color": "blue",
           "dash": "dash"
          },
          "type": "line",
          "x0": "2024-07-10T14:46:24.927000",
          "x1": "2024-07-10T14:46:24.927000",
          "xref": "x",
          "y0": 0,
          "y1": 1,
          "yref": "y domain"
         },
         {
          "line": {
           "color": "blue",
           "dash": "dash"
          },
          "type": "line",
          "x0": "2024-07-10T14:48:24.927000",
          "x1": "2024-07-10T14:48:24.927000",
          "xref": "x",
          "y0": 0,
          "y1": 1,
          "yref": "y domain"
         },
         {
          "line": {
           "color": "blue",
           "dash": "dash"
          },
          "type": "line",
          "x0": "2024-07-10T14:50:24.927000",
          "x1": "2024-07-10T14:50:24.927000",
          "xref": "x",
          "y0": 0,
          "y1": 1,
          "yref": "y domain"
         },
         {
          "line": {
           "color": "blue",
           "dash": "dash"
          },
          "type": "line",
          "x0": "2024-07-10T14:52:24.927000",
          "x1": "2024-07-10T14:52:24.927000",
          "xref": "x",
          "y0": 0,
          "y1": 1,
          "yref": "y domain"
         },
         {
          "line": {
           "color": "red",
           "dash": "dash"
          },
          "type": "line",
          "x0": "2024-07-10T14:55:24.927000",
          "x1": "2024-07-10T14:55:24.927000",
          "xref": "x",
          "y0": 0,
          "y1": 1,
          "yref": "y domain"
         }
        ],
        "template": {
         "data": {
          "bar": [
           {
            "error_x": {
             "color": "#2a3f5f"
            },
            "error_y": {
             "color": "#2a3f5f"
            },
            "marker": {
             "line": {
              "color": "#E5ECF6",
              "width": 0.5
             },
             "pattern": {
              "fillmode": "overlay",
              "size": 10,
              "solidity": 0.2
             }
            },
            "type": "bar"
           }
          ],
          "barpolar": [
           {
            "marker": {
             "line": {
              "color": "#E5ECF6",
              "width": 0.5
             },
             "pattern": {
              "fillmode": "overlay",
              "size": 10,
              "solidity": 0.2
             }
            },
            "type": "barpolar"
           }
          ],
          "carpet": [
           {
            "aaxis": {
             "endlinecolor": "#2a3f5f",
             "gridcolor": "white",
             "linecolor": "white",
             "minorgridcolor": "white",
             "startlinecolor": "#2a3f5f"
            },
            "baxis": {
             "endlinecolor": "#2a3f5f",
             "gridcolor": "white",
             "linecolor": "white",
             "minorgridcolor": "white",
             "startlinecolor": "#2a3f5f"
            },
            "type": "carpet"
           }
          ],
          "choropleth": [
           {
            "colorbar": {
             "outlinewidth": 0,
             "ticks": ""
            },
            "type": "choropleth"
           }
          ],
          "contour": [
           {
            "colorbar": {
             "outlinewidth": 0,
             "ticks": ""
            },
            "colorscale": [
             [
              0,
              "#0d0887"
             ],
             [
              0.1111111111111111,
              "#46039f"
             ],
             [
              0.2222222222222222,
              "#7201a8"
             ],
             [
              0.3333333333333333,
              "#9c179e"
             ],
             [
              0.4444444444444444,
              "#bd3786"
             ],
             [
              0.5555555555555556,
              "#d8576b"
             ],
             [
              0.6666666666666666,
              "#ed7953"
             ],
             [
              0.7777777777777778,
              "#fb9f3a"
             ],
             [
              0.8888888888888888,
              "#fdca26"
             ],
             [
              1,
              "#f0f921"
             ]
            ],
            "type": "contour"
           }
          ],
          "contourcarpet": [
           {
            "colorbar": {
             "outlinewidth": 0,
             "ticks": ""
            },
            "type": "contourcarpet"
           }
          ],
          "heatmap": [
           {
            "colorbar": {
             "outlinewidth": 0,
             "ticks": ""
            },
            "colorscale": [
             [
              0,
              "#0d0887"
             ],
             [
              0.1111111111111111,
              "#46039f"
             ],
             [
              0.2222222222222222,
              "#7201a8"
             ],
             [
              0.3333333333333333,
              "#9c179e"
             ],
             [
              0.4444444444444444,
              "#bd3786"
             ],
             [
              0.5555555555555556,
              "#d8576b"
             ],
             [
              0.6666666666666666,
              "#ed7953"
             ],
             [
              0.7777777777777778,
              "#fb9f3a"
             ],
             [
              0.8888888888888888,
              "#fdca26"
             ],
             [
              1,
              "#f0f921"
             ]
            ],
            "type": "heatmap"
           }
          ],
          "heatmapgl": [
           {
            "colorbar": {
             "outlinewidth": 0,
             "ticks": ""
            },
            "colorscale": [
             [
              0,
              "#0d0887"
             ],
             [
              0.1111111111111111,
              "#46039f"
             ],
             [
              0.2222222222222222,
              "#7201a8"
             ],
             [
              0.3333333333333333,
              "#9c179e"
             ],
             [
              0.4444444444444444,
              "#bd3786"
             ],
             [
              0.5555555555555556,
              "#d8576b"
             ],
             [
              0.6666666666666666,
              "#ed7953"
             ],
             [
              0.7777777777777778,
              "#fb9f3a"
             ],
             [
              0.8888888888888888,
              "#fdca26"
             ],
             [
              1,
              "#f0f921"
             ]
            ],
            "type": "heatmapgl"
           }
          ],
          "histogram": [
           {
            "marker": {
             "pattern": {
              "fillmode": "overlay",
              "size": 10,
              "solidity": 0.2
             }
            },
            "type": "histogram"
           }
          ],
          "histogram2d": [
           {
            "colorbar": {
             "outlinewidth": 0,
             "ticks": ""
            },
            "colorscale": [
             [
              0,
              "#0d0887"
             ],
             [
              0.1111111111111111,
              "#46039f"
             ],
             [
              0.2222222222222222,
              "#7201a8"
             ],
             [
              0.3333333333333333,
              "#9c179e"
             ],
             [
              0.4444444444444444,
              "#bd3786"
             ],
             [
              0.5555555555555556,
              "#d8576b"
             ],
             [
              0.6666666666666666,
              "#ed7953"
             ],
             [
              0.7777777777777778,
              "#fb9f3a"
             ],
             [
              0.8888888888888888,
              "#fdca26"
             ],
             [
              1,
              "#f0f921"
             ]
            ],
            "type": "histogram2d"
           }
          ],
          "histogram2dcontour": [
           {
            "colorbar": {
             "outlinewidth": 0,
             "ticks": ""
            },
            "colorscale": [
             [
              0,
              "#0d0887"
             ],
             [
              0.1111111111111111,
              "#46039f"
             ],
             [
              0.2222222222222222,
              "#7201a8"
             ],
             [
              0.3333333333333333,
              "#9c179e"
             ],
             [
              0.4444444444444444,
              "#bd3786"
             ],
             [
              0.5555555555555556,
              "#d8576b"
             ],
             [
              0.6666666666666666,
              "#ed7953"
             ],
             [
              0.7777777777777778,
              "#fb9f3a"
             ],
             [
              0.8888888888888888,
              "#fdca26"
             ],
             [
              1,
              "#f0f921"
             ]
            ],
            "type": "histogram2dcontour"
           }
          ],
          "mesh3d": [
           {
            "colorbar": {
             "outlinewidth": 0,
             "ticks": ""
            },
            "type": "mesh3d"
           }
          ],
          "parcoords": [
           {
            "line": {
             "colorbar": {
              "outlinewidth": 0,
              "ticks": ""
             }
            },
            "type": "parcoords"
           }
          ],
          "pie": [
           {
            "automargin": true,
            "type": "pie"
           }
          ],
          "scatter": [
           {
            "fillpattern": {
             "fillmode": "overlay",
             "size": 10,
             "solidity": 0.2
            },
            "type": "scatter"
           }
          ],
          "scatter3d": [
           {
            "line": {
             "colorbar": {
              "outlinewidth": 0,
              "ticks": ""
             }
            },
            "marker": {
             "colorbar": {
              "outlinewidth": 0,
              "ticks": ""
             }
            },
            "type": "scatter3d"
           }
          ],
          "scattercarpet": [
           {
            "marker": {
             "colorbar": {
              "outlinewidth": 0,
              "ticks": ""
             }
            },
            "type": "scattercarpet"
           }
          ],
          "scattergeo": [
           {
            "marker": {
             "colorbar": {
              "outlinewidth": 0,
              "ticks": ""
             }
            },
            "type": "scattergeo"
           }
          ],
          "scattergl": [
           {
            "marker": {
             "colorbar": {
              "outlinewidth": 0,
              "ticks": ""
             }
            },
            "type": "scattergl"
           }
          ],
          "scattermapbox": [
           {
            "marker": {
             "colorbar": {
              "outlinewidth": 0,
              "ticks": ""
             }
            },
            "type": "scattermapbox"
           }
          ],
          "scatterpolar": [
           {
            "marker": {
             "colorbar": {
              "outlinewidth": 0,
              "ticks": ""
             }
            },
            "type": "scatterpolar"
           }
          ],
          "scatterpolargl": [
           {
            "marker": {
             "colorbar": {
              "outlinewidth": 0,
              "ticks": ""
             }
            },
            "type": "scatterpolargl"
           }
          ],
          "scatterternary": [
           {
            "marker": {
             "colorbar": {
              "outlinewidth": 0,
              "ticks": ""
             }
            },
            "type": "scatterternary"
           }
          ],
          "surface": [
           {
            "colorbar": {
             "outlinewidth": 0,
             "ticks": ""
            },
            "colorscale": [
             [
              0,
              "#0d0887"
             ],
             [
              0.1111111111111111,
              "#46039f"
             ],
             [
              0.2222222222222222,
              "#7201a8"
             ],
             [
              0.3333333333333333,
              "#9c179e"
             ],
             [
              0.4444444444444444,
              "#bd3786"
             ],
             [
              0.5555555555555556,
              "#d8576b"
             ],
             [
              0.6666666666666666,
              "#ed7953"
             ],
             [
              0.7777777777777778,
              "#fb9f3a"
             ],
             [
              0.8888888888888888,
              "#fdca26"
             ],
             [
              1,
              "#f0f921"
             ]
            ],
            "type": "surface"
           }
          ],
          "table": [
           {
            "cells": {
             "fill": {
              "color": "#EBF0F8"
             },
             "line": {
              "color": "white"
             }
            },
            "header": {
             "fill": {
              "color": "#C8D4E3"
             },
             "line": {
              "color": "white"
             }
            },
            "type": "table"
           }
          ]
         },
         "layout": {
          "annotationdefaults": {
           "arrowcolor": "#2a3f5f",
           "arrowhead": 0,
           "arrowwidth": 1
          },
          "autotypenumbers": "strict",
          "coloraxis": {
           "colorbar": {
            "outlinewidth": 0,
            "ticks": ""
           }
          },
          "colorscale": {
           "diverging": [
            [
             0,
             "#8e0152"
            ],
            [
             0.1,
             "#c51b7d"
            ],
            [
             0.2,
             "#de77ae"
            ],
            [
             0.3,
             "#f1b6da"
            ],
            [
             0.4,
             "#fde0ef"
            ],
            [
             0.5,
             "#f7f7f7"
            ],
            [
             0.6,
             "#e6f5d0"
            ],
            [
             0.7,
             "#b8e186"
            ],
            [
             0.8,
             "#7fbc41"
            ],
            [
             0.9,
             "#4d9221"
            ],
            [
             1,
             "#276419"
            ]
           ],
           "sequential": [
            [
             0,
             "#0d0887"
            ],
            [
             0.1111111111111111,
             "#46039f"
            ],
            [
             0.2222222222222222,
             "#7201a8"
            ],
            [
             0.3333333333333333,
             "#9c179e"
            ],
            [
             0.4444444444444444,
             "#bd3786"
            ],
            [
             0.5555555555555556,
             "#d8576b"
            ],
            [
             0.6666666666666666,
             "#ed7953"
            ],
            [
             0.7777777777777778,
             "#fb9f3a"
            ],
            [
             0.8888888888888888,
             "#fdca26"
            ],
            [
             1,
             "#f0f921"
            ]
           ],
           "sequentialminus": [
            [
             0,
             "#0d0887"
            ],
            [
             0.1111111111111111,
             "#46039f"
            ],
            [
             0.2222222222222222,
             "#7201a8"
            ],
            [
             0.3333333333333333,
             "#9c179e"
            ],
            [
             0.4444444444444444,
             "#bd3786"
            ],
            [
             0.5555555555555556,
             "#d8576b"
            ],
            [
             0.6666666666666666,
             "#ed7953"
            ],
            [
             0.7777777777777778,
             "#fb9f3a"
            ],
            [
             0.8888888888888888,
             "#fdca26"
            ],
            [
             1,
             "#f0f921"
            ]
           ]
          },
          "colorway": [
           "#636efa",
           "#EF553B",
           "#00cc96",
           "#ab63fa",
           "#FFA15A",
           "#19d3f3",
           "#FF6692",
           "#B6E880",
           "#FF97FF",
           "#FECB52"
          ],
          "font": {
           "color": "#2a3f5f"
          },
          "geo": {
           "bgcolor": "white",
           "lakecolor": "white",
           "landcolor": "#E5ECF6",
           "showlakes": true,
           "showland": true,
           "subunitcolor": "white"
          },
          "hoverlabel": {
           "align": "left"
          },
          "hovermode": "closest",
          "mapbox": {
           "style": "light"
          },
          "paper_bgcolor": "white",
          "plot_bgcolor": "#E5ECF6",
          "polar": {
           "angularaxis": {
            "gridcolor": "white",
            "linecolor": "white",
            "ticks": ""
           },
           "bgcolor": "#E5ECF6",
           "radialaxis": {
            "gridcolor": "white",
            "linecolor": "white",
            "ticks": ""
           }
          },
          "scene": {
           "xaxis": {
            "backgroundcolor": "#E5ECF6",
            "gridcolor": "white",
            "gridwidth": 2,
            "linecolor": "white",
            "showbackground": true,
            "ticks": "",
            "zerolinecolor": "white"
           },
           "yaxis": {
            "backgroundcolor": "#E5ECF6",
            "gridcolor": "white",
            "gridwidth": 2,
            "linecolor": "white",
            "showbackground": true,
            "ticks": "",
            "zerolinecolor": "white"
           },
           "zaxis": {
            "backgroundcolor": "#E5ECF6",
            "gridcolor": "white",
            "gridwidth": 2,
            "linecolor": "white",
            "showbackground": true,
            "ticks": "",
            "zerolinecolor": "white"
           }
          },
          "shapedefaults": {
           "line": {
            "color": "#2a3f5f"
           }
          },
          "ternary": {
           "aaxis": {
            "gridcolor": "white",
            "linecolor": "white",
            "ticks": ""
           },
           "baxis": {
            "gridcolor": "white",
            "linecolor": "white",
            "ticks": ""
           },
           "bgcolor": "#E5ECF6",
           "caxis": {
            "gridcolor": "white",
            "linecolor": "white",
            "ticks": ""
           }
          },
          "title": {
           "x": 0.05
          },
          "xaxis": {
           "automargin": true,
           "gridcolor": "white",
           "linecolor": "white",
           "ticks": "",
           "title": {
            "standoff": 15
           },
           "zerolinecolor": "white",
           "zerolinewidth": 2
          },
          "yaxis": {
           "automargin": true,
           "gridcolor": "white",
           "linecolor": "white",
           "ticks": "",
           "title": {
            "standoff": 15
           },
           "zerolinecolor": "white",
           "zerolinewidth": 2
          }
         }
        },
        "title": {
         "font": {
          "size": 12
         },
         "text": "Speed Data for Participant 08"
        },
        "width": 450,
        "xaxis": {
         "tickformat": "%H:%M",
         "title": {
          "font": {
           "size": 10
          },
          "text": "Time"
         }
        },
        "yaxis": {
         "title": {
          "font": {
           "size": 10
          },
          "text": "Speed in km/h"
         }
        }
       }
      }
     },
     "metadata": {},
     "output_type": "display_data"
    },
    {
     "data": {
      "application/vnd.plotly.v1+json": {
       "config": {
        "plotlyServerURL": "https://plot.ly"
       },
       "data": [
        {
         "mode": "lines",
         "name": "Participant 09",
         "type": "scatter",
         "x": [
          "2024-07-10T15:00:57.958000",
          "2024-07-10T15:01:06.960000",
          "2024-07-10T15:01:11.961000",
          "2024-07-10T15:01:17.959000",
          "2024-07-10T15:01:23.959000",
          "2024-07-10T15:01:32.959000",
          "2024-07-10T15:01:37.959000",
          "2024-07-10T15:01:42.958000",
          "2024-07-10T15:01:47.959000",
          "2024-07-10T15:01:57.960000",
          "2024-07-10T15:02:02.958000",
          "2024-07-10T15:02:12.960000",
          "2024-07-10T15:02:17.961000",
          "2024-07-10T15:02:22.960000",
          "2024-07-10T15:02:27.960000",
          "2024-07-10T15:02:32.959000",
          "2024-07-10T15:02:38.958000",
          "2024-07-10T15:02:50.959000",
          "2024-07-10T15:02:56.964000",
          "2024-07-10T15:03:04.959000",
          "2024-07-10T15:03:10.959000",
          "2024-07-10T15:03:15.960000",
          "2024-07-10T15:03:20.959000",
          "2024-07-10T15:03:29.961000",
          "2024-07-10T15:03:34.959000",
          "2024-07-10T15:03:39.959000",
          "2024-07-10T15:03:44.959000",
          "2024-07-10T15:03:49.960000",
          "2024-07-10T15:03:54.960000",
          "2024-07-10T15:03:59.959000",
          "2024-07-10T15:04:04.958000",
          "2024-07-10T15:04:09.959000",
          "2024-07-10T15:04:14.961000",
          "2024-07-10T15:04:19.960000",
          "2024-07-10T15:04:24.961000",
          "2024-07-10T15:04:29.961000",
          "2024-07-10T15:04:34.959000",
          "2024-07-10T15:04:39.960000",
          "2024-07-10T15:04:44.959000",
          "2024-07-10T15:04:49.960000",
          "2024-07-10T15:04:54.961000",
          "2024-07-10T15:04:59.959000",
          "2024-07-10T15:05:04.963000",
          "2024-07-10T15:05:09.958000",
          "2024-07-10T15:05:14.960000",
          "2024-07-10T15:05:19.960000",
          "2024-07-10T15:05:25.959000",
          "2024-07-10T15:05:35.957000",
          "2024-07-10T15:05:40.960000",
          "2024-07-10T15:05:50.959000",
          "2024-07-10T15:05:56.958000",
          "2024-07-10T15:06:02.959000",
          "2024-07-10T15:06:07.960000",
          "2024-07-10T15:06:15.961000",
          "2024-07-10T15:06:20.959000",
          "2024-07-10T15:06:26.959000",
          "2024-07-10T15:06:31.963000",
          "2024-07-10T15:06:36.955000",
          "2024-07-10T15:06:45.959000",
          "2024-07-10T15:06:50.960000",
          "2024-07-10T15:06:55.961000",
          "2024-07-10T15:07:00.959000",
          "2024-07-10T15:07:05.959000",
          "2024-07-10T15:07:10.960000",
          "2024-07-10T15:07:15.960000",
          "2024-07-10T15:07:20.959000",
          "2024-07-10T15:07:25.959000",
          "2024-07-10T15:07:30.959000",
          "2024-07-10T15:07:36.958000",
          "2024-07-10T15:07:41.959000",
          "2024-07-10T15:07:46.958000",
          "2024-07-10T15:07:55.960000",
          "2024-07-10T15:08:00.960000",
          "2024-07-10T15:08:05.960000",
          "2024-07-10T15:08:10.960000",
          "2024-07-10T15:08:15.961000",
          "2024-07-10T15:08:20.957000",
          "2024-07-10T15:08:25.959000",
          "2024-07-10T15:08:31.958000",
          "2024-07-10T15:08:40.959000",
          "2024-07-10T15:08:46.958000",
          "2024-07-10T15:08:51.959000",
          "2024-07-10T15:08:56.958000",
          "2024-07-10T15:09:01.959000",
          "2024-07-10T15:09:19.961000",
          "2024-07-10T15:09:25.958000",
          "2024-07-10T15:09:30.959000",
          "2024-07-10T15:09:35.959000",
          "2024-07-10T15:09:40.959000",
          "2024-07-10T15:09:49.957000",
          "2024-07-10T15:09:59.958000",
          "2024-07-10T15:10:08.964000",
          "2024-07-10T15:10:13.957000",
          "2024-07-10T15:10:18.960000",
          "2024-07-10T15:10:23.961000",
          "2024-07-10T15:10:28.958000",
          "2024-07-10T15:10:33.958000",
          "2024-07-10T15:10:38.960000",
          "2024-07-10T15:10:43.962000",
          "2024-07-10T15:10:48.960000",
          "2024-07-10T15:10:53.959000",
          "2024-07-10T15:10:58.958000",
          "2024-07-10T15:11:04.958000",
          "2024-07-10T15:11:13.959000",
          "2024-07-10T15:11:18.958000",
          "2024-07-10T15:11:23.961000",
          "2024-07-10T15:11:28.958000",
          "2024-07-10T15:11:33.959000",
          "2024-07-10T15:11:38.960000",
          "2024-07-10T15:11:43.962000",
          "2024-07-10T15:11:48.958000",
          "2024-07-10T15:11:53.963000",
          "2024-07-10T15:11:58.961000",
          "2024-07-10T15:12:03.961000",
          "2024-07-10T15:12:08.958000",
          "2024-07-10T15:12:13.961000",
          "2024-07-10T15:12:18.963000",
          "2024-07-10T15:12:23.962000",
          "2024-07-10T15:12:28.962000",
          "2024-07-10T15:12:34.963000",
          "2024-07-10T15:12:44.956000",
          "2024-07-10T15:12:49.958000",
          "2024-07-10T15:12:54.959000",
          "2024-07-10T15:13:03.962000",
          "2024-07-10T15:13:08.959000",
          "2024-07-10T15:13:14.959000",
          "2024-07-10T15:13:24.959000",
          "2024-07-10T15:13:29.959000",
          "2024-07-10T15:13:38.963000",
          "2024-07-10T15:13:43.961000",
          "2024-07-10T15:13:48.960000",
          "2024-07-10T15:13:54.959000",
          "2024-07-10T15:14:03.961000",
          "2024-07-10T15:14:08.960000",
          "2024-07-10T15:14:13.962000",
          "2024-07-10T15:14:18.959000",
          "2024-07-10T15:14:24.959000",
          "2024-07-10T15:14:33.959000",
          "2024-07-10T15:14:38.961000",
          "2024-07-10T15:14:43.961000",
          "2024-07-10T15:14:48.961000",
          "2024-07-10T15:14:53.959000",
          "2024-07-10T15:14:58.961000",
          "2024-07-10T15:15:03.963000",
          "2024-07-10T15:15:08.960000",
          "2024-07-10T15:15:13.962000",
          "2024-07-10T15:15:18.962000",
          "2024-07-10T15:15:23.961000",
          "2024-07-10T15:15:28.960000",
          "2024-07-10T15:15:34.958000",
          "2024-07-10T15:15:39.960000"
         ],
         "y": [
          8.568000411987304,
          8.568000411987304,
          9,
          9.50400037765503,
          9.648000240325928,
          10.079999828338623,
          9.468000411987305,
          9.251999759674073,
          9.287999725341797,
          9.035999965667726,
          8.964000034332276,
          8.92800006866455,
          8.784000205993653,
          8.568000411987304,
          8.568000411987304,
          8.495999622344971,
          8.351999759674072,
          8.459999656677246,
          8.351999759674072,
          8.459999656677246,
          8.531999588012695,
          8.387999725341798,
          8.387999725341798,
          8.2439998626709,
          8.207999897003175,
          8.2439998626709,
          8.351999759674072,
          9,
          9.107999897003173,
          8.92800006866455,
          8.892000102996825,
          8.820000171661377,
          8.568000411987304,
          8.60400037765503,
          8.495999622344971,
          8.495999622344971,
          8.495999622344971,
          8.568000411987304,
          8.640000343322756,
          8.495999622344971,
          8.423999691009522,
          8.531999588012695,
          8.531999588012695,
          8.459999656677246,
          8.459999656677246,
          8.423999691009522,
          8.351999759674072,
          8.495999622344971,
          8.423999691009522,
          8.387999725341798,
          8.568000411987304,
          8.495999622344971,
          8.531999588012695,
          8.279999828338623,
          8.279999828338623,
          8.315999794006348,
          8.279999828338623,
          8.423999691009522,
          8.387999725341798,
          8.351999759674072,
          8.2439998626709,
          8.2439998626709,
          8.279999828338623,
          8.351999759674072,
          8.315999794006348,
          7.5239996910095215,
          8.207999897003175,
          8.1,
          8.17199993133545,
          8.17199993133545,
          8.2439998626709,
          8.315999794006348,
          8.17199993133545,
          8.17199993133545,
          8.028000068664552,
          7.956000137329101,
          8.028000068664552,
          7.884000205993653,
          7.812000274658203,
          7.956000137329101,
          8.028000068664552,
          7.848000240325928,
          7.848000240325928,
          7.740000343322755,
          7.668000411987305,
          7.595999622344971,
          7.559999656677246,
          7.415999794006348,
          7.451999759674073,
          7.559999656677246,
          7.631999588012696,
          7.631999588012696,
          7.379999828338623,
          7.3439998626709,
          7.27199993133545,
          7.307999897003174,
          7.27199993133545,
          7.27199993133545,
          7.164000034332275,
          7.128000068664551,
          7.2,
          7.2,
          7.235999965667725,
          7.3439998626709,
          7.27199993133545,
          7.27199993133545,
          7.235999965667725,
          7.235999965667725,
          7.235999965667725,
          7.235999965667725,
          7.27199993133545,
          7.235999965667725,
          7.27199993133545,
          7.164000034332275,
          7.164000034332275,
          7.128000068664551,
          7.092000102996826,
          7.27199993133545,
          7.27199993133545,
          7.235999965667725,
          7.235999965667725,
          7.27199993133545,
          7.235999965667725,
          7.2,
          7.235999965667725,
          7.27199993133545,
          7.451999759674073,
          7.487999725341797,
          7.379999828338623,
          7.379999828338623,
          7.415999794006348,
          7.307999897003174,
          7.3439998626709,
          7.415999794006348,
          7.3439998626709,
          7.27199993133545,
          7.379999828338623,
          7.415999794006348,
          7.487999725341797,
          7.487999725341797,
          7.5239996910095215,
          7.559999656677246,
          7.5239996910095215,
          7.415999794006348,
          7.415999794006348,
          7.379999828338623,
          7.451999759674073,
          7.379999828338623,
          7.415999794006348,
          5.652000188827515,
          5.003999948501587
         ]
        }
       ],
       "layout": {
        "height": 300,
        "margin": {
         "b": 30,
         "l": 30,
         "r": 30,
         "t": 30
        },
        "shapes": [
         {
          "line": {
           "color": "red",
           "dash": "dash"
          },
          "type": "line",
          "x0": "2024-07-10T15:00:26.949000",
          "x1": "2024-07-10T15:00:26.949000",
          "xref": "x",
          "y0": 0,
          "y1": 1,
          "yref": "y domain"
         },
         {
          "line": {
           "color": "blue",
           "dash": "dash"
          },
          "type": "line",
          "x0": "2024-07-10T15:02:26.949000",
          "x1": "2024-07-10T15:02:26.949000",
          "xref": "x",
          "y0": 0,
          "y1": 1,
          "yref": "y domain"
         },
         {
          "line": {
           "color": "blue",
           "dash": "dash"
          },
          "type": "line",
          "x0": "2024-07-10T15:04:26.949000",
          "x1": "2024-07-10T15:04:26.949000",
          "xref": "x",
          "y0": 0,
          "y1": 1,
          "yref": "y domain"
         },
         {
          "line": {
           "color": "blue",
           "dash": "dash"
          },
          "type": "line",
          "x0": "2024-07-10T15:06:26.949000",
          "x1": "2024-07-10T15:06:26.949000",
          "xref": "x",
          "y0": 0,
          "y1": 1,
          "yref": "y domain"
         },
         {
          "line": {
           "color": "blue",
           "dash": "dash"
          },
          "type": "line",
          "x0": "2024-07-10T15:08:26.949000",
          "x1": "2024-07-10T15:08:26.949000",
          "xref": "x",
          "y0": 0,
          "y1": 1,
          "yref": "y domain"
         },
         {
          "line": {
           "color": "blue",
           "dash": "dash"
          },
          "type": "line",
          "x0": "2024-07-10T15:10:26.949000",
          "x1": "2024-07-10T15:10:26.949000",
          "xref": "x",
          "y0": 0,
          "y1": 1,
          "yref": "y domain"
         },
         {
          "line": {
           "color": "blue",
           "dash": "dash"
          },
          "type": "line",
          "x0": "2024-07-10T15:12:26.949000",
          "x1": "2024-07-10T15:12:26.949000",
          "xref": "x",
          "y0": 0,
          "y1": 1,
          "yref": "y domain"
         },
         {
          "line": {
           "color": "red",
           "dash": "dash"
          },
          "type": "line",
          "x0": "2024-07-10T15:15:26.949000",
          "x1": "2024-07-10T15:15:26.949000",
          "xref": "x",
          "y0": 0,
          "y1": 1,
          "yref": "y domain"
         }
        ],
        "template": {
         "data": {
          "bar": [
           {
            "error_x": {
             "color": "#2a3f5f"
            },
            "error_y": {
             "color": "#2a3f5f"
            },
            "marker": {
             "line": {
              "color": "#E5ECF6",
              "width": 0.5
             },
             "pattern": {
              "fillmode": "overlay",
              "size": 10,
              "solidity": 0.2
             }
            },
            "type": "bar"
           }
          ],
          "barpolar": [
           {
            "marker": {
             "line": {
              "color": "#E5ECF6",
              "width": 0.5
             },
             "pattern": {
              "fillmode": "overlay",
              "size": 10,
              "solidity": 0.2
             }
            },
            "type": "barpolar"
           }
          ],
          "carpet": [
           {
            "aaxis": {
             "endlinecolor": "#2a3f5f",
             "gridcolor": "white",
             "linecolor": "white",
             "minorgridcolor": "white",
             "startlinecolor": "#2a3f5f"
            },
            "baxis": {
             "endlinecolor": "#2a3f5f",
             "gridcolor": "white",
             "linecolor": "white",
             "minorgridcolor": "white",
             "startlinecolor": "#2a3f5f"
            },
            "type": "carpet"
           }
          ],
          "choropleth": [
           {
            "colorbar": {
             "outlinewidth": 0,
             "ticks": ""
            },
            "type": "choropleth"
           }
          ],
          "contour": [
           {
            "colorbar": {
             "outlinewidth": 0,
             "ticks": ""
            },
            "colorscale": [
             [
              0,
              "#0d0887"
             ],
             [
              0.1111111111111111,
              "#46039f"
             ],
             [
              0.2222222222222222,
              "#7201a8"
             ],
             [
              0.3333333333333333,
              "#9c179e"
             ],
             [
              0.4444444444444444,
              "#bd3786"
             ],
             [
              0.5555555555555556,
              "#d8576b"
             ],
             [
              0.6666666666666666,
              "#ed7953"
             ],
             [
              0.7777777777777778,
              "#fb9f3a"
             ],
             [
              0.8888888888888888,
              "#fdca26"
             ],
             [
              1,
              "#f0f921"
             ]
            ],
            "type": "contour"
           }
          ],
          "contourcarpet": [
           {
            "colorbar": {
             "outlinewidth": 0,
             "ticks": ""
            },
            "type": "contourcarpet"
           }
          ],
          "heatmap": [
           {
            "colorbar": {
             "outlinewidth": 0,
             "ticks": ""
            },
            "colorscale": [
             [
              0,
              "#0d0887"
             ],
             [
              0.1111111111111111,
              "#46039f"
             ],
             [
              0.2222222222222222,
              "#7201a8"
             ],
             [
              0.3333333333333333,
              "#9c179e"
             ],
             [
              0.4444444444444444,
              "#bd3786"
             ],
             [
              0.5555555555555556,
              "#d8576b"
             ],
             [
              0.6666666666666666,
              "#ed7953"
             ],
             [
              0.7777777777777778,
              "#fb9f3a"
             ],
             [
              0.8888888888888888,
              "#fdca26"
             ],
             [
              1,
              "#f0f921"
             ]
            ],
            "type": "heatmap"
           }
          ],
          "heatmapgl": [
           {
            "colorbar": {
             "outlinewidth": 0,
             "ticks": ""
            },
            "colorscale": [
             [
              0,
              "#0d0887"
             ],
             [
              0.1111111111111111,
              "#46039f"
             ],
             [
              0.2222222222222222,
              "#7201a8"
             ],
             [
              0.3333333333333333,
              "#9c179e"
             ],
             [
              0.4444444444444444,
              "#bd3786"
             ],
             [
              0.5555555555555556,
              "#d8576b"
             ],
             [
              0.6666666666666666,
              "#ed7953"
             ],
             [
              0.7777777777777778,
              "#fb9f3a"
             ],
             [
              0.8888888888888888,
              "#fdca26"
             ],
             [
              1,
              "#f0f921"
             ]
            ],
            "type": "heatmapgl"
           }
          ],
          "histogram": [
           {
            "marker": {
             "pattern": {
              "fillmode": "overlay",
              "size": 10,
              "solidity": 0.2
             }
            },
            "type": "histogram"
           }
          ],
          "histogram2d": [
           {
            "colorbar": {
             "outlinewidth": 0,
             "ticks": ""
            },
            "colorscale": [
             [
              0,
              "#0d0887"
             ],
             [
              0.1111111111111111,
              "#46039f"
             ],
             [
              0.2222222222222222,
              "#7201a8"
             ],
             [
              0.3333333333333333,
              "#9c179e"
             ],
             [
              0.4444444444444444,
              "#bd3786"
             ],
             [
              0.5555555555555556,
              "#d8576b"
             ],
             [
              0.6666666666666666,
              "#ed7953"
             ],
             [
              0.7777777777777778,
              "#fb9f3a"
             ],
             [
              0.8888888888888888,
              "#fdca26"
             ],
             [
              1,
              "#f0f921"
             ]
            ],
            "type": "histogram2d"
           }
          ],
          "histogram2dcontour": [
           {
            "colorbar": {
             "outlinewidth": 0,
             "ticks": ""
            },
            "colorscale": [
             [
              0,
              "#0d0887"
             ],
             [
              0.1111111111111111,
              "#46039f"
             ],
             [
              0.2222222222222222,
              "#7201a8"
             ],
             [
              0.3333333333333333,
              "#9c179e"
             ],
             [
              0.4444444444444444,
              "#bd3786"
             ],
             [
              0.5555555555555556,
              "#d8576b"
             ],
             [
              0.6666666666666666,
              "#ed7953"
             ],
             [
              0.7777777777777778,
              "#fb9f3a"
             ],
             [
              0.8888888888888888,
              "#fdca26"
             ],
             [
              1,
              "#f0f921"
             ]
            ],
            "type": "histogram2dcontour"
           }
          ],
          "mesh3d": [
           {
            "colorbar": {
             "outlinewidth": 0,
             "ticks": ""
            },
            "type": "mesh3d"
           }
          ],
          "parcoords": [
           {
            "line": {
             "colorbar": {
              "outlinewidth": 0,
              "ticks": ""
             }
            },
            "type": "parcoords"
           }
          ],
          "pie": [
           {
            "automargin": true,
            "type": "pie"
           }
          ],
          "scatter": [
           {
            "fillpattern": {
             "fillmode": "overlay",
             "size": 10,
             "solidity": 0.2
            },
            "type": "scatter"
           }
          ],
          "scatter3d": [
           {
            "line": {
             "colorbar": {
              "outlinewidth": 0,
              "ticks": ""
             }
            },
            "marker": {
             "colorbar": {
              "outlinewidth": 0,
              "ticks": ""
             }
            },
            "type": "scatter3d"
           }
          ],
          "scattercarpet": [
           {
            "marker": {
             "colorbar": {
              "outlinewidth": 0,
              "ticks": ""
             }
            },
            "type": "scattercarpet"
           }
          ],
          "scattergeo": [
           {
            "marker": {
             "colorbar": {
              "outlinewidth": 0,
              "ticks": ""
             }
            },
            "type": "scattergeo"
           }
          ],
          "scattergl": [
           {
            "marker": {
             "colorbar": {
              "outlinewidth": 0,
              "ticks": ""
             }
            },
            "type": "scattergl"
           }
          ],
          "scattermapbox": [
           {
            "marker": {
             "colorbar": {
              "outlinewidth": 0,
              "ticks": ""
             }
            },
            "type": "scattermapbox"
           }
          ],
          "scatterpolar": [
           {
            "marker": {
             "colorbar": {
              "outlinewidth": 0,
              "ticks": ""
             }
            },
            "type": "scatterpolar"
           }
          ],
          "scatterpolargl": [
           {
            "marker": {
             "colorbar": {
              "outlinewidth": 0,
              "ticks": ""
             }
            },
            "type": "scatterpolargl"
           }
          ],
          "scatterternary": [
           {
            "marker": {
             "colorbar": {
              "outlinewidth": 0,
              "ticks": ""
             }
            },
            "type": "scatterternary"
           }
          ],
          "surface": [
           {
            "colorbar": {
             "outlinewidth": 0,
             "ticks": ""
            },
            "colorscale": [
             [
              0,
              "#0d0887"
             ],
             [
              0.1111111111111111,
              "#46039f"
             ],
             [
              0.2222222222222222,
              "#7201a8"
             ],
             [
              0.3333333333333333,
              "#9c179e"
             ],
             [
              0.4444444444444444,
              "#bd3786"
             ],
             [
              0.5555555555555556,
              "#d8576b"
             ],
             [
              0.6666666666666666,
              "#ed7953"
             ],
             [
              0.7777777777777778,
              "#fb9f3a"
             ],
             [
              0.8888888888888888,
              "#fdca26"
             ],
             [
              1,
              "#f0f921"
             ]
            ],
            "type": "surface"
           }
          ],
          "table": [
           {
            "cells": {
             "fill": {
              "color": "#EBF0F8"
             },
             "line": {
              "color": "white"
             }
            },
            "header": {
             "fill": {
              "color": "#C8D4E3"
             },
             "line": {
              "color": "white"
             }
            },
            "type": "table"
           }
          ]
         },
         "layout": {
          "annotationdefaults": {
           "arrowcolor": "#2a3f5f",
           "arrowhead": 0,
           "arrowwidth": 1
          },
          "autotypenumbers": "strict",
          "coloraxis": {
           "colorbar": {
            "outlinewidth": 0,
            "ticks": ""
           }
          },
          "colorscale": {
           "diverging": [
            [
             0,
             "#8e0152"
            ],
            [
             0.1,
             "#c51b7d"
            ],
            [
             0.2,
             "#de77ae"
            ],
            [
             0.3,
             "#f1b6da"
            ],
            [
             0.4,
             "#fde0ef"
            ],
            [
             0.5,
             "#f7f7f7"
            ],
            [
             0.6,
             "#e6f5d0"
            ],
            [
             0.7,
             "#b8e186"
            ],
            [
             0.8,
             "#7fbc41"
            ],
            [
             0.9,
             "#4d9221"
            ],
            [
             1,
             "#276419"
            ]
           ],
           "sequential": [
            [
             0,
             "#0d0887"
            ],
            [
             0.1111111111111111,
             "#46039f"
            ],
            [
             0.2222222222222222,
             "#7201a8"
            ],
            [
             0.3333333333333333,
             "#9c179e"
            ],
            [
             0.4444444444444444,
             "#bd3786"
            ],
            [
             0.5555555555555556,
             "#d8576b"
            ],
            [
             0.6666666666666666,
             "#ed7953"
            ],
            [
             0.7777777777777778,
             "#fb9f3a"
            ],
            [
             0.8888888888888888,
             "#fdca26"
            ],
            [
             1,
             "#f0f921"
            ]
           ],
           "sequentialminus": [
            [
             0,
             "#0d0887"
            ],
            [
             0.1111111111111111,
             "#46039f"
            ],
            [
             0.2222222222222222,
             "#7201a8"
            ],
            [
             0.3333333333333333,
             "#9c179e"
            ],
            [
             0.4444444444444444,
             "#bd3786"
            ],
            [
             0.5555555555555556,
             "#d8576b"
            ],
            [
             0.6666666666666666,
             "#ed7953"
            ],
            [
             0.7777777777777778,
             "#fb9f3a"
            ],
            [
             0.8888888888888888,
             "#fdca26"
            ],
            [
             1,
             "#f0f921"
            ]
           ]
          },
          "colorway": [
           "#636efa",
           "#EF553B",
           "#00cc96",
           "#ab63fa",
           "#FFA15A",
           "#19d3f3",
           "#FF6692",
           "#B6E880",
           "#FF97FF",
           "#FECB52"
          ],
          "font": {
           "color": "#2a3f5f"
          },
          "geo": {
           "bgcolor": "white",
           "lakecolor": "white",
           "landcolor": "#E5ECF6",
           "showlakes": true,
           "showland": true,
           "subunitcolor": "white"
          },
          "hoverlabel": {
           "align": "left"
          },
          "hovermode": "closest",
          "mapbox": {
           "style": "light"
          },
          "paper_bgcolor": "white",
          "plot_bgcolor": "#E5ECF6",
          "polar": {
           "angularaxis": {
            "gridcolor": "white",
            "linecolor": "white",
            "ticks": ""
           },
           "bgcolor": "#E5ECF6",
           "radialaxis": {
            "gridcolor": "white",
            "linecolor": "white",
            "ticks": ""
           }
          },
          "scene": {
           "xaxis": {
            "backgroundcolor": "#E5ECF6",
            "gridcolor": "white",
            "gridwidth": 2,
            "linecolor": "white",
            "showbackground": true,
            "ticks": "",
            "zerolinecolor": "white"
           },
           "yaxis": {
            "backgroundcolor": "#E5ECF6",
            "gridcolor": "white",
            "gridwidth": 2,
            "linecolor": "white",
            "showbackground": true,
            "ticks": "",
            "zerolinecolor": "white"
           },
           "zaxis": {
            "backgroundcolor": "#E5ECF6",
            "gridcolor": "white",
            "gridwidth": 2,
            "linecolor": "white",
            "showbackground": true,
            "ticks": "",
            "zerolinecolor": "white"
           }
          },
          "shapedefaults": {
           "line": {
            "color": "#2a3f5f"
           }
          },
          "ternary": {
           "aaxis": {
            "gridcolor": "white",
            "linecolor": "white",
            "ticks": ""
           },
           "baxis": {
            "gridcolor": "white",
            "linecolor": "white",
            "ticks": ""
           },
           "bgcolor": "#E5ECF6",
           "caxis": {
            "gridcolor": "white",
            "linecolor": "white",
            "ticks": ""
           }
          },
          "title": {
           "x": 0.05
          },
          "xaxis": {
           "automargin": true,
           "gridcolor": "white",
           "linecolor": "white",
           "ticks": "",
           "title": {
            "standoff": 15
           },
           "zerolinecolor": "white",
           "zerolinewidth": 2
          },
          "yaxis": {
           "automargin": true,
           "gridcolor": "white",
           "linecolor": "white",
           "ticks": "",
           "title": {
            "standoff": 15
           },
           "zerolinecolor": "white",
           "zerolinewidth": 2
          }
         }
        },
        "title": {
         "font": {
          "size": 12
         },
         "text": "Speed Data for Participant 09"
        },
        "width": 450,
        "xaxis": {
         "tickformat": "%H:%M",
         "title": {
          "font": {
           "size": 10
          },
          "text": "Time"
         }
        },
        "yaxis": {
         "title": {
          "font": {
           "size": 10
          },
          "text": "Speed in km/h"
         }
        }
       }
      }
     },
     "metadata": {},
     "output_type": "display_data"
    },
    {
     "data": {
      "application/vnd.plotly.v1+json": {
       "config": {
        "plotlyServerURL": "https://plot.ly"
       },
       "data": [
        {
         "mode": "lines",
         "name": "Participant 10",
         "type": "scatter",
         "x": [
          "2024-07-10T15:20:58.977000",
          "2024-07-10T15:21:12.170000",
          "2024-07-10T15:21:32.197000",
          "2024-07-10T15:22:08.959000",
          "2024-07-10T15:22:25.958000",
          "2024-07-10T15:22:31.957000",
          "2024-07-10T15:22:36.957000",
          "2024-07-10T15:22:41.959000",
          "2024-07-10T15:22:46.958000",
          "2024-07-10T15:22:52.958000",
          "2024-07-10T15:22:58.956000",
          "2024-07-10T15:23:04.956000",
          "2024-07-10T15:23:17.957000",
          "2024-07-10T15:23:22.957000",
          "2024-07-10T15:23:27.956000",
          "2024-07-10T15:23:36.958000",
          "2024-07-10T15:23:42.956000",
          "2024-07-10T15:23:51.955000",
          "2024-07-10T15:23:57.955000",
          "2024-07-10T15:24:18.956000",
          "2024-07-10T15:24:27.956000",
          "2024-07-10T15:24:37.957000",
          "2024-07-10T15:24:42.956000",
          "2024-07-10T15:24:47.958000",
          "2024-07-10T15:24:52.956000",
          "2024-07-10T15:24:57.956000",
          "2024-07-10T15:25:02.959000",
          "2024-07-10T15:25:07.954000",
          "2024-07-10T15:25:17.957000",
          "2024-07-10T15:25:23.959000",
          "2024-07-10T15:25:28.953000",
          "2024-07-10T15:25:34.957000",
          "2024-07-10T15:25:39.956000",
          "2024-07-10T15:25:44.957000",
          "2024-07-10T15:25:49.977000",
          "2024-07-10T15:25:54.955000",
          "2024-07-10T15:26:04.957000",
          "2024-07-10T15:26:09.959000",
          "2024-07-10T15:26:17.959000",
          "2024-07-10T15:26:22.960000",
          "2024-07-10T15:26:27.962000",
          "2024-07-10T15:26:32.961000",
          "2024-07-10T15:26:37.959000",
          "2024-07-10T15:26:42.962000",
          "2024-07-10T15:26:48.957000",
          "2024-07-10T15:26:57.958000",
          "2024-07-10T15:27:02.958000",
          "2024-07-10T15:27:07.955000",
          "2024-07-10T15:27:13.955000",
          "2024-07-10T15:27:18.954000",
          "2024-07-10T15:27:25.959000",
          "2024-07-10T15:27:37.958000",
          "2024-07-10T15:27:42.959000",
          "2024-07-10T15:27:51.956000",
          "2024-07-10T15:27:56.955000",
          "2024-07-10T15:28:02.956000",
          "2024-07-10T15:28:13.959000",
          "2024-07-10T15:28:18.957000",
          "2024-07-10T15:28:23.957000",
          "2024-07-10T15:28:28.955000",
          "2024-07-10T15:28:37.955000",
          "2024-07-10T15:28:43.955000",
          "2024-07-10T15:28:51.960000",
          "2024-07-10T15:28:57.961000",
          "2024-07-10T15:29:07.955000",
          "2024-07-10T15:29:17.955000",
          "2024-07-10T15:29:22.957000",
          "2024-07-10T15:29:27.958000",
          "2024-07-10T15:29:32.956000",
          "2024-07-10T15:29:37.955000",
          "2024-07-10T15:29:43.955000",
          "2024-07-10T15:29:52.956000",
          "2024-07-10T15:29:57.958000",
          "2024-07-10T15:30:03.956000",
          "2024-07-10T15:30:11.958000",
          "2024-07-10T15:30:17.956000",
          "2024-07-10T15:30:26.954000",
          "2024-07-10T15:30:31.955000",
          "2024-07-10T15:30:37.955000",
          "2024-07-10T15:30:46.953000",
          "2024-07-10T15:30:51.956000",
          "2024-07-10T15:30:56.954000",
          "2024-07-10T15:31:01.956000",
          "2024-07-10T15:31:06.956000",
          "2024-07-10T15:31:11.959000",
          "2024-07-10T15:31:20.958000",
          "2024-07-10T15:31:26.954000",
          "2024-07-10T15:31:35.956000",
          "2024-07-10T15:31:40.958000",
          "2024-07-10T15:31:45.956000",
          "2024-07-10T15:31:50.957000",
          "2024-07-10T15:31:55.955000",
          "2024-07-10T15:32:00.956000",
          "2024-07-10T15:32:05.956000",
          "2024-07-10T15:32:11.956000",
          "2024-07-10T15:32:21.959000",
          "2024-07-10T15:32:26.957000",
          "2024-07-10T15:32:42.957000",
          "2024-07-10T15:32:48.958000",
          "2024-07-10T15:32:53.960000",
          "2024-07-10T15:33:08.954000",
          "2024-07-10T15:33:13.961000",
          "2024-07-10T15:33:22.960000",
          "2024-07-10T15:33:27.956000",
          "2024-07-10T15:33:32.959000",
          "2024-07-10T15:33:37.955000",
          "2024-07-10T15:33:43.960000",
          "2024-07-10T15:33:52.956000",
          "2024-07-10T15:34:01.959000",
          "2024-07-10T15:34:06.958000",
          "2024-07-10T15:34:11.957000",
          "2024-07-10T15:34:16.956000",
          "2024-07-10T15:34:21.959000",
          "2024-07-10T15:34:27.957000",
          "2024-07-10T15:34:32.961000",
          "2024-07-10T15:34:42.959000",
          "2024-07-10T15:34:47.955000",
          "2024-07-10T15:34:52.959000",
          "2024-07-10T15:34:57.958000",
          "2024-07-10T15:35:02.956000",
          "2024-07-10T15:35:07.957000",
          "2024-07-10T15:35:14.959000",
          "2024-07-10T15:35:19.955000",
          "2024-07-10T15:35:28.957000",
          "2024-07-10T15:35:33.957000",
          "2024-07-10T15:35:38.956000",
          "2024-07-10T15:35:43.959000"
         ],
         "y": [
          12.168000411987306,
          18.55561466217041,
          5.1716774940490735,
          8.92800006866455,
          8.712000274658203,
          8.640000343322756,
          8.67600030899048,
          8.60400037765503,
          8.568000411987304,
          9.215999794006349,
          9.323999691009522,
          9.395999622344972,
          9.323999691009522,
          9.179999828338623,
          9.287999725341797,
          9.359999656677246,
          8.958096599578857,
          9.287999725341797,
          9.359999656677246,
          9.035999965667726,
          9.143999862670901,
          9.179999828338623,
          9.251999759674073,
          9.395999622344972,
          9.287999725341797,
          9.359999656677246,
          9.395999622344972,
          9.431999588012696,
          9.359999656677246,
          9.468000411987305,
          9.540000343322756,
          9.540000343322756,
          9.540000343322756,
          9.756000137329101,
          9.864000034332276,
          9.792000102996825,
          9.82800006866455,
          9.792000102996825,
          9.684000205993653,
          9.720000171661377,
          9.720000171661377,
          9.50400037765503,
          9.50400037765503,
          9.468000411987305,
          9.468000411987305,
          9.359999656677246,
          9.431999588012696,
          9.540000343322756,
          9.576000308990478,
          9.684000205993653,
          9.684000205993653,
          9.612000274658204,
          9.720000171661377,
          9.684000205993653,
          9.82800006866455,
          9.792000102996825,
          9.82800006866455,
          9.756000137329101,
          9.9,
          10.115999794006347,
          10.079999828338623,
          10.007999897003174,
          10.007999897003174,
          10.0439998626709,
          10.079999828338623,
          10.115999794006347,
          10.007999897003174,
          10.151999759674073,
          10.079999828338623,
          10.0439998626709,
          10.187999725341797,
          10.331999588012696,
          10.259999656677246,
          10.151999759674073,
          10.007999897003174,
          10.115999794006347,
          10.259999656677246,
          10.223999691009523,
          10.223999691009523,
          10.440000343322756,
          10.29599962234497,
          10.331999588012696,
          10.331999588012696,
          10.29599962234497,
          10.29599962234497,
          10.331999588012696,
          10.187999725341797,
          10.223999691009523,
          10.29599962234497,
          10.29599962234497,
          10.331999588012696,
          10.404000377655029,
          10.223999691009523,
          10.404000377655029,
          10.29599962234497,
          10.404000377655029,
          10.404000377655029,
          10.29599962234497,
          9.935999965667724,
          9.935999965667724,
          10.007999897003174,
          10.007999897003174,
          10.187999725341797,
          10.187999725341797,
          10.187999725341797,
          10.115999794006347,
          10.151999759674073,
          10.223999691009523,
          10.007999897003174,
          9.935999965667724,
          9.82800006866455,
          9.792000102996825,
          9.864000034332276,
          9.935999965667724,
          9.97199993133545,
          9.82800006866455,
          9.612000274658204,
          9.50400037765503,
          9.648000240325928,
          9.792000102996825,
          9.864000034332276,
          9.792000102996825,
          9.792000102996825,
          9.935999965667724,
          9.935999965667724,
          9.576000308990478,
          6.264000034332276
         ]
        }
       ],
       "layout": {
        "height": 300,
        "margin": {
         "b": 30,
         "l": 30,
         "r": 30,
         "t": 30
        },
        "shapes": [
         {
          "line": {
           "color": "red",
           "dash": "dash"
          },
          "type": "line",
          "x0": "2024-07-10T15:20:16.427000",
          "x1": "2024-07-10T15:20:16.427000",
          "xref": "x",
          "y0": 0,
          "y1": 1,
          "yref": "y domain"
         },
         {
          "line": {
           "color": "blue",
           "dash": "dash"
          },
          "type": "line",
          "x0": "2024-07-10T15:22:16.427000",
          "x1": "2024-07-10T15:22:16.427000",
          "xref": "x",
          "y0": 0,
          "y1": 1,
          "yref": "y domain"
         },
         {
          "line": {
           "color": "blue",
           "dash": "dash"
          },
          "type": "line",
          "x0": "2024-07-10T15:24:16.427000",
          "x1": "2024-07-10T15:24:16.427000",
          "xref": "x",
          "y0": 0,
          "y1": 1,
          "yref": "y domain"
         },
         {
          "line": {
           "color": "blue",
           "dash": "dash"
          },
          "type": "line",
          "x0": "2024-07-10T15:26:16.427000",
          "x1": "2024-07-10T15:26:16.427000",
          "xref": "x",
          "y0": 0,
          "y1": 1,
          "yref": "y domain"
         },
         {
          "line": {
           "color": "blue",
           "dash": "dash"
          },
          "type": "line",
          "x0": "2024-07-10T15:28:16.427000",
          "x1": "2024-07-10T15:28:16.427000",
          "xref": "x",
          "y0": 0,
          "y1": 1,
          "yref": "y domain"
         },
         {
          "line": {
           "color": "blue",
           "dash": "dash"
          },
          "type": "line",
          "x0": "2024-07-10T15:30:16.427000",
          "x1": "2024-07-10T15:30:16.427000",
          "xref": "x",
          "y0": 0,
          "y1": 1,
          "yref": "y domain"
         },
         {
          "line": {
           "color": "blue",
           "dash": "dash"
          },
          "type": "line",
          "x0": "2024-07-10T15:32:16.427000",
          "x1": "2024-07-10T15:32:16.427000",
          "xref": "x",
          "y0": 0,
          "y1": 1,
          "yref": "y domain"
         },
         {
          "line": {
           "color": "red",
           "dash": "dash"
          },
          "type": "line",
          "x0": "2024-07-10T15:35:16.427000",
          "x1": "2024-07-10T15:35:16.427000",
          "xref": "x",
          "y0": 0,
          "y1": 1,
          "yref": "y domain"
         }
        ],
        "template": {
         "data": {
          "bar": [
           {
            "error_x": {
             "color": "#2a3f5f"
            },
            "error_y": {
             "color": "#2a3f5f"
            },
            "marker": {
             "line": {
              "color": "#E5ECF6",
              "width": 0.5
             },
             "pattern": {
              "fillmode": "overlay",
              "size": 10,
              "solidity": 0.2
             }
            },
            "type": "bar"
           }
          ],
          "barpolar": [
           {
            "marker": {
             "line": {
              "color": "#E5ECF6",
              "width": 0.5
             },
             "pattern": {
              "fillmode": "overlay",
              "size": 10,
              "solidity": 0.2
             }
            },
            "type": "barpolar"
           }
          ],
          "carpet": [
           {
            "aaxis": {
             "endlinecolor": "#2a3f5f",
             "gridcolor": "white",
             "linecolor": "white",
             "minorgridcolor": "white",
             "startlinecolor": "#2a3f5f"
            },
            "baxis": {
             "endlinecolor": "#2a3f5f",
             "gridcolor": "white",
             "linecolor": "white",
             "minorgridcolor": "white",
             "startlinecolor": "#2a3f5f"
            },
            "type": "carpet"
           }
          ],
          "choropleth": [
           {
            "colorbar": {
             "outlinewidth": 0,
             "ticks": ""
            },
            "type": "choropleth"
           }
          ],
          "contour": [
           {
            "colorbar": {
             "outlinewidth": 0,
             "ticks": ""
            },
            "colorscale": [
             [
              0,
              "#0d0887"
             ],
             [
              0.1111111111111111,
              "#46039f"
             ],
             [
              0.2222222222222222,
              "#7201a8"
             ],
             [
              0.3333333333333333,
              "#9c179e"
             ],
             [
              0.4444444444444444,
              "#bd3786"
             ],
             [
              0.5555555555555556,
              "#d8576b"
             ],
             [
              0.6666666666666666,
              "#ed7953"
             ],
             [
              0.7777777777777778,
              "#fb9f3a"
             ],
             [
              0.8888888888888888,
              "#fdca26"
             ],
             [
              1,
              "#f0f921"
             ]
            ],
            "type": "contour"
           }
          ],
          "contourcarpet": [
           {
            "colorbar": {
             "outlinewidth": 0,
             "ticks": ""
            },
            "type": "contourcarpet"
           }
          ],
          "heatmap": [
           {
            "colorbar": {
             "outlinewidth": 0,
             "ticks": ""
            },
            "colorscale": [
             [
              0,
              "#0d0887"
             ],
             [
              0.1111111111111111,
              "#46039f"
             ],
             [
              0.2222222222222222,
              "#7201a8"
             ],
             [
              0.3333333333333333,
              "#9c179e"
             ],
             [
              0.4444444444444444,
              "#bd3786"
             ],
             [
              0.5555555555555556,
              "#d8576b"
             ],
             [
              0.6666666666666666,
              "#ed7953"
             ],
             [
              0.7777777777777778,
              "#fb9f3a"
             ],
             [
              0.8888888888888888,
              "#fdca26"
             ],
             [
              1,
              "#f0f921"
             ]
            ],
            "type": "heatmap"
           }
          ],
          "heatmapgl": [
           {
            "colorbar": {
             "outlinewidth": 0,
             "ticks": ""
            },
            "colorscale": [
             [
              0,
              "#0d0887"
             ],
             [
              0.1111111111111111,
              "#46039f"
             ],
             [
              0.2222222222222222,
              "#7201a8"
             ],
             [
              0.3333333333333333,
              "#9c179e"
             ],
             [
              0.4444444444444444,
              "#bd3786"
             ],
             [
              0.5555555555555556,
              "#d8576b"
             ],
             [
              0.6666666666666666,
              "#ed7953"
             ],
             [
              0.7777777777777778,
              "#fb9f3a"
             ],
             [
              0.8888888888888888,
              "#fdca26"
             ],
             [
              1,
              "#f0f921"
             ]
            ],
            "type": "heatmapgl"
           }
          ],
          "histogram": [
           {
            "marker": {
             "pattern": {
              "fillmode": "overlay",
              "size": 10,
              "solidity": 0.2
             }
            },
            "type": "histogram"
           }
          ],
          "histogram2d": [
           {
            "colorbar": {
             "outlinewidth": 0,
             "ticks": ""
            },
            "colorscale": [
             [
              0,
              "#0d0887"
             ],
             [
              0.1111111111111111,
              "#46039f"
             ],
             [
              0.2222222222222222,
              "#7201a8"
             ],
             [
              0.3333333333333333,
              "#9c179e"
             ],
             [
              0.4444444444444444,
              "#bd3786"
             ],
             [
              0.5555555555555556,
              "#d8576b"
             ],
             [
              0.6666666666666666,
              "#ed7953"
             ],
             [
              0.7777777777777778,
              "#fb9f3a"
             ],
             [
              0.8888888888888888,
              "#fdca26"
             ],
             [
              1,
              "#f0f921"
             ]
            ],
            "type": "histogram2d"
           }
          ],
          "histogram2dcontour": [
           {
            "colorbar": {
             "outlinewidth": 0,
             "ticks": ""
            },
            "colorscale": [
             [
              0,
              "#0d0887"
             ],
             [
              0.1111111111111111,
              "#46039f"
             ],
             [
              0.2222222222222222,
              "#7201a8"
             ],
             [
              0.3333333333333333,
              "#9c179e"
             ],
             [
              0.4444444444444444,
              "#bd3786"
             ],
             [
              0.5555555555555556,
              "#d8576b"
             ],
             [
              0.6666666666666666,
              "#ed7953"
             ],
             [
              0.7777777777777778,
              "#fb9f3a"
             ],
             [
              0.8888888888888888,
              "#fdca26"
             ],
             [
              1,
              "#f0f921"
             ]
            ],
            "type": "histogram2dcontour"
           }
          ],
          "mesh3d": [
           {
            "colorbar": {
             "outlinewidth": 0,
             "ticks": ""
            },
            "type": "mesh3d"
           }
          ],
          "parcoords": [
           {
            "line": {
             "colorbar": {
              "outlinewidth": 0,
              "ticks": ""
             }
            },
            "type": "parcoords"
           }
          ],
          "pie": [
           {
            "automargin": true,
            "type": "pie"
           }
          ],
          "scatter": [
           {
            "fillpattern": {
             "fillmode": "overlay",
             "size": 10,
             "solidity": 0.2
            },
            "type": "scatter"
           }
          ],
          "scatter3d": [
           {
            "line": {
             "colorbar": {
              "outlinewidth": 0,
              "ticks": ""
             }
            },
            "marker": {
             "colorbar": {
              "outlinewidth": 0,
              "ticks": ""
             }
            },
            "type": "scatter3d"
           }
          ],
          "scattercarpet": [
           {
            "marker": {
             "colorbar": {
              "outlinewidth": 0,
              "ticks": ""
             }
            },
            "type": "scattercarpet"
           }
          ],
          "scattergeo": [
           {
            "marker": {
             "colorbar": {
              "outlinewidth": 0,
              "ticks": ""
             }
            },
            "type": "scattergeo"
           }
          ],
          "scattergl": [
           {
            "marker": {
             "colorbar": {
              "outlinewidth": 0,
              "ticks": ""
             }
            },
            "type": "scattergl"
           }
          ],
          "scattermapbox": [
           {
            "marker": {
             "colorbar": {
              "outlinewidth": 0,
              "ticks": ""
             }
            },
            "type": "scattermapbox"
           }
          ],
          "scatterpolar": [
           {
            "marker": {
             "colorbar": {
              "outlinewidth": 0,
              "ticks": ""
             }
            },
            "type": "scatterpolar"
           }
          ],
          "scatterpolargl": [
           {
            "marker": {
             "colorbar": {
              "outlinewidth": 0,
              "ticks": ""
             }
            },
            "type": "scatterpolargl"
           }
          ],
          "scatterternary": [
           {
            "marker": {
             "colorbar": {
              "outlinewidth": 0,
              "ticks": ""
             }
            },
            "type": "scatterternary"
           }
          ],
          "surface": [
           {
            "colorbar": {
             "outlinewidth": 0,
             "ticks": ""
            },
            "colorscale": [
             [
              0,
              "#0d0887"
             ],
             [
              0.1111111111111111,
              "#46039f"
             ],
             [
              0.2222222222222222,
              "#7201a8"
             ],
             [
              0.3333333333333333,
              "#9c179e"
             ],
             [
              0.4444444444444444,
              "#bd3786"
             ],
             [
              0.5555555555555556,
              "#d8576b"
             ],
             [
              0.6666666666666666,
              "#ed7953"
             ],
             [
              0.7777777777777778,
              "#fb9f3a"
             ],
             [
              0.8888888888888888,
              "#fdca26"
             ],
             [
              1,
              "#f0f921"
             ]
            ],
            "type": "surface"
           }
          ],
          "table": [
           {
            "cells": {
             "fill": {
              "color": "#EBF0F8"
             },
             "line": {
              "color": "white"
             }
            },
            "header": {
             "fill": {
              "color": "#C8D4E3"
             },
             "line": {
              "color": "white"
             }
            },
            "type": "table"
           }
          ]
         },
         "layout": {
          "annotationdefaults": {
           "arrowcolor": "#2a3f5f",
           "arrowhead": 0,
           "arrowwidth": 1
          },
          "autotypenumbers": "strict",
          "coloraxis": {
           "colorbar": {
            "outlinewidth": 0,
            "ticks": ""
           }
          },
          "colorscale": {
           "diverging": [
            [
             0,
             "#8e0152"
            ],
            [
             0.1,
             "#c51b7d"
            ],
            [
             0.2,
             "#de77ae"
            ],
            [
             0.3,
             "#f1b6da"
            ],
            [
             0.4,
             "#fde0ef"
            ],
            [
             0.5,
             "#f7f7f7"
            ],
            [
             0.6,
             "#e6f5d0"
            ],
            [
             0.7,
             "#b8e186"
            ],
            [
             0.8,
             "#7fbc41"
            ],
            [
             0.9,
             "#4d9221"
            ],
            [
             1,
             "#276419"
            ]
           ],
           "sequential": [
            [
             0,
             "#0d0887"
            ],
            [
             0.1111111111111111,
             "#46039f"
            ],
            [
             0.2222222222222222,
             "#7201a8"
            ],
            [
             0.3333333333333333,
             "#9c179e"
            ],
            [
             0.4444444444444444,
             "#bd3786"
            ],
            [
             0.5555555555555556,
             "#d8576b"
            ],
            [
             0.6666666666666666,
             "#ed7953"
            ],
            [
             0.7777777777777778,
             "#fb9f3a"
            ],
            [
             0.8888888888888888,
             "#fdca26"
            ],
            [
             1,
             "#f0f921"
            ]
           ],
           "sequentialminus": [
            [
             0,
             "#0d0887"
            ],
            [
             0.1111111111111111,
             "#46039f"
            ],
            [
             0.2222222222222222,
             "#7201a8"
            ],
            [
             0.3333333333333333,
             "#9c179e"
            ],
            [
             0.4444444444444444,
             "#bd3786"
            ],
            [
             0.5555555555555556,
             "#d8576b"
            ],
            [
             0.6666666666666666,
             "#ed7953"
            ],
            [
             0.7777777777777778,
             "#fb9f3a"
            ],
            [
             0.8888888888888888,
             "#fdca26"
            ],
            [
             1,
             "#f0f921"
            ]
           ]
          },
          "colorway": [
           "#636efa",
           "#EF553B",
           "#00cc96",
           "#ab63fa",
           "#FFA15A",
           "#19d3f3",
           "#FF6692",
           "#B6E880",
           "#FF97FF",
           "#FECB52"
          ],
          "font": {
           "color": "#2a3f5f"
          },
          "geo": {
           "bgcolor": "white",
           "lakecolor": "white",
           "landcolor": "#E5ECF6",
           "showlakes": true,
           "showland": true,
           "subunitcolor": "white"
          },
          "hoverlabel": {
           "align": "left"
          },
          "hovermode": "closest",
          "mapbox": {
           "style": "light"
          },
          "paper_bgcolor": "white",
          "plot_bgcolor": "#E5ECF6",
          "polar": {
           "angularaxis": {
            "gridcolor": "white",
            "linecolor": "white",
            "ticks": ""
           },
           "bgcolor": "#E5ECF6",
           "radialaxis": {
            "gridcolor": "white",
            "linecolor": "white",
            "ticks": ""
           }
          },
          "scene": {
           "xaxis": {
            "backgroundcolor": "#E5ECF6",
            "gridcolor": "white",
            "gridwidth": 2,
            "linecolor": "white",
            "showbackground": true,
            "ticks": "",
            "zerolinecolor": "white"
           },
           "yaxis": {
            "backgroundcolor": "#E5ECF6",
            "gridcolor": "white",
            "gridwidth": 2,
            "linecolor": "white",
            "showbackground": true,
            "ticks": "",
            "zerolinecolor": "white"
           },
           "zaxis": {
            "backgroundcolor": "#E5ECF6",
            "gridcolor": "white",
            "gridwidth": 2,
            "linecolor": "white",
            "showbackground": true,
            "ticks": "",
            "zerolinecolor": "white"
           }
          },
          "shapedefaults": {
           "line": {
            "color": "#2a3f5f"
           }
          },
          "ternary": {
           "aaxis": {
            "gridcolor": "white",
            "linecolor": "white",
            "ticks": ""
           },
           "baxis": {
            "gridcolor": "white",
            "linecolor": "white",
            "ticks": ""
           },
           "bgcolor": "#E5ECF6",
           "caxis": {
            "gridcolor": "white",
            "linecolor": "white",
            "ticks": ""
           }
          },
          "title": {
           "x": 0.05
          },
          "xaxis": {
           "automargin": true,
           "gridcolor": "white",
           "linecolor": "white",
           "ticks": "",
           "title": {
            "standoff": 15
           },
           "zerolinecolor": "white",
           "zerolinewidth": 2
          },
          "yaxis": {
           "automargin": true,
           "gridcolor": "white",
           "linecolor": "white",
           "ticks": "",
           "title": {
            "standoff": 15
           },
           "zerolinecolor": "white",
           "zerolinewidth": 2
          }
         }
        },
        "title": {
         "font": {
          "size": 12
         },
         "text": "Speed Data for Participant 10"
        },
        "width": 450,
        "xaxis": {
         "tickformat": "%H:%M",
         "title": {
          "font": {
           "size": 10
          },
          "text": "Time"
         }
        },
        "yaxis": {
         "title": {
          "font": {
           "size": 10
          },
          "text": "Speed in km/h"
         }
        }
       }
      }
     },
     "metadata": {},
     "output_type": "display_data"
    },
    {
     "data": {
      "application/vnd.plotly.v1+json": {
       "config": {
        "plotlyServerURL": "https://plot.ly"
       },
       "data": [
        {
         "mode": "lines",
         "name": "Participant 11",
         "type": "scatter",
         "x": [
          "2024-07-10T15:39:20.955000",
          "2024-07-10T15:39:26.956000",
          "2024-07-10T15:39:32.954000",
          "2024-07-10T15:39:37.955000",
          "2024-07-10T15:39:46.953000",
          "2024-07-10T15:39:51.954000",
          "2024-07-10T15:39:56.951000",
          "2024-07-10T15:40:01.955000",
          "2024-07-10T15:40:06.953000",
          "2024-07-10T15:40:11.959000",
          "2024-07-10T15:40:16.953000",
          "2024-07-10T15:40:21.954000",
          "2024-07-10T15:40:28.954000",
          "2024-07-10T15:40:39.955000",
          "2024-07-10T15:40:45.953000",
          "2024-07-10T15:40:59.809000",
          "2024-07-10T15:41:05.953000",
          "2024-07-10T15:41:13.955000",
          "2024-07-10T15:41:19.952000",
          "2024-07-10T15:41:25.956000",
          "2024-07-10T15:41:30.960000",
          "2024-07-10T15:41:39.955000",
          "2024-07-10T15:41:44.954000",
          "2024-07-10T15:41:50.957000",
          "2024-07-10T15:41:59.956000",
          "2024-07-10T15:42:04.952000",
          "2024-07-10T15:42:09.956000",
          "2024-07-10T15:42:14.955000",
          "2024-07-10T15:42:19.953000",
          "2024-07-10T15:42:24.954000",
          "2024-07-10T15:42:29.953000",
          "2024-07-10T15:42:46.952000",
          "2024-07-10T15:43:06.951000",
          "2024-07-10T15:43:21.951000",
          "2024-07-10T15:43:26.951000",
          "2024-07-10T15:43:31.952000",
          "2024-07-10T15:43:41.953000",
          "2024-07-10T15:43:49.954000",
          "2024-07-10T15:43:55.954000",
          "2024-07-10T15:44:00.957000",
          "2024-07-10T15:44:05.951000",
          "2024-07-10T15:44:15.953000",
          "2024-07-10T15:44:25.955000",
          "2024-07-10T15:44:30.953000",
          "2024-07-10T15:44:35.951000",
          "2024-07-10T15:44:40.955000",
          "2024-07-10T15:44:45.951000",
          "2024-07-10T15:44:51.953000",
          "2024-07-10T15:44:57.952000",
          "2024-07-10T15:45:03.952000",
          "2024-07-10T15:45:18.954000",
          "2024-07-10T15:45:30.954000",
          "2024-07-10T15:45:38.955000",
          "2024-07-10T15:45:43.954000",
          "2024-07-10T15:45:48.953000",
          "2024-07-10T15:45:53.954000",
          "2024-07-10T15:45:58.953000",
          "2024-07-10T15:46:03.953000",
          "2024-07-10T15:46:08.959000",
          "2024-07-10T15:46:13.954000",
          "2024-07-10T15:46:18.954000",
          "2024-07-10T15:46:23.954000",
          "2024-07-10T15:46:29.952000",
          "2024-07-10T15:46:38.955000",
          "2024-07-10T15:46:43.959000",
          "2024-07-10T15:46:48.954000",
          "2024-07-10T15:46:54.952000",
          "2024-07-10T15:47:03.953000",
          "2024-07-10T15:47:09.952000",
          "2024-07-10T15:47:14.953000",
          "2024-07-10T15:47:29.953000",
          "2024-07-10T15:47:39.951000",
          "2024-07-10T15:47:48.952000",
          "2024-07-10T15:47:53.952000",
          "2024-07-10T15:48:03.952000",
          "2024-07-10T15:48:08.950000",
          "2024-07-10T15:48:15.955000",
          "2024-07-10T15:48:24.952000",
          "2024-07-10T15:48:30.953000",
          "2024-07-10T15:48:40.956000",
          "2024-07-10T15:48:49.951000",
          "2024-07-10T15:48:55.952000",
          "2024-07-10T15:49:00.954000",
          "2024-07-10T15:49:10.953000",
          "2024-07-10T15:49:18.955000",
          "2024-07-10T15:49:23.954000",
          "2024-07-10T15:49:34.951000",
          "2024-07-10T15:49:43.952000",
          "2024-07-10T15:49:48.951000",
          "2024-07-10T15:49:53.953000",
          "2024-07-10T15:49:58.952000",
          "2024-07-10T15:50:03.953000",
          "2024-07-10T15:50:10.953000",
          "2024-07-10T15:50:16.957000",
          "2024-07-10T15:50:21.954000",
          "2024-07-10T15:50:31.955000",
          "2024-07-10T15:50:46.954000",
          "2024-07-10T15:50:52.954000",
          "2024-07-10T15:51:08.954000",
          "2024-07-10T15:51:13.956000",
          "2024-07-10T15:51:18.954000",
          "2024-07-10T15:51:34.959000",
          "2024-07-10T15:51:44.954000",
          "2024-07-10T15:51:53.954000",
          "2024-07-10T15:51:58.960000",
          "2024-07-10T15:52:03.952000",
          "2024-07-10T15:52:08.952000",
          "2024-07-10T15:52:13.953000",
          "2024-07-10T15:52:18.956000",
          "2024-07-10T15:52:30.029000",
          "2024-07-10T15:52:38.955000",
          "2024-07-10T15:53:00.008000",
          "2024-07-10T15:53:00.954000",
          "2024-07-10T15:53:09.953000",
          "2024-07-10T15:53:14.959000",
          "2024-07-10T15:53:19.953000",
          "2024-07-10T15:53:24.951000",
          "2024-07-10T15:53:33.952000",
          "2024-07-10T15:53:38.954000",
          "2024-07-10T15:53:43.965000",
          "2024-07-10T15:53:48.957000",
          "2024-07-10T15:53:53.956000",
          "2024-07-10T15:53:58.953000",
          "2024-07-10T15:54:03.957000",
          "2024-07-10T15:54:08.958000",
          "2024-07-10T15:54:14.954000",
          "2024-07-10T15:54:20.952000",
          "2024-07-10T15:54:25.954000",
          "2024-07-10T15:54:30.956000",
          "2024-07-10T15:54:40.954000",
          "2024-07-10T15:54:45.951000"
         ],
         "y": [
          13.140000343322756,
          8.856000137329103,
          9.215999794006349,
          9.612000274658204,
          9.251999759674073,
          9.035999965667726,
          8.856000137329103,
          8.964000034332276,
          9.50400037765503,
          9.720000171661377,
          9.756000137329101,
          10.656000137329102,
          10.87199993133545,
          11.123999691009521,
          10.241187286376954,
          13.964827251434327,
          10.87199993133545,
          10.87199993133545,
          10.835999965667725,
          10.87199993133545,
          10.835999965667725,
          10.819015789031983,
          11.123999691009521,
          11.340000343322755,
          11.448000240325928,
          16.398399353027344,
          11.628000068664551,
          11.268000411987305,
          11.19599962234497,
          11.268000411987305,
          11.448000240325928,
          10.835999965667725,
          10.9439998626709,
          11.051999759674073,
          10.9439998626709,
          10.907999897003174,
          11.015999794006348,
          10.476000308990479,
          10.8,
          10.8,
          10.907999897003174,
          10.979999828338624,
          11.087999725341797,
          11.087999725341797,
          11.159999656677247,
          11.30400037765503,
          11.231999588012696,
          11.087999725341797,
          11.123999691009521,
          11.412000274658203,
          10.9439998626709,
          10.907999897003174,
          10.368000411987305,
          10.728000068664551,
          10.979999828338624,
          10.907999897003174,
          11.015999794006348,
          10.835999965667725,
          10.835999965667725,
          10.764000034332275,
          10.764000034332275,
          10.87199993133545,
          11.268000411987305,
          11.30400037765503,
          11.448000240325928,
          11.268000411987305,
          11.340000343322755,
          11.231999588012696,
          11.484000205993652,
          11.412000274658203,
          10.907999897003174,
          19.12486782073975,
          10.692000102996825,
          10.656000137329102,
          10.87199993133545,
          10.8,
          10.979999828338624,
          10.87199993133545,
          10.907999897003174,
          11.231999588012696,
          11.30400037765503,
          11.30400037765503,
          11.159999656677247,
          11.592000102996824,
          11.592000102996824,
          15.877674865722657,
          10.979999828338624,
          11.231999588012696,
          11.340000343322755,
          11.30400037765503,
          11.015999794006348,
          10.979999828338624,
          11.015999794006348,
          10.9439998626709,
          11.015999794006348,
          11.448000240325928,
          11.30400037765503,
          11.376000308990479,
          11.448000240325928,
          11.448000240325928,
          11.556000137329102,
          11.448000240325928,
          11.412000274658203,
          11.664000034332275,
          11.664000034332275,
          11.628000068664551,
          11.628000068664551,
          11.520000171661378,
          11.340000343322755,
          16.792115020751954,
          11.412000274658203,
          17.076834297180177,
          10.907999897003174,
          10.835999965667725,
          10.764000034332275,
          10.8,
          10.728000068664551,
          10.8,
          10.87199993133545,
          11.324491596221922,
          11.087999725341797,
          11.087999725341797,
          11.231999588012696,
          10.584000205993652,
          7.235999965667725,
          5.939999914169312,
          5.975999879837036,
          8.784000205993653,
          10.8,
          11.664000034332275,
          11.015999794006348
         ]
        }
       ],
       "layout": {
        "height": 300,
        "margin": {
         "b": 30,
         "l": 30,
         "r": 30,
         "t": 30
        },
        "shapes": [
         {
          "line": {
           "color": "red",
           "dash": "dash"
          },
          "type": "line",
          "x0": "2024-07-10T15:38:56.732000",
          "x1": "2024-07-10T15:38:56.732000",
          "xref": "x",
          "y0": 0,
          "y1": 1,
          "yref": "y domain"
         },
         {
          "line": {
           "color": "blue",
           "dash": "dash"
          },
          "type": "line",
          "x0": "2024-07-10T15:40:56.732000",
          "x1": "2024-07-10T15:40:56.732000",
          "xref": "x",
          "y0": 0,
          "y1": 1,
          "yref": "y domain"
         },
         {
          "line": {
           "color": "blue",
           "dash": "dash"
          },
          "type": "line",
          "x0": "2024-07-10T15:42:56.732000",
          "x1": "2024-07-10T15:42:56.732000",
          "xref": "x",
          "y0": 0,
          "y1": 1,
          "yref": "y domain"
         },
         {
          "line": {
           "color": "blue",
           "dash": "dash"
          },
          "type": "line",
          "x0": "2024-07-10T15:44:56.732000",
          "x1": "2024-07-10T15:44:56.732000",
          "xref": "x",
          "y0": 0,
          "y1": 1,
          "yref": "y domain"
         },
         {
          "line": {
           "color": "blue",
           "dash": "dash"
          },
          "type": "line",
          "x0": "2024-07-10T15:46:56.732000",
          "x1": "2024-07-10T15:46:56.732000",
          "xref": "x",
          "y0": 0,
          "y1": 1,
          "yref": "y domain"
         },
         {
          "line": {
           "color": "blue",
           "dash": "dash"
          },
          "type": "line",
          "x0": "2024-07-10T15:48:56.732000",
          "x1": "2024-07-10T15:48:56.732000",
          "xref": "x",
          "y0": 0,
          "y1": 1,
          "yref": "y domain"
         },
         {
          "line": {
           "color": "blue",
           "dash": "dash"
          },
          "type": "line",
          "x0": "2024-07-10T15:50:56.732000",
          "x1": "2024-07-10T15:50:56.732000",
          "xref": "x",
          "y0": 0,
          "y1": 1,
          "yref": "y domain"
         },
         {
          "line": {
           "color": "red",
           "dash": "dash"
          },
          "type": "line",
          "x0": "2024-07-10T15:53:56.732000",
          "x1": "2024-07-10T15:53:56.732000",
          "xref": "x",
          "y0": 0,
          "y1": 1,
          "yref": "y domain"
         }
        ],
        "template": {
         "data": {
          "bar": [
           {
            "error_x": {
             "color": "#2a3f5f"
            },
            "error_y": {
             "color": "#2a3f5f"
            },
            "marker": {
             "line": {
              "color": "#E5ECF6",
              "width": 0.5
             },
             "pattern": {
              "fillmode": "overlay",
              "size": 10,
              "solidity": 0.2
             }
            },
            "type": "bar"
           }
          ],
          "barpolar": [
           {
            "marker": {
             "line": {
              "color": "#E5ECF6",
              "width": 0.5
             },
             "pattern": {
              "fillmode": "overlay",
              "size": 10,
              "solidity": 0.2
             }
            },
            "type": "barpolar"
           }
          ],
          "carpet": [
           {
            "aaxis": {
             "endlinecolor": "#2a3f5f",
             "gridcolor": "white",
             "linecolor": "white",
             "minorgridcolor": "white",
             "startlinecolor": "#2a3f5f"
            },
            "baxis": {
             "endlinecolor": "#2a3f5f",
             "gridcolor": "white",
             "linecolor": "white",
             "minorgridcolor": "white",
             "startlinecolor": "#2a3f5f"
            },
            "type": "carpet"
           }
          ],
          "choropleth": [
           {
            "colorbar": {
             "outlinewidth": 0,
             "ticks": ""
            },
            "type": "choropleth"
           }
          ],
          "contour": [
           {
            "colorbar": {
             "outlinewidth": 0,
             "ticks": ""
            },
            "colorscale": [
             [
              0,
              "#0d0887"
             ],
             [
              0.1111111111111111,
              "#46039f"
             ],
             [
              0.2222222222222222,
              "#7201a8"
             ],
             [
              0.3333333333333333,
              "#9c179e"
             ],
             [
              0.4444444444444444,
              "#bd3786"
             ],
             [
              0.5555555555555556,
              "#d8576b"
             ],
             [
              0.6666666666666666,
              "#ed7953"
             ],
             [
              0.7777777777777778,
              "#fb9f3a"
             ],
             [
              0.8888888888888888,
              "#fdca26"
             ],
             [
              1,
              "#f0f921"
             ]
            ],
            "type": "contour"
           }
          ],
          "contourcarpet": [
           {
            "colorbar": {
             "outlinewidth": 0,
             "ticks": ""
            },
            "type": "contourcarpet"
           }
          ],
          "heatmap": [
           {
            "colorbar": {
             "outlinewidth": 0,
             "ticks": ""
            },
            "colorscale": [
             [
              0,
              "#0d0887"
             ],
             [
              0.1111111111111111,
              "#46039f"
             ],
             [
              0.2222222222222222,
              "#7201a8"
             ],
             [
              0.3333333333333333,
              "#9c179e"
             ],
             [
              0.4444444444444444,
              "#bd3786"
             ],
             [
              0.5555555555555556,
              "#d8576b"
             ],
             [
              0.6666666666666666,
              "#ed7953"
             ],
             [
              0.7777777777777778,
              "#fb9f3a"
             ],
             [
              0.8888888888888888,
              "#fdca26"
             ],
             [
              1,
              "#f0f921"
             ]
            ],
            "type": "heatmap"
           }
          ],
          "heatmapgl": [
           {
            "colorbar": {
             "outlinewidth": 0,
             "ticks": ""
            },
            "colorscale": [
             [
              0,
              "#0d0887"
             ],
             [
              0.1111111111111111,
              "#46039f"
             ],
             [
              0.2222222222222222,
              "#7201a8"
             ],
             [
              0.3333333333333333,
              "#9c179e"
             ],
             [
              0.4444444444444444,
              "#bd3786"
             ],
             [
              0.5555555555555556,
              "#d8576b"
             ],
             [
              0.6666666666666666,
              "#ed7953"
             ],
             [
              0.7777777777777778,
              "#fb9f3a"
             ],
             [
              0.8888888888888888,
              "#fdca26"
             ],
             [
              1,
              "#f0f921"
             ]
            ],
            "type": "heatmapgl"
           }
          ],
          "histogram": [
           {
            "marker": {
             "pattern": {
              "fillmode": "overlay",
              "size": 10,
              "solidity": 0.2
             }
            },
            "type": "histogram"
           }
          ],
          "histogram2d": [
           {
            "colorbar": {
             "outlinewidth": 0,
             "ticks": ""
            },
            "colorscale": [
             [
              0,
              "#0d0887"
             ],
             [
              0.1111111111111111,
              "#46039f"
             ],
             [
              0.2222222222222222,
              "#7201a8"
             ],
             [
              0.3333333333333333,
              "#9c179e"
             ],
             [
              0.4444444444444444,
              "#bd3786"
             ],
             [
              0.5555555555555556,
              "#d8576b"
             ],
             [
              0.6666666666666666,
              "#ed7953"
             ],
             [
              0.7777777777777778,
              "#fb9f3a"
             ],
             [
              0.8888888888888888,
              "#fdca26"
             ],
             [
              1,
              "#f0f921"
             ]
            ],
            "type": "histogram2d"
           }
          ],
          "histogram2dcontour": [
           {
            "colorbar": {
             "outlinewidth": 0,
             "ticks": ""
            },
            "colorscale": [
             [
              0,
              "#0d0887"
             ],
             [
              0.1111111111111111,
              "#46039f"
             ],
             [
              0.2222222222222222,
              "#7201a8"
             ],
             [
              0.3333333333333333,
              "#9c179e"
             ],
             [
              0.4444444444444444,
              "#bd3786"
             ],
             [
              0.5555555555555556,
              "#d8576b"
             ],
             [
              0.6666666666666666,
              "#ed7953"
             ],
             [
              0.7777777777777778,
              "#fb9f3a"
             ],
             [
              0.8888888888888888,
              "#fdca26"
             ],
             [
              1,
              "#f0f921"
             ]
            ],
            "type": "histogram2dcontour"
           }
          ],
          "mesh3d": [
           {
            "colorbar": {
             "outlinewidth": 0,
             "ticks": ""
            },
            "type": "mesh3d"
           }
          ],
          "parcoords": [
           {
            "line": {
             "colorbar": {
              "outlinewidth": 0,
              "ticks": ""
             }
            },
            "type": "parcoords"
           }
          ],
          "pie": [
           {
            "automargin": true,
            "type": "pie"
           }
          ],
          "scatter": [
           {
            "fillpattern": {
             "fillmode": "overlay",
             "size": 10,
             "solidity": 0.2
            },
            "type": "scatter"
           }
          ],
          "scatter3d": [
           {
            "line": {
             "colorbar": {
              "outlinewidth": 0,
              "ticks": ""
             }
            },
            "marker": {
             "colorbar": {
              "outlinewidth": 0,
              "ticks": ""
             }
            },
            "type": "scatter3d"
           }
          ],
          "scattercarpet": [
           {
            "marker": {
             "colorbar": {
              "outlinewidth": 0,
              "ticks": ""
             }
            },
            "type": "scattercarpet"
           }
          ],
          "scattergeo": [
           {
            "marker": {
             "colorbar": {
              "outlinewidth": 0,
              "ticks": ""
             }
            },
            "type": "scattergeo"
           }
          ],
          "scattergl": [
           {
            "marker": {
             "colorbar": {
              "outlinewidth": 0,
              "ticks": ""
             }
            },
            "type": "scattergl"
           }
          ],
          "scattermapbox": [
           {
            "marker": {
             "colorbar": {
              "outlinewidth": 0,
              "ticks": ""
             }
            },
            "type": "scattermapbox"
           }
          ],
          "scatterpolar": [
           {
            "marker": {
             "colorbar": {
              "outlinewidth": 0,
              "ticks": ""
             }
            },
            "type": "scatterpolar"
           }
          ],
          "scatterpolargl": [
           {
            "marker": {
             "colorbar": {
              "outlinewidth": 0,
              "ticks": ""
             }
            },
            "type": "scatterpolargl"
           }
          ],
          "scatterternary": [
           {
            "marker": {
             "colorbar": {
              "outlinewidth": 0,
              "ticks": ""
             }
            },
            "type": "scatterternary"
           }
          ],
          "surface": [
           {
            "colorbar": {
             "outlinewidth": 0,
             "ticks": ""
            },
            "colorscale": [
             [
              0,
              "#0d0887"
             ],
             [
              0.1111111111111111,
              "#46039f"
             ],
             [
              0.2222222222222222,
              "#7201a8"
             ],
             [
              0.3333333333333333,
              "#9c179e"
             ],
             [
              0.4444444444444444,
              "#bd3786"
             ],
             [
              0.5555555555555556,
              "#d8576b"
             ],
             [
              0.6666666666666666,
              "#ed7953"
             ],
             [
              0.7777777777777778,
              "#fb9f3a"
             ],
             [
              0.8888888888888888,
              "#fdca26"
             ],
             [
              1,
              "#f0f921"
             ]
            ],
            "type": "surface"
           }
          ],
          "table": [
           {
            "cells": {
             "fill": {
              "color": "#EBF0F8"
             },
             "line": {
              "color": "white"
             }
            },
            "header": {
             "fill": {
              "color": "#C8D4E3"
             },
             "line": {
              "color": "white"
             }
            },
            "type": "table"
           }
          ]
         },
         "layout": {
          "annotationdefaults": {
           "arrowcolor": "#2a3f5f",
           "arrowhead": 0,
           "arrowwidth": 1
          },
          "autotypenumbers": "strict",
          "coloraxis": {
           "colorbar": {
            "outlinewidth": 0,
            "ticks": ""
           }
          },
          "colorscale": {
           "diverging": [
            [
             0,
             "#8e0152"
            ],
            [
             0.1,
             "#c51b7d"
            ],
            [
             0.2,
             "#de77ae"
            ],
            [
             0.3,
             "#f1b6da"
            ],
            [
             0.4,
             "#fde0ef"
            ],
            [
             0.5,
             "#f7f7f7"
            ],
            [
             0.6,
             "#e6f5d0"
            ],
            [
             0.7,
             "#b8e186"
            ],
            [
             0.8,
             "#7fbc41"
            ],
            [
             0.9,
             "#4d9221"
            ],
            [
             1,
             "#276419"
            ]
           ],
           "sequential": [
            [
             0,
             "#0d0887"
            ],
            [
             0.1111111111111111,
             "#46039f"
            ],
            [
             0.2222222222222222,
             "#7201a8"
            ],
            [
             0.3333333333333333,
             "#9c179e"
            ],
            [
             0.4444444444444444,
             "#bd3786"
            ],
            [
             0.5555555555555556,
             "#d8576b"
            ],
            [
             0.6666666666666666,
             "#ed7953"
            ],
            [
             0.7777777777777778,
             "#fb9f3a"
            ],
            [
             0.8888888888888888,
             "#fdca26"
            ],
            [
             1,
             "#f0f921"
            ]
           ],
           "sequentialminus": [
            [
             0,
             "#0d0887"
            ],
            [
             0.1111111111111111,
             "#46039f"
            ],
            [
             0.2222222222222222,
             "#7201a8"
            ],
            [
             0.3333333333333333,
             "#9c179e"
            ],
            [
             0.4444444444444444,
             "#bd3786"
            ],
            [
             0.5555555555555556,
             "#d8576b"
            ],
            [
             0.6666666666666666,
             "#ed7953"
            ],
            [
             0.7777777777777778,
             "#fb9f3a"
            ],
            [
             0.8888888888888888,
             "#fdca26"
            ],
            [
             1,
             "#f0f921"
            ]
           ]
          },
          "colorway": [
           "#636efa",
           "#EF553B",
           "#00cc96",
           "#ab63fa",
           "#FFA15A",
           "#19d3f3",
           "#FF6692",
           "#B6E880",
           "#FF97FF",
           "#FECB52"
          ],
          "font": {
           "color": "#2a3f5f"
          },
          "geo": {
           "bgcolor": "white",
           "lakecolor": "white",
           "landcolor": "#E5ECF6",
           "showlakes": true,
           "showland": true,
           "subunitcolor": "white"
          },
          "hoverlabel": {
           "align": "left"
          },
          "hovermode": "closest",
          "mapbox": {
           "style": "light"
          },
          "paper_bgcolor": "white",
          "plot_bgcolor": "#E5ECF6",
          "polar": {
           "angularaxis": {
            "gridcolor": "white",
            "linecolor": "white",
            "ticks": ""
           },
           "bgcolor": "#E5ECF6",
           "radialaxis": {
            "gridcolor": "white",
            "linecolor": "white",
            "ticks": ""
           }
          },
          "scene": {
           "xaxis": {
            "backgroundcolor": "#E5ECF6",
            "gridcolor": "white",
            "gridwidth": 2,
            "linecolor": "white",
            "showbackground": true,
            "ticks": "",
            "zerolinecolor": "white"
           },
           "yaxis": {
            "backgroundcolor": "#E5ECF6",
            "gridcolor": "white",
            "gridwidth": 2,
            "linecolor": "white",
            "showbackground": true,
            "ticks": "",
            "zerolinecolor": "white"
           },
           "zaxis": {
            "backgroundcolor": "#E5ECF6",
            "gridcolor": "white",
            "gridwidth": 2,
            "linecolor": "white",
            "showbackground": true,
            "ticks": "",
            "zerolinecolor": "white"
           }
          },
          "shapedefaults": {
           "line": {
            "color": "#2a3f5f"
           }
          },
          "ternary": {
           "aaxis": {
            "gridcolor": "white",
            "linecolor": "white",
            "ticks": ""
           },
           "baxis": {
            "gridcolor": "white",
            "linecolor": "white",
            "ticks": ""
           },
           "bgcolor": "#E5ECF6",
           "caxis": {
            "gridcolor": "white",
            "linecolor": "white",
            "ticks": ""
           }
          },
          "title": {
           "x": 0.05
          },
          "xaxis": {
           "automargin": true,
           "gridcolor": "white",
           "linecolor": "white",
           "ticks": "",
           "title": {
            "standoff": 15
           },
           "zerolinecolor": "white",
           "zerolinewidth": 2
          },
          "yaxis": {
           "automargin": true,
           "gridcolor": "white",
           "linecolor": "white",
           "ticks": "",
           "title": {
            "standoff": 15
           },
           "zerolinecolor": "white",
           "zerolinewidth": 2
          }
         }
        },
        "title": {
         "font": {
          "size": 12
         },
         "text": "Speed Data for Participant 11"
        },
        "width": 450,
        "xaxis": {
         "tickformat": "%H:%M",
         "title": {
          "font": {
           "size": 10
          },
          "text": "Time"
         }
        },
        "yaxis": {
         "title": {
          "font": {
           "size": 10
          },
          "text": "Speed in km/h"
         }
        }
       }
      }
     },
     "metadata": {},
     "output_type": "display_data"
    }
   ],
   "source": [
    "def load_speed_data(participant):\n",
    "    file_path = os.path.join(BASE_FOLDER, participant, SPEED_FILE)\n",
    "    df = pd.read_csv(file_path, header=None, names=['time', 'speed'])\n",
    "    df['time'] = pd.to_datetime(df['time'], unit='ms')\n",
    "    df['speed'] = df['speed'] * 3.6  # Convert to km/h from m/s\n",
    "    return df\n",
    "\n",
    "# Clean up speed data\n",
    "def clean_speed_data(df, upper_threshold, lower_threshold):\n",
    "    df = df[df['speed'] <= upper_threshold]    \n",
    "    df = df[df['speed'] >= lower_threshold]    \n",
    "    return df\n",
    "\n",
    "def plot_speed_data(df, participant):\n",
    "    fig = go.Figure()\n",
    "    fig.add_trace(go.Scatter(x=pd.to_datetime(df['time'], unit='ms'), y=df['speed'], mode='lines', name=f'Participant {participant}'))\n",
    "    add_time_markers(df, fig, 'speed')\n",
    "    fig.update_layout(\n",
    "        title=f'Speed Data for Participant {participant}',\n",
    "        xaxis_title='Time',\n",
    "        yaxis_title='Speed in km/h',\n",
    "        xaxis=dict(tickformat='%H:%M', title_font=dict(size=10)),\n",
    "        yaxis=dict(title_font=dict(size=10)),\n",
    "        title_font=dict(size=12),\n",
    "        width=450,\n",
    "        height=300,\n",
    "        margin=dict(l=30, r=30, t=30, b=30)\n",
    "    )\n",
    "    fig.show()\n",
    "\n",
    "def add_time_markers(df, fig, data):\n",
    "    starting_time = pd.to_datetime(STARTING_TIMESTAMPS[participant], unit='ms')\n",
    "    fig.add_vline(x=starting_time, line=dict(color='red', dash='dash'))\n",
    "    # fig.add_annotation(x=starting_time, y=max(df[data]), text='Start', showarrow=True, arrowhead=1, ax=-10, ay=-30, arrowcolor='red')\n",
    "    for i in range(1, 7):\n",
    "        marker_time = starting_time + pd.Timedelta(minutes=2 * i)\n",
    "        fig.add_vline(x=marker_time, line=dict(color='blue', dash='dash'))\n",
    "        # fig.add_annotation(x=marker_time, y=max(df[data]), text=f'+{2 * i}min', showarrow=True, arrowhead=1, ax=-10, ay=-30, arrowcolor='blue')\n",
    "    marker_time = starting_time + pd.Timedelta(minutes=15)\n",
    "    fig.add_vline(x=marker_time, line=dict(color='red', dash='dash'))\n",
    "    # fig.add_annotation(x=marker_time, y=max(df[data]), text='End', showarrow=True, arrowhead=1, ax=-10, ay=-30, arrowcolor='blue')\n",
    "\n",
    "\n",
    "# Load and plot data for each participant\n",
    "speed_dfs = []\n",
    "for participant in PARTICIPANTS:\n",
    "    speed_df = load_speed_data(participant)\n",
    "    cleaned_speed_df = clean_speed_data(speed_df, 20, 5)\n",
    "    speed_dfs.append(cleaned_speed_df)\n",
    "    plot_speed_data(cleaned_speed_df, participant)\n",
    "\n"
   ]
  },
  {
   "cell_type": "code",
   "execution_count": 97,
   "metadata": {},
   "outputs": [
    {
     "name": "stdout",
     "output_type": "stream",
     "text": [
      "[ 1.34690904  0.25199976 -0.24389996  0.51200008 -0.19374527  0.05072743\n",
      "  0.00140273  0.54196346  0.03236367  0.25328547  0.08099685 -0.70800028\n",
      " -0.13200023 -0.189      -0.22945433  0.05599995 -0.10472724  0.14759995]\n",
      "0.08191228171103636\n",
      "0.42888860997499806\n",
      "18\n",
      "0.8102905301735072\n"
     ]
    }
   ],
   "source": [
    "# Example data\n",
    "before = negative_before_prompt\n",
    "after = negative_after_prompt\n",
    "\n",
    "# Calculate differences\n",
    "differences = np.subtract(after , before)\n",
    "print(differences)\n",
    "# Mean of differences\n",
    "mean_diff = np.mean(differences)\n",
    "print(mean_diff)\n",
    "# Standard deviation of differences\n",
    "std_diff = np.std(differences, ddof=1)  # ddof=1 for sample standard deviation\n",
    "print(std_diff)\n",
    "# Number of pairs\n",
    "n = len(differences)\n",
    "print(n)\n",
    "# Calculate t-statistic\n",
    "t_stat = mean_diff / (std_diff / np.sqrt(n))\n",
    "print(t_stat)"
   ]
  }
 ],
 "metadata": {
  "kernelspec": {
   "display_name": ".venv",
   "language": "python",
   "name": "python3"
  },
  "language_info": {
   "codemirror_mode": {
    "name": "ipython",
    "version": 3
   },
   "file_extension": ".py",
   "mimetype": "text/x-python",
   "name": "python",
   "nbconvert_exporter": "python",
   "pygments_lexer": "ipython3",
   "version": "3.12.4"
  }
 },
 "nbformat": 4,
 "nbformat_minor": 2
}
